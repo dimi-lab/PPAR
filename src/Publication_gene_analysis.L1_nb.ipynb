{
 "cells": [
  {
   "cell_type": "code",
   "execution_count": 1,
   "metadata": {
    "execution": {
     "iopub.execute_input": "2022-09-21T20:39:50.816066Z",
     "iopub.status.busy": "2022-09-21T20:39:50.815616Z",
     "iopub.status.idle": "2022-09-21T20:39:52.884992Z",
     "shell.execute_reply": "2022-09-21T20:39:52.884120Z"
    }
   },
   "outputs": [
    {
     "ename": "ModuleNotFoundError",
     "evalue": "No module named 'plotly'",
     "output_type": "error",
     "traceback": [
      "\u001b[0;31m---------------------------------------------------------------------------\u001b[0m",
      "\u001b[0;31mModuleNotFoundError\u001b[0m                       Traceback (most recent call last)",
      "\u001b[0;32m/tmp/ipykernel_38696/951625372.py\u001b[0m in \u001b[0;36m<module>\u001b[0;34m\u001b[0m\n\u001b[1;32m      9\u001b[0m \u001b[0;32mfrom\u001b[0m \u001b[0mmatplotlib\u001b[0m \u001b[0;32mimport\u001b[0m \u001b[0mcm\u001b[0m\u001b[0;34m\u001b[0m\u001b[0;34m\u001b[0m\u001b[0m\n\u001b[1;32m     10\u001b[0m \u001b[0;32mfrom\u001b[0m \u001b[0mmatplotlib\u001b[0m \u001b[0;32mimport\u001b[0m \u001b[0mpyplot\u001b[0m \u001b[0;32mas\u001b[0m \u001b[0mplt\u001b[0m\u001b[0;34m\u001b[0m\u001b[0;34m\u001b[0m\u001b[0m\n\u001b[0;32m---> 11\u001b[0;31m \u001b[0;32mimport\u001b[0m \u001b[0mplotly\u001b[0m\u001b[0;34m.\u001b[0m\u001b[0mexpress\u001b[0m \u001b[0;32mas\u001b[0m \u001b[0mpx\u001b[0m\u001b[0;34m\u001b[0m\u001b[0;34m\u001b[0m\u001b[0m\n\u001b[0m\u001b[1;32m     12\u001b[0m \u001b[0;32mfrom\u001b[0m \u001b[0msklearn\u001b[0m\u001b[0;34m.\u001b[0m\u001b[0mdecomposition\u001b[0m \u001b[0;32mimport\u001b[0m \u001b[0mPCA\u001b[0m\u001b[0;34m\u001b[0m\u001b[0;34m\u001b[0m\u001b[0m\n\u001b[1;32m     13\u001b[0m \u001b[0;32mfrom\u001b[0m \u001b[0msklearn\u001b[0m\u001b[0;34m.\u001b[0m\u001b[0mpreprocessing\u001b[0m \u001b[0;32mimport\u001b[0m \u001b[0mminmax_scale\u001b[0m\u001b[0;34m\u001b[0m\u001b[0;34m\u001b[0m\u001b[0m\n",
      "\u001b[0;31mModuleNotFoundError\u001b[0m: No module named 'plotly'"
     ]
    }
   ],
   "source": [
    "import numpy as np\n",
    "import pandas as pd\n",
    "import csv\n",
    "import math\n",
    "import matplotlib.pyplot as plt\n",
    "import seaborn as sns\n",
    "from sklearn import preprocessing\n",
    "from pandas.plotting import scatter_matrix\n",
    "from matplotlib import cm\n",
    "from matplotlib import pyplot as plt\n",
    "import plotly.express as px\n",
    "from sklearn.decomposition import PCA\n",
    "from sklearn.preprocessing import minmax_scale\n",
    "from numpy import inf\n",
    "from sklearn.metrics.pairwise import cosine_similarity\n",
    "import umap\n",
    "import networkx as nx\n",
    "import json\n",
    "import pyreadr\n",
    "import obonet\n",
    "import scipy.stats as stats\n",
    "import networkx as nx\n",
    "from sklearn.preprocessing import Normalizer\n",
    "import seaborn as sns\n",
    "from sklearn.manifold import TSNE\n",
    "import warnings\n",
    "warnings.filterwarnings('ignore')\n",
    "import matplotlib.pyplot as plt\n",
    "from sklearn.preprocessing import MinMaxScaler\n",
    "from IPython.display import Latex\n",
    "%matplotlib inline"
   ]
  },
  {
   "cell_type": "markdown",
   "metadata": {},
   "source": [
    "sphinx:\n",
    "  config:\n",
    "    mathjax_path: https://cdn.jsdelivr.net/npm/mathjax@3/es5/tex-mml-chtml.js"
   ]
  },
  {
   "cell_type": "markdown",
   "metadata": {},
   "source": [
    "# AIM:\n",
    "\n",
    "**The Goal of the project is to develop an algorithm that can prioritize causal genes for a set of given HPO times using CKG graph database**\n",
    "\n",
    "\n",
    "## Inputs\n",
    "\n",
    "*Neo4J was used to create the gene and phenotype embedding using the algorithm fastrp.\n",
    "The gene and phenotype was saved in the feather format.\n",
    "the hyperparameter of 0.75 was used to weight highly connected edges\n",
    "unconnected genes were filtered out**\n",
    "\n",
    "We have two sets of IC\n",
    "1. Mayo cohort IC \n",
    "2. PCAN IC \n",
    "\n",
    "*We 276 solved cases to test and train the method\n",
    "\n",
    "\n",
    "### Normalizing the PCAN IC's into probabilites"
   ]
  },
  {
   "cell_type": "code",
   "execution_count": null,
   "metadata": {
    "execution": {
     "iopub.execute_input": "2022-09-21T20:39:52.890947Z",
     "iopub.status.busy": "2022-09-21T20:39:52.890782Z",
     "iopub.status.idle": "2022-09-21T20:39:53.021054Z",
     "shell.execute_reply": "2022-09-21T20:39:53.020269Z"
    }
   },
   "outputs": [],
   "source": [
    "PCAN_IC_df = pd.read_csv(\"/research/bsi/projects/staff_analysis/m109297/PI_support/PCAN/PCAN_wrapper_dev/HPO_IC.csv\")\n",
    "PCAN_IC_values = [ float(x) for x in list(PCAN_IC_df.IC.values) if np.isnan(x) == False]\n",
    "PCAN_IC_sort = sorted(PCAN_IC_values)\n",
    "MIN_PCAN_IC = PCAN_IC_sort[1]\n",
    "PCAN_IC_df['IC'] = PCAN_IC_df['IC'].fillna(MIN_PCAN_IC)\n",
    "PCAN_IC_df['IC'] = PCAN_IC_df['IC'].replace({0:MIN_PCAN_IC})\n",
    "\n",
    "scaler = MinMaxScaler()\n",
    "PCAN_IC_df['PROBABILITIES'] = scaler.fit_transform(PCAN_IC_df['IC'].values.reshape(-1,1))\n",
    "PCAN_IC_new_df = PCAN_IC_df[['id', 'PROBABILITIES']]\n",
    "PCAN_IC_new_df.columns = ['HPO', 'PROBABILITIES']\n",
    "PCAN_IC_new_df['PROBABILITIES'] = PCAN_IC_new_df['PROBABILITIES'].replace({0:0.0005412991539235149})\n",
    "PCAN_IC_new_df.to_csv(\"../src/PCAN_IC_normalized.csv\", index=False)\n",
    "l1_nb_df = pd.read_csv('../Neo4J_analysis/L1_nb_prob.csv')\n",
    "l1_nb_df"
   ]
  },
  {
   "cell_type": "markdown",
   "metadata": {},
   "source": [
    "## Algorithm\n",
    "\n",
    "The following code below is the algorithm for 4 different models\n",
    "1. DP (Dot product with SoftMax)\n",
    "2. CD (Cosine Similarity)\n",
    "3. SD (Dot product without SoftMax)\n",
    "4. Bayesian \n",
    "\n",
    "\n",
    "\n"
   ]
  },
  {
   "cell_type": "markdown",
   "metadata": {},
   "source": [
    "\n",
    "## Information Content\n",
    "\n",
    "$$ IC_x = -\\log_{2}(p\\vec(x)) $$\n",
    "\n",
    "\n",
    "## Dot product\n",
    "\n",
    "$$\\vec{Z} = a_1^Tb_1 + a_2^Tb_2 + ...... + a_n^Tb_n$$\n",
    "\n",
    "$$ \\vec{a} = \\sigma(z) = \\frac{e^{z_i - Max(z)_i}}{\\sum_{j=1}^{n}} $$\n",
    "\n",
    "$$ \\vec{h} = IC_x * \\vec{a} $$\n",
    "\n",
    "$$ Rank = \\max(\\sum_{i=1}^{j=n}{\\vec{h}})$$\n",
    "\n",
    "\n",
    "\n",
    "\n",
    "## Cosine Similarity\n",
    "\n",
    "$$cosine \\ similarity \\ \\vec{Z} = \\frac{a^Tb}{|a|.|b|} $$\n",
    "\n",
    "$$ \\vec{a} = \\sigma(z) = \\frac{e^{z_i - Max(z)_i}}{\\sum_{j=1}^{n}} $$\n",
    "\n",
    "$$ \\vec{h} = IC_x * \\vec{a} $$\n",
    "\n",
    "$$ Rank = \\max(\\sum_{i=1}^{j=n}{\\vec{h}})$$\n",
    "\n",
    "\n",
    "## Bayesian approach\n",
    "\n",
    "\n",
    "\n",
    "$$ \\vec{Z} = a_1^Tb_1 + a_2^Tb_2 + ...... + a_n^Tb_n$$\n",
    "\n",
    "$$ \\vec{a} = \\sigma(z) = \\frac{e^{z_i - Max(z)_i}}{\\sum_{j=1}^{n}} $$\n",
    "\n",
    "$$ \\vec{h} = -\\log_2(\\frac{a}{IC_x}) $$\n",
    "\n",
    "$$ Rank = \\max(\\vec{h})$$\n",
    "\n"
   ]
  },
  {
   "cell_type": "code",
   "execution_count": null,
   "metadata": {
    "execution": {
     "iopub.execute_input": "2022-09-21T20:39:53.028866Z",
     "iopub.status.busy": "2022-09-21T20:39:53.028705Z",
     "iopub.status.idle": "2022-09-21T20:39:53.052842Z",
     "shell.execute_reply": "2022-09-21T20:39:53.052191Z"
    }
   },
   "outputs": [],
   "source": [
    "class RankQuery(object):\n",
    "    \n",
    "    def __init__(self, df1, df2, prob_df, filter_list):\n",
    "        self.df1 = df1\n",
    "        self.df2 = df2\n",
    "        self.filter_list = filter_list\n",
    "        self.prob_df = prob_df\n",
    "    \n",
    "    def __iter__(self):\n",
    "        return self\n",
    "    \n",
    "    def embeddings1(self):\n",
    "        return self.df1.fastrp_embedding.values\n",
    "    \n",
    "    def embeddings2(self):\n",
    "        return self.df2.fastrp_embedding.values\n",
    "    \n",
    "    def dot_product(self):\n",
    "        df1_embedding = self.embeddings1()\n",
    "        df2_embedding = self.embeddings2()\n",
    "        x = np.matmul(df1_embedding.tolist(), \n",
    "                         np.transpose(df2_embedding.tolist())) #shape(15872, 3564)\n",
    "        #x = preprocessing.normalize(x, norm='l2',axis=0)\n",
    "        #Data_normalized = Data_normalizer.transform(x)\n",
    "        return x\n",
    "        \n",
    "    def cosine_similarity(self):\n",
    "        df1_embedding = np.array(self.embeddings1().tolist())\n",
    "        df2_embedding = np.array(self.embeddings2().tolist())\n",
    "        x = cosine_similarity(df1_embedding, df2_embedding)  #shape(15872, 3564)\n",
    "        #print(x.shape) \n",
    "        return x\n",
    "      \n",
    "    def get_probability(self):\n",
    "        #probability_table_df = pd.read_csv(\"../src/probabilities.csv\")\n",
    "        #probability_table_df = pd.read_csv(\"../src/PCAN_IC_normalized.csv\")\n",
    "        #probability_table_df = pd.read_csv(\"/research/bsi/projects/staff_analysis/m109297/PI_support/PCAN/PCAN_wrapper_dev/HPO_IC.csv\")\n",
    "        #probability = probability_table_df.query['HPO'== self.query]['PROBABILITIES']\n",
    "        try:\n",
    "            #probability = probability_table_df[probability_table_df['id']==self.query]['IC'].values[0]\n",
    "            probability = self.prob_df[self.prob_df['HPO']==self.query]['PROBABILITIES'].values[0]\n",
    "            return probability\n",
    "        except IndexError:\n",
    "            print(\"HPO {0} not found in the list of probabilities\".format(self.query))\n",
    "            #return min(probability_table_df['IC'])\n",
    "            #print(min(probability_table_df['PROBABILITIES']))\n",
    "            #return max(self.prob_df['PROBABILITIES'])\n",
    "            #return 1\n",
    "            return min(self.prob_df['PROBABILITIES'])\n",
    "            #exit()\n",
    "    \n",
    "    def log_probability(self):\n",
    "        try:\n",
    "            probability = self.get_probability()\n",
    "            log_probs =  -math.log2(probability) \n",
    "            return log_probs\n",
    "        except TypeError:\n",
    "            print(\"HPO {0} not found in the list of probabilities\".format(self.query))\n",
    "            exit()\n",
    "    \n",
    "    \n",
    "    #def get_information_content(self):\n",
    "    #    log_prob = self.log_probability()\n",
    "    #    IC = log_prob * np.transpose(np.array(self.embeddings2().tolist()))\n",
    "    #    return np.matmul(np.array(self.embeddings1().tolist()), IC)\n",
    "    \n",
    "    def get_IC_result(self):\n",
    "        self.index = self.df1.index[self.df1['id'] == self.query]\n",
    "        get_row_IC = self.get_information_content()[self.index,:]\n",
    "        return get_row_IC[0]\n",
    "    \n",
    "    def get_suprise(self):\n",
    "        probability = self.get_probability(self.query)\n",
    "        suprise = probability * np.array(self.embeddings2().tolist())\n",
    "        return suprise\n",
    "    \n",
    "    def get_suprise_result(self):\n",
    "        self.index = self.df1.index[self.df1['id'] == self.query]\n",
    "        get_row_suprise = self.get_suprise()[self.index,:]\n",
    "        return get_row_suprise[0]\n",
    "    \n",
    "    def get_dp_result(self):\n",
    "        try:\n",
    "            self.index = self.df1.index[self.df1['id'] == self.query]\n",
    "            get_row_dp = self.dot_product()[self.index,:]\n",
    "        #get_row_cs = self.dot_product()[self.index,:]\n",
    "            return get_row_dp[0]#,get_row_cs[0]\n",
    "        except IndexError:\n",
    "            return None\n",
    "            print(\"{0} not found in phenotype df\".format(self.query))\n",
    "    \n",
    "    def stable_softmax(self):\n",
    "        if self.get_dp_result() is not None:\n",
    "            x = self.get_dp_result()\n",
    "            #print(x)\n",
    "            z = x - max(x)\n",
    "            numerator = np.exp(z)\n",
    "            denominator = np.sum(numerator)\n",
    "            softmax = numerator/denominator\n",
    "            return softmax\n",
    "        else:\n",
    "            return 0\n",
    "\n",
    "    \n",
    "    def get_cosine_result(self):\n",
    "        try:\n",
    "            self.index = self.df1.index[self.df1['id'] == self.query]\n",
    "            get_cosine = self.cosine_similarity()[self.index,:] * self.log_probability()\n",
    "            #get_row_cs = self.dot_product()[self.index,:]\n",
    "            return get_cosine[0]#,get_row_cs[0\n",
    "        except IndexError:\n",
    "            print(\"{0} not found in phenotype df\".format(self.query))\n",
    "            return 0\n",
    "    \n",
    "    #def get_geometric_mean(self):\n",
    "        \n",
    "    \n",
    "    def show_dp_results_sm(self, *query):\n",
    "        count = 0\n",
    "        dot_pdt_arr = []\n",
    "        dot_pdt_sm_arr = []\n",
    "        for new_query in query:\n",
    "            count += 1\n",
    "            self.query = new_query\n",
    "            dot_pdt_sm = self.stable_softmax()\n",
    "            dot_pdt_sm_arr.append(dot_pdt_sm)\n",
    "            dot_pdt_IC = dot_pdt_sm * self.log_probability()\n",
    "            #print(dot_pdt_IC)\n",
    "            dot_pdt_arr.append(dot_pdt_IC)\n",
    "        #print(dot_pdt_arr)\n",
    "        dot_pdt_sm_arr_sum = sum(dot_pdt_sm_arr)\n",
    "        #print(sum(dot_pdt_arr))\n",
    "        self.df2['results_dp'] = sum(dot_pdt_arr)\n",
    "        sort_df = self.df2.sort_values('results_dp', ascending=False)\n",
    "        sort_df[\"gw\"] = np.where(sort_df['id'].isin(self.filter_list), True, False)\n",
    "        sort_df.loc[(sort_df['gw'] == False), 'results_dp_new'] = float(-inf)\n",
    "        sort_df.loc[(sort_df['gw'] == True), 'results_dp_new'] = sort_df['results_dp']\n",
    "        sort_df = sort_df.sort_values('results_dp_new', ascending=False)\n",
    "        sort_df = sort_df.reset_index(drop=True)\n",
    "        return(sort_df)\n",
    "    \n",
    "    def show_dp_results_nosm(self, *query):\n",
    "        count = 0\n",
    "        dot_pdt_arr = []\n",
    "        dot_pdt_sm_arr = []\n",
    "        for new_query in query:\n",
    "            count += 1\n",
    "            self.query = new_query\n",
    "            try:\n",
    "                dot_pdt_IC = self.get_dp_result() * self.log_probability()\n",
    "                dot_pdt_arr.append(dot_pdt_IC)\n",
    "            except TypeError:\n",
    "                print(\"{0} is getting a type error for dot product\".format(new_query))\n",
    "                pass\n",
    "        dot_pdt_sm_arr_sum = sum(dot_pdt_sm_arr)\n",
    "        self.df2['results_dp'] = sum(dot_pdt_arr)\n",
    "        sort_df = self.df2.sort_values('results_dp', ascending=False)\n",
    "        sort_df[\"gw\"] = np.where(sort_df['id'].isin(self.filter_list), True, False)\n",
    "        sort_df.loc[(sort_df['gw'] == False), 'results_dp_new'] = float(-inf)\n",
    "        sort_df.loc[(sort_df['gw'] == True), 'results_dp_new'] = sort_df['results_dp']\n",
    "        sort_df = sort_df.sort_values('results_dp_new', ascending=False)\n",
    "        sort_df = sort_df.reset_index(drop=True)\n",
    "        return(sort_df)\n",
    "    \n",
    "    def show_cosine_results(self, *query):\n",
    "        cosine_arr = []\n",
    "        for new_query in query:\n",
    "            self.query = new_query\n",
    "            cosine_arr.append(self.get_cosine_result())\n",
    "        self.df2['results_cosine'] = sum(cosine_arr)\n",
    "        sort_df = self.df2.sort_values('results_cosine', ascending=False)\n",
    "        sort_df[\"gw\"] = np.where(sort_df['id'].isin(self.filter_list), True, False)\n",
    "        sort_df.loc[(sort_df['gw'] == False), 'results_cosine_new'] = float(-inf)\n",
    "        sort_df.loc[(sort_df['gw'] == True), 'results_cosine_new'] = sort_df['results_cosine']\n",
    "        sort_df = sort_df.sort_values('results_cosine_new', ascending=False)\n",
    "        sort_df = sort_df.reset_index(drop=True)\n",
    "        return(sort_df)\n",
    "    \n",
    "    def show_IC_results(self, *query):\n",
    "        IC_arr = []\n",
    "        for new_query in query:\n",
    "            self.query = new_query\n",
    "            IC_arr.append(self.get_IC_result())\n",
    "        IC_results = sum(IC_arr)\n",
    "        self.df2['IC_results'] = IC_results\n",
    "        return(self.df2.sort_values('IC_results', ascending=False))\n"
   ]
  },
  {
   "cell_type": "code",
   "execution_count": null,
   "metadata": {
    "execution": {
     "iopub.execute_input": "2022-09-21T20:39:53.057872Z",
     "iopub.status.busy": "2022-09-21T20:39:53.057719Z",
     "iopub.status.idle": "2022-09-21T20:39:53.065607Z",
     "shell.execute_reply": "2022-09-21T20:39:53.064972Z"
    }
   },
   "outputs": [],
   "source": [
    "class BayesRank(object):\n",
    "    \n",
    "    def __init__(self, phenotype_df, gene_df, prob_df):\n",
    "        self.phenotype_df = phenotype_df # phenotype (hpo id and fastrp embedding)\n",
    "        self.gene_df = gene_df # gene (gene id and fastrp embedding)\n",
    "        self.prob_df = prob_df # probability (hpo_id and hpo_prob)\n",
    "        #self.filter_df = filter_df\n",
    "        #self.hpo_set = set(hpo_df.hpo_id.values)\n",
    "        #self.gene_set = set(gene_df.gene_id.values)\n",
    "\n",
    "    def inndot_product(self):\n",
    "        df1_embedding = self.gene_df.fastrp_embedding.values\n",
    "        df2_embedding = self.phenotype_df.fastrp_embedding.values #shape(15872, 3564)\n",
    "        x = np.matmul(df1_embedding.tolist(), \n",
    "                         np.transpose(df2_embedding.tolist()))\n",
    "        #x = preprocessing.normalize(x, norm='l2',axis=0)\n",
    "        #Data_normalized = Data_normalizer.transform(array)\n",
    "        return x\n",
    "    \n",
    "    @staticmethod\n",
    "    def stable_softmax(x):\n",
    "        z = x - np.max(x,axis=1)[:,np.newaxis]\n",
    "        numerator = np.exp(z)\n",
    "        denominator = np.sum(numerator,axis=1)\n",
    "        softmax = numerator/denominator[:,np.newaxis]\n",
    "        return softmax\n",
    "    \n",
    "    def execute_softmax(self):\n",
    "        #print(np.shape(self.inndot_product()))\n",
    "        softmax = BayesRank.stable_softmax(self.inndot_product())\n",
    "        return softmax\n",
    "    \n",
    "    def create_dataframe(self):\n",
    "        prob_table_df = self.prob_df.set_index('HPO')\n",
    "        rownames = self.gene_df.id\n",
    "        columns_order = self.phenotype_df.id.to_frame()\n",
    "        columns_df = self.phenotype_df.id.to_frame().set_index('id')\n",
    "        columns_df = columns_df.join(prob_table_df)\n",
    "        columns_df = columns_df.fillna(np.nanmin(columns_df.to_numpy()))\n",
    "        columns_df = columns_df.reindex(columns_order.id)\n",
    "        finalmat = np.log(self.execute_softmax()/columns_df.to_numpy().T)\n",
    "        final_df = pd.DataFrame(data=finalmat, index = rownames, columns=columns_order.id)\n",
    "        return final_df\n",
    "    \n"
   ]
  },
  {
   "cell_type": "markdown",
   "metadata": {},
   "source": [
    "## Here is where the inputs are read"
   ]
  },
  {
   "cell_type": "code",
   "execution_count": null,
   "metadata": {
    "execution": {
     "iopub.execute_input": "2022-09-21T20:39:53.070349Z",
     "iopub.status.busy": "2022-09-21T20:39:53.070194Z",
     "iopub.status.idle": "2022-09-21T20:39:54.113339Z",
     "shell.execute_reply": "2022-09-21T20:39:54.112109Z"
    },
    "scrolled": true
   },
   "outputs": [],
   "source": [
    "probability_table_mayo_df = pd.read_csv(\"../src/probabilities.csv\")\n",
    "probability_table_PCAN_df = pd.read_csv(\"../src/PCAN_IC_normalized.csv\")\n",
    "#probability_table_df['Probability'] = minmax_scale(probability_table_df['IC'])\n",
    "#ckg_gene_count_df = pd.read_csv(\"../../data/CKG/CKG_genes_connected_counts.tsv\", sep=\"\\t\")\n",
    "ckg_hpo_count_df = pd.read_csv(\"../../data/CKG/CKG_HPO_connected_clinvar_genes_counts.tsv\", sep=\"\\t\")\n",
    "clinvar_genes_total = 3564\n",
    "ckg_hpo_count_df.columns = ['index', 'count', 'HPO']\n",
    "ckg_hpo_count_df['PROBABILITIES'] = ckg_hpo_count_df['count']/clinvar_genes_total\n",
    "probability_ckg_df = ckg_hpo_count_df[[\"HPO\", \"PROBABILITIES\"]]\n",
    "\n",
    "phenotype_df = pd.read_feather(\"../../data/CKG/param_0_2///Phenotype.ftr\")\n",
    "gene_df = pd.read_feather(\"../../data/CKG/param_0_2//Gene.ftr\")\n",
    "test_df = pd.read_csv(\"../../Rohan/data/HPO_Gene_solves_filtered_withHP.test.txtd\", delimiter='\\t')\n",
    "test_gdf = pd.read_csv(\"../../Rohan/data/HPO_Gene_solves_filtered_withHP.test.txtd\", delimiter='\\t')\n",
    "solved_df= pd.read_csv(\"../src/solved_cases.csv\")\n",
    "filter_gene_df =pd.read_csv(\"../../data/CKG/withNewEdgesGenePhenoDisease/version2/GenesWithEdges.csv\")\n",
    "colum_name_dict = { 'ID(n)':'ID', \n",
    "              'labels(n)':'labels', \n",
    "              'n.`fastrp-embedding`':'fastrp_embedding', \n",
    "              'n.description':'description',\n",
    "              'n.id':'id', \n",
    "              'n.name':'name', \n",
    "              'n.synonyms':'synonyms', \n",
    "              'n.type':'type'}\n",
    "hpo_url = 'http://purl.obolibrary.org/obo/hp.obo'\n",
    "phenotype_new_df = phenotype_df.rename(columns=colum_name_dict)\n",
    "gene_new_df = gene_df.rename(columns=colum_name_dict)\n",
    "test_solved_df = pd.merge(solved_df, test_df, on=['Original ID'], how='left')\n",
    "HPO_terms_set = set(phenotype_new_df['id'].tolist())\n",
    "gene_list_df = pd.read_csv(\"../src/clinvarGenes.txt\")\n",
    "gene_list = gene_list_df['CLINVAR_GENES'].tolist()\n",
    "gene_new_clinvar_df = gene_new_df[gene_new_df['id'].isin(gene_list)].reset_index(drop=True)\n",
    "\n",
    "\n",
    "filter_gene_list = list(set(filter_gene_df['n.id'].tolist()))\n",
    "old_method_df = pd.read_csv(\"/research/bsi/projects/PI/tertiary/Klee_Eric_mrl2075/s212354.RadiaNT/MultiomicsSummaries/Kowshika/Data/KS/ClinVar-Genes-1-Based/comparison.csv\")\n",
    "PCAN_df = old_method_df[['case_id', 'Rank_PCAN']]\n",
    "PCAN_df.columns = ['Normalized ID', 'Rank_PCAN']\n",
    "\n",
    "#filter_gene_df\n"
   ]
  },
  {
   "cell_type": "code",
   "execution_count": null,
   "metadata": {},
   "outputs": [],
   "source": [
    "from collections import Counter\n",
    "\n",
    "def show_values(axs, orient=\"v\", space=.01):\n",
    "    def _single(ax):\n",
    "        if orient == \"v\":\n",
    "            for p in ax.patches:\n",
    "                _x = p.get_x() + p.get_width() / 2\n",
    "                _y = p.get_y() + p.get_height() + (p.get_height()*0.01)\n",
    "                value = '{:.1f}'.format(p.get_height())\n",
    "                ax.text(_x, _y, value, ha=\"center\") \n",
    "        elif orient == \"h\":\n",
    "            for p in ax.patches:\n",
    "                _x = p.get_x() + p.get_width() + float(space)\n",
    "                _y = p.get_y() + p.get_height() - (p.get_height()*0.5)\n",
    "                value = '{:.1f}'.format(p.get_width())\n",
    "                ax.text(_x, _y, value, ha=\"left\")\n",
    "\n",
    "    if isinstance(axs, np.ndarray):\n",
    "        for idx, ax in np.ndenumerate(axs):\n",
    "            _single(ax)\n",
    "    else:\n",
    "        _single(axs)\n",
    "\n",
    "def plot_top(some_array, method):\n",
    "    bins = [1,'2-5','6-10','11-20','21-30','31-50','51-100','101-200','201-500','>500']\n",
    "    counter = Counter(bins)\n",
    "    for i in some_array:\n",
    "        if i == 1:\n",
    "            counter[1] +=1\n",
    "        elif i>1 and i<=5:\n",
    "            counter[\"2-5\"] +=1\n",
    "        elif i>5 and i<=10:\n",
    "            counter[\"6-10\"] +=1\n",
    "        elif i>10 and i<=20:\n",
    "            counter['11-20'] +=1\n",
    "        elif i>20 and i<=30:\n",
    "            counter['21-30'] +=1\n",
    "        elif i>30 and i<=50:\n",
    "            counter['31-50'] +=1\n",
    "        elif i>50 and i<=100:\n",
    "            counter['51-100'] +=1\n",
    "        elif i>100 and i<=200:\n",
    "            counter['101-200'] +=1\n",
    "        elif np.isnan(i):\n",
    "            counter['NA'] +=1\n",
    "        elif i>200 and i<=500:\n",
    "            counter['201-500'] +=1\n",
    "        else:\n",
    "            counter['>500'] +=1\n",
    "    counter_df = pd.DataFrame.from_dict(counter, orient='index')\n",
    "    counter_df = counter_df.reset_index()\n",
    "    counter_df.columns = ['bins','SL2_counts']\n",
    "    counter_df['Percentage'] = round(counter_df['SL2_counts']/sum(counter_df['SL2_counts']),2) * 100 + 0.01\n",
    "    counter_df['Algorithm'] = method\n",
    "    keys = list(counter.keys())\n",
    "    vals = [counter[k]-1 for k in keys]\n",
    "    x = sns.barplot(x=keys, y=vals)\n",
    "    x.set(xlabel='Rank bins', ylabel='Total Count of SL2 Cases')\n",
    "    plt.xticks(rotation=45)\n",
    "    return show_values(x),counter_df\n",
    "\n",
    "PCAN_plot, PCAN_count = plot_top(old_method_df.Rank_PCAN.values, \"PCAN\")\n"
   ]
  },
  {
   "cell_type": "code",
   "execution_count": null,
   "metadata": {},
   "outputs": [],
   "source": [
    "PCAN_count"
   ]
  },
  {
   "cell_type": "markdown",
   "metadata": {},
   "source": [
    "### The absolute test was a deadend, there was a massive loss in information and the ranks were a lot poorer than not doing the absolute"
   ]
  },
  {
   "cell_type": "code",
   "execution_count": null,
   "metadata": {},
   "outputs": [],
   "source": [
    "## Tetsting distribution of dot product with softMax\n",
    "\n",
    "def stable_softmax(x):\n",
    "        z = x - np.max(x,axis=1)[:,np.newaxis]\n",
    "        numerator = np.exp(z)\n",
    "        denominator = np.sum(numerator,axis=1)\n",
    "        softmax = numerator/denominator[:,np.newaxis]\n",
    "        #print(sum(softmax))\n",
    "        return softmax\n",
    "#print(test_dp_all.shape)\n",
    "#np.max(test_dp_all, axis=1)[:,np.newaxis]\n",
    "#print(sf_test)\n",
    "sf_test = stable_softmax(test_dp_all)\n",
    "#print(sf_test.shape)\n",
    "sf_test_df = pd.DataFrame(sf_test)\n",
    "\n",
    "sf_test_df = sf_test_df.transpose()\n",
    "sf_test_df.columns = exostoses_genes\n",
    "sf_test_melt_df = sf_test_df.melt()\n",
    "sns.displot(sf_test_melt_df, x='value', hue='variable',kind=\"kde\")\n",
    "\n"
   ]
  },
  {
   "cell_type": "code",
   "execution_count": null,
   "metadata": {},
   "outputs": [],
   "source": [
    "x = gene_new_df.fastrp_embedding.values.tolist()\n",
    "x\n",
    "#y = np.transpose(phenotype_new_df.fastrp_embedding.values.tolist())\n",
    "#xy = np.matmul(x,y)\n",
    "\n",
    "tsne = TSNE(random_state = 0, n_iter = 500, metric = 'cosine')\n",
    "embeddings2d = tsne.fit_transform(x)\n",
    "gene_columns = gene_new_df['id'].tolist()\n",
    "gene_tsne_df = pd.DataFrame(x)\n",
    "\n",
    "#DP_df['gene'] = gene_new_clinvar_df['id']\n",
    "#tsne_df = pd.DataFrame(embeddings2d, columns=['TSNE1', 'TSNE2'])\n",
    "\n",
    "#tsne_df['gene'] = gene_new_df['id']\n",
    "#tsne_df['group'] = np.where(tsne_df['TSNE1'])\n",
    "\n",
    "\n",
    "\n",
    "#fig = px.scatter(\n",
    "#    tsne_new_df, x='TSNE1', y='TSNE2', hover_data=['gene'])\n",
    "#fig.show()\n"
   ]
  },
  {
   "cell_type": "code",
   "execution_count": 24,
   "metadata": {},
   "outputs": [
    {
     "data": {
      "text/plain": [
       "<AxesSubplot:xlabel='TSNE1', ylabel='TSNE2'>"
      ]
     },
     "execution_count": 24,
     "metadata": {},
     "output_type": "execute_result"
    },
    {
     "data": {
      "image/png": "[encoded data removed]",
      "text/plain": [
       "<Figure size 432x288 with 1 Axes>"
      ]
     },
     "metadata": {
      "needs_background": "light"
     },
     "output_type": "display_data"
    }
   ],
   "source": [
    "genes_to_keep =filter_gene_df['n.id'].tolist()\n",
    "tsne_gene_df = pd.DataFrame(embeddings2d, columns=['TSNE1', 'TSNE2'])\n",
    "tsne_gene_df['gene'] = gene_new_df.id\n",
    "tsne_gene_df['Connection'] = np.where(tsne_gene_df['gene'].isin(genes_to_keep), \"CONNECTED\", \"NOT CONNECTED\")\n",
    "\n",
    "\n",
    "sns.scatterplot(x=\"TSNE1\", y='TSNE2', hue=\"Connection\", data=tsne_gene_df)"
   ]
  },
  {
   "cell_type": "markdown",
   "metadata": {},
   "source": [
    "## Code to apply and view results from the algorithms"
   ]
  },
  {
   "cell_type": "code",
   "execution_count": 21,
   "metadata": {
    "execution": {
     "iopub.execute_input": "2022-09-21T20:39:54.119681Z",
     "iopub.status.busy": "2022-09-21T20:39:54.119420Z",
     "iopub.status.idle": "2022-09-21T20:39:54.153176Z",
     "shell.execute_reply": "2022-09-21T20:39:54.152239Z"
    },
    "scrolled": true
   },
   "outputs": [],
   "source": [
    "\n",
    "def prune_hp(df,HPO_list):\n",
    "    cols_to_drop = []\n",
    "    for i in HPO_list:\n",
    "        mean = df[i].mean()\n",
    "        if mean > -4:\n",
    "            cols_to_drop.append(i)\n",
    "    return cols_to_drop\n",
    "\n",
    "def check_hp(df,HPO_list, gene, prob_df):\n",
    "    metric_list = []\n",
    "    for i in HPO_list:\n",
    "        mean = df[i].mean()\n",
    "        sd = df[i].std()\n",
    "        z_score = stats.zscore(df[i].tolist())\n",
    "        median = df[i].median()\n",
    "        new_df =  pd.DataFrame(df[i].sort_values(ascending=False))\n",
    "        new_df = new_df.reset_index()\n",
    "        prob = list(prob_df[prob_df['HPO'] == i]['PROBABILITIES'])[0]\n",
    "        rank = new_df.index[new_df['id'] == gene].tolist()[0] +1\n",
    "        metric_list.append((i, gene, mean, sd, median, rank, prob))\n",
    "    x = pd.DataFrame(metric_list, columns=('HPO', 'GENE', 'Mean', 'Std', \"Median\", 'Rank', 'Probability'))\n",
    "    return x\n",
    "                     \n",
    "        \n",
    "def run_methods(df, bayes_df, model_df, prob_df):\n",
    "    for i, j in df.iterrows():\n",
    "        HPO_list = j['HPO'].strip().split(\",\")\n",
    "        total_count = len(HPO_list)\n",
    "        gene = df['Gene1'][i]\n",
    "        filter_HPO = list(set(HPO_list).intersection(phenotype_new_df.id.tolist()))\n",
    "        #metrics_df = check_hp(bayes_df, filter_HPO, gene, prob_df)\n",
    "        bm_all_df = pd.DataFrame(bayes_df[filter_HPO])\n",
    "        bm_df = pd.DataFrame(bayes_df[filter_HPO].max(axis=1).sort_values(ascending=False))\n",
    "        bm_mean_df = pd.DataFrame(bayes_df[filter_HPO].mean(axis=1).apply(lambda x: x/len(filter_HPO)).sort_values(ascending=False)).reset_index()\n",
    "        bm_geo_df = pd.DataFrame(bayes_df[filter_HPO].prod(axis=1).apply(lambda x: x/len(filter_HPO)).sort_values(ascending=False)).reset_index()\n",
    "        #fig = plt.figure(figsize=(10,6))\n",
    "        #for col in filter_HPO:\n",
    "        bm_all_melt_df =bm_all_df.melt()\n",
    "        #sns.displot(bm_all_melt_df, x='value', hue='id')\n",
    "        #fig.legend(labels=[filter_HPO])\n",
    "        ld = model_df.show_dp_results_sm(*filter_HPO)\n",
    "        bm_df = bm_df.reset_index()\n",
    "        cd = model_df.show_cosine_results(*filter_HPO)\n",
    "        sd = model_df.show_dp_results_nosm(*filter_HPO)\n",
    "        rank_bayes = bm_df.index[bm_df['id'] == df['Gene1'][i]].tolist()\n",
    "        rank_bayes = [i +1 for i in rank_bayes]\n",
    "        rank_dp = ld.index[ld['id'] == df['Gene1'][i]].tolist()\n",
    "        rank_dp = [i +1 for i in rank_dp]\n",
    "        rank_cd = cd.index[cd['id'] == df['Gene1'][i]].tolist()\n",
    "        rank_cd = [i +1 for i in rank_cd]\n",
    "        rank_sd = sd.index[cd['id'] == df['Gene1'][i]].tolist()\n",
    "        rank_sd = [i +1 for i in rank_sd]\n",
    "        rank_bayes_mean = bm_mean_df.index[bm_mean_df['id'] == df['Gene1'][i]].tolist()\n",
    "        rank_bayes_mean = [i +1 for i in rank_bayes_mean]\n",
    "        rank_bayes_geo = bm_geo_df.index[bm_geo_df['id'] == df['Gene1'][i]].tolist()\n",
    "        rank_bayes_geo = [i +1 for i in rank_bayes_geo]\n",
    "        try:\n",
    "            df.loc[df.index[i],'DOT_PRODUCT'] = rank_dp\n",
    "            df.loc[df.index[i],'COSINE'] = rank_cd\n",
    "            df.loc[df.index[i],'Rank_sd'] = rank_sd\n",
    "            df.loc[df.index[i],'Rank_bayes'] = rank_bayes\n",
    "            df.loc[df.index[i],'BAYES'] = rank_bayes_mean\n",
    "            df.loc[df.index[i],'rank_bayes_geo'] = rank_bayes_geo\n",
    "        except ValueError:\n",
    "            df.loc[df.index[i],'DOT_PRODUCT'] = -1\n",
    "            df.loc[df.index[i],'COSINE'] = -1\n",
    "            df.loc[df.index[i],'Rank_sd'] = -1\n",
    "            df.loc[df.index[i],'Rank_bayes'] = -1\n",
    "            df.loc[df.index[i],'BAYES'] = -1\n",
    "            df.loc[df.index[i],'rank_bayes_geo'] = -1\n",
    "    return df\n",
    "\n",
    "def plot_pt_line(df):\n",
    "    test_sybset_df = df[['Original ID', \"DOT_PRODUCT\", \"COSINE\", \"Rank_sd\", \"Rank_bayes\", \n",
    "                         \"BAYES\", \"rank_bayes_geo\"]]\n",
    "    test_sybset_melt_df = pd.melt(test_sybset_df, id_vars=['Original ID'], var_name='Method', value_name='Rank')\n",
    "    a4_dims = (18.7, 11.27)\n",
    "    fig, ax = plt.subplots(figsize=a4_dims)\n",
    "    sns.pointplot(x=\"Original ID\", y =\"Rank\", hue=\"Method\", data=test_sybset_melt_df)\n",
    "    plt.xticks(rotation=45)\n",
    "    plt.axhline(100)\n",
    "    \n",
    "    \n",
    "def plot_pt_dot_pair(df, column1, column2):\n",
    "    test_sybset_df = df[['Rank_PCAN', 'Normalized ID','Gene1', column1, column2]]\n",
    "    test_sybset_melt_df = pd.melt(test_sybset_df, id_vars=['Rank_PCAN', 'Normalized ID', 'Gene1'], var_name='Method', value_name='Rank')\n",
    "    fig = px.scatter(test_sybset_melt_df, x=\"Rank_PCAN\", y=\"Rank\", color=\"Method\", hover_data=['Normalized ID','Gene1'],\n",
    "                     marginal_x=\"histogram\", marginal_y=\"rug\")\n",
    "    fig.show()\n",
    "\n",
    "#method softmax(current implementation) vs no softmax\n",
    "\n",
    "def plot_pt_dot_single(df, column1):\n",
    "    test_sybset_df = df[['Rank_PCAN', 'Normalized ID','Gene1', column1]]\n",
    "    test_sybset_melt_df = pd.melt(test_sybset_df, id_vars=['Rank_PCAN', 'Normalized ID', 'Gene1'], var_name='Method', value_name='Rank')\n",
    "    fig = px.scatter(test_sybset_melt_df, x=\"Rank_PCAN\", y=\"Rank\", color=\"Method\", hover_data=['Normalized ID','Gene1'],\n",
    "                     marginal_x=\"histogram\", marginal_y=\"rug\")\n",
    "    fig.show()\n",
    "\n",
    "\n",
    "def compute_deltas(df, PCAN_df, filename):\n",
    "    new_df = df.merge(PCAN_df, how='left')\n",
    "    new_df = new_df[new_df['Rank_cd'] != -1]\n",
    "    df = new_df.reset_index(drop=True)\n",
    "    new_df['delta_DOT_PRODUCT_PCAN'] = new_df['Rank_PCAN'].subtract(new_df['Rank_dp'])\n",
    "    new_df['delta_COSINE_PCAN'] = new_df['Rank_PCAN'].subtract(new_df['Rank_cd'])\n",
    "    new_df['delta_sd_PCAN'] = new_df['Rank_PCAN'].subtract(new_df['Rank_sd'])\n",
    "    new_df['delta_bayes_PCAN'] = new_df['Rank_PCAN'].subtract(new_df['Rank_bayes'])\n",
    "    new_df['delta_bayes_geo_PCAN'] = new_df['Rank_PCAN'].subtract(new_df['rank_bayes_geo'])\n",
    "    new_df['delta_BAYES_PCAN'] = new_df['Rank_PCAN'].subtract(new_df['Rank_bayes_mean'])\n",
    "    new_df.to_csv(filename, index=False)\n",
    "    return new_df\n",
    "\n"
   ]
  },
  {
   "cell_type": "code",
   "execution_count": 22,
   "metadata": {},
   "outputs": [
    {
     "name": "stdout",
     "output_type": "stream",
     "text": [
      "HPO HP:0002762 not found in the list of probabilities\n",
      "HPO HP:0002762 not found in the list of probabilities\n",
      "HPO HP:0002762 not found in the list of probabilities\n"
     ]
    },
    {
     "data": {
      "text/html": [
       "<div>\n",
       "<style scoped>\n",
       "    .dataframe tbody tr th:only-of-type {\n",
       "        vertical-align: middle;\n",
       "    }\n",
       "\n",
       "    .dataframe tbody tr th {\n",
       "        vertical-align: top;\n",
       "    }\n",
       "\n",
       "    .dataframe thead th {\n",
       "        text-align: right;\n",
       "    }\n",
       "</style>\n",
       "<table border=\"1\" class=\"dataframe\">\n",
       "  <thead>\n",
       "    <tr style=\"text-align: right;\">\n",
       "      <th></th>\n",
       "      <th>Original ID</th>\n",
       "      <th>Gene1</th>\n",
       "      <th>Normalized ID</th>\n",
       "      <th>Gender</th>\n",
       "      <th>HPO</th>\n",
       "      <th>DOT_PRODUCT</th>\n",
       "      <th>COSINE</th>\n",
       "      <th>Rank_sd</th>\n",
       "      <th>Rank_bayes</th>\n",
       "      <th>BAYES</th>\n",
       "      <th>rank_bayes_geo</th>\n",
       "    </tr>\n",
       "  </thead>\n",
       "  <tbody>\n",
       "    <tr>\n",
       "      <th>0</th>\n",
       "      <td>ME_test1</td>\n",
       "      <td>EXT1</td>\n",
       "      <td>SM_ME1</td>\n",
       "      <td>Male</td>\n",
       "      <td>HP:0002762,HP:0001250</td>\n",
       "      <td>1.0</td>\n",
       "      <td>1.0</td>\n",
       "      <td>1.0</td>\n",
       "      <td>1.0</td>\n",
       "      <td>1.0</td>\n",
       "      <td>3564.0</td>\n",
       "    </tr>\n",
       "  </tbody>\n",
       "</table>\n",
       "</div>"
      ],
      "text/plain": [
       "  Original ID Gene1 Normalized ID Gender                    HPO  DOT_PRODUCT  \\\n",
       "0    ME_test1  EXT1        SM_ME1   Male  HP:0002762,HP:0001250          1.0   \n",
       "\n",
       "   COSINE  Rank_sd  Rank_bayes  BAYES  rank_bayes_geo  \n",
       "0     1.0      1.0         1.0    1.0          3564.0  "
      ]
     },
     "execution_count": 22,
     "metadata": {},
     "output_type": "execute_result"
    }
   ],
   "source": [
    "bayes_model = BayesRank(phenotype_new_df, gene_new_clinvar_df, probability_ckg_df)\n",
    "dp_cosine_model = RankQuery(phenotype_new_df, gene_new_clinvar_df, probability_ckg_df, filter_gene_list)\n",
    "bayes_df = bayes_model.create_dataframe()\n",
    "creat_test = {\"Original ID\": ['ME_test1'], \n",
    "              \"Gene1\": ['EXT1'],\n",
    "             \"Normalized ID\": [\"SM_ME1\"],\n",
    "             \"Gender\" : ['Male'],\n",
    "             \"HPO\": ['HP:0002762,HP:0001250']}\n",
    "test_df = pd.DataFrame(creat_test)\n",
    "run_methods(test_df, bayes_df, dp_cosine_model, probability_ckg_df)  \n",
    "\n",
    "\n",
    "\n"
   ]
  },
  {
   "cell_type": "code",
   "execution_count": 23,
   "metadata": {},
   "outputs": [
    {
     "data": {
      "text/html": [
       "<div>\n",
       "<style scoped>\n",
       "    .dataframe tbody tr th:only-of-type {\n",
       "        vertical-align: middle;\n",
       "    }\n",
       "\n",
       "    .dataframe tbody tr th {\n",
       "        vertical-align: top;\n",
       "    }\n",
       "\n",
       "    .dataframe thead th {\n",
       "        text-align: right;\n",
       "    }\n",
       "</style>\n",
       "<table border=\"1\" class=\"dataframe\">\n",
       "  <thead>\n",
       "    <tr style=\"text-align: right;\">\n",
       "      <th></th>\n",
       "      <th>HPO</th>\n",
       "      <th>PROBABILITIES</th>\n",
       "    </tr>\n",
       "  </thead>\n",
       "  <tbody>\n",
       "    <tr>\n",
       "      <th>0</th>\n",
       "      <td>HP:0010970</td>\n",
       "      <td>0.000561</td>\n",
       "    </tr>\n",
       "    <tr>\n",
       "      <th>1</th>\n",
       "      <td>HP:0000006</td>\n",
       "      <td>0.409371</td>\n",
       "    </tr>\n",
       "    <tr>\n",
       "      <th>2</th>\n",
       "      <td>HP:0001249</td>\n",
       "      <td>0.340629</td>\n",
       "    </tr>\n",
       "    <tr>\n",
       "      <th>3</th>\n",
       "      <td>HP:0007440</td>\n",
       "      <td>0.008418</td>\n",
       "    </tr>\n",
       "    <tr>\n",
       "      <th>4</th>\n",
       "      <td>HP:0008259</td>\n",
       "      <td>0.000281</td>\n",
       "    </tr>\n",
       "    <tr>\n",
       "      <th>...</th>\n",
       "      <td>...</td>\n",
       "      <td>...</td>\n",
       "    </tr>\n",
       "    <tr>\n",
       "      <th>8584</th>\n",
       "      <td>HP:0012890</td>\n",
       "      <td>0.000281</td>\n",
       "    </tr>\n",
       "    <tr>\n",
       "      <th>8585</th>\n",
       "      <td>HP:0011414</td>\n",
       "      <td>0.000281</td>\n",
       "    </tr>\n",
       "    <tr>\n",
       "      <th>8586</th>\n",
       "      <td>HP:0009374</td>\n",
       "      <td>0.000281</td>\n",
       "    </tr>\n",
       "    <tr>\n",
       "      <th>8587</th>\n",
       "      <td>HP:0002056</td>\n",
       "      <td>0.000281</td>\n",
       "    </tr>\n",
       "    <tr>\n",
       "      <th>8588</th>\n",
       "      <td>HP:0006866</td>\n",
       "      <td>0.000281</td>\n",
       "    </tr>\n",
       "  </tbody>\n",
       "</table>\n",
       "<p>8589 rows × 2 columns</p>\n",
       "</div>"
      ],
      "text/plain": [
       "             HPO  PROBABILITIES\n",
       "0     HP:0010970       0.000561\n",
       "1     HP:0000006       0.409371\n",
       "2     HP:0001249       0.340629\n",
       "3     HP:0007440       0.008418\n",
       "4     HP:0008259       0.000281\n",
       "...          ...            ...\n",
       "8584  HP:0012890       0.000281\n",
       "8585  HP:0011414       0.000281\n",
       "8586  HP:0009374       0.000281\n",
       "8587  HP:0002056       0.000281\n",
       "8588  HP:0006866       0.000281\n",
       "\n",
       "[8589 rows x 2 columns]"
      ]
     },
     "execution_count": 23,
     "metadata": {},
     "output_type": "execute_result"
    }
   ],
   "source": [
    "probability_ckg_df"
   ]
  },
  {
   "cell_type": "code",
   "execution_count": 70,
   "metadata": {},
   "outputs": [],
   "source": [
    "#x = phenotype_new_df.fastrp_embedding.values.tolist()\n",
    "#y = np.transpose(gene_new_clinvar_df.fastrp_embedding.values.tolist())\n",
    "#xy = np.matmul(x,y)\n",
    "\n",
    "#tsne = TSNE(random_state = 0, n_iter = 500, metric = 'cosine')\n",
    "#embeddings2d = tsne.fit_transform(xy)\n",
    "#tsne_hp_df = pd.DataFrame(embeddings2d, columns=['TSNE1', 'TSNE2'])\n",
    "\n",
    "\n",
    "#tsne_hp_df['HPO'] = phenotype_new_df['id']\n",
    "#tsne_hp_prob_df = tsne_hp_df.merge(bay_min_df)\n",
    "#tsne_hp_df\n",
    "#bayes_df"
   ]
  },
  {
   "cell_type": "code",
   "execution_count": 71,
   "metadata": {},
   "outputs": [],
   "source": [
    "\n",
    "#fig = px.scatter(\n",
    "#    tsne_hp_df, x='TSNE1', y='TSNE2', hover_data=['HPO'], color=\"group\")\n",
    "#fig.show()\n"
   ]
  },
  {
   "cell_type": "code",
   "execution_count": 72,
   "metadata": {},
   "outputs": [
    {
     "data": {
      "text/html": [
       "<div>\n",
       "<style scoped>\n",
       "    .dataframe tbody tr th:only-of-type {\n",
       "        vertical-align: middle;\n",
       "    }\n",
       "\n",
       "    .dataframe tbody tr th {\n",
       "        vertical-align: top;\n",
       "    }\n",
       "\n",
       "    .dataframe thead th {\n",
       "        text-align: right;\n",
       "    }\n",
       "</style>\n",
       "<table border=\"1\" class=\"dataframe\">\n",
       "  <thead>\n",
       "    <tr style=\"text-align: right;\">\n",
       "      <th>id</th>\n",
       "      <th>HP:0002762</th>\n",
       "      <th>HP:0001250</th>\n",
       "    </tr>\n",
       "    <tr>\n",
       "      <th>id</th>\n",
       "      <th></th>\n",
       "      <th></th>\n",
       "    </tr>\n",
       "  </thead>\n",
       "  <tbody>\n",
       "    <tr>\n",
       "      <th>SERPINB8</th>\n",
       "      <td>-1.202215</td>\n",
       "      <td>-9.117297</td>\n",
       "    </tr>\n",
       "    <tr>\n",
       "      <th>GMNN</th>\n",
       "      <td>-2.073531</td>\n",
       "      <td>-6.727768</td>\n",
       "    </tr>\n",
       "    <tr>\n",
       "      <th>RTN2</th>\n",
       "      <td>-1.834569</td>\n",
       "      <td>-8.362330</td>\n",
       "    </tr>\n",
       "    <tr>\n",
       "      <th>CHRNB1</th>\n",
       "      <td>-0.935002</td>\n",
       "      <td>-8.078041</td>\n",
       "    </tr>\n",
       "    <tr>\n",
       "      <th>SLC30A2</th>\n",
       "      <td>-1.581756</td>\n",
       "      <td>-8.563465</td>\n",
       "    </tr>\n",
       "    <tr>\n",
       "      <th>...</th>\n",
       "      <td>...</td>\n",
       "      <td>...</td>\n",
       "    </tr>\n",
       "    <tr>\n",
       "      <th>SGCD</th>\n",
       "      <td>-1.213996</td>\n",
       "      <td>-7.630407</td>\n",
       "    </tr>\n",
       "    <tr>\n",
       "      <th>HNRNPH2</th>\n",
       "      <td>-1.303997</td>\n",
       "      <td>-7.093050</td>\n",
       "    </tr>\n",
       "    <tr>\n",
       "      <th>REEP1</th>\n",
       "      <td>-1.842252</td>\n",
       "      <td>-8.159622</td>\n",
       "    </tr>\n",
       "    <tr>\n",
       "      <th>FASTKD2</th>\n",
       "      <td>-1.475862</td>\n",
       "      <td>-8.064750</td>\n",
       "    </tr>\n",
       "    <tr>\n",
       "      <th>UFSP2</th>\n",
       "      <td>-1.117361</td>\n",
       "      <td>-8.048282</td>\n",
       "    </tr>\n",
       "  </tbody>\n",
       "</table>\n",
       "<p>3564 rows × 2 columns</p>\n",
       "</div>"
      ],
      "text/plain": [
       "id        HP:0002762  HP:0001250\n",
       "id                              \n",
       "SERPINB8   -1.202215   -9.117297\n",
       "GMNN       -2.073531   -6.727768\n",
       "RTN2       -1.834569   -8.362330\n",
       "CHRNB1     -0.935002   -8.078041\n",
       "SLC30A2    -1.581756   -8.563465\n",
       "...              ...         ...\n",
       "SGCD       -1.213996   -7.630407\n",
       "HNRNPH2    -1.303997   -7.093050\n",
       "REEP1      -1.842252   -8.159622\n",
       "FASTKD2    -1.475862   -8.064750\n",
       "UFSP2      -1.117361   -8.048282\n",
       "\n",
       "[3564 rows x 2 columns]"
      ]
     },
     "execution_count": 72,
     "metadata": {},
     "output_type": "execute_result"
    }
   ],
   "source": [
    "\n",
    "hpo_query = ['HP:0002762','HP:0001250']\n",
    "geo_rank = 1 # list of bayes ranks of the true gene obntained using each hpo term\n",
    "bayes_df[['HP:0002762', 'HP:0001250']]\n",
    "\n",
    "#bayes_df[hpo_query].max(axis=1)\n",
    "#for i, row in bayes_df.iterrows():\n",
    "#    print('Case No:', i + 1, 'Case ID:', row['case_id'])\n",
    "        \n",
    "#    hpo_query = row['hpo_id'].split(',') # array of HPO terms for this row\n",
    "#    true_gene = row['gene_id'].strip() # ground truth (the 'solve' gene)\n",
    "#    print('True Gene:', true_gene)for hpo_id in hpo_query:\n",
    "#    bayes_rank_result = bayes_df([hpo_id]).reset_index()\n",
    "#    true_gene_rank = -1\n",
    "#    true_gene_row = bayes_rank_result[bayes_rank_result['gene_id'] == true_gene]\n",
    "#    if(true_gene_row.empty):\n",
    "#        print('True gene missing')\n",
    "#    else:\n",
    "#        true_gene_rank = true_gene_row['index'].values[0] + 1 # +1 to convert from 0-based to 1-based ranking      \n",
    "#    geo_rank *= true_gene_rank\n",
    "            \n",
    "#    if(geo_rank != -1): # if true gene is missing for all rankings, then -1 shouldn't be made +1\n",
    "#        geo_rank = (abs(geo_rank))**(1/len(hpo_query))"
   ]
  },
  {
   "cell_type": "markdown",
   "metadata": {},
   "source": [
    "## Testing the algorithm on a subset of cases\n",
    "\n",
    "###  Test 1: Direct link"
   ]
  },
  {
   "cell_type": "code",
   "execution_count": 73,
   "metadata": {
    "execution": {
     "iopub.execute_input": "2022-09-21T20:39:54.157821Z",
     "iopub.status.busy": "2022-09-21T20:39:54.157596Z",
     "iopub.status.idle": "2022-09-21T20:40:08.042393Z",
     "shell.execute_reply": "2022-09-21T20:40:08.041517Z"
    }
   },
   "outputs": [],
   "source": [
    "creat_test = {\"Original ID\": ['ME_test1', \"ME_TEST2\", \"SMA_TEST1\", \"SMA_TEST2\"], \n",
    "              \"Gene1\": ['EXT1', \"EXT2\", \"SMN1\", \"SMN2\"],\n",
    "             \"Normalized ID\": [\"SM_ME1\", \"SL_ME2\", \"SL_SMA1\", \"SL_SMA2\"],\n",
    "             \"Gender\" : ['Male', \"Male\", \"Female\", \"Female\"],\n",
    "             \"HPO\": ['HP:0002762', \"HP:0002762\", \"HP:0007269\", \"HP:0009067\"]}\n",
    "test_df = pd.DataFrame(creat_test)\n",
    " \n"
   ]
  },
  {
   "cell_type": "markdown",
   "metadata": {},
   "source": [
    "### Test 2:  indirect link"
   ]
  },
  {
   "cell_type": "code",
   "execution_count": 74,
   "metadata": {
    "execution": {
     "iopub.execute_input": "2022-09-21T20:40:08.046126Z",
     "iopub.status.busy": "2022-09-21T20:40:08.045954Z",
     "iopub.status.idle": "2022-09-21T20:40:16.827124Z",
     "shell.execute_reply": "2022-09-21T20:40:16.826302Z"
    }
   },
   "outputs": [],
   "source": [
    "\n",
    "creat_indirect_test = {\"Original ID\": ['ME_test1', \"ME_TEST2\", \"ME_TEST3\"], \n",
    "              \"Gene1\": ['EXT1', \"EXT2\", \"EXT1\"],\n",
    "             \"Normalized ID\": [\"SM_ME1\", \"SL_ME2\", \"SL_ME3\"],\n",
    "             \"Gender\" : ['Male', \"Male\", \"Male\"],\n",
    "             \"HPO\": ['HP:0002762,HP:0100777', \"HP:0100777\", \"HP:0100777\"]}\n",
    "test_ind_df = pd.DataFrame(creat_indirect_test)\n",
    "\n"
   ]
  },
  {
   "cell_type": "markdown",
   "metadata": {},
   "source": [
    "### Test 3:  adding multiple HP terms"
   ]
  },
  {
   "cell_type": "code",
   "execution_count": 75,
   "metadata": {
    "execution": {
     "iopub.execute_input": "2022-09-21T20:40:16.830786Z",
     "iopub.status.busy": "2022-09-21T20:40:16.830582Z",
     "iopub.status.idle": "2022-09-21T20:40:34.010251Z",
     "shell.execute_reply": "2022-09-21T20:40:34.008901Z"
    },
    "scrolled": true
   },
   "outputs": [],
   "source": [
    "creat_multiple_test = {\"Original ID\": ['ME_test1', \"ME_TEST2\", \"ME_TEST3\"], \n",
    "              \"Gene1\": ['EXT1', 'EXT2', 'EXT1'],\n",
    "             \"Normalized ID\": [\"SM_ME1\", \"SL_ME2\", \"SL_ME3\"],\n",
    "             \"Gender\" : ['Male', \"Male\", \"Male\"],\n",
    "             \"HPO\": ['HP:0001263,HP:0002762,HP:0100777', \"HP:0100777,HP:0001250,HP:0001263\",\n",
    "                     \"HP:0001263,HP:0100777\"]}\n",
    "test_multi_df = pd.DataFrame(creat_multiple_test)\n",
    "\n"
   ]
  },
  {
   "cell_type": "markdown",
   "metadata": {},
   "source": [
    "### Test 4:  Example with a poor performing test case"
   ]
  },
  {
   "cell_type": "code",
   "execution_count": 76,
   "metadata": {
    "execution": {
     "iopub.execute_input": "2022-09-21T20:40:34.018731Z",
     "iopub.status.busy": "2022-09-21T20:40:34.018273Z",
     "iopub.status.idle": "2022-09-21T20:41:06.119854Z",
     "shell.execute_reply": "2022-09-21T20:41:06.119047Z"
    },
    "scrolled": true
   },
   "outputs": [
    {
     "data": {
      "text/html": [
       "<div>\n",
       "<style scoped>\n",
       "    .dataframe tbody tr th:only-of-type {\n",
       "        vertical-align: middle;\n",
       "    }\n",
       "\n",
       "    .dataframe tbody tr th {\n",
       "        vertical-align: top;\n",
       "    }\n",
       "\n",
       "    .dataframe thead th {\n",
       "        text-align: right;\n",
       "    }\n",
       "</style>\n",
       "<table border=\"1\" class=\"dataframe\">\n",
       "  <thead>\n",
       "    <tr style=\"text-align: right;\">\n",
       "      <th></th>\n",
       "      <th>Original ID</th>\n",
       "      <th>Gene1</th>\n",
       "      <th>Normalized ID</th>\n",
       "      <th>Gender</th>\n",
       "      <th>HPO</th>\n",
       "      <th>DOT_PRODUCT</th>\n",
       "      <th>COSINE</th>\n",
       "      <th>Rank_sd</th>\n",
       "      <th>Rank_bayes</th>\n",
       "      <th>BAYES</th>\n",
       "      <th>rank_bayes_geo</th>\n",
       "    </tr>\n",
       "  </thead>\n",
       "  <tbody>\n",
       "    <tr>\n",
       "      <th>0</th>\n",
       "      <td>SL2-1214_A</td>\n",
       "      <td>CTCF</td>\n",
       "      <td>SL2-1214</td>\n",
       "      <td>Male</td>\n",
       "      <td>HP:0001999,HP:0000405,HP:0000378,HP:0002459,HP...</td>\n",
       "      <td>340.0</td>\n",
       "      <td>322.0</td>\n",
       "      <td>322.0</td>\n",
       "      <td>1038.0</td>\n",
       "      <td>257.0</td>\n",
       "      <td>249.0</td>\n",
       "    </tr>\n",
       "  </tbody>\n",
       "</table>\n",
       "</div>"
      ],
      "text/plain": [
       "  Original ID Gene1 Normalized ID Gender  \\\n",
       "0  SL2-1214_A  CTCF      SL2-1214   Male   \n",
       "\n",
       "                                                 HPO  DOT_PRODUCT  COSINE  \\\n",
       "0  HP:0001999,HP:0000405,HP:0000378,HP:0002459,HP...        340.0   322.0   \n",
       "\n",
       "   Rank_sd  Rank_bayes  BAYES  rank_bayes_geo  \n",
       "0    322.0      1038.0  257.0           249.0  "
      ]
     },
     "execution_count": 76,
     "metadata": {},
     "output_type": "execute_result"
    }
   ],
   "source": [
    "create_debug_test = {\"Original ID\": ['SL2-1214_A'], \n",
    "              \"Gene1\": ['CTCF'],\n",
    "             \"Normalized ID\": [\"SL2-1214\"],\n",
    "             \"Gender\" : ['Male'],\n",
    "             \"HPO\": ['HP:0001999,HP:0000405,HP:0000378,HP:0002459,HP:0000286,HP:0000338,HP:0000252,HP:0008551,HP:0000384,HP:0001642,HP:0000407,HP:0001328,HP:0005968,HP:0000582,HP:0010775,HP:0001629']\n",
    "            }\n",
    "\n",
    "test_debug_df = pd.DataFrame(create_debug_test)\n",
    "\n",
    "run_methods(test_debug_df, bayes_df, dp_cosine_model, probability_ckg_df)\n"
   ]
  },
  {
   "cell_type": "markdown",
   "metadata": {},
   "source": [
    "### Test 5:  Test for adding multiple HP terms"
   ]
  },
  {
   "cell_type": "code",
   "execution_count": 77,
   "metadata": {
    "execution": {
     "iopub.execute_input": "2022-09-21T20:41:06.124515Z",
     "iopub.status.busy": "2022-09-21T20:41:06.124332Z",
     "iopub.status.idle": "2022-09-21T20:41:27.010393Z",
     "shell.execute_reply": "2022-09-21T20:41:27.009656Z"
    },
    "scrolled": false
   },
   "outputs": [],
   "source": [
    "creat_og_test = {\"Original ID\": ['ME_test1','ME_test2', \"ME_test3\"], \n",
    "              \"Gene1\": ['EXT1', 'EXT2', \"EXT1\"],\n",
    "             \"Normalized ID\": [\"SM_ME1\", \"SM\", \"SM2\"],\n",
    "             \"Gender\" : ['Male', 'Male', \"female\"],\n",
    "             \"HPO\": ['HP:0004325,HP:0100777,HP:0002007,HP:0001263,HP:0000218,HP:0001302,HP:0011220,HP:0001250,HP:0004322,HP:0002779',\n",
    "                    'HP:0001263,HP:0001250,HP:0100777,HP:0011220',\n",
    "                    'HP:0002007,HP:0004325,HP:0000218']\n",
    "            }\n",
    "test_og_df = pd.DataFrame(creat_og_test)\n",
    "\n",
    "\n"
   ]
  },
  {
   "cell_type": "code",
   "execution_count": 78,
   "metadata": {},
   "outputs": [
    {
     "data": {
      "text/html": [
       "<div>\n",
       "<style scoped>\n",
       "    .dataframe tbody tr th:only-of-type {\n",
       "        vertical-align: middle;\n",
       "    }\n",
       "\n",
       "    .dataframe tbody tr th {\n",
       "        vertical-align: top;\n",
       "    }\n",
       "\n",
       "    .dataframe thead th {\n",
       "        text-align: right;\n",
       "    }\n",
       "</style>\n",
       "<table border=\"1\" class=\"dataframe\">\n",
       "  <thead>\n",
       "    <tr style=\"text-align: right;\">\n",
       "      <th></th>\n",
       "      <th>Original ID</th>\n",
       "      <th>Gene1</th>\n",
       "      <th>Normalized ID</th>\n",
       "      <th>Gender</th>\n",
       "      <th>HPO</th>\n",
       "      <th>DOT_PRODUCT</th>\n",
       "      <th>COSINE</th>\n",
       "      <th>Rank_sd</th>\n",
       "      <th>Rank_bayes</th>\n",
       "      <th>BAYES</th>\n",
       "      <th>rank_bayes_geo</th>\n",
       "    </tr>\n",
       "  </thead>\n",
       "  <tbody>\n",
       "    <tr>\n",
       "      <th>0</th>\n",
       "      <td>ME_test1</td>\n",
       "      <td>EXT2</td>\n",
       "      <td>SM_ME1</td>\n",
       "      <td>Male</td>\n",
       "      <td>HP:0100777,HP:0001263,HP:0011220,HP:0004322,HP...</td>\n",
       "      <td>12.0</td>\n",
       "      <td>39.0</td>\n",
       "      <td>39.0</td>\n",
       "      <td>1.0</td>\n",
       "      <td>95.0</td>\n",
       "      <td>9.0</td>\n",
       "    </tr>\n",
       "  </tbody>\n",
       "</table>\n",
       "</div>"
      ],
      "text/plain": [
       "  Original ID Gene1 Normalized ID Gender  \\\n",
       "0    ME_test1  EXT2        SM_ME1   Male   \n",
       "\n",
       "                                                 HPO  DOT_PRODUCT  COSINE  \\\n",
       "0  HP:0100777,HP:0001263,HP:0011220,HP:0004322,HP...         12.0    39.0   \n",
       "\n",
       "   Rank_sd  Rank_bayes  BAYES  rank_bayes_geo  \n",
       "0     39.0         1.0   95.0             9.0  "
      ]
     },
     "execution_count": 78,
     "metadata": {},
     "output_type": "execute_result"
    }
   ],
   "source": [
    "creat_og_test = {\"Original ID\": ['ME_test1'], \n",
    "              \"Gene1\": ['EXT2'],\n",
    "             \"Normalized ID\": [\"SM_ME1\"],\n",
    "             \"Gender\" : ['Male'],\n",
    "             \"HPO\": [\"HP:0100777,HP:0001263,HP:0011220,HP:0004322,HP:0001250\"]\n",
    "            }\n",
    "test_og_df = pd.DataFrame(creat_og_test)\n",
    "run_methods(test_og_df, bayes_df, dp_cosine_model, probability_ckg_df)\n",
    "\n"
   ]
  },
  {
   "cell_type": "code",
   "execution_count": 79,
   "metadata": {},
   "outputs": [
    {
     "name": "stdout",
     "output_type": "stream",
     "text": [
      "HPO HP:0002762 not found in the list of probabilities\n",
      "HPO HP:0002762 not found in the list of probabilities\n",
      "HPO HP:0002762 not found in the list of probabilities\n",
      "HPO HP:0002762 not found in the list of probabilities\n",
      "HPO HP:0002762 not found in the list of probabilities\n",
      "HPO HP:0002762 not found in the list of probabilities\n",
      "HPO HP:0009067 not found in the list of probabilities\n",
      "HPO HP:0009067 not found in the list of probabilities\n",
      "HPO HP:0009067 not found in the list of probabilities\n",
      "HPO HP:0002762 not found in the list of probabilities\n",
      "HPO HP:0002762 not found in the list of probabilities\n",
      "HPO HP:0002762 not found in the list of probabilities\n",
      "HPO HP:0002762 not found in the list of probabilities\n",
      "HPO HP:0002762 not found in the list of probabilities\n",
      "HPO HP:0002762 not found in the list of probabilities\n"
     ]
    }
   ],
   "source": [
    "# Results with CKG IC\n",
    "\n",
    "direct_link_ckg_df = run_methods(test_df, bayes_df, dp_cosine_model, probability_ckg_df) \n",
    "direct_indlink_ckg_df = run_methods(test_ind_df, bayes_df, dp_cosine_model, probability_ckg_df)\n",
    "direct_multi_ckg_df = run_methods(test_multi_df,bayes_df, dp_cosine_model, probability_ckg_df)\n",
    "direct_og_ckg_df = run_methods(test_og_df, bayes_df, dp_cosine_model, probability_ckg_df)\n",
    "direct_link_ckg_df['test'] = \"Direct\"\n",
    "direct_indlink_ckg_df['test'] = \"indirect\"\n",
    "direct_multi_ckg_df['test'] = \"multiple_HP\"\n",
    "direct_og_ckg_df['test'] = \"SL2_case\"\n",
    "test_ckg_df = pd.concat([direct_link_ckg_df, direct_indlink_ckg_df, direct_multi_ckg_df, direct_og_ckg_df], axis=0)\n",
    "test_ckg_sub_df = test_ckg_df[['test', 'Gene1','HPO', 'DOT_PRODUCT', 'Rank_bayes', 'COSINE', 'BAYES']]"
   ]
  },
  {
   "cell_type": "code",
   "execution_count": 80,
   "metadata": {},
   "outputs": [
    {
     "name": "stdout",
     "output_type": "stream",
     "text": [
      "HPO HP:0002762 not found in the list of probabilities\n",
      "HPO HP:0002762 not found in the list of probabilities\n",
      "HPO HP:0002762 not found in the list of probabilities\n",
      "HPO HP:0002762 not found in the list of probabilities\n",
      "HPO HP:0002762 not found in the list of probabilities\n",
      "HPO HP:0002762 not found in the list of probabilities\n",
      "HPO HP:0009067 not found in the list of probabilities\n",
      "HPO HP:0009067 not found in the list of probabilities\n",
      "HPO HP:0009067 not found in the list of probabilities\n",
      "HPO HP:0002762 not found in the list of probabilities\n",
      "HPO HP:0002762 not found in the list of probabilities\n",
      "HPO HP:0002762 not found in the list of probabilities\n",
      "HPO HP:0002762 not found in the list of probabilities\n",
      "HPO HP:0002762 not found in the list of probabilities\n",
      "HPO HP:0002762 not found in the list of probabilities\n"
     ]
    }
   ],
   "source": [
    "# Results with PCAN IC\n",
    "\n",
    "direct_link_PCAN_df = run_methods(test_df, bayes_df, dp_cosine_model, probability_table_PCAN_df) \n",
    "direct_indlink_PCAN_df = run_methods(test_ind_df, bayes_df, dp_cosine_model, probability_table_PCAN_df)\n",
    "direct_multi_PCAN_df = run_methods(test_multi_df,bayes_df, dp_cosine_model, probability_table_PCAN_df)\n",
    "direct_og_PCAN_df = run_methods(test_og_df, bayes_df, dp_cosine_model, probability_table_PCAN_df)\n",
    "direct_link_PCAN_df['test'] = \"Direct\"\n",
    "direct_indlink_PCAN_df['test'] = \"indirect\"\n",
    "direct_multi_PCAN_df['test'] = \"multiple_HP\"\n",
    "direct_og_PCAN_df['test'] = \"SL2_case\"\n",
    "test_PCAN_df = pd.concat([direct_link_PCAN_df, direct_indlink_PCAN_df, direct_multi_PCAN_df, direct_og_PCAN_df], axis=0)\n",
    "test_PCAN_sub_df = test_PCAN_df[['test', 'Gene1','HPO', 'DOT_PRODUCT', 'Rank_bayes', 'COSINE', 'BAYES']]\n"
   ]
  },
  {
   "cell_type": "code",
   "execution_count": 84,
   "metadata": {},
   "outputs": [
    {
     "ename": "ValueError",
     "evalue": "Could not interpret value `variable` for parameter `x`",
     "output_type": "error",
     "traceback": [
      "\u001b[0;31m---------------------------------------------------------------------------\u001b[0m",
      "\u001b[0;31mValueError\u001b[0m                                Traceback (most recent call last)",
      "Input \u001b[0;32mIn [84]\u001b[0m, in \u001b[0;36m<cell line: 10>\u001b[0;34m()\u001b[0m\n\u001b[1;32m      7\u001b[0m plt\u001b[38;5;241m.\u001b[39mfigure(figsize\u001b[38;5;241m=\u001b[39m(\u001b[38;5;241m8\u001b[39m,\u001b[38;5;241m8\u001b[39m))\n\u001b[1;32m      8\u001b[0m ax \u001b[38;5;241m=\u001b[39m sns\u001b[38;5;241m.\u001b[39mboxplot(y\u001b[38;5;241m=\u001b[39m\u001b[38;5;124m'\u001b[39m\u001b[38;5;124mRank\u001b[39m\u001b[38;5;124m'\u001b[39m, x\u001b[38;5;241m=\u001b[39m\u001b[38;5;124m'\u001b[39m\u001b[38;5;124mAlgorithm\u001b[39m\u001b[38;5;124m'\u001b[39m, data\u001b[38;5;241m=\u001b[39mtest_PCAN_melt_df, hue\u001b[38;5;241m=\u001b[39m\u001b[38;5;124m'\u001b[39m\u001b[38;5;124mTest\u001b[39m\u001b[38;5;124m'\u001b[39m)\n\u001b[0;32m---> 10\u001b[0m ax \u001b[38;5;241m=\u001b[39m \u001b[43msns\u001b[49m\u001b[38;5;241;43m.\u001b[39;49m\u001b[43mswarmplot\u001b[49m\u001b[43m(\u001b[49m\u001b[43my\u001b[49m\u001b[38;5;241;43m=\u001b[39;49m\u001b[38;5;124;43m'\u001b[39;49m\u001b[38;5;124;43mvalue\u001b[39;49m\u001b[38;5;124;43m'\u001b[39;49m\u001b[43m,\u001b[49m\u001b[43m \u001b[49m\u001b[43mx\u001b[49m\u001b[38;5;241;43m=\u001b[39;49m\u001b[38;5;124;43m'\u001b[39;49m\u001b[38;5;124;43mvariable\u001b[39;49m\u001b[38;5;124;43m'\u001b[39;49m\u001b[43m,\u001b[49m\u001b[43m \u001b[49m\u001b[43mdata\u001b[49m\u001b[38;5;241;43m=\u001b[39;49m\u001b[43mtest_PCAN_melt_df\u001b[49m\u001b[43m,\u001b[49m\u001b[43m \u001b[49m\u001b[43mcolor\u001b[49m\u001b[38;5;241;43m=\u001b[39;49m\u001b[38;5;124;43m\"\u001b[39;49m\u001b[38;5;124;43mgrey\u001b[39;49m\u001b[38;5;124;43m\"\u001b[39;49m\u001b[43m)\u001b[49m\n",
      "File \u001b[0;32m/research/bsi/projects/PI/tertiary/Couch_Fergus_coucf/s123456.general_utility/python_virtual/lib/python3.9/site-packages/seaborn/categorical.py:2624\u001b[0m, in \u001b[0;36mswarmplot\u001b[0;34m(data, x, y, hue, order, hue_order, dodge, orient, color, palette, size, edgecolor, linewidth, hue_norm, native_scale, formatter, legend, warn_thresh, ax, **kwargs)\u001b[0m\n\u001b[1;32m   2616\u001b[0m \u001b[38;5;28;01mdef\u001b[39;00m \u001b[38;5;21mswarmplot\u001b[39m(\n\u001b[1;32m   2617\u001b[0m     data\u001b[38;5;241m=\u001b[39m\u001b[38;5;28;01mNone\u001b[39;00m, \u001b[38;5;241m*\u001b[39m, x\u001b[38;5;241m=\u001b[39m\u001b[38;5;28;01mNone\u001b[39;00m, y\u001b[38;5;241m=\u001b[39m\u001b[38;5;28;01mNone\u001b[39;00m, hue\u001b[38;5;241m=\u001b[39m\u001b[38;5;28;01mNone\u001b[39;00m, order\u001b[38;5;241m=\u001b[39m\u001b[38;5;28;01mNone\u001b[39;00m, hue_order\u001b[38;5;241m=\u001b[39m\u001b[38;5;28;01mNone\u001b[39;00m,\n\u001b[1;32m   2618\u001b[0m     dodge\u001b[38;5;241m=\u001b[39m\u001b[38;5;28;01mFalse\u001b[39;00m, orient\u001b[38;5;241m=\u001b[39m\u001b[38;5;28;01mNone\u001b[39;00m, color\u001b[38;5;241m=\u001b[39m\u001b[38;5;28;01mNone\u001b[39;00m, palette\u001b[38;5;241m=\u001b[39m\u001b[38;5;28;01mNone\u001b[39;00m,\n\u001b[0;32m   (...)\u001b[0m\n\u001b[1;32m   2621\u001b[0m     ax\u001b[38;5;241m=\u001b[39m\u001b[38;5;28;01mNone\u001b[39;00m, \u001b[38;5;241m*\u001b[39m\u001b[38;5;241m*\u001b[39mkwargs\n\u001b[1;32m   2622\u001b[0m ):\n\u001b[0;32m-> 2624\u001b[0m     p \u001b[38;5;241m=\u001b[39m \u001b[43m_CategoricalPlotterNew\u001b[49m\u001b[43m(\u001b[49m\n\u001b[1;32m   2625\u001b[0m \u001b[43m        \u001b[49m\u001b[43mdata\u001b[49m\u001b[38;5;241;43m=\u001b[39;49m\u001b[43mdata\u001b[49m\u001b[43m,\u001b[49m\n\u001b[1;32m   2626\u001b[0m \u001b[43m        \u001b[49m\u001b[43mvariables\u001b[49m\u001b[38;5;241;43m=\u001b[39;49m\u001b[43m_CategoricalPlotterNew\u001b[49m\u001b[38;5;241;43m.\u001b[39;49m\u001b[43mget_semantics\u001b[49m\u001b[43m(\u001b[49m\u001b[38;5;28;43mlocals\u001b[39;49m\u001b[43m(\u001b[49m\u001b[43m)\u001b[49m\u001b[43m)\u001b[49m\u001b[43m,\u001b[49m\n\u001b[1;32m   2627\u001b[0m \u001b[43m        \u001b[49m\u001b[43morder\u001b[49m\u001b[38;5;241;43m=\u001b[39;49m\u001b[43morder\u001b[49m\u001b[43m,\u001b[49m\n\u001b[1;32m   2628\u001b[0m \u001b[43m        \u001b[49m\u001b[43morient\u001b[49m\u001b[38;5;241;43m=\u001b[39;49m\u001b[43morient\u001b[49m\u001b[43m,\u001b[49m\n\u001b[1;32m   2629\u001b[0m \u001b[43m        \u001b[49m\u001b[43mrequire_numeric\u001b[49m\u001b[38;5;241;43m=\u001b[39;49m\u001b[38;5;28;43;01mFalse\u001b[39;49;00m\u001b[43m,\u001b[49m\n\u001b[1;32m   2630\u001b[0m \u001b[43m        \u001b[49m\u001b[43mlegend\u001b[49m\u001b[38;5;241;43m=\u001b[39;49m\u001b[43mlegend\u001b[49m\u001b[43m,\u001b[49m\n\u001b[1;32m   2631\u001b[0m \u001b[43m    \u001b[49m\u001b[43m)\u001b[49m\n\u001b[1;32m   2633\u001b[0m     \u001b[38;5;28;01mif\u001b[39;00m ax \u001b[38;5;129;01mis\u001b[39;00m \u001b[38;5;28;01mNone\u001b[39;00m:\n\u001b[1;32m   2634\u001b[0m         ax \u001b[38;5;241m=\u001b[39m plt\u001b[38;5;241m.\u001b[39mgca()\n",
      "File \u001b[0;32m/research/bsi/projects/PI/tertiary/Couch_Fergus_coucf/s123456.general_utility/python_virtual/lib/python3.9/site-packages/seaborn/categorical.py:66\u001b[0m, in \u001b[0;36m_CategoricalPlotterNew.__init__\u001b[0;34m(self, data, variables, order, orient, require_numeric, legend)\u001b[0m\n\u001b[1;32m     56\u001b[0m \u001b[38;5;28;01mdef\u001b[39;00m \u001b[38;5;21m__init__\u001b[39m(\n\u001b[1;32m     57\u001b[0m     \u001b[38;5;28mself\u001b[39m,\n\u001b[1;32m     58\u001b[0m     data\u001b[38;5;241m=\u001b[39m\u001b[38;5;28;01mNone\u001b[39;00m,\n\u001b[0;32m   (...)\u001b[0m\n\u001b[1;32m     63\u001b[0m     legend\u001b[38;5;241m=\u001b[39m\u001b[38;5;124m\"\u001b[39m\u001b[38;5;124mauto\u001b[39m\u001b[38;5;124m\"\u001b[39m,\n\u001b[1;32m     64\u001b[0m ):\n\u001b[0;32m---> 66\u001b[0m     \u001b[38;5;28;43msuper\u001b[39;49m\u001b[43m(\u001b[49m\u001b[43m)\u001b[49m\u001b[38;5;241;43m.\u001b[39;49m\u001b[38;5;21;43m__init__\u001b[39;49m\u001b[43m(\u001b[49m\u001b[43mdata\u001b[49m\u001b[38;5;241;43m=\u001b[39;49m\u001b[43mdata\u001b[49m\u001b[43m,\u001b[49m\u001b[43m \u001b[49m\u001b[43mvariables\u001b[49m\u001b[38;5;241;43m=\u001b[39;49m\u001b[43mvariables\u001b[49m\u001b[43m)\u001b[49m\n\u001b[1;32m     68\u001b[0m     \u001b[38;5;66;03m# This method takes care of some bookkeeping that is necessary because the\u001b[39;00m\n\u001b[1;32m     69\u001b[0m     \u001b[38;5;66;03m# original categorical plots (prior to the 2021 refactor) had some rules that\u001b[39;00m\n\u001b[1;32m     70\u001b[0m     \u001b[38;5;66;03m# don't fit exactly into the logic of _core. It may be wise to have a second\u001b[39;00m\n\u001b[0;32m   (...)\u001b[0m\n\u001b[1;32m     75\u001b[0m     \u001b[38;5;66;03m# wide_structure rules in _core. If we do decide to make orient part of the\u001b[39;00m\n\u001b[1;32m     76\u001b[0m     \u001b[38;5;66;03m# _core variable assignment, we'll want to figure out how to express that.\u001b[39;00m\n\u001b[1;32m     77\u001b[0m     \u001b[38;5;28;01mif\u001b[39;00m \u001b[38;5;28mself\u001b[39m\u001b[38;5;241m.\u001b[39minput_format \u001b[38;5;241m==\u001b[39m \u001b[38;5;124m\"\u001b[39m\u001b[38;5;124mwide\u001b[39m\u001b[38;5;124m\"\u001b[39m \u001b[38;5;129;01mand\u001b[39;00m orient \u001b[38;5;241m==\u001b[39m \u001b[38;5;124m\"\u001b[39m\u001b[38;5;124mh\u001b[39m\u001b[38;5;124m\"\u001b[39m:\n",
      "File \u001b[0;32m/research/bsi/projects/PI/tertiary/Couch_Fergus_coucf/s123456.general_utility/python_virtual/lib/python3.9/site-packages/seaborn/_oldcore.py:640\u001b[0m, in \u001b[0;36mVectorPlotter.__init__\u001b[0;34m(self, data, variables)\u001b[0m\n\u001b[1;32m    635\u001b[0m \u001b[38;5;66;03m# var_ordered is relevant only for categorical axis variables, and may\u001b[39;00m\n\u001b[1;32m    636\u001b[0m \u001b[38;5;66;03m# be better handled by an internal axis information object that tracks\u001b[39;00m\n\u001b[1;32m    637\u001b[0m \u001b[38;5;66;03m# such information and is set up by the scale_* methods. The analogous\u001b[39;00m\n\u001b[1;32m    638\u001b[0m \u001b[38;5;66;03m# information for numeric axes would be information about log scales.\u001b[39;00m\n\u001b[1;32m    639\u001b[0m \u001b[38;5;28mself\u001b[39m\u001b[38;5;241m.\u001b[39m_var_ordered \u001b[38;5;241m=\u001b[39m {\u001b[38;5;124m\"\u001b[39m\u001b[38;5;124mx\u001b[39m\u001b[38;5;124m\"\u001b[39m: \u001b[38;5;28;01mFalse\u001b[39;00m, \u001b[38;5;124m\"\u001b[39m\u001b[38;5;124my\u001b[39m\u001b[38;5;124m\"\u001b[39m: \u001b[38;5;28;01mFalse\u001b[39;00m}  \u001b[38;5;66;03m# alt., used DefaultDict\u001b[39;00m\n\u001b[0;32m--> 640\u001b[0m \u001b[38;5;28;43mself\u001b[39;49m\u001b[38;5;241;43m.\u001b[39;49m\u001b[43massign_variables\u001b[49m\u001b[43m(\u001b[49m\u001b[43mdata\u001b[49m\u001b[43m,\u001b[49m\u001b[43m \u001b[49m\u001b[43mvariables\u001b[49m\u001b[43m)\u001b[49m\n\u001b[1;32m    642\u001b[0m \u001b[38;5;28;01mfor\u001b[39;00m var, \u001b[38;5;28mcls\u001b[39m \u001b[38;5;129;01min\u001b[39;00m \u001b[38;5;28mself\u001b[39m\u001b[38;5;241m.\u001b[39m_semantic_mappings\u001b[38;5;241m.\u001b[39mitems():\n\u001b[1;32m    643\u001b[0m \n\u001b[1;32m    644\u001b[0m     \u001b[38;5;66;03m# Create the mapping function\u001b[39;00m\n\u001b[1;32m    645\u001b[0m     map_func \u001b[38;5;241m=\u001b[39m partial(\u001b[38;5;28mcls\u001b[39m\u001b[38;5;241m.\u001b[39mmap, plotter\u001b[38;5;241m=\u001b[39m\u001b[38;5;28mself\u001b[39m)\n",
      "File \u001b[0;32m/research/bsi/projects/PI/tertiary/Couch_Fergus_coucf/s123456.general_utility/python_virtual/lib/python3.9/site-packages/seaborn/_oldcore.py:701\u001b[0m, in \u001b[0;36mVectorPlotter.assign_variables\u001b[0;34m(self, data, variables)\u001b[0m\n\u001b[1;32m    699\u001b[0m \u001b[38;5;28;01melse\u001b[39;00m:\n\u001b[1;32m    700\u001b[0m     \u001b[38;5;28mself\u001b[39m\u001b[38;5;241m.\u001b[39minput_format \u001b[38;5;241m=\u001b[39m \u001b[38;5;124m\"\u001b[39m\u001b[38;5;124mlong\u001b[39m\u001b[38;5;124m\"\u001b[39m\n\u001b[0;32m--> 701\u001b[0m     plot_data, variables \u001b[38;5;241m=\u001b[39m \u001b[38;5;28;43mself\u001b[39;49m\u001b[38;5;241;43m.\u001b[39;49m\u001b[43m_assign_variables_longform\u001b[49m\u001b[43m(\u001b[49m\n\u001b[1;32m    702\u001b[0m \u001b[43m        \u001b[49m\u001b[43mdata\u001b[49m\u001b[43m,\u001b[49m\u001b[43m \u001b[49m\u001b[38;5;241;43m*\u001b[39;49m\u001b[38;5;241;43m*\u001b[39;49m\u001b[43mvariables\u001b[49m\u001b[43m,\u001b[49m\n\u001b[1;32m    703\u001b[0m \u001b[43m    \u001b[49m\u001b[43m)\u001b[49m\n\u001b[1;32m    705\u001b[0m \u001b[38;5;28mself\u001b[39m\u001b[38;5;241m.\u001b[39mplot_data \u001b[38;5;241m=\u001b[39m plot_data\n\u001b[1;32m    706\u001b[0m \u001b[38;5;28mself\u001b[39m\u001b[38;5;241m.\u001b[39mvariables \u001b[38;5;241m=\u001b[39m variables\n",
      "File \u001b[0;32m/research/bsi/projects/PI/tertiary/Couch_Fergus_coucf/s123456.general_utility/python_virtual/lib/python3.9/site-packages/seaborn/_oldcore.py:938\u001b[0m, in \u001b[0;36mVectorPlotter._assign_variables_longform\u001b[0;34m(self, data, **kwargs)\u001b[0m\n\u001b[1;32m    933\u001b[0m \u001b[38;5;28;01melif\u001b[39;00m \u001b[38;5;28misinstance\u001b[39m(val, (\u001b[38;5;28mstr\u001b[39m, \u001b[38;5;28mbytes\u001b[39m)):\n\u001b[1;32m    934\u001b[0m \n\u001b[1;32m    935\u001b[0m     \u001b[38;5;66;03m# This looks like a column name but we don't know what it means!\u001b[39;00m\n\u001b[1;32m    937\u001b[0m     err \u001b[38;5;241m=\u001b[39m \u001b[38;5;124mf\u001b[39m\u001b[38;5;124m\"\u001b[39m\u001b[38;5;124mCould not interpret value `\u001b[39m\u001b[38;5;132;01m{\u001b[39;00mval\u001b[38;5;132;01m}\u001b[39;00m\u001b[38;5;124m` for parameter `\u001b[39m\u001b[38;5;132;01m{\u001b[39;00mkey\u001b[38;5;132;01m}\u001b[39;00m\u001b[38;5;124m`\u001b[39m\u001b[38;5;124m\"\u001b[39m\n\u001b[0;32m--> 938\u001b[0m     \u001b[38;5;28;01mraise\u001b[39;00m \u001b[38;5;167;01mValueError\u001b[39;00m(err)\n\u001b[1;32m    940\u001b[0m \u001b[38;5;28;01melse\u001b[39;00m:\n\u001b[1;32m    941\u001b[0m \n\u001b[1;32m    942\u001b[0m     \u001b[38;5;66;03m# Otherwise, assume the value is itself data\u001b[39;00m\n\u001b[1;32m    943\u001b[0m \n\u001b[1;32m    944\u001b[0m     \u001b[38;5;66;03m# Raise when data object is present and a vector can't matched\u001b[39;00m\n\u001b[1;32m    945\u001b[0m     \u001b[38;5;28;01mif\u001b[39;00m \u001b[38;5;28misinstance\u001b[39m(data, pd\u001b[38;5;241m.\u001b[39mDataFrame) \u001b[38;5;129;01mand\u001b[39;00m \u001b[38;5;129;01mnot\u001b[39;00m \u001b[38;5;28misinstance\u001b[39m(val, pd\u001b[38;5;241m.\u001b[39mSeries):\n",
      "\u001b[0;31mValueError\u001b[0m: Could not interpret value `variable` for parameter `x`"
     ]
    },
    {
     "data": {
      "image/png": "[encoded data removed]",
      "text/plain": [
       "<Figure size 576x576 with 1 Axes>"
      ]
     },
     "metadata": {},
     "output_type": "display_data"
    }
   ],
   "source": [
    "test_PCAN_melt_df = test_PCAN_sub_df.melt(id_vars=['test', 'Gene1', 'HPO'])\n",
    "test_PCAN_melt_df.columns = ['Test', \"Gene\", \"HPO\", \"Algorithm\", \"Rank\"]\n",
    "sns.set_theme(style=\"ticks\")\n",
    "\n",
    "test_PCAN_melt_df = test_PCAN_melt_df[test_PCAN_melt_df['Algorithm'] != 'Rank_bayes']\n",
    "\n",
    "plt.figure(figsize=(8,8))\n",
    "ax = sns.boxplot(y='Rank', x='Algorithm', data=test_PCAN_melt_df, hue='Test')\n",
    "\n",
    "ax = sns.swarmplot(y='value', x='variable', data=test_PCAN_melt_df, color=\"grey\")\n"
   ]
  },
  {
   "cell_type": "code",
   "execution_count": 39,
   "metadata": {
    "execution": {
     "iopub.execute_input": "2022-09-21T20:41:27.013797Z",
     "iopub.status.busy": "2022-09-21T20:41:27.013590Z",
     "iopub.status.idle": "2022-09-21T20:41:27.021677Z",
     "shell.execute_reply": "2022-09-21T20:41:27.021133Z"
    }
   },
   "outputs": [],
   "source": [
    "test_method_1_50_df = test_solved_df.head(50)\n",
    "test_solved_50_100_df = test_solved_df.iloc[50:100].reset_index()\n",
    "test_solved_100_150_df = test_solved_df.iloc[100:150].reset_index()\n",
    "test_solved_150_200_df = test_solved_df.iloc[150:200].reset_index()\n",
    "test_solved_200_250_df = test_solved_df.iloc[200:250].reset_index()\n",
    "test_solved_250_267_df = test_solved_df.iloc[250:267].reset_index()\n"
   ]
  },
  {
   "cell_type": "markdown",
   "metadata": {},
   "source": [
    "### using CKG probability"
   ]
  },
  {
   "cell_type": "code",
   "execution_count": 40,
   "metadata": {},
   "outputs": [
    {
     "ename": "KeyboardInterrupt",
     "evalue": "",
     "output_type": "error",
     "traceback": [
      "\u001b[0;31m---------------------------------------------------------------------------\u001b[0m",
      "\u001b[0;31mKeyboardInterrupt\u001b[0m                         Traceback (most recent call last)",
      "Input \u001b[0;32mIn [40]\u001b[0m, in \u001b[0;36m<cell line: 6>\u001b[0;34m()\u001b[0m\n\u001b[1;32m      4\u001b[0m dp_cosine_model \u001b[38;5;241m=\u001b[39m RankQuery(phenotype_new_df, gene_new_clinvar_df, probability_ckg_df, filter_gene_list)\n\u001b[1;32m      5\u001b[0m bayes_clinvar_df \u001b[38;5;241m=\u001b[39m bayes_model\u001b[38;5;241m.\u001b[39mcreate_dataframe()\n\u001b[0;32m----> 6\u001b[0m clinvar_test_1_50_df \u001b[38;5;241m=\u001b[39m \u001b[43mrun_methods\u001b[49m\u001b[43m(\u001b[49m\u001b[43mtest_method_1_50_df\u001b[49m\u001b[43m,\u001b[49m\u001b[43m \u001b[49m\u001b[43mbayes_clinvar_df\u001b[49m\u001b[43m,\u001b[49m\u001b[43m \u001b[49m\u001b[43mdp_cosine_model\u001b[49m\u001b[43m,\u001b[49m\u001b[43m \u001b[49m\u001b[43mprobability_ckg_df\u001b[49m\u001b[43m)\u001b[49m\n\u001b[1;32m      7\u001b[0m clinvar_test_50_100_df \u001b[38;5;241m=\u001b[39m run_methods(test_solved_50_100_df, bayes_clinvar_df, dp_cosine_model, probability_ckg_df)\n\u001b[1;32m      8\u001b[0m clinvar_test_100_150_df \u001b[38;5;241m=\u001b[39m run_methods(test_solved_100_150_df, bayes_clinvar_df, dp_cosine_model, probability_ckg_df)\n",
      "Input \u001b[0;32mIn [25]\u001b[0m, in \u001b[0;36mrun_methods\u001b[0;34m(df, bayes_df, model_df, prob_df)\u001b[0m\n\u001b[1;32m     38\u001b[0m bm_all_melt_df \u001b[38;5;241m=\u001b[39mbm_all_df\u001b[38;5;241m.\u001b[39mmelt()\n\u001b[1;32m     39\u001b[0m \u001b[38;5;66;03m#sns.displot(bm_all_melt_df, x='value', hue='id')\u001b[39;00m\n\u001b[1;32m     40\u001b[0m \u001b[38;5;66;03m#fig.legend(labels=[filter_HPO])\u001b[39;00m\n\u001b[0;32m---> 41\u001b[0m ld \u001b[38;5;241m=\u001b[39m \u001b[43mmodel_df\u001b[49m\u001b[38;5;241;43m.\u001b[39;49m\u001b[43mshow_dp_results_sm\u001b[49m\u001b[43m(\u001b[49m\u001b[38;5;241;43m*\u001b[39;49m\u001b[43mfilter_HPO\u001b[49m\u001b[43m)\u001b[49m\n\u001b[1;32m     42\u001b[0m bm_df \u001b[38;5;241m=\u001b[39m bm_df\u001b[38;5;241m.\u001b[39mreset_index()\n\u001b[1;32m     43\u001b[0m cd \u001b[38;5;241m=\u001b[39m model_df\u001b[38;5;241m.\u001b[39mshow_cosine_results(\u001b[38;5;241m*\u001b[39mfilter_HPO)\n",
      "Input \u001b[0;32mIn [3]\u001b[0m, in \u001b[0;36mRankQuery.show_dp_results_sm\u001b[0;34m(self, *query)\u001b[0m\n\u001b[1;32m    123\u001b[0m count \u001b[38;5;241m+\u001b[39m\u001b[38;5;241m=\u001b[39m \u001b[38;5;241m1\u001b[39m\n\u001b[1;32m    124\u001b[0m \u001b[38;5;28mself\u001b[39m\u001b[38;5;241m.\u001b[39mquery \u001b[38;5;241m=\u001b[39m new_query\n\u001b[0;32m--> 125\u001b[0m dot_pdt_sm \u001b[38;5;241m=\u001b[39m \u001b[38;5;28;43mself\u001b[39;49m\u001b[38;5;241;43m.\u001b[39;49m\u001b[43mstable_softmax\u001b[49m\u001b[43m(\u001b[49m\u001b[43m)\u001b[49m\n\u001b[1;32m    126\u001b[0m dot_pdt_sm_arr\u001b[38;5;241m.\u001b[39mappend(dot_pdt_sm)\n\u001b[1;32m    127\u001b[0m dot_pdt_IC \u001b[38;5;241m=\u001b[39m dot_pdt_sm \u001b[38;5;241m*\u001b[39m \u001b[38;5;28mself\u001b[39m\u001b[38;5;241m.\u001b[39mlog_probability()\n",
      "Input \u001b[0;32mIn [3]\u001b[0m, in \u001b[0;36mRankQuery.stable_softmax\u001b[0;34m(self)\u001b[0m\n\u001b[1;32m     92\u001b[0m \u001b[38;5;28;01mdef\u001b[39;00m \u001b[38;5;21mstable_softmax\u001b[39m(\u001b[38;5;28mself\u001b[39m):\n\u001b[1;32m     93\u001b[0m     \u001b[38;5;28;01mif\u001b[39;00m \u001b[38;5;28mself\u001b[39m\u001b[38;5;241m.\u001b[39mget_dp_result() \u001b[38;5;129;01mis\u001b[39;00m \u001b[38;5;129;01mnot\u001b[39;00m \u001b[38;5;28;01mNone\u001b[39;00m:\n\u001b[0;32m---> 94\u001b[0m         x \u001b[38;5;241m=\u001b[39m \u001b[38;5;28;43mself\u001b[39;49m\u001b[38;5;241;43m.\u001b[39;49m\u001b[43mget_dp_result\u001b[49m\u001b[43m(\u001b[49m\u001b[43m)\u001b[49m\n\u001b[1;32m     95\u001b[0m         \u001b[38;5;66;03m#print(x)\u001b[39;00m\n\u001b[1;32m     96\u001b[0m         z \u001b[38;5;241m=\u001b[39m x \u001b[38;5;241m-\u001b[39m \u001b[38;5;28mmax\u001b[39m(x)\n",
      "Input \u001b[0;32mIn [3]\u001b[0m, in \u001b[0;36mRankQuery.get_dp_result\u001b[0;34m(self)\u001b[0m\n\u001b[1;32m     83\u001b[0m \u001b[38;5;28;01mtry\u001b[39;00m:\n\u001b[1;32m     84\u001b[0m     \u001b[38;5;28mself\u001b[39m\u001b[38;5;241m.\u001b[39mindex \u001b[38;5;241m=\u001b[39m \u001b[38;5;28mself\u001b[39m\u001b[38;5;241m.\u001b[39mdf1\u001b[38;5;241m.\u001b[39mindex[\u001b[38;5;28mself\u001b[39m\u001b[38;5;241m.\u001b[39mdf1[\u001b[38;5;124m'\u001b[39m\u001b[38;5;124mid\u001b[39m\u001b[38;5;124m'\u001b[39m] \u001b[38;5;241m==\u001b[39m \u001b[38;5;28mself\u001b[39m\u001b[38;5;241m.\u001b[39mquery]\n\u001b[0;32m---> 85\u001b[0m     get_row_dp \u001b[38;5;241m=\u001b[39m \u001b[38;5;28;43mself\u001b[39;49m\u001b[38;5;241;43m.\u001b[39;49m\u001b[43mdot_product\u001b[49m\u001b[43m(\u001b[49m\u001b[43m)\u001b[49m[\u001b[38;5;28mself\u001b[39m\u001b[38;5;241m.\u001b[39mindex,:]\n\u001b[1;32m     86\u001b[0m \u001b[38;5;66;03m#get_row_cs = self.dot_product()[self.index,:]\u001b[39;00m\n\u001b[1;32m     87\u001b[0m     \u001b[38;5;28;01mreturn\u001b[39;00m get_row_dp[\u001b[38;5;241m0\u001b[39m]\u001b[38;5;66;03m#,get_row_cs[0]\u001b[39;00m\n",
      "Input \u001b[0;32mIn [3]\u001b[0m, in \u001b[0;36mRankQuery.dot_product\u001b[0;34m(self)\u001b[0m\n\u001b[1;32m     19\u001b[0m df1_embedding \u001b[38;5;241m=\u001b[39m \u001b[38;5;28mself\u001b[39m\u001b[38;5;241m.\u001b[39membeddings1()\n\u001b[1;32m     20\u001b[0m df2_embedding \u001b[38;5;241m=\u001b[39m \u001b[38;5;28mself\u001b[39m\u001b[38;5;241m.\u001b[39membeddings2()\n\u001b[0;32m---> 21\u001b[0m x \u001b[38;5;241m=\u001b[39m \u001b[43mnp\u001b[49m\u001b[38;5;241;43m.\u001b[39;49m\u001b[43mmatmul\u001b[49m\u001b[43m(\u001b[49m\u001b[43mdf1_embedding\u001b[49m\u001b[38;5;241;43m.\u001b[39;49m\u001b[43mtolist\u001b[49m\u001b[43m(\u001b[49m\u001b[43m)\u001b[49m\u001b[43m,\u001b[49m\u001b[43m \u001b[49m\n\u001b[1;32m     22\u001b[0m \u001b[43m                 \u001b[49m\u001b[43mnp\u001b[49m\u001b[38;5;241;43m.\u001b[39;49m\u001b[43mtranspose\u001b[49m\u001b[43m(\u001b[49m\u001b[43mdf2_embedding\u001b[49m\u001b[38;5;241;43m.\u001b[39;49m\u001b[43mtolist\u001b[49m\u001b[43m(\u001b[49m\u001b[43m)\u001b[49m\u001b[43m)\u001b[49m\u001b[43m)\u001b[49m \u001b[38;5;66;03m#shape(15872, 3564)\u001b[39;00m\n\u001b[1;32m     23\u001b[0m \u001b[38;5;66;03m#x = preprocessing.normalize(x, norm='l2',axis=0)\u001b[39;00m\n\u001b[1;32m     24\u001b[0m \u001b[38;5;66;03m#Data_normalized = Data_normalizer.transform(x)\u001b[39;00m\n\u001b[1;32m     25\u001b[0m \u001b[38;5;28;01mreturn\u001b[39;00m x\n",
      "\u001b[0;31mKeyboardInterrupt\u001b[0m: "
     ]
    }
   ],
   "source": [
    "# Results with CKG IC\n",
    "\n",
    "bayes_model = BayesRank(phenotype_new_df, gene_new_clinvar_df, probability_ckg_df)\n",
    "dp_cosine_model = RankQuery(phenotype_new_df, gene_new_clinvar_df, probability_ckg_df, filter_gene_list)\n",
    "bayes_clinvar_df = bayes_model.create_dataframe()\n",
    "clinvar_test_1_50_df = run_methods(test_method_1_50_df, bayes_clinvar_df, dp_cosine_model, probability_ckg_df)\n",
    "clinvar_test_50_100_df = run_methods(test_solved_50_100_df, bayes_clinvar_df, dp_cosine_model, probability_ckg_df)\n",
    "clinvar_test_100_150_df = run_methods(test_solved_100_150_df, bayes_clinvar_df, dp_cosine_model, probability_ckg_df)\n",
    "clinvar_test_150_200_df = run_methods(test_solved_150_200_df, bayes_clinvar_df, dp_cosine_model, probability_ckg_df)\n",
    "clinvar_test_200_250_df = run_methods(test_solved_200_250_df, bayes_clinvar_df, dp_cosine_model, probability_ckg_df)\n",
    "clinvar_test_250_267_df = run_methods(test_solved_250_267_df, bayes_clinvar_df, dp_cosine_model, probability_ckg_df)\n",
    "df_clinvar_row_merged = pd.concat([clinvar_test_1_50_df, clinvar_test_50_100_df, \n",
    "                                   clinvar_test_100_150_df, clinvar_test_150_200_df,\n",
    "                                   clinvar_test_200_250_df, clinvar_test_250_267_df], ignore_index=True)\n",
    "\n",
    "df_clinvar_row_merged.to_csv(\"solved_cases_ranking.withCKGIC.clinvargenes.final.csv\", index=False)"
   ]
  },
  {
   "cell_type": "code",
   "execution_count": null,
   "metadata": {},
   "outputs": [],
   "source": []
  },
  {
   "cell_type": "markdown",
   "metadata": {},
   "source": [
    "# Results with only Clinvar genes and PCAN probabilities"
   ]
  },
  {
   "cell_type": "code",
   "execution_count": null,
   "metadata": {
    "execution": {
     "iopub.execute_input": "2022-09-21T20:41:27.024407Z",
     "iopub.status.busy": "2022-09-21T20:41:27.024240Z",
     "iopub.status.idle": "2022-09-21T22:10:22.749999Z",
     "shell.execute_reply": "2022-09-21T22:10:22.748752Z"
    },
    "scrolled": false
   },
   "outputs": [],
   "source": [
    "bayes_model = BayesRank(phenotype_new_df, gene_new_clinvar_df, probability_table_PCAN_df)\n",
    "dp_cosine_model = RankQuery(phenotype_new_df, gene_new_clinvar_df, probability_table_PCAN_df, filter_gene_list)\n",
    "bayes_clinvar_df = bayes_model.create_dataframe()\n",
    "clinvar_test_1_50_df = run_methods(test_method_1_50_df, bayes_clinvar_df, dp_cosine_model, probability_table_PCAN_df)\n",
    "clinvar_test_50_100_df = run_methods(test_solved_50_100_df, bayes_clinvar_df, dp_cosine_model, probability_table_PCAN_df)\n",
    "clinvar_test_100_150_df = run_methods(test_solved_100_150_df, bayes_clinvar_df, dp_cosine_model, probability_table_PCAN_df)\n",
    "clinvar_test_150_200_df = run_methods(test_solved_150_200_df, bayes_clinvar_df, dp_cosine_model, probability_table_PCAN_df)\n",
    "clinvar_test_200_250_df = run_methods(test_solved_200_250_df, bayes_clinvar_df, dp_cosine_model, probability_table_PCAN_df)\n",
    "clinvar_test_250_267_df = run_methods(test_solved_250_267_df, bayes_clinvar_df, dp_cosine_model, probability_table_PCAN_df)\n",
    "df_clinvar_row_merged = pd.concat([clinvar_test_1_50_df, clinvar_test_50_100_df, \n",
    "                                   clinvar_test_100_150_df, clinvar_test_150_200_df,\n",
    "                                   clinvar_test_200_250_df,clinvar_test_250_267_df], ignore_index=True)\n",
    "df_clinvar_row_merged.to_csv(\"solved_cases_ranking.withPCANIC.clinvargenes.final.csv\", index=False)\n",
    "#clinvar_test_1_50_df\n"
   ]
  },
  {
   "cell_type": "code",
   "execution_count": 89,
   "metadata": {},
   "outputs": [],
   "source": [
    "from sklearn.metrics import precision_recall_curve\n",
    "from sklearn.metrics import plot_precision_recall_curve\n",
    "from sklearn.metrics import precision_score\n",
    "from sklearn.metrics import recall_score\n",
    "rank_threshold = [2,3,5,10,15,20,30,40,50,60,70,80,90,100,150,200,250,500,1000,2000,3000]\n",
    "df_clinvar_PCAN_row_merged = pd.read_csv('solved_cases_ranking.withPCANIC.clinvargenes.final.csv')\n",
    "df_clinvar_CKG_row_merged = pd.read_csv(\"solved_cases_ranking.withCKGIC.clinvargenes.final.csv\")\n",
    "Rank_HPO_CKG_CKG_df = compute_deltas(df_clinvar_CKG_row_merged, PCAN_df, \"solved_cases_ranking.withCKGIC.clinvargenes.final.deltas.csv\")\n",
    "Rank_HPO_CKG_PCAN_df = compute_deltas(df_clinvar_PCAN_row_merged, PCAN_df, \"solved_cases_ranking.withCKGIC.clinvargenes.final.deltas.csv\")\n",
    "\n",
    "change_names = {'Rank_dp': \"DOT_PRODUCT\", \"Rank_cd\": \"COSINE\", 'Rank_bayes_mean': \"BAYES\"}\n",
    "Rank_HPO_CKG_CKG_df = Rank_HPO_CKG_CKG_df.rename(columns=change_names)\n",
    "Rank_HPO_CKG_PCAN_df = Rank_HPO_CKG_PCAN_df.rename(columns=change_names)"
   ]
  },
  {
   "cell_type": "code",
   "execution_count": 93,
   "metadata": {},
   "outputs": [
    {
     "data": {
      "text/plain": [
       "<AxesSubplot:xlabel='Rank_Threshold', ylabel='Cummulation Distribution Function'>"
      ]
     },
     "execution_count": 93,
     "metadata": {},
     "output_type": "execute_result"
    },
    {
     "data": {
      "image/png": "[encoded data removed]",
      "text/plain": [
       "<Figure size 432x288 with 1 Axes>"
      ]
     },
     "metadata": {},
     "output_type": "display_data"
    }
   ],
   "source": [
    "Rank_HPO_CKG_result_df = Rank_HPO_CKG_CKG_df[['Original ID', 'DOT_PRODUCT', 'COSINE', 'BAYES', 'Rank_PCAN' ]]\n",
    "Rank_HPO_CKG_result_melt_df = Rank_HPO_CKG_result_df.melt(id_vars=['Original ID'])\n",
    "Rank_HPO_CKG_result_melt_df.columns = ['Original_ID', 'method', 'Rank']\n",
    "#test_rank =10\n",
    "methods_list = ['DOT_PRODUCT', 'COSINE','BAYES', 'Rank_PCAN']\n",
    "result_list = []\n",
    "for j in rank_threshold:\n",
    "    for i in methods_list:\n",
    "        med_df = Rank_HPO_CKG_result_melt_df[Rank_HPO_CKG_result_melt_df['method'] == i]\n",
    "        med_df['results'] = np.where(med_df.Rank < j, 1, 0)\n",
    "        med_df['yact'] = 1\n",
    "        recall = recall_score(med_df.yact.values, med_df.results.values)\n",
    "        precision = precision_score(med_df.yact.values, med_df.results.values)\n",
    "        out = [i, j, precision, recall]\n",
    "        result_list.append(out)\n",
    "\n",
    "sens_result_df = pd.DataFrame(result_list)\n",
    "sens_result_df.columns = ['Method', 'Rank_Threshold', \"Precision\", \"Cummulation Distribution Function\"]\n",
    "sns.lineplot(x = \"Rank_Threshold\", y = \"Cummulation Distribution Function\", data=sens_result_df, hue=\"Method\")\n"
   ]
  },
  {
   "cell_type": "code",
   "execution_count": 43,
   "metadata": {},
   "outputs": [
    {
     "data": {
      "image/png": "[encoded data removed]",
      "text/plain": [
       "<Figure size 432x288 with 1 Axes>"
      ]
     },
     "metadata": {},
     "output_type": "display_data"
    }
   ],
   "source": [
    "#plot_top\n",
    "plot_bayes, bayes_counts = plot_top(Rank_HPO_CKG_result_df.Rank_bayes.values, \"BAYES\")\n",
    "plot_dots, dots_counts = plot_top(Rank_HPO_CKG_result_df.Rank_dp.values, \"DOT_PRODUCT\")\n",
    "plot_cosine, cosine_counts = plot_top(Rank_HPO_CKG_result_df.Rank_cd.values, \"COSINE\")\n",
    "plot_bayes_mean, bayes_mean_counts = plot_top(Rank_HPO_CKG_result_df.Rank_bayes_mean.values, \"BAYES MEAN\")"
   ]
  },
  {
   "cell_type": "code",
   "execution_count": 61,
   "metadata": {},
   "outputs": [
    {
     "data": {
      "text/html": [
       "<div>\n",
       "<style scoped>\n",
       "    .dataframe tbody tr th:only-of-type {\n",
       "        vertical-align: middle;\n",
       "    }\n",
       "\n",
       "    .dataframe tbody tr th {\n",
       "        vertical-align: top;\n",
       "    }\n",
       "\n",
       "    .dataframe thead th {\n",
       "        text-align: right;\n",
       "    }\n",
       "</style>\n",
       "<table border=\"1\" class=\"dataframe\">\n",
       "  <thead>\n",
       "    <tr style=\"text-align: right;\">\n",
       "      <th>bins</th>\n",
       "      <th>1</th>\n",
       "      <th>2-5</th>\n",
       "      <th>6-10</th>\n",
       "      <th>11-20</th>\n",
       "      <th>21-30</th>\n",
       "      <th>31-50</th>\n",
       "      <th>51-100</th>\n",
       "      <th>101-200</th>\n",
       "      <th>201-500</th>\n",
       "      <th>&gt;500</th>\n",
       "      <th>NA</th>\n",
       "    </tr>\n",
       "    <tr>\n",
       "      <th>Algorithm</th>\n",
       "      <th></th>\n",
       "      <th></th>\n",
       "      <th></th>\n",
       "      <th></th>\n",
       "      <th></th>\n",
       "      <th></th>\n",
       "      <th></th>\n",
       "      <th></th>\n",
       "      <th></th>\n",
       "      <th></th>\n",
       "      <th></th>\n",
       "    </tr>\n",
       "  </thead>\n",
       "  <tbody>\n",
       "    <tr>\n",
       "      <th>DOT_PRODUCT</th>\n",
       "      <td>0.01</td>\n",
       "      <td>1.01</td>\n",
       "      <td>1.01</td>\n",
       "      <td>1.01</td>\n",
       "      <td>1.01</td>\n",
       "      <td>1.01</td>\n",
       "      <td>6.01</td>\n",
       "      <td>5.01</td>\n",
       "      <td>16.01</td>\n",
       "      <td>68.01</td>\n",
       "      <td>NaN</td>\n",
       "    </tr>\n",
       "    <tr>\n",
       "      <th>COSINE</th>\n",
       "      <td>0.01</td>\n",
       "      <td>1.01</td>\n",
       "      <td>0.01</td>\n",
       "      <td>1.01</td>\n",
       "      <td>1.01</td>\n",
       "      <td>1.01</td>\n",
       "      <td>4.01</td>\n",
       "      <td>7.01</td>\n",
       "      <td>16.01</td>\n",
       "      <td>69.01</td>\n",
       "      <td>NaN</td>\n",
       "    </tr>\n",
       "    <tr>\n",
       "      <th>BAYES MEAN</th>\n",
       "      <td>0.01</td>\n",
       "      <td>1.01</td>\n",
       "      <td>1.01</td>\n",
       "      <td>1.01</td>\n",
       "      <td>1.01</td>\n",
       "      <td>3.01</td>\n",
       "      <td>3.01</td>\n",
       "      <td>6.01</td>\n",
       "      <td>17.01</td>\n",
       "      <td>67.01</td>\n",
       "      <td>NaN</td>\n",
       "    </tr>\n",
       "    <tr>\n",
       "      <th>PCAN</th>\n",
       "      <td>2.01</td>\n",
       "      <td>5.01</td>\n",
       "      <td>4.01</td>\n",
       "      <td>7.01</td>\n",
       "      <td>3.01</td>\n",
       "      <td>8.01</td>\n",
       "      <td>6.01</td>\n",
       "      <td>11.01</td>\n",
       "      <td>19.01</td>\n",
       "      <td>28.01</td>\n",
       "      <td>7.01</td>\n",
       "    </tr>\n",
       "  </tbody>\n",
       "</table>\n",
       "</div>"
      ],
      "text/plain": [
       "bins            1   2-5  6-10  11-20  21-30  31-50  51-100  101-200  201-500  \\\n",
       "Algorithm                                                                      \n",
       "DOT_PRODUCT  0.01  1.01  1.01   1.01   1.01   1.01    6.01     5.01    16.01   \n",
       "COSINE       0.01  1.01  0.01   1.01   1.01   1.01    4.01     7.01    16.01   \n",
       "BAYES MEAN   0.01  1.01  1.01   1.01   1.01   3.01    3.01     6.01    17.01   \n",
       "PCAN         2.01  5.01  4.01   7.01   3.01   8.01    6.01    11.01    19.01   \n",
       "\n",
       "bins          >500    NA  \n",
       "Algorithm                 \n",
       "DOT_PRODUCT  68.01   NaN  \n",
       "COSINE       69.01   NaN  \n",
       "BAYES MEAN   67.01   NaN  \n",
       "PCAN         28.01  7.01  "
      ]
     },
     "execution_count": 61,
     "metadata": {},
     "output_type": "execute_result"
    },
    {
     "data": {
      "image/png": "[encoded data removed]",
      "text/plain": [
       "<Figure size 720x432 with 1 Axes>"
      ]
     },
     "metadata": {},
     "output_type": "display_data"
    }
   ],
   "source": [
    "cosine_counts\n",
    "bayes_counts_df = bayes_counts[['bins', 'Percentage', 'Algorithm']]\n",
    "dp_counts_df = dots_counts[['bins', 'Percentage', 'Algorithm']] \n",
    "cosine_counts_df = cosine_counts[['bins', 'Percentage', 'Algorithm']] \n",
    "PCAN_count_df = PCAN_count[['bins', 'Percentage', 'Algorithm']] \n",
    "bayes_mean_counts_df = bayes_mean_counts[['bins', 'Percentage', 'Algorithm']] \n",
    "\n",
    "bayes_counts_df = bayes_counts_df.pivot(index=\"Algorithm\", columns=\"bins\", values=\"Percentage\")\n",
    "dp_counts_df = dp_counts_df.pivot(index=\"Algorithm\", columns=\"bins\", values=\"Percentage\")\n",
    "cosine_counts_df = cosine_counts_df.pivot(index=\"Algorithm\", columns=\"bins\", values=\"Percentage\")\n",
    "bayes_mean_count_df = bayes_mean_counts_df.pivot(index=\"Algorithm\", columns=\"bins\", values=\"Percentage\")\n",
    "PCAN_count_df = PCAN_count_df.pivot(index=\"Algorithm\", columns=\"bins\", values=\"Percentage\")\n",
    "\n",
    "stacked_df = pd.concat([bayes_counts_df, dp_counts_df, cosine_counts_df,bayes_mean_count_df, PCAN_count_df], axis=0)\n",
    "stacked_df = stacked_df.reset_index()\n",
    "order = ['Algorithm', 1, '2-5', '6-10','11-20', '21-30', '31-50', '51-100', '101-200','201-500', '>500', 'NA']\n",
    "stacked_df = stacked_df.loc[:,order]\n",
    "\n",
    "stacked_df = stacked_df[stacked_df['Algorithm'] != \"BAYES\"]\n",
    "stacked_df = stacked_df.set_index('Algorithm')\n",
    "ax = stacked_df.plot(kind='bar', \n",
    "                    stacked=True, \n",
    "                    colormap='inferno', \n",
    "                    figsize=(10, 6))\n",
    "for p in ax.patches:\n",
    "    width, height = p.get_width(), p.get_height()\n",
    "    x, y = p.get_xy() \n",
    "    ax.text(x+width/2, \n",
    "            y+height/2, \n",
    "            '{:.0f} %'.format(height), \n",
    "            horizontalalignment='center',\n",
    "            verticalalignment='center')\n",
    "    \n",
    "ax.legend(loc='upper center', bbox_to_anchor=(0.5, 1.05),\n",
    "          ncol=3, fancybox=True, shadow=True)\n",
    "stacked_df"
   ]
  },
  {
   "cell_type": "code",
   "execution_count": null,
   "metadata": {},
   "outputs": [],
   "source": [
    "\n"
   ]
  },
  {
   "cell_type": "code",
   "execution_count": 98,
   "metadata": {},
   "outputs": [
    {
     "data": {
      "text/html": [
       "<div>\n",
       "<style scoped>\n",
       "    .dataframe tbody tr th:only-of-type {\n",
       "        vertical-align: middle;\n",
       "    }\n",
       "\n",
       "    .dataframe tbody tr th {\n",
       "        vertical-align: top;\n",
       "    }\n",
       "\n",
       "    .dataframe thead th {\n",
       "        text-align: right;\n",
       "    }\n",
       "</style>\n",
       "<table border=\"1\" class=\"dataframe\">\n",
       "  <thead>\n",
       "    <tr style=\"text-align: right;\">\n",
       "      <th></th>\n",
       "      <th>Method</th>\n",
       "      <th>Rank_Threshold</th>\n",
       "      <th>Precision</th>\n",
       "      <th>Cummulative Distribution Function</th>\n",
       "    </tr>\n",
       "  </thead>\n",
       "  <tbody>\n",
       "    <tr>\n",
       "      <th>0</th>\n",
       "      <td>DOT_PRODUCT</td>\n",
       "      <td>2</td>\n",
       "      <td>1.0</td>\n",
       "      <td>0.003690</td>\n",
       "    </tr>\n",
       "    <tr>\n",
       "      <th>1</th>\n",
       "      <td>COSINE</td>\n",
       "      <td>2</td>\n",
       "      <td>1.0</td>\n",
       "      <td>0.003690</td>\n",
       "    </tr>\n",
       "    <tr>\n",
       "      <th>2</th>\n",
       "      <td>BAYES</td>\n",
       "      <td>2</td>\n",
       "      <td>0.0</td>\n",
       "      <td>0.000000</td>\n",
       "    </tr>\n",
       "    <tr>\n",
       "      <th>3</th>\n",
       "      <td>Rank_PCAN</td>\n",
       "      <td>2</td>\n",
       "      <td>1.0</td>\n",
       "      <td>0.014760</td>\n",
       "    </tr>\n",
       "    <tr>\n",
       "      <th>4</th>\n",
       "      <td>DOT_PRODUCT</td>\n",
       "      <td>3</td>\n",
       "      <td>1.0</td>\n",
       "      <td>0.003690</td>\n",
       "    </tr>\n",
       "    <tr>\n",
       "      <th>...</th>\n",
       "      <td>...</td>\n",
       "      <td>...</td>\n",
       "      <td>...</td>\n",
       "      <td>...</td>\n",
       "    </tr>\n",
       "    <tr>\n",
       "      <th>79</th>\n",
       "      <td>Rank_PCAN</td>\n",
       "      <td>2000</td>\n",
       "      <td>1.0</td>\n",
       "      <td>0.926199</td>\n",
       "    </tr>\n",
       "    <tr>\n",
       "      <th>80</th>\n",
       "      <td>DOT_PRODUCT</td>\n",
       "      <td>3000</td>\n",
       "      <td>1.0</td>\n",
       "      <td>0.878229</td>\n",
       "    </tr>\n",
       "    <tr>\n",
       "      <th>81</th>\n",
       "      <td>COSINE</td>\n",
       "      <td>3000</td>\n",
       "      <td>1.0</td>\n",
       "      <td>0.874539</td>\n",
       "    </tr>\n",
       "    <tr>\n",
       "      <th>82</th>\n",
       "      <td>BAYES</td>\n",
       "      <td>3000</td>\n",
       "      <td>1.0</td>\n",
       "      <td>0.907749</td>\n",
       "    </tr>\n",
       "    <tr>\n",
       "      <th>83</th>\n",
       "      <td>Rank_PCAN</td>\n",
       "      <td>3000</td>\n",
       "      <td>1.0</td>\n",
       "      <td>0.985240</td>\n",
       "    </tr>\n",
       "  </tbody>\n",
       "</table>\n",
       "<p>84 rows × 4 columns</p>\n",
       "</div>"
      ],
      "text/plain": [
       "         Method  Rank_Threshold  Precision  Cummulative Distribution Function\n",
       "0   DOT_PRODUCT               2        1.0                           0.003690\n",
       "1        COSINE               2        1.0                           0.003690\n",
       "2         BAYES               2        0.0                           0.000000\n",
       "3     Rank_PCAN               2        1.0                           0.014760\n",
       "4   DOT_PRODUCT               3        1.0                           0.003690\n",
       "..          ...             ...        ...                                ...\n",
       "79    Rank_PCAN            2000        1.0                           0.926199\n",
       "80  DOT_PRODUCT            3000        1.0                           0.878229\n",
       "81       COSINE            3000        1.0                           0.874539\n",
       "82        BAYES            3000        1.0                           0.907749\n",
       "83    Rank_PCAN            3000        1.0                           0.985240\n",
       "\n",
       "[84 rows x 4 columns]"
      ]
     },
     "execution_count": 98,
     "metadata": {},
     "output_type": "execute_result"
    },
    {
     "data": {
      "image/png": "[encoded data removed]",
      "text/plain": [
       "<Figure size 432x288 with 1 Axes>"
      ]
     },
     "metadata": {},
     "output_type": "display_data"
    }
   ],
   "source": [
    "Rank_HPO_CKG_PCAN_result_df = Rank_HPO_CKG_PCAN_df[['Original ID', 'DOT_PRODUCT', 'COSINE', 'BAYES', 'Rank_PCAN' ]]\n",
    "Rank_HPO_CKG_PCAN_result_melt_df = Rank_HPO_CKG_PCAN_result_df.melt(id_vars=['Original ID'])\n",
    "Rank_HPO_CKG_PCAN_result_melt_df.columns = ['Original_ID', 'method', 'Rank']\n",
    "#test_rank =10\n",
    "methods_list = ['DOT_PRODUCT', 'COSINE', 'BAYES', 'Rank_PCAN']\n",
    "result_list = []\n",
    "for j in rank_threshold:\n",
    "    for i in methods_list:\n",
    "        med_df = Rank_HPO_CKG_PCAN_result_melt_df[Rank_HPO_CKG_PCAN_result_melt_df['method'] == i]\n",
    "        med_df['results'] = np.where(med_df.Rank < j, 1, 0)\n",
    "        med_df['yact'] = 1\n",
    "        recall = recall_score(med_df.yact.values, med_df.results.values)\n",
    "        precision = precision_score(med_df.yact.values, med_df.results.values)\n",
    "        out = [i, j, precision, recall]\n",
    "        result_list.append(out)\n",
    "\n",
    "sens_result_df = pd.DataFrame(result_list)\n",
    "sens_result_df.columns = ['Method', 'Rank_Threshold', \"Precision\", \"Cummulative Distribution Function\"]\n",
    "sns.lineplot(x = \"Rank_Threshold\", y = \"Cummulative Distribution Function\", data=sens_result_df, hue=\"Method\")\n",
    "sens_result_df"
   ]
  },
  {
   "cell_type": "code",
   "execution_count": 62,
   "metadata": {},
   "outputs": [
    {
     "data": {
      "image/png": "[encoded data removed]",
      "text/plain": [
       "<Figure size 432x288 with 1 Axes>"
      ]
     },
     "metadata": {},
     "output_type": "display_data"
    }
   ],
   "source": [
    "#plot_top\n",
    "plot_dots_PCAN, dots_counts_PCAN = plot_top(Rank_HPO_CKG_PCAN_df.Rank_dp.values, \"DOT_PRODUCT\")\n",
    "plot_cosine_PCAN, cosine_counts_PCAN = plot_top(Rank_HPO_CKG_PCAN_df.Rank_cd.values, \"COSINE\")\n",
    "plot_bayes_mean_PCAN, bayes_mean_counts_PCAN = plot_top(Rank_HPO_CKG_PCAN_df.Rank_bayes_mean.values, \"BAYES MEAN\")"
   ]
  },
  {
   "cell_type": "code",
   "execution_count": 64,
   "metadata": {},
   "outputs": [
    {
     "data": {
      "text/html": [
       "<div>\n",
       "<style scoped>\n",
       "    .dataframe tbody tr th:only-of-type {\n",
       "        vertical-align: middle;\n",
       "    }\n",
       "\n",
       "    .dataframe tbody tr th {\n",
       "        vertical-align: top;\n",
       "    }\n",
       "\n",
       "    .dataframe thead th {\n",
       "        text-align: right;\n",
       "    }\n",
       "</style>\n",
       "<table border=\"1\" class=\"dataframe\">\n",
       "  <thead>\n",
       "    <tr style=\"text-align: right;\">\n",
       "      <th>bins</th>\n",
       "      <th>1</th>\n",
       "      <th>2-5</th>\n",
       "      <th>6-10</th>\n",
       "      <th>11-20</th>\n",
       "      <th>21-30</th>\n",
       "      <th>31-50</th>\n",
       "      <th>51-100</th>\n",
       "      <th>101-200</th>\n",
       "      <th>201-500</th>\n",
       "      <th>&gt;500</th>\n",
       "      <th>NA</th>\n",
       "    </tr>\n",
       "    <tr>\n",
       "      <th>Algorithm</th>\n",
       "      <th></th>\n",
       "      <th></th>\n",
       "      <th></th>\n",
       "      <th></th>\n",
       "      <th></th>\n",
       "      <th></th>\n",
       "      <th></th>\n",
       "      <th></th>\n",
       "      <th></th>\n",
       "      <th></th>\n",
       "      <th></th>\n",
       "    </tr>\n",
       "  </thead>\n",
       "  <tbody>\n",
       "    <tr>\n",
       "      <th>DOT_PRODUCT</th>\n",
       "      <td>1.01</td>\n",
       "      <td>0.01</td>\n",
       "      <td>0.01</td>\n",
       "      <td>1.01</td>\n",
       "      <td>1.01</td>\n",
       "      <td>1.01</td>\n",
       "      <td>5.01</td>\n",
       "      <td>4.01</td>\n",
       "      <td>16.01</td>\n",
       "      <td>70.01</td>\n",
       "      <td>NaN</td>\n",
       "    </tr>\n",
       "    <tr>\n",
       "      <th>COSINE</th>\n",
       "      <td>1.01</td>\n",
       "      <td>0.01</td>\n",
       "      <td>0.01</td>\n",
       "      <td>0.01</td>\n",
       "      <td>1.01</td>\n",
       "      <td>1.01</td>\n",
       "      <td>4.01</td>\n",
       "      <td>5.01</td>\n",
       "      <td>15.01</td>\n",
       "      <td>72.01</td>\n",
       "      <td>NaN</td>\n",
       "    </tr>\n",
       "    <tr>\n",
       "      <th>BAYES MEAN</th>\n",
       "      <td>0.01</td>\n",
       "      <td>1.01</td>\n",
       "      <td>1.01</td>\n",
       "      <td>1.01</td>\n",
       "      <td>1.01</td>\n",
       "      <td>3.01</td>\n",
       "      <td>3.01</td>\n",
       "      <td>6.01</td>\n",
       "      <td>17.01</td>\n",
       "      <td>67.01</td>\n",
       "      <td>NaN</td>\n",
       "    </tr>\n",
       "    <tr>\n",
       "      <th>PCAN</th>\n",
       "      <td>2.01</td>\n",
       "      <td>5.01</td>\n",
       "      <td>4.01</td>\n",
       "      <td>7.01</td>\n",
       "      <td>3.01</td>\n",
       "      <td>8.01</td>\n",
       "      <td>6.01</td>\n",
       "      <td>11.01</td>\n",
       "      <td>19.01</td>\n",
       "      <td>28.01</td>\n",
       "      <td>7.01</td>\n",
       "    </tr>\n",
       "  </tbody>\n",
       "</table>\n",
       "</div>"
      ],
      "text/plain": [
       "bins            1   2-5  6-10  11-20  21-30  31-50  51-100  101-200  201-500  \\\n",
       "Algorithm                                                                      \n",
       "DOT_PRODUCT  1.01  0.01  0.01   1.01   1.01   1.01    5.01     4.01    16.01   \n",
       "COSINE       1.01  0.01  0.01   0.01   1.01   1.01    4.01     5.01    15.01   \n",
       "BAYES MEAN   0.01  1.01  1.01   1.01   1.01   3.01    3.01     6.01    17.01   \n",
       "PCAN         2.01  5.01  4.01   7.01   3.01   8.01    6.01    11.01    19.01   \n",
       "\n",
       "bins          >500    NA  \n",
       "Algorithm                 \n",
       "DOT_PRODUCT  70.01   NaN  \n",
       "COSINE       72.01   NaN  \n",
       "BAYES MEAN   67.01   NaN  \n",
       "PCAN         28.01  7.01  "
      ]
     },
     "execution_count": 64,
     "metadata": {},
     "output_type": "execute_result"
    },
    {
     "data": {
      "image/png": "[encoded data removed]",
      "text/plain": [
       "<Figure size 720x432 with 1 Axes>"
      ]
     },
     "metadata": {},
     "output_type": "display_data"
    }
   ],
   "source": [
    "bayes_counts_PCAN_df = bayes_mean_counts_PCAN[['bins', 'Percentage', 'Algorithm']]\n",
    "dp_counts_PCAN_df = dots_counts_PCAN[['bins', 'Percentage', 'Algorithm']] \n",
    "cosine_counts_PCAN_df = cosine_counts_PCAN[['bins', 'Percentage', 'Algorithm']] \n",
    "PCAN_count_df = PCAN_count[['bins', 'Percentage', 'Algorithm']] \n",
    "\n",
    "\n",
    "bayes_counts_PCAN_df = bayes_counts_PCAN_df.pivot(index=\"Algorithm\", columns=\"bins\", values=\"Percentage\")\n",
    "dp_counts_PCAN_df = dp_counts_PCAN_df.pivot(index=\"Algorithm\", columns=\"bins\", values=\"Percentage\")\n",
    "cosine_counts_PCAN_df = cosine_counts_PCAN_df.pivot(index=\"Algorithm\", columns=\"bins\", values=\"Percentage\")\n",
    "PCAN_count_df = PCAN_count_df.pivot(index=\"Algorithm\", columns=\"bins\", values=\"Percentage\")\n",
    "\n",
    "stacked_df = pd.concat([dp_counts_PCAN_df, cosine_counts_PCAN_df,bayes_counts_PCAN_df, PCAN_count_df], axis=0)\n",
    "stacked_df = stacked_df.reset_index()\n",
    "order = ['Algorithm', 1, '2-5', '6-10','11-20', '21-30', '31-50', '51-100', '101-200','201-500', '>500', 'NA']\n",
    "stacked_df = stacked_df.loc[:,order]\n",
    "\n",
    "stacked_df = stacked_df[stacked_df['Algorithm'] != \"BAYES\"]\n",
    "stacked_df = stacked_df.set_index('Algorithm')\n",
    "ax = stacked_df.plot(kind='bar', \n",
    "                    stacked=True, \n",
    "                    colormap='inferno', \n",
    "                    figsize=(10, 6))\n",
    "for p in ax.patches:\n",
    "    width, height = p.get_width(), p.get_height()\n",
    "    x, y = p.get_xy() \n",
    "    ax.text(x+width/2, \n",
    "            y+height/2, \n",
    "            '{:.0f} %'.format(height), \n",
    "            horizontalalignment='center',\n",
    "            verticalalignment='center')\n",
    "    \n",
    "ax.legend(loc='upper center', bbox_to_anchor=(0.5, 1.05),\n",
    "          ncol=3, fancybox=True, shadow=True)\n",
    "stacked_df"
   ]
  },
  {
   "cell_type": "markdown",
   "metadata": {},
   "source": [
    "## Results with only Clinvar genes and Mayo probabilities"
   ]
  },
  {
   "cell_type": "code",
   "execution_count": 40,
   "metadata": {
    "execution": {
     "iopub.execute_input": "2022-09-21T22:10:22.758352Z",
     "iopub.status.busy": "2022-09-21T22:10:22.758119Z",
     "iopub.status.idle": "2022-09-21T23:40:21.844146Z",
     "shell.execute_reply": "2022-09-21T23:40:21.843193Z"
    }
   },
   "outputs": [],
   "source": [
    "#bayes_model = BayesRank(phenotype_new_df, gene_new_clinvar_df, probability_table_mayo_df)\n",
    "#dp_cosine_model = RankQuery(phenotype_new_df, gene_new_clinvar_df, probability_table_mayo_df, filter_gene_list)\n",
    "#bayes_clinvar_mayo_df = bayes_model.create_dataframe()\n",
    "#clinvar_mayo_1_50_df = run_methods(test_method_1_50_df, bayes_clinvar_mayo_df, dp_cosine_model,\n",
    "#                                   probability_table_mayo_df)\n",
    "#clinvar_mayo_50_100_df = run_methods(test_solved_50_100_df, bayes_clinvar_mayo_df, dp_cosine_model,\n",
    "#                                    probability_table_mayo_df)\n",
    "#clinvar_mayo_100_150_df = run_methods(test_solved_100_150_df, bayes_clinvar_mayo_df, dp_cosine_model,\n",
    "#                                     probability_table_mayo_df)\n",
    "#clinvar_mayo_150_200_df = run_methods(test_solved_150_200_df, bayes_clinvar_mayo_df, dp_cosine_model,\n",
    "#                                     probability_table_mayo_df)\n",
    "#clinvar_mayo_200_250_df = run_methods(test_solved_200_250_df, bayes_clinvar_mayo_df, dp_cosine_model,\n",
    "#                                     probability_table_mayo_df)\n",
    "#df_clinvar_mayo_row_merged = pd.concat([clinvar_mayo_1_50_df, clinvar_mayo_50_100_df, \n",
    "#                                   clinvar_mayo_100_150_df, clinvar_mayo_150_200_df,\n",
    "#                                   clinvar_mayo_200_250_df], ignore_index=True)\n",
    "#df_clinvar_mayo_row_merged.to_csv(\"solved_cases_ranking.withMayoIC.clinvargenes.csv\", index=False)"
   ]
  },
  {
   "cell_type": "markdown",
   "metadata": {},
   "source": [
    "### PLOTS with MAYO IC and PCAN IC Subsetted to Clinvar genes"
   ]
  },
  {
   "cell_type": "code",
   "execution_count": 169,
   "metadata": {
    "execution": {
     "iopub.execute_input": "2022-09-21T23:40:21.892122Z",
     "iopub.status.busy": "2022-09-21T23:40:21.891873Z",
     "iopub.status.idle": "2022-09-21T23:40:23.389853Z",
     "shell.execute_reply": "2022-09-21T23:40:23.389257Z"
    }
   },
   "outputs": [
    {
     "data": {
      "application/vnd.plotly.v1+json": {
       "config": {
        "plotlyServerURL": "https://plot.ly"
       },
       "data": [
        {
         "customdata": [
          [
           "SL2-009",
           "CACNA1E"
          ],
          [
           "SL2-016",
           "PACS1"
          ],
          [
           "SL2-021",
           "CACNA1A"
          ],
          [
           "SL2-029",
           "FGFR1"
          ],
          [
           "SL2-033",
           "GABBR2"
          ],
          [
           "SL2-049",
           "AFG3L2"
          ],
          [
           "SL2-105",
           "THOC6"
          ],
          [
           "SL2-127",
           "EHMT1"
          ],
          [
           "SL2-144",
           "C2CD3"
          ],
          [
           "SL2-145",
           "COL2A1"
          ],
          [
           "SL2-147",
           "CACNA1A"
          ],
          [
           "SL2-155",
           "CLN6"
          ],
          [
           "SL2-156",
           "CLN6"
          ],
          [
           "SL2-157",
           "CLN6"
          ],
          [
           "SL2-158",
           "RUNX1"
          ],
          [
           "SL2-164",
           "ATM"
          ],
          [
           "SL2-167",
           "SOX2"
          ],
          [
           "SL2-170",
           "KAT6A"
          ],
          [
           "SL2-173",
           "BMP4"
          ],
          [
           "SL2-1000",
           "PTPN11"
          ],
          [
           "SL2-1006",
           "SCN2A"
          ],
          [
           "SL2-1076",
           "RECQL4"
          ],
          [
           "SL2-1167",
           "HNRNPU"
          ],
          [
           "SL2-1181",
           "ARID1B"
          ],
          [
           "SL2-1187",
           "POMGNT1"
          ],
          [
           "SL2-1205",
           "NR2F1"
          ],
          [
           "SL2-1209",
           "UBE3A"
          ],
          [
           "SL2-1211",
           "SLC6A8"
          ],
          [
           "SL2-1214",
           "CTCF"
          ],
          [
           "SL2-1216",
           "UBA1"
          ],
          [
           "SL2-1222",
           "ALPL"
          ],
          [
           "SL2-1224",
           "ACTG2"
          ],
          [
           "SL2-1253",
           "CHD2"
          ],
          [
           "SL2-1256",
           "COL4A2"
          ],
          [
           "SL2-1256",
           "COL4A2"
          ],
          [
           "SL2-1256",
           "MEFV"
          ],
          [
           "SL2-1256",
           "MEFV"
          ],
          [
           "SL2-1275",
           "DEAF1"
          ],
          [
           "SL2-1280",
           "NSD1"
          ],
          [
           "SL2-1282",
           "MECP2"
          ],
          [
           "SL2-1282",
           "MECP2"
          ],
          [
           "SL2-1282",
           "MLH1"
          ],
          [
           "SL2-1282",
           "MLH1"
          ],
          [
           "SL2-1291",
           "GLMN"
          ],
          [
           "SL2-1312",
           "TSPEAR"
          ],
          [
           "SL2-1315",
           "CACNA1A"
          ],
          [
           "SL2-1316",
           "SLC35C1"
          ],
          [
           "SL2-1340",
           "ATP1A3"
          ],
          [
           "SL2-1343",
           "MYH11"
          ],
          [
           "SL2-1365",
           "ALG12"
          ],
          [
           "SL2-1377",
           "DOCK8"
          ],
          [
           "SL2-1382",
           "CTLA4"
          ],
          [
           "SL2-1382",
           "CTLA4"
          ],
          [
           "SL2-1382",
           "NOD2"
          ],
          [
           "SL2-1382",
           "NOD2"
          ],
          [
           "SL2-1383",
           "CTCF"
          ],
          [
           "SL2-1385",
           "TRPS1"
          ],
          [
           "SL2-1397",
           "ERCC6L2"
          ],
          [
           "SL2-1431",
           "KMT2B"
          ],
          [
           "SL2-1435",
           "SETD5"
          ],
          [
           "SL2-1451",
           "MUC1"
          ],
          [
           "SL2-1481",
           "ACTB"
          ],
          [
           "SL2-1490",
           "SLC26A3"
          ],
          [
           "SL2-1493",
           "TRIP12"
          ],
          [
           "SL2-1496",
           "ASXL1"
          ],
          [
           "SL2-1507",
           "COL4A4"
          ],
          [
           "SL2-1529",
           "PGAP3"
          ],
          [
           "SL2-1538",
           "GAA"
          ],
          [
           "SL2-1539",
           "IFIH1"
          ],
          [
           "SL2-1547",
           "NONO"
          ],
          [
           "SL2-1554",
           "POGZ"
          ],
          [
           "SL2-1556",
           "LGI1"
          ],
          [
           "SL2-1581",
           "ZEB2"
          ],
          [
           "SL2-1584",
           "KCNB1"
          ],
          [
           "SL2-1600",
           "CNOT1"
          ],
          [
           "SL2-1628",
           "AHDC1"
          ],
          [
           "SL2-1631",
           "PTEN"
          ],
          [
           "SL2-1653",
           "ATP1A3"
          ],
          [
           "SL2-1685",
           "TRAPPC9"
          ],
          [
           "SL2-1723",
           "CUL4B"
          ],
          [
           "SL2-1766",
           "NSD1"
          ],
          [
           "SL2-1768",
           "ACTG1"
          ],
          [
           "SL2-1769",
           "ZSWIM6"
          ],
          [
           "SL2-190",
           "EZH2"
          ],
          [
           "SL2-190",
           "EZH2"
          ],
          [
           "SL2-190",
           "DNMT3A"
          ],
          [
           "SL2-190",
           "DNMT3A"
          ],
          [
           "SL2-193",
           "EHMT1"
          ],
          [
           "SL2-197",
           "IDH1"
          ],
          [
           "SL2-198",
           "KMT2D"
          ],
          [
           "SL2-203",
           "NAA15"
          ],
          [
           "SL2-237",
           "USP9X"
          ],
          [
           "SL2-245",
           "UBE2A"
          ],
          [
           "SL2-252",
           "CIC"
          ],
          [
           "SL2-254",
           "NEFL"
          ],
          [
           "SL2-259",
           "DMD"
          ],
          [
           "SL2-266",
           "SLC20A2"
          ],
          [
           "SL2-1805",
           "MSTO1"
          ],
          [
           "SL2-1842",
           "CUL3"
          ],
          [
           "SL2-1886",
           "PPP3CA"
          ],
          [
           "SL2-1924",
           "HTRA1"
          ],
          [
           "SL2-1940",
           "SCN2A"
          ],
          [
           "SL2-1978",
           "PIEZO1"
          ],
          [
           "SL2-1989",
           "FOXP1"
          ],
          [
           "SL2-1991",
           "CHD2"
          ],
          [
           "SL2-2028",
           "PBX1"
          ],
          [
           "SL2-2081",
           "SIN3A"
          ],
          [
           "SL2-2086",
           "ABCC9"
          ],
          [
           "SL2-2141",
           "PLA2G6"
          ],
          [
           "SL2-2202",
           "TRIO"
          ],
          [
           "SL2-2238",
           "BRCA2"
          ],
          [
           "SL2-2239",
           "TRIO"
          ],
          [
           "SL2-2246",
           "AMPD2"
          ],
          [
           "SL2-2281",
           "MPZ"
          ],
          [
           "SL2-2307",
           "PKD1"
          ],
          [
           "SL2-2307",
           "PKD1"
          ],
          [
           "SL2-2307",
           "COL11A1"
          ],
          [
           "SL2-2307",
           "COL11A1"
          ],
          [
           "SL2-2307",
           "VWF"
          ],
          [
           "SL2-2307",
           "VWF"
          ],
          [
           "SL2-2318",
           "TRRAP"
          ],
          [
           "SL2-2325",
           "GJB2"
          ],
          [
           "SL2-2328",
           "ALPL"
          ],
          [
           "SL2-2328",
           "ALPL"
          ],
          [
           "SL2-2328",
           "NF1"
          ],
          [
           "SL2-2328",
           "NF1"
          ],
          [
           "SL2-2354",
           "EFTUD2"
          ],
          [
           "SL2-2357",
           "ABCD1"
          ],
          [
           "SL2-2383",
           "NPC1"
          ],
          [
           "SL2-2404",
           "NR2F2"
          ],
          [
           "SL2-2433",
           "PTEN"
          ],
          [
           "SL2-2490",
           "AAAS"
          ],
          [
           "SL2-2511",
           "LZTR1"
          ],
          [
           "SL2-2580",
           "TNFRSF1A"
          ],
          [
           "SL2-2593",
           "ADCY5"
          ],
          [
           "SL2-2612",
           "MECP2"
          ],
          [
           "SL2-2646",
           "SMAD4"
          ],
          [
           "SL2-2647",
           "SHANK3"
          ],
          [
           "SL2-2689",
           "FLG"
          ],
          [
           "SL2-273",
           "KANSL1"
          ],
          [
           "SL2-276",
           "RYR1"
          ],
          [
           "SL2-284",
           "ANO3"
          ],
          [
           "SL2-287",
           "TBR1"
          ],
          [
           "SL2-299",
           "PYCR2"
          ],
          [
           "SL2-301",
           "KCNA2"
          ],
          [
           "SL2-310",
           "UMOD"
          ],
          [
           "SL2-313",
           "NDUFS4"
          ],
          [
           "SL2-314",
           "TIA1"
          ],
          [
           "SL2-315",
           "TRRAP"
          ],
          [
           "SL2-319",
           "KIF11"
          ],
          [
           "SL2-339",
           "OPA1"
          ],
          [
           "SL2-349",
           "EXOSC3"
          ],
          [
           "SL2-363",
           "FA2H"
          ],
          [
           "SL2-376",
           "XPC"
          ],
          [
           "SL2-381",
           "BCL11A"
          ],
          [
           "SL2-387",
           "DDX3X"
          ],
          [
           "SL2-388",
           "DCX"
          ],
          [
           "SL2-392",
           "THAP1"
          ],
          [
           "SL2-395",
           "CASR"
          ],
          [
           "SL2-397",
           "CYP11A1"
          ],
          [
           "SL2-400",
           "NR2F1"
          ],
          [
           "SL2-405",
           "KMT2A"
          ],
          [
           "SL2-410",
           "GJA1"
          ],
          [
           "SL2-412",
           "SPG7"
          ],
          [
           "SL2-421",
           "DEGS1"
          ],
          [
           "SL2-424",
           "ATM"
          ],
          [
           "SL2-437",
           "ASH1L"
          ],
          [
           "SL2-440",
           "ACTA1"
          ],
          [
           "SL2-442",
           "PTPN11"
          ],
          [
           "SL2-443",
           "HCFC1"
          ],
          [
           "SL2-446",
           "PSEN1"
          ],
          [
           "SL2-449",
           "FBXO11"
          ],
          [
           "SL2-454",
           "FAR1"
          ],
          [
           "SL2-457",
           "TGFBR2"
          ],
          [
           "SL2-458",
           "AEBP1"
          ],
          [
           "SL2-462",
           "CACNA1A"
          ],
          [
           "SL2-466",
           "SERPINA1"
          ],
          [
           "SL2-468",
           "C12orf57"
          ],
          [
           "SL2-469",
           "CYP7B1"
          ],
          [
           "SL2-471",
           "ACTB"
          ],
          [
           "SL2-472",
           "TRPV4"
          ],
          [
           "SL2-473",
           "EP300"
          ],
          [
           "SL2-485",
           "TUBB4A"
          ],
          [
           "SL2-521",
           "TRMU"
          ],
          [
           "SL2-528",
           "CLN3"
          ],
          [
           "SL2-2962",
           "LOX"
          ],
          [
           "SL2-3015",
           "STAG1"
          ],
          [
           "SL2-3041",
           "NEB"
          ],
          [
           "SL2-539",
           "EBF3"
          ],
          [
           "SL2-540",
           "HMGCS2"
          ],
          [
           "SL2-547",
           "SYNGAP1"
          ],
          [
           "SL2-550",
           "LTBP3"
          ],
          [
           "SL2-552",
           "ATP1A3"
          ],
          [
           "SL2-557",
           "SIN3A"
          ],
          [
           "SL2-557",
           "SIN3A"
          ],
          [
           "SL2-557",
           "FLG"
          ],
          [
           "SL2-557",
           "FLG"
          ],
          [
           "SL2-557",
           "EDAR"
          ],
          [
           "SL2-557",
           "EDAR"
          ],
          [
           "SL2-563",
           "ASXL3"
          ],
          [
           "SL2-566",
           "ACO2"
          ],
          [
           "SL2-577",
           "ALDH18A1"
          ],
          [
           "SL2-579",
           "TTN"
          ],
          [
           "SL2-579",
           "TTN"
          ],
          [
           "SL2-579",
           "MYBPC3"
          ],
          [
           "SL2-579",
           "MYBPC3"
          ],
          [
           "SL2-580",
           "ACVR1"
          ],
          [
           "SL2-581",
           "MEFV"
          ],
          [
           "SL2-592",
           "SLC25A46"
          ],
          [
           "SL2-598",
           "WAC"
          ],
          [
           "SL2-607",
           "SLC6A1"
          ],
          [
           "SL2-623",
           "ENPP1"
          ],
          [
           "SL2-632",
           "OCA2"
          ],
          [
           "SL2-646",
           "CHAT"
          ],
          [
           "SL2-653",
           "NFKB1"
          ],
          [
           "SL2-657",
           "NKX2-1"
          ],
          [
           "SL2-659",
           "GFAP"
          ],
          [
           "SL2-659",
           "GFAP"
          ],
          [
           "SL2-659",
           "ACVRL1"
          ],
          [
           "SL2-659",
           "ACVRL1"
          ],
          [
           "SL2-674",
           "PIGV"
          ],
          [
           "SL2-681",
           "TBX4"
          ],
          [
           "SL2-684",
           "SETD5"
          ],
          [
           "SL2-686",
           "ARSB"
          ],
          [
           "SL2-688",
           "B4GALNT1"
          ],
          [
           "SL2-697",
           "ANKRD11"
          ],
          [
           "SL2-699",
           "CHD7"
          ],
          [
           "SL2-716",
           "SLC12A3"
          ],
          [
           "SL2-724",
           "TUBA1A"
          ],
          [
           "SL2-728",
           "NAA15"
          ],
          [
           "SL2-732",
           "DOCK3"
          ],
          [
           "SL2-752",
           "GNPTAB"
          ],
          [
           "SL2-767",
           "CTCF"
          ],
          [
           "SL2-795",
           "MECP2"
          ],
          [
           "SL2-799",
           "GRIN1"
          ],
          [
           "SL2-799",
           "GRIN1"
          ],
          [
           "SL2-799",
           "FLG"
          ],
          [
           "SL2-799",
           "FLG"
          ],
          [
           "SL2-806",
           "JAK2"
          ],
          [
           "SL2-816",
           "PIK3R1"
          ],
          [
           "SL2-817",
           "CACNA1E"
          ],
          [
           "SL2-835",
           "CACNA1F"
          ],
          [
           "SL2-835",
           "CACNA1F"
          ],
          [
           "SL2-835",
           "SPG11"
          ],
          [
           "SL2-835",
           "SPG11"
          ],
          [
           "SL2-842",
           "KDM6A"
          ],
          [
           "SL2-844",
           "CHD2"
          ],
          [
           "SL2-850",
           "TCF4"
          ],
          [
           "SL2-852",
           "PLA2G6"
          ],
          [
           "SL2-854",
           "MAP3K7"
          ],
          [
           "SL2-860",
           "GABRA1"
          ],
          [
           "SL2-865",
           "ZBTB18"
          ],
          [
           "SL2-879",
           "RPS6KA3"
          ],
          [
           "SL2-879",
           "RPS6KA3"
          ],
          [
           "SL2-879",
           "USP9X"
          ],
          [
           "SL2-879",
           "USP9X"
          ],
          [
           "SL2-891",
           "CBL"
          ],
          [
           "SL2-891",
           "CBL"
          ],
          [
           "SL2-891",
           "ELN"
          ],
          [
           "SL2-891",
           "ELN"
          ],
          [
           "SL2-904",
           "CFTR"
          ],
          [
           "SL2-910",
           "POLR3A"
          ],
          [
           "SL2-919",
           "SON"
          ],
          [
           "SL2-924",
           "SETD5"
          ],
          [
           "SL2-938",
           "ZC4H2"
          ],
          [
           "SL2-940",
           "BRPF1"
          ],
          [
           "SL2-940",
           "BRPF1"
          ],
          [
           "SL2-940",
           "KDM5C"
          ],
          [
           "SL2-940",
           "KDM5C"
          ],
          [
           "SL2-943",
           "DGAT1"
          ],
          [
           "SL2-947",
           "SYNGAP1"
          ]
         ],
         "hovertemplate": "Method=delta_bayes_geo_PCAN<br>Rank_PCAN=%{x}<br>Rank=%{y}<br>Normalized ID=%{customdata[0]}<br>Gene1=%{customdata[1]}<extra></extra>",
         "legendgroup": "delta_bayes_geo_PCAN",
         "marker": {
          "color": "#636efa",
          "symbol": "circle"
         },
         "mode": "markers",
         "name": "delta_bayes_geo_PCAN",
         "orientation": "v",
         "showlegend": true,
         "type": "scatter",
         "x": [
          143,
          826,
          945,
          5,
          1505,
          2169,
          920,
          1926,
          1,
          10,
          4,
          437,
          200,
          165,
          64,
          37,
          81,
          67,
          1451,
          2,
          31,
          858,
          1521,
          47,
          48,
          204,
          848,
          103,
          3378,
          2070,
          121,
          3737,
          876,
          999,
          795,
          999,
          795,
          38,
          1,
          18,
          2962,
          18,
          2962,
          903,
          11,
          3,
          408,
          1895,
          43,
          957,
          40,
          238,
          null,
          238,
          null,
          1583,
          767,
          21,
          701,
          455,
          35,
          1159,
          14,
          714,
          742,
          49,
          152,
          4,
          49,
          247,
          504,
          6,
          196,
          1395,
          170,
          716,
          927,
          119,
          339,
          957,
          138,
          2254,
          249,
          205,
          319,
          205,
          319,
          706,
          78,
          5,
          2229,
          322,
          226,
          887,
          10,
          45,
          11,
          14,
          5,
          901,
          26,
          202,
          463,
          634,
          131,
          276,
          988,
          241,
          45,
          85,
          22,
          266,
          455,
          643,
          444,
          1150,
          444,
          1150,
          444,
          1150,
          423,
          179,
          43,
          31,
          43,
          31,
          176,
          879,
          245,
          618,
          139,
          33,
          1080,
          477,
          2419,
          19,
          164,
          233,
          436,
          548,
          4,
          6,
          683,
          593,
          199,
          19,
          90,
          63,
          15,
          89,
          17,
          933,
          1,
          12,
          355,
          2309,
          302,
          3,
          642,
          7,
          611,
          8,
          71,
          104,
          94,
          137,
          192,
          2,
          187,
          1637,
          33,
          157,
          99,
          5,
          211,
          188,
          1513,
          185,
          432,
          352,
          22,
          205,
          447,
          1026,
          64,
          19,
          490,
          288,
          258,
          240,
          50,
          361,
          166,
          174,
          2267,
          174,
          2267,
          174,
          2267,
          491,
          894,
          38,
          28,
          25,
          28,
          25,
          365,
          708,
          367,
          627,
          2474,
          55,
          45,
          3,
          242,
          227,
          674,
          31,
          674,
          31,
          741,
          2002,
          203,
          81,
          7,
          2266,
          272,
          5,
          14,
          1,
          1324,
          6,
          2216,
          10,
          157,
          1938,
          157,
          1938,
          14,
          365,
          13,
          778,
          14,
          778,
          14,
          965,
          89,
          130,
          18,
          11,
          1055,
          2125,
          874,
          974,
          874,
          974,
          233,
          689,
          233,
          689,
          190,
          161,
          244,
          144,
          83,
          387,
          943,
          387,
          943,
          16,
          367
         ],
         "xaxis": "x",
         "y": [
          -644,
          -2451,
          -1418,
          -3459,
          988,
          880,
          -2216,
          1051,
          -1702,
          -2955,
          -321,
          -1984,
          -3070,
          -318,
          -3027,
          -2808,
          -2618,
          -858,
          -1751,
          -360,
          -2629,
          -160,
          -1761,
          -439,
          -42,
          -2816,
          -265,
          -602,
          3129,
          2065,
          -1359,
          2325,
          305,
          131,
          -73,
          769,
          565,
          -10,
          -948,
          -3374,
          -430,
          -1450,
          1494,
          -2653,
          -340,
          -198,
          -214,
          1829,
          -498,
          526,
          -3507,
          214,
          null,
          -1819,
          null,
          -1169,
          -807,
          -1962,
          -2623,
          -417,
          -48,
          1129,
          -808,
          -417,
          48,
          -825,
          -2502,
          -2628,
          -2793,
          -3173,
          -577,
          -1992,
          -385,
          -1625,
          -1110,
          -2427,
          651,
          -43,
          -548,
          375,
          -1787,
          -117,
          -2147,
          -2893,
          -2779,
          -2391,
          -2277,
          -192,
          -2510,
          -3300,
          1598,
          -342,
          209,
          -497,
          -121,
          -2745,
          -325,
          -2211,
          -3343,
          893,
          -2361,
          -1767,
          -713,
          -2812,
          -1547,
          -2322,
          -301,
          -1545,
          -2139,
          -2784,
          -2711,
          -2895,
          -112,
          -1758,
          -3103,
          -2397,
          -2884,
          -2178,
          -1344,
          -638,
          194,
          -2819,
          -2764,
          -2776,
          -2530,
          -2542,
          -1094,
          -524,
          -449,
          -700,
          -3144,
          -3174,
          -1780,
          -1370,
          1064,
          -702,
          -2905,
          -1537,
          -2597,
          212,
          -862,
          -1041,
          -2840,
          420,
          -2968,
          -1448,
          -449,
          -2724,
          -1804,
          -3127,
          -1056,
          -2098,
          -3412,
          -3547,
          -262,
          -613,
          -2689,
          -3550,
          -2177,
          -1179,
          -530,
          -1784,
          -3340,
          -599,
          -2959,
          -877,
          -811,
          1,
          -88,
          49,
          -616,
          -3283,
          -3098,
          -3089,
          -1215,
          -1315,
          -1120,
          9,
          -617,
          -3168,
          -1486,
          -3057,
          -107,
          -2267,
          -2428,
          -1978,
          -840,
          -1039,
          -1523,
          -739,
          -229,
          -2343,
          -3305,
          -3024,
          -931,
          -900,
          1193,
          -1748,
          345,
          -1321,
          193,
          -3431,
          -3100,
          -3103,
          -2710,
          -2713,
          -2257,
          -2841,
          71,
          -514,
          124,
          -2915,
          -128,
          -3522,
          -3222,
          138,
          -180,
          -823,
          -853,
          -1496,
          666,
          -1357,
          -260,
          -914,
          -693,
          850,
          -1440,
          4,
          -2413,
          -3173,
          -1726,
          -918,
          1704,
          -388,
          -371,
          1410,
          -390,
          1391,
          -1398,
          111,
          -2424,
          -457,
          -1221,
          -63,
          -827,
          433,
          -3078,
          -3024,
          -663,
          -889,
          -975,
          881,
          834,
          934,
          513,
          613,
          -212,
          244,
          -1659,
          -1203,
          73,
          -295,
          -2555,
          -2890,
          -27,
          83,
          639,
          74,
          630,
          -3391,
          -2760
         ],
         "yaxis": "y"
        },
        {
         "alignmentgroup": "True",
         "bingroup": "x",
         "hovertemplate": "Method=delta_bayes_geo_PCAN<br>Rank_PCAN=%{x}<br>count=%{y}<extra></extra>",
         "legendgroup": "delta_bayes_geo_PCAN",
         "marker": {
          "color": "#636efa"
         },
         "name": "delta_bayes_geo_PCAN",
         "offsetgroup": "delta_bayes_geo_PCAN",
         "opacity": 0.5,
         "showlegend": false,
         "type": "histogram",
         "x": [
          143,
          826,
          945,
          5,
          1505,
          2169,
          920,
          1926,
          1,
          10,
          4,
          437,
          200,
          165,
          64,
          37,
          81,
          67,
          1451,
          2,
          31,
          858,
          1521,
          47,
          48,
          204,
          848,
          103,
          3378,
          2070,
          121,
          3737,
          876,
          999,
          795,
          999,
          795,
          38,
          1,
          18,
          2962,
          18,
          2962,
          903,
          11,
          3,
          408,
          1895,
          43,
          957,
          40,
          238,
          null,
          238,
          null,
          1583,
          767,
          21,
          701,
          455,
          35,
          1159,
          14,
          714,
          742,
          49,
          152,
          4,
          49,
          247,
          504,
          6,
          196,
          1395,
          170,
          716,
          927,
          119,
          339,
          957,
          138,
          2254,
          249,
          205,
          319,
          205,
          319,
          706,
          78,
          5,
          2229,
          322,
          226,
          887,
          10,
          45,
          11,
          14,
          5,
          901,
          26,
          202,
          463,
          634,
          131,
          276,
          988,
          241,
          45,
          85,
          22,
          266,
          455,
          643,
          444,
          1150,
          444,
          1150,
          444,
          1150,
          423,
          179,
          43,
          31,
          43,
          31,
          176,
          879,
          245,
          618,
          139,
          33,
          1080,
          477,
          2419,
          19,
          164,
          233,
          436,
          548,
          4,
          6,
          683,
          593,
          199,
          19,
          90,
          63,
          15,
          89,
          17,
          933,
          1,
          12,
          355,
          2309,
          302,
          3,
          642,
          7,
          611,
          8,
          71,
          104,
          94,
          137,
          192,
          2,
          187,
          1637,
          33,
          157,
          99,
          5,
          211,
          188,
          1513,
          185,
          432,
          352,
          22,
          205,
          447,
          1026,
          64,
          19,
          490,
          288,
          258,
          240,
          50,
          361,
          166,
          174,
          2267,
          174,
          2267,
          174,
          2267,
          491,
          894,
          38,
          28,
          25,
          28,
          25,
          365,
          708,
          367,
          627,
          2474,
          55,
          45,
          3,
          242,
          227,
          674,
          31,
          674,
          31,
          741,
          2002,
          203,
          81,
          7,
          2266,
          272,
          5,
          14,
          1,
          1324,
          6,
          2216,
          10,
          157,
          1938,
          157,
          1938,
          14,
          365,
          13,
          778,
          14,
          778,
          14,
          965,
          89,
          130,
          18,
          11,
          1055,
          2125,
          874,
          974,
          874,
          974,
          233,
          689,
          233,
          689,
          190,
          161,
          244,
          144,
          83,
          387,
          943,
          387,
          943,
          16,
          367
         ],
         "xaxis": "x3",
         "yaxis": "y3"
        },
        {
         "alignmentgroup": "True",
         "boxpoints": "all",
         "customdata": [
          [
           "SL2-009",
           "CACNA1E"
          ],
          [
           "SL2-016",
           "PACS1"
          ],
          [
           "SL2-021",
           "CACNA1A"
          ],
          [
           "SL2-029",
           "FGFR1"
          ],
          [
           "SL2-033",
           "GABBR2"
          ],
          [
           "SL2-049",
           "AFG3L2"
          ],
          [
           "SL2-105",
           "THOC6"
          ],
          [
           "SL2-127",
           "EHMT1"
          ],
          [
           "SL2-144",
           "C2CD3"
          ],
          [
           "SL2-145",
           "COL2A1"
          ],
          [
           "SL2-147",
           "CACNA1A"
          ],
          [
           "SL2-155",
           "CLN6"
          ],
          [
           "SL2-156",
           "CLN6"
          ],
          [
           "SL2-157",
           "CLN6"
          ],
          [
           "SL2-158",
           "RUNX1"
          ],
          [
           "SL2-164",
           "ATM"
          ],
          [
           "SL2-167",
           "SOX2"
          ],
          [
           "SL2-170",
           "KAT6A"
          ],
          [
           "SL2-173",
           "BMP4"
          ],
          [
           "SL2-1000",
           "PTPN11"
          ],
          [
           "SL2-1006",
           "SCN2A"
          ],
          [
           "SL2-1076",
           "RECQL4"
          ],
          [
           "SL2-1167",
           "HNRNPU"
          ],
          [
           "SL2-1181",
           "ARID1B"
          ],
          [
           "SL2-1187",
           "POMGNT1"
          ],
          [
           "SL2-1205",
           "NR2F1"
          ],
          [
           "SL2-1209",
           "UBE3A"
          ],
          [
           "SL2-1211",
           "SLC6A8"
          ],
          [
           "SL2-1214",
           "CTCF"
          ],
          [
           "SL2-1216",
           "UBA1"
          ],
          [
           "SL2-1222",
           "ALPL"
          ],
          [
           "SL2-1224",
           "ACTG2"
          ],
          [
           "SL2-1253",
           "CHD2"
          ],
          [
           "SL2-1256",
           "COL4A2"
          ],
          [
           "SL2-1256",
           "COL4A2"
          ],
          [
           "SL2-1256",
           "MEFV"
          ],
          [
           "SL2-1256",
           "MEFV"
          ],
          [
           "SL2-1275",
           "DEAF1"
          ],
          [
           "SL2-1280",
           "NSD1"
          ],
          [
           "SL2-1282",
           "MECP2"
          ],
          [
           "SL2-1282",
           "MECP2"
          ],
          [
           "SL2-1282",
           "MLH1"
          ],
          [
           "SL2-1282",
           "MLH1"
          ],
          [
           "SL2-1291",
           "GLMN"
          ],
          [
           "SL2-1312",
           "TSPEAR"
          ],
          [
           "SL2-1315",
           "CACNA1A"
          ],
          [
           "SL2-1316",
           "SLC35C1"
          ],
          [
           "SL2-1340",
           "ATP1A3"
          ],
          [
           "SL2-1343",
           "MYH11"
          ],
          [
           "SL2-1365",
           "ALG12"
          ],
          [
           "SL2-1377",
           "DOCK8"
          ],
          [
           "SL2-1382",
           "CTLA4"
          ],
          [
           "SL2-1382",
           "CTLA4"
          ],
          [
           "SL2-1382",
           "NOD2"
          ],
          [
           "SL2-1382",
           "NOD2"
          ],
          [
           "SL2-1383",
           "CTCF"
          ],
          [
           "SL2-1385",
           "TRPS1"
          ],
          [
           "SL2-1397",
           "ERCC6L2"
          ],
          [
           "SL2-1431",
           "KMT2B"
          ],
          [
           "SL2-1435",
           "SETD5"
          ],
          [
           "SL2-1451",
           "MUC1"
          ],
          [
           "SL2-1481",
           "ACTB"
          ],
          [
           "SL2-1490",
           "SLC26A3"
          ],
          [
           "SL2-1493",
           "TRIP12"
          ],
          [
           "SL2-1496",
           "ASXL1"
          ],
          [
           "SL2-1507",
           "COL4A4"
          ],
          [
           "SL2-1529",
           "PGAP3"
          ],
          [
           "SL2-1538",
           "GAA"
          ],
          [
           "SL2-1539",
           "IFIH1"
          ],
          [
           "SL2-1547",
           "NONO"
          ],
          [
           "SL2-1554",
           "POGZ"
          ],
          [
           "SL2-1556",
           "LGI1"
          ],
          [
           "SL2-1581",
           "ZEB2"
          ],
          [
           "SL2-1584",
           "KCNB1"
          ],
          [
           "SL2-1600",
           "CNOT1"
          ],
          [
           "SL2-1628",
           "AHDC1"
          ],
          [
           "SL2-1631",
           "PTEN"
          ],
          [
           "SL2-1653",
           "ATP1A3"
          ],
          [
           "SL2-1685",
           "TRAPPC9"
          ],
          [
           "SL2-1723",
           "CUL4B"
          ],
          [
           "SL2-1766",
           "NSD1"
          ],
          [
           "SL2-1768",
           "ACTG1"
          ],
          [
           "SL2-1769",
           "ZSWIM6"
          ],
          [
           "SL2-190",
           "EZH2"
          ],
          [
           "SL2-190",
           "EZH2"
          ],
          [
           "SL2-190",
           "DNMT3A"
          ],
          [
           "SL2-190",
           "DNMT3A"
          ],
          [
           "SL2-193",
           "EHMT1"
          ],
          [
           "SL2-197",
           "IDH1"
          ],
          [
           "SL2-198",
           "KMT2D"
          ],
          [
           "SL2-203",
           "NAA15"
          ],
          [
           "SL2-237",
           "USP9X"
          ],
          [
           "SL2-245",
           "UBE2A"
          ],
          [
           "SL2-252",
           "CIC"
          ],
          [
           "SL2-254",
           "NEFL"
          ],
          [
           "SL2-259",
           "DMD"
          ],
          [
           "SL2-266",
           "SLC20A2"
          ],
          [
           "SL2-1805",
           "MSTO1"
          ],
          [
           "SL2-1842",
           "CUL3"
          ],
          [
           "SL2-1886",
           "PPP3CA"
          ],
          [
           "SL2-1924",
           "HTRA1"
          ],
          [
           "SL2-1940",
           "SCN2A"
          ],
          [
           "SL2-1978",
           "PIEZO1"
          ],
          [
           "SL2-1989",
           "FOXP1"
          ],
          [
           "SL2-1991",
           "CHD2"
          ],
          [
           "SL2-2028",
           "PBX1"
          ],
          [
           "SL2-2081",
           "SIN3A"
          ],
          [
           "SL2-2086",
           "ABCC9"
          ],
          [
           "SL2-2141",
           "PLA2G6"
          ],
          [
           "SL2-2202",
           "TRIO"
          ],
          [
           "SL2-2238",
           "BRCA2"
          ],
          [
           "SL2-2239",
           "TRIO"
          ],
          [
           "SL2-2246",
           "AMPD2"
          ],
          [
           "SL2-2281",
           "MPZ"
          ],
          [
           "SL2-2307",
           "PKD1"
          ],
          [
           "SL2-2307",
           "PKD1"
          ],
          [
           "SL2-2307",
           "COL11A1"
          ],
          [
           "SL2-2307",
           "COL11A1"
          ],
          [
           "SL2-2307",
           "VWF"
          ],
          [
           "SL2-2307",
           "VWF"
          ],
          [
           "SL2-2318",
           "TRRAP"
          ],
          [
           "SL2-2325",
           "GJB2"
          ],
          [
           "SL2-2328",
           "ALPL"
          ],
          [
           "SL2-2328",
           "ALPL"
          ],
          [
           "SL2-2328",
           "NF1"
          ],
          [
           "SL2-2328",
           "NF1"
          ],
          [
           "SL2-2354",
           "EFTUD2"
          ],
          [
           "SL2-2357",
           "ABCD1"
          ],
          [
           "SL2-2383",
           "NPC1"
          ],
          [
           "SL2-2404",
           "NR2F2"
          ],
          [
           "SL2-2433",
           "PTEN"
          ],
          [
           "SL2-2490",
           "AAAS"
          ],
          [
           "SL2-2511",
           "LZTR1"
          ],
          [
           "SL2-2580",
           "TNFRSF1A"
          ],
          [
           "SL2-2593",
           "ADCY5"
          ],
          [
           "SL2-2612",
           "MECP2"
          ],
          [
           "SL2-2646",
           "SMAD4"
          ],
          [
           "SL2-2647",
           "SHANK3"
          ],
          [
           "SL2-2689",
           "FLG"
          ],
          [
           "SL2-273",
           "KANSL1"
          ],
          [
           "SL2-276",
           "RYR1"
          ],
          [
           "SL2-284",
           "ANO3"
          ],
          [
           "SL2-287",
           "TBR1"
          ],
          [
           "SL2-299",
           "PYCR2"
          ],
          [
           "SL2-301",
           "KCNA2"
          ],
          [
           "SL2-310",
           "UMOD"
          ],
          [
           "SL2-313",
           "NDUFS4"
          ],
          [
           "SL2-314",
           "TIA1"
          ],
          [
           "SL2-315",
           "TRRAP"
          ],
          [
           "SL2-319",
           "KIF11"
          ],
          [
           "SL2-339",
           "OPA1"
          ],
          [
           "SL2-349",
           "EXOSC3"
          ],
          [
           "SL2-363",
           "FA2H"
          ],
          [
           "SL2-376",
           "XPC"
          ],
          [
           "SL2-381",
           "BCL11A"
          ],
          [
           "SL2-387",
           "DDX3X"
          ],
          [
           "SL2-388",
           "DCX"
          ],
          [
           "SL2-392",
           "THAP1"
          ],
          [
           "SL2-395",
           "CASR"
          ],
          [
           "SL2-397",
           "CYP11A1"
          ],
          [
           "SL2-400",
           "NR2F1"
          ],
          [
           "SL2-405",
           "KMT2A"
          ],
          [
           "SL2-410",
           "GJA1"
          ],
          [
           "SL2-412",
           "SPG7"
          ],
          [
           "SL2-421",
           "DEGS1"
          ],
          [
           "SL2-424",
           "ATM"
          ],
          [
           "SL2-437",
           "ASH1L"
          ],
          [
           "SL2-440",
           "ACTA1"
          ],
          [
           "SL2-442",
           "PTPN11"
          ],
          [
           "SL2-443",
           "HCFC1"
          ],
          [
           "SL2-446",
           "PSEN1"
          ],
          [
           "SL2-449",
           "FBXO11"
          ],
          [
           "SL2-454",
           "FAR1"
          ],
          [
           "SL2-457",
           "TGFBR2"
          ],
          [
           "SL2-458",
           "AEBP1"
          ],
          [
           "SL2-462",
           "CACNA1A"
          ],
          [
           "SL2-466",
           "SERPINA1"
          ],
          [
           "SL2-468",
           "C12orf57"
          ],
          [
           "SL2-469",
           "CYP7B1"
          ],
          [
           "SL2-471",
           "ACTB"
          ],
          [
           "SL2-472",
           "TRPV4"
          ],
          [
           "SL2-473",
           "EP300"
          ],
          [
           "SL2-485",
           "TUBB4A"
          ],
          [
           "SL2-521",
           "TRMU"
          ],
          [
           "SL2-528",
           "CLN3"
          ],
          [
           "SL2-2962",
           "LOX"
          ],
          [
           "SL2-3015",
           "STAG1"
          ],
          [
           "SL2-3041",
           "NEB"
          ],
          [
           "SL2-539",
           "EBF3"
          ],
          [
           "SL2-540",
           "HMGCS2"
          ],
          [
           "SL2-547",
           "SYNGAP1"
          ],
          [
           "SL2-550",
           "LTBP3"
          ],
          [
           "SL2-552",
           "ATP1A3"
          ],
          [
           "SL2-557",
           "SIN3A"
          ],
          [
           "SL2-557",
           "SIN3A"
          ],
          [
           "SL2-557",
           "FLG"
          ],
          [
           "SL2-557",
           "FLG"
          ],
          [
           "SL2-557",
           "EDAR"
          ],
          [
           "SL2-557",
           "EDAR"
          ],
          [
           "SL2-563",
           "ASXL3"
          ],
          [
           "SL2-566",
           "ACO2"
          ],
          [
           "SL2-577",
           "ALDH18A1"
          ],
          [
           "SL2-579",
           "TTN"
          ],
          [
           "SL2-579",
           "TTN"
          ],
          [
           "SL2-579",
           "MYBPC3"
          ],
          [
           "SL2-579",
           "MYBPC3"
          ],
          [
           "SL2-580",
           "ACVR1"
          ],
          [
           "SL2-581",
           "MEFV"
          ],
          [
           "SL2-592",
           "SLC25A46"
          ],
          [
           "SL2-598",
           "WAC"
          ],
          [
           "SL2-607",
           "SLC6A1"
          ],
          [
           "SL2-623",
           "ENPP1"
          ],
          [
           "SL2-632",
           "OCA2"
          ],
          [
           "SL2-646",
           "CHAT"
          ],
          [
           "SL2-653",
           "NFKB1"
          ],
          [
           "SL2-657",
           "NKX2-1"
          ],
          [
           "SL2-659",
           "GFAP"
          ],
          [
           "SL2-659",
           "GFAP"
          ],
          [
           "SL2-659",
           "ACVRL1"
          ],
          [
           "SL2-659",
           "ACVRL1"
          ],
          [
           "SL2-674",
           "PIGV"
          ],
          [
           "SL2-681",
           "TBX4"
          ],
          [
           "SL2-684",
           "SETD5"
          ],
          [
           "SL2-686",
           "ARSB"
          ],
          [
           "SL2-688",
           "B4GALNT1"
          ],
          [
           "SL2-697",
           "ANKRD11"
          ],
          [
           "SL2-699",
           "CHD7"
          ],
          [
           "SL2-716",
           "SLC12A3"
          ],
          [
           "SL2-724",
           "TUBA1A"
          ],
          [
           "SL2-728",
           "NAA15"
          ],
          [
           "SL2-732",
           "DOCK3"
          ],
          [
           "SL2-752",
           "GNPTAB"
          ],
          [
           "SL2-767",
           "CTCF"
          ],
          [
           "SL2-795",
           "MECP2"
          ],
          [
           "SL2-799",
           "GRIN1"
          ],
          [
           "SL2-799",
           "GRIN1"
          ],
          [
           "SL2-799",
           "FLG"
          ],
          [
           "SL2-799",
           "FLG"
          ],
          [
           "SL2-806",
           "JAK2"
          ],
          [
           "SL2-816",
           "PIK3R1"
          ],
          [
           "SL2-817",
           "CACNA1E"
          ],
          [
           "SL2-835",
           "CACNA1F"
          ],
          [
           "SL2-835",
           "CACNA1F"
          ],
          [
           "SL2-835",
           "SPG11"
          ],
          [
           "SL2-835",
           "SPG11"
          ],
          [
           "SL2-842",
           "KDM6A"
          ],
          [
           "SL2-844",
           "CHD2"
          ],
          [
           "SL2-850",
           "TCF4"
          ],
          [
           "SL2-852",
           "PLA2G6"
          ],
          [
           "SL2-854",
           "MAP3K7"
          ],
          [
           "SL2-860",
           "GABRA1"
          ],
          [
           "SL2-865",
           "ZBTB18"
          ],
          [
           "SL2-879",
           "RPS6KA3"
          ],
          [
           "SL2-879",
           "RPS6KA3"
          ],
          [
           "SL2-879",
           "USP9X"
          ],
          [
           "SL2-879",
           "USP9X"
          ],
          [
           "SL2-891",
           "CBL"
          ],
          [
           "SL2-891",
           "CBL"
          ],
          [
           "SL2-891",
           "ELN"
          ],
          [
           "SL2-891",
           "ELN"
          ],
          [
           "SL2-904",
           "CFTR"
          ],
          [
           "SL2-910",
           "POLR3A"
          ],
          [
           "SL2-919",
           "SON"
          ],
          [
           "SL2-924",
           "SETD5"
          ],
          [
           "SL2-938",
           "ZC4H2"
          ],
          [
           "SL2-940",
           "BRPF1"
          ],
          [
           "SL2-940",
           "BRPF1"
          ],
          [
           "SL2-940",
           "KDM5C"
          ],
          [
           "SL2-940",
           "KDM5C"
          ],
          [
           "SL2-943",
           "DGAT1"
          ],
          [
           "SL2-947",
           "SYNGAP1"
          ]
         ],
         "fillcolor": "rgba(255,255,255,0)",
         "hoveron": "points",
         "hovertemplate": "Method=delta_bayes_geo_PCAN<br>Rank=%{y}<br>Normalized ID=%{customdata[0]}<br>Gene1=%{customdata[1]}<extra></extra>",
         "jitter": 0,
         "legendgroup": "delta_bayes_geo_PCAN",
         "line": {
          "color": "rgba(255,255,255,0)"
         },
         "marker": {
          "color": "#636efa",
          "symbol": "line-ew-open"
         },
         "name": "delta_bayes_geo_PCAN",
         "offsetgroup": "delta_bayes_geo_PCAN",
         "showlegend": false,
         "type": "box",
         "xaxis": "x2",
         "y": [
          -644,
          -2451,
          -1418,
          -3459,
          988,
          880,
          -2216,
          1051,
          -1702,
          -2955,
          -321,
          -1984,
          -3070,
          -318,
          -3027,
          -2808,
          -2618,
          -858,
          -1751,
          -360,
          -2629,
          -160,
          -1761,
          -439,
          -42,
          -2816,
          -265,
          -602,
          3129,
          2065,
          -1359,
          2325,
          305,
          131,
          -73,
          769,
          565,
          -10,
          -948,
          -3374,
          -430,
          -1450,
          1494,
          -2653,
          -340,
          -198,
          -214,
          1829,
          -498,
          526,
          -3507,
          214,
          null,
          -1819,
          null,
          -1169,
          -807,
          -1962,
          -2623,
          -417,
          -48,
          1129,
          -808,
          -417,
          48,
          -825,
          -2502,
          -2628,
          -2793,
          -3173,
          -577,
          -1992,
          -385,
          -1625,
          -1110,
          -2427,
          651,
          -43,
          -548,
          375,
          -1787,
          -117,
          -2147,
          -2893,
          -2779,
          -2391,
          -2277,
          -192,
          -2510,
          -3300,
          1598,
          -342,
          209,
          -497,
          -121,
          -2745,
          -325,
          -2211,
          -3343,
          893,
          -2361,
          -1767,
          -713,
          -2812,
          -1547,
          -2322,
          -301,
          -1545,
          -2139,
          -2784,
          -2711,
          -2895,
          -112,
          -1758,
          -3103,
          -2397,
          -2884,
          -2178,
          -1344,
          -638,
          194,
          -2819,
          -2764,
          -2776,
          -2530,
          -2542,
          -1094,
          -524,
          -449,
          -700,
          -3144,
          -3174,
          -1780,
          -1370,
          1064,
          -702,
          -2905,
          -1537,
          -2597,
          212,
          -862,
          -1041,
          -2840,
          420,
          -2968,
          -1448,
          -449,
          -2724,
          -1804,
          -3127,
          -1056,
          -2098,
          -3412,
          -3547,
          -262,
          -613,
          -2689,
          -3550,
          -2177,
          -1179,
          -530,
          -1784,
          -3340,
          -599,
          -2959,
          -877,
          -811,
          1,
          -88,
          49,
          -616,
          -3283,
          -3098,
          -3089,
          -1215,
          -1315,
          -1120,
          9,
          -617,
          -3168,
          -1486,
          -3057,
          -107,
          -2267,
          -2428,
          -1978,
          -840,
          -1039,
          -1523,
          -739,
          -229,
          -2343,
          -3305,
          -3024,
          -931,
          -900,
          1193,
          -1748,
          345,
          -1321,
          193,
          -3431,
          -3100,
          -3103,
          -2710,
          -2713,
          -2257,
          -2841,
          71,
          -514,
          124,
          -2915,
          -128,
          -3522,
          -3222,
          138,
          -180,
          -823,
          -853,
          -1496,
          666,
          -1357,
          -260,
          -914,
          -693,
          850,
          -1440,
          4,
          -2413,
          -3173,
          -1726,
          -918,
          1704,
          -388,
          -371,
          1410,
          -390,
          1391,
          -1398,
          111,
          -2424,
          -457,
          -1221,
          -63,
          -827,
          433,
          -3078,
          -3024,
          -663,
          -889,
          -975,
          881,
          834,
          934,
          513,
          613,
          -212,
          244,
          -1659,
          -1203,
          73,
          -295,
          -2555,
          -2890,
          -27,
          83,
          639,
          74,
          630,
          -3391,
          -2760
         ],
         "yaxis": "y2"
        }
       ],
       "layout": {
        "barmode": "overlay",
        "legend": {
         "title": {
          "text": "Method"
         },
         "tracegroupgap": 0
        },
        "margin": {
         "t": 60
        },
        "template": {
         "data": {
          "bar": [
           {
            "error_x": {
             "color": "#2a3f5f"
            },
            "error_y": {
             "color": "#2a3f5f"
            },
            "marker": {
             "line": {
              "color": "#E5ECF6",
              "width": 0.5
             },
             "pattern": {
              "fillmode": "overlay",
              "size": 10,
              "solidity": 0.2
             }
            },
            "type": "bar"
           }
          ],
          "barpolar": [
           {
            "marker": {
             "line": {
              "color": "#E5ECF6",
              "width": 0.5
             },
             "pattern": {
              "fillmode": "overlay",
              "size": 10,
              "solidity": 0.2
             }
            },
            "type": "barpolar"
           }
          ],
          "carpet": [
           {
            "aaxis": {
             "endlinecolor": "#2a3f5f",
             "gridcolor": "white",
             "linecolor": "white",
             "minorgridcolor": "white",
             "startlinecolor": "#2a3f5f"
            },
            "baxis": {
             "endlinecolor": "#2a3f5f",
             "gridcolor": "white",
             "linecolor": "white",
             "minorgridcolor": "white",
             "startlinecolor": "#2a3f5f"
            },
            "type": "carpet"
           }
          ],
          "choropleth": [
           {
            "colorbar": {
             "outlinewidth": 0,
             "ticks": ""
            },
            "type": "choropleth"
           }
          ],
          "contour": [
           {
            "colorbar": {
             "outlinewidth": 0,
             "ticks": ""
            },
            "colorscale": [
             [
              0,
              "#0d0887"
             ],
             [
              0.1111111111111111,
              "#46039f"
             ],
             [
              0.2222222222222222,
              "#7201a8"
             ],
             [
              0.3333333333333333,
              "#9c179e"
             ],
             [
              0.4444444444444444,
              "#bd3786"
             ],
             [
              0.5555555555555556,
              "#d8576b"
             ],
             [
              0.6666666666666666,
              "#ed7953"
             ],
             [
              0.7777777777777778,
              "#fb9f3a"
             ],
             [
              0.8888888888888888,
              "#fdca26"
             ],
             [
              1,
              "#f0f921"
             ]
            ],
            "type": "contour"
           }
          ],
          "contourcarpet": [
           {
            "colorbar": {
             "outlinewidth": 0,
             "ticks": ""
            },
            "type": "contourcarpet"
           }
          ],
          "heatmap": [
           {
            "colorbar": {
             "outlinewidth": 0,
             "ticks": ""
            },
            "colorscale": [
             [
              0,
              "#0d0887"
             ],
             [
              0.1111111111111111,
              "#46039f"
             ],
             [
              0.2222222222222222,
              "#7201a8"
             ],
             [
              0.3333333333333333,
              "#9c179e"
             ],
             [
              0.4444444444444444,
              "#bd3786"
             ],
             [
              0.5555555555555556,
              "#d8576b"
             ],
             [
              0.6666666666666666,
              "#ed7953"
             ],
             [
              0.7777777777777778,
              "#fb9f3a"
             ],
             [
              0.8888888888888888,
              "#fdca26"
             ],
             [
              1,
              "#f0f921"
             ]
            ],
            "type": "heatmap"
           }
          ],
          "heatmapgl": [
           {
            "colorbar": {
             "outlinewidth": 0,
             "ticks": ""
            },
            "colorscale": [
             [
              0,
              "#0d0887"
             ],
             [
              0.1111111111111111,
              "#46039f"
             ],
             [
              0.2222222222222222,
              "#7201a8"
             ],
             [
              0.3333333333333333,
              "#9c179e"
             ],
             [
              0.4444444444444444,
              "#bd3786"
             ],
             [
              0.5555555555555556,
              "#d8576b"
             ],
             [
              0.6666666666666666,
              "#ed7953"
             ],
             [
              0.7777777777777778,
              "#fb9f3a"
             ],
             [
              0.8888888888888888,
              "#fdca26"
             ],
             [
              1,
              "#f0f921"
             ]
            ],
            "type": "heatmapgl"
           }
          ],
          "histogram": [
           {
            "marker": {
             "pattern": {
              "fillmode": "overlay",
              "size": 10,
              "solidity": 0.2
             }
            },
            "type": "histogram"
           }
          ],
          "histogram2d": [
           {
            "colorbar": {
             "outlinewidth": 0,
             "ticks": ""
            },
            "colorscale": [
             [
              0,
              "#0d0887"
             ],
             [
              0.1111111111111111,
              "#46039f"
             ],
             [
              0.2222222222222222,
              "#7201a8"
             ],
             [
              0.3333333333333333,
              "#9c179e"
             ],
             [
              0.4444444444444444,
              "#bd3786"
             ],
             [
              0.5555555555555556,
              "#d8576b"
             ],
             [
              0.6666666666666666,
              "#ed7953"
             ],
             [
              0.7777777777777778,
              "#fb9f3a"
             ],
             [
              0.8888888888888888,
              "#fdca26"
             ],
             [
              1,
              "#f0f921"
             ]
            ],
            "type": "histogram2d"
           }
          ],
          "histogram2dcontour": [
           {
            "colorbar": {
             "outlinewidth": 0,
             "ticks": ""
            },
            "colorscale": [
             [
              0,
              "#0d0887"
             ],
             [
              0.1111111111111111,
              "#46039f"
             ],
             [
              0.2222222222222222,
              "#7201a8"
             ],
             [
              0.3333333333333333,
              "#9c179e"
             ],
             [
              0.4444444444444444,
              "#bd3786"
             ],
             [
              0.5555555555555556,
              "#d8576b"
             ],
             [
              0.6666666666666666,
              "#ed7953"
             ],
             [
              0.7777777777777778,
              "#fb9f3a"
             ],
             [
              0.8888888888888888,
              "#fdca26"
             ],
             [
              1,
              "#f0f921"
             ]
            ],
            "type": "histogram2dcontour"
           }
          ],
          "mesh3d": [
           {
            "colorbar": {
             "outlinewidth": 0,
             "ticks": ""
            },
            "type": "mesh3d"
           }
          ],
          "parcoords": [
           {
            "line": {
             "colorbar": {
              "outlinewidth": 0,
              "ticks": ""
             }
            },
            "type": "parcoords"
           }
          ],
          "pie": [
           {
            "automargin": true,
            "type": "pie"
           }
          ],
          "scatter": [
           {
            "fillpattern": {
             "fillmode": "overlay",
             "size": 10,
             "solidity": 0.2
            },
            "type": "scatter"
           }
          ],
          "scatter3d": [
           {
            "line": {
             "colorbar": {
              "outlinewidth": 0,
              "ticks": ""
             }
            },
            "marker": {
             "colorbar": {
              "outlinewidth": 0,
              "ticks": ""
             }
            },
            "type": "scatter3d"
           }
          ],
          "scattercarpet": [
           {
            "marker": {
             "colorbar": {
              "outlinewidth": 0,
              "ticks": ""
             }
            },
            "type": "scattercarpet"
           }
          ],
          "scattergeo": [
           {
            "marker": {
             "colorbar": {
              "outlinewidth": 0,
              "ticks": ""
             }
            },
            "type": "scattergeo"
           }
          ],
          "scattergl": [
           {
            "marker": {
             "colorbar": {
              "outlinewidth": 0,
              "ticks": ""
             }
            },
            "type": "scattergl"
           }
          ],
          "scattermapbox": [
           {
            "marker": {
             "colorbar": {
              "outlinewidth": 0,
              "ticks": ""
             }
            },
            "type": "scattermapbox"
           }
          ],
          "scatterpolar": [
           {
            "marker": {
             "colorbar": {
              "outlinewidth": 0,
              "ticks": ""
             }
            },
            "type": "scatterpolar"
           }
          ],
          "scatterpolargl": [
           {
            "marker": {
             "colorbar": {
              "outlinewidth": 0,
              "ticks": ""
             }
            },
            "type": "scatterpolargl"
           }
          ],
          "scatterternary": [
           {
            "marker": {
             "colorbar": {
              "outlinewidth": 0,
              "ticks": ""
             }
            },
            "type": "scatterternary"
           }
          ],
          "surface": [
           {
            "colorbar": {
             "outlinewidth": 0,
             "ticks": ""
            },
            "colorscale": [
             [
              0,
              "#0d0887"
             ],
             [
              0.1111111111111111,
              "#46039f"
             ],
             [
              0.2222222222222222,
              "#7201a8"
             ],
             [
              0.3333333333333333,
              "#9c179e"
             ],
             [
              0.4444444444444444,
              "#bd3786"
             ],
             [
              0.5555555555555556,
              "#d8576b"
             ],
             [
              0.6666666666666666,
              "#ed7953"
             ],
             [
              0.7777777777777778,
              "#fb9f3a"
             ],
             [
              0.8888888888888888,
              "#fdca26"
             ],
             [
              1,
              "#f0f921"
             ]
            ],
            "type": "surface"
           }
          ],
          "table": [
           {
            "cells": {
             "fill": {
              "color": "#EBF0F8"
             },
             "line": {
              "color": "white"
             }
            },
            "header": {
             "fill": {
              "color": "#C8D4E3"
             },
             "line": {
              "color": "white"
             }
            },
            "type": "table"
           }
          ]
         },
         "layout": {
          "annotationdefaults": {
           "arrowcolor": "#2a3f5f",
           "arrowhead": 0,
           "arrowwidth": 1
          },
          "autotypenumbers": "strict",
          "coloraxis": {
           "colorbar": {
            "outlinewidth": 0,
            "ticks": ""
           }
          },
          "colorscale": {
           "diverging": [
            [
             0,
             "#8e0152"
            ],
            [
             0.1,
             "#c51b7d"
            ],
            [
             0.2,
             "#de77ae"
            ],
            [
             0.3,
             "#f1b6da"
            ],
            [
             0.4,
             "#fde0ef"
            ],
            [
             0.5,
             "#f7f7f7"
            ],
            [
             0.6,
             "#e6f5d0"
            ],
            [
             0.7,
             "#b8e186"
            ],
            [
             0.8,
             "#7fbc41"
            ],
            [
             0.9,
             "#4d9221"
            ],
            [
             1,
             "#276419"
            ]
           ],
           "sequential": [
            [
             0,
             "#0d0887"
            ],
            [
             0.1111111111111111,
             "#46039f"
            ],
            [
             0.2222222222222222,
             "#7201a8"
            ],
            [
             0.3333333333333333,
             "#9c179e"
            ],
            [
             0.4444444444444444,
             "#bd3786"
            ],
            [
             0.5555555555555556,
             "#d8576b"
            ],
            [
             0.6666666666666666,
             "#ed7953"
            ],
            [
             0.7777777777777778,
             "#fb9f3a"
            ],
            [
             0.8888888888888888,
             "#fdca26"
            ],
            [
             1,
             "#f0f921"
            ]
           ],
           "sequentialminus": [
            [
             0,
             "#0d0887"
            ],
            [
             0.1111111111111111,
             "#46039f"
            ],
            [
             0.2222222222222222,
             "#7201a8"
            ],
            [
             0.3333333333333333,
             "#9c179e"
            ],
            [
             0.4444444444444444,
             "#bd3786"
            ],
            [
             0.5555555555555556,
             "#d8576b"
            ],
            [
             0.6666666666666666,
             "#ed7953"
            ],
            [
             0.7777777777777778,
             "#fb9f3a"
            ],
            [
             0.8888888888888888,
             "#fdca26"
            ],
            [
             1,
             "#f0f921"
            ]
           ]
          },
          "colorway": [
           "#636efa",
           "#EF553B",
           "#00cc96",
           "#ab63fa",
           "#FFA15A",
           "#19d3f3",
           "#FF6692",
           "#B6E880",
           "#FF97FF",
           "#FECB52"
          ],
          "font": {
           "color": "#2a3f5f"
          },
          "geo": {
           "bgcolor": "white",
           "lakecolor": "white",
           "landcolor": "#E5ECF6",
           "showlakes": true,
           "showland": true,
           "subunitcolor": "white"
          },
          "hoverlabel": {
           "align": "left"
          },
          "hovermode": "closest",
          "mapbox": {
           "style": "light"
          },
          "paper_bgcolor": "white",
          "plot_bgcolor": "#E5ECF6",
          "polar": {
           "angularaxis": {
            "gridcolor": "white",
            "linecolor": "white",
            "ticks": ""
           },
           "bgcolor": "#E5ECF6",
           "radialaxis": {
            "gridcolor": "white",
            "linecolor": "white",
            "ticks": ""
           }
          },
          "scene": {
           "xaxis": {
            "backgroundcolor": "#E5ECF6",
            "gridcolor": "white",
            "gridwidth": 2,
            "linecolor": "white",
            "showbackground": true,
            "ticks": "",
            "zerolinecolor": "white"
           },
           "yaxis": {
            "backgroundcolor": "#E5ECF6",
            "gridcolor": "white",
            "gridwidth": 2,
            "linecolor": "white",
            "showbackground": true,
            "ticks": "",
            "zerolinecolor": "white"
           },
           "zaxis": {
            "backgroundcolor": "#E5ECF6",
            "gridcolor": "white",
            "gridwidth": 2,
            "linecolor": "white",
            "showbackground": true,
            "ticks": "",
            "zerolinecolor": "white"
           }
          },
          "shapedefaults": {
           "line": {
            "color": "#2a3f5f"
           }
          },
          "ternary": {
           "aaxis": {
            "gridcolor": "white",
            "linecolor": "white",
            "ticks": ""
           },
           "baxis": {
            "gridcolor": "white",
            "linecolor": "white",
            "ticks": ""
           },
           "bgcolor": "#E5ECF6",
           "caxis": {
            "gridcolor": "white",
            "linecolor": "white",
            "ticks": ""
           }
          },
          "title": {
           "x": 0.05
          },
          "xaxis": {
           "automargin": true,
           "gridcolor": "white",
           "linecolor": "white",
           "ticks": "",
           "title": {
            "standoff": 15
           },
           "zerolinecolor": "white",
           "zerolinewidth": 2
          },
          "yaxis": {
           "automargin": true,
           "gridcolor": "white",
           "linecolor": "white",
           "ticks": "",
           "title": {
            "standoff": 15
           },
           "zerolinecolor": "white",
           "zerolinewidth": 2
          }
         }
        },
        "xaxis": {
         "anchor": "y",
         "domain": [
          0,
          0.7363
         ],
         "title": {
          "text": "Rank_PCAN"
         }
        },
        "xaxis2": {
         "anchor": "y2",
         "domain": [
          0.7413,
          1
         ],
         "matches": "x2",
         "showgrid": false,
         "showline": false,
         "showticklabels": false,
         "ticks": ""
        },
        "xaxis3": {
         "anchor": "y3",
         "domain": [
          0,
          0.7363
         ],
         "matches": "x",
         "showgrid": true,
         "showticklabels": false
        },
        "xaxis4": {
         "anchor": "y4",
         "domain": [
          0.7413,
          1
         ],
         "matches": "x2",
         "showgrid": false,
         "showline": false,
         "showticklabels": false,
         "ticks": ""
        },
        "yaxis": {
         "anchor": "x",
         "domain": [
          0,
          0.7326
         ],
         "title": {
          "text": "Rank"
         }
        },
        "yaxis2": {
         "anchor": "x2",
         "domain": [
          0,
          0.7326
         ],
         "matches": "y",
         "showgrid": true,
         "showticklabels": false
        },
        "yaxis3": {
         "anchor": "x3",
         "domain": [
          0.7426,
          1
         ],
         "matches": "y3",
         "showgrid": true,
         "showline": false,
         "showticklabels": false,
         "ticks": ""
        },
        "yaxis4": {
         "anchor": "x4",
         "domain": [
          0.7426,
          1
         ],
         "matches": "y3",
         "showgrid": true,
         "showline": false,
         "showticklabels": false,
         "ticks": ""
        }
       }
      },
      "text/html": [
       "<div>                            <div id=\"a1a5e809-1725-4e62-a8d6-06a93b32d9c4\" class=\"plotly-graph-div\" style=\"height:525px; width:100%;\"></div>            <script type=\"text/javascript\">                require([\"plotly\"], function(Plotly) {                    window.PLOTLYENV=window.PLOTLYENV || {};                                    if (document.getElementById(\"a1a5e809-1725-4e62-a8d6-06a93b32d9c4\")) {                    Plotly.newPlot(                        \"a1a5e809-1725-4e62-a8d6-06a93b32d9c4\",                        [{\"customdata\":[[\"SL2-009\",\"CACNA1E\"],[\"SL2-016\",\"PACS1\"],[\"SL2-021\",\"CACNA1A\"],[\"SL2-029\",\"FGFR1\"],[\"SL2-033\",\"GABBR2\"],[\"SL2-049\",\"AFG3L2\"],[\"SL2-105\",\"THOC6\"],[\"SL2-127\",\"EHMT1\"],[\"SL2-144\",\"C2CD3\"],[\"SL2-145\",\"COL2A1\"],[\"SL2-147\",\"CACNA1A\"],[\"SL2-155\",\"CLN6\"],[\"SL2-156\",\"CLN6\"],[\"SL2-157\",\"CLN6\"],[\"SL2-158\",\"RUNX1\"],[\"SL2-164\",\"ATM\"],[\"SL2-167\",\"SOX2\"],[\"SL2-170\",\"KAT6A\"],[\"SL2-173\",\"BMP4\"],[\"SL2-1000\",\"PTPN11\"],[\"SL2-1006\",\"SCN2A\"],[\"SL2-1076\",\"RECQL4\"],[\"SL2-1167\",\"HNRNPU\"],[\"SL2-1181\",\"ARID1B\"],[\"SL2-1187\",\"POMGNT1\"],[\"SL2-1205\",\"NR2F1\"],[\"SL2-1209\",\"UBE3A\"],[\"SL2-1211\",\"SLC6A8\"],[\"SL2-1214\",\"CTCF\"],[\"SL2-1216\",\"UBA1\"],[\"SL2-1222\",\"ALPL\"],[\"SL2-1224\",\"ACTG2\"],[\"SL2-1253\",\"CHD2\"],[\"SL2-1256\",\"COL4A2\"],[\"SL2-1256\",\"COL4A2\"],[\"SL2-1256\",\"MEFV\"],[\"SL2-1256\",\"MEFV\"],[\"SL2-1275\",\"DEAF1\"],[\"SL2-1280\",\"NSD1\"],[\"SL2-1282\",\"MECP2\"],[\"SL2-1282\",\"MECP2\"],[\"SL2-1282\",\"MLH1\"],[\"SL2-1282\",\"MLH1\"],[\"SL2-1291\",\"GLMN\"],[\"SL2-1312\",\"TSPEAR\"],[\"SL2-1315\",\"CACNA1A\"],[\"SL2-1316\",\"SLC35C1\"],[\"SL2-1340\",\"ATP1A3\"],[\"SL2-1343\",\"MYH11\"],[\"SL2-1365\",\"ALG12\"],[\"SL2-1377\",\"DOCK8\"],[\"SL2-1382\",\"CTLA4\"],[\"SL2-1382\",\"CTLA4\"],[\"SL2-1382\",\"NOD2\"],[\"SL2-1382\",\"NOD2\"],[\"SL2-1383\",\"CTCF\"],[\"SL2-1385\",\"TRPS1\"],[\"SL2-1397\",\"ERCC6L2\"],[\"SL2-1431\",\"KMT2B\"],[\"SL2-1435\",\"SETD5\"],[\"SL2-1451\",\"MUC1\"],[\"SL2-1481\",\"ACTB\"],[\"SL2-1490\",\"SLC26A3\"],[\"SL2-1493\",\"TRIP12\"],[\"SL2-1496\",\"ASXL1\"],[\"SL2-1507\",\"COL4A4\"],[\"SL2-1529\",\"PGAP3\"],[\"SL2-1538\",\"GAA\"],[\"SL2-1539\",\"IFIH1\"],[\"SL2-1547\",\"NONO\"],[\"SL2-1554\",\"POGZ\"],[\"SL2-1556\",\"LGI1\"],[\"SL2-1581\",\"ZEB2\"],[\"SL2-1584\",\"KCNB1\"],[\"SL2-1600\",\"CNOT1\"],[\"SL2-1628\",\"AHDC1\"],[\"SL2-1631\",\"PTEN\"],[\"SL2-1653\",\"ATP1A3\"],[\"SL2-1685\",\"TRAPPC9\"],[\"SL2-1723\",\"CUL4B\"],[\"SL2-1766\",\"NSD1\"],[\"SL2-1768\",\"ACTG1\"],[\"SL2-1769\",\"ZSWIM6\"],[\"SL2-190\",\"EZH2\"],[\"SL2-190\",\"EZH2\"],[\"SL2-190\",\"DNMT3A\"],[\"SL2-190\",\"DNMT3A\"],[\"SL2-193\",\"EHMT1\"],[\"SL2-197\",\"IDH1\"],[\"SL2-198\",\"KMT2D\"],[\"SL2-203\",\"NAA15\"],[\"SL2-237\",\"USP9X\"],[\"SL2-245\",\"UBE2A\"],[\"SL2-252\",\"CIC\"],[\"SL2-254\",\"NEFL\"],[\"SL2-259\",\"DMD\"],[\"SL2-266\",\"SLC20A2\"],[\"SL2-1805\",\"MSTO1\"],[\"SL2-1842\",\"CUL3\"],[\"SL2-1886\",\"PPP3CA\"],[\"SL2-1924\",\"HTRA1\"],[\"SL2-1940\",\"SCN2A\"],[\"SL2-1978\",\"PIEZO1\"],[\"SL2-1989\",\"FOXP1\"],[\"SL2-1991\",\"CHD2\"],[\"SL2-2028\",\"PBX1\"],[\"SL2-2081\",\"SIN3A\"],[\"SL2-2086\",\"ABCC9\"],[\"SL2-2141\",\"PLA2G6\"],[\"SL2-2202\",\"TRIO\"],[\"SL2-2238\",\"BRCA2\"],[\"SL2-2239\",\"TRIO\"],[\"SL2-2246\",\"AMPD2\"],[\"SL2-2281\",\"MPZ\"],[\"SL2-2307\",\"PKD1\"],[\"SL2-2307\",\"PKD1\"],[\"SL2-2307\",\"COL11A1\"],[\"SL2-2307\",\"COL11A1\"],[\"SL2-2307\",\"VWF\"],[\"SL2-2307\",\"VWF\"],[\"SL2-2318\",\"TRRAP\"],[\"SL2-2325\",\"GJB2\"],[\"SL2-2328\",\"ALPL\"],[\"SL2-2328\",\"ALPL\"],[\"SL2-2328\",\"NF1\"],[\"SL2-2328\",\"NF1\"],[\"SL2-2354\",\"EFTUD2\"],[\"SL2-2357\",\"ABCD1\"],[\"SL2-2383\",\"NPC1\"],[\"SL2-2404\",\"NR2F2\"],[\"SL2-2433\",\"PTEN\"],[\"SL2-2490\",\"AAAS\"],[\"SL2-2511\",\"LZTR1\"],[\"SL2-2580\",\"TNFRSF1A\"],[\"SL2-2593\",\"ADCY5\"],[\"SL2-2612\",\"MECP2\"],[\"SL2-2646\",\"SMAD4\"],[\"SL2-2647\",\"SHANK3\"],[\"SL2-2689\",\"FLG\"],[\"SL2-273\",\"KANSL1\"],[\"SL2-276\",\"RYR1\"],[\"SL2-284\",\"ANO3\"],[\"SL2-287\",\"TBR1\"],[\"SL2-299\",\"PYCR2\"],[\"SL2-301\",\"KCNA2\"],[\"SL2-310\",\"UMOD\"],[\"SL2-313\",\"NDUFS4\"],[\"SL2-314\",\"TIA1\"],[\"SL2-315\",\"TRRAP\"],[\"SL2-319\",\"KIF11\"],[\"SL2-339\",\"OPA1\"],[\"SL2-349\",\"EXOSC3\"],[\"SL2-363\",\"FA2H\"],[\"SL2-376\",\"XPC\"],[\"SL2-381\",\"BCL11A\"],[\"SL2-387\",\"DDX3X\"],[\"SL2-388\",\"DCX\"],[\"SL2-392\",\"THAP1\"],[\"SL2-395\",\"CASR\"],[\"SL2-397\",\"CYP11A1\"],[\"SL2-400\",\"NR2F1\"],[\"SL2-405\",\"KMT2A\"],[\"SL2-410\",\"GJA1\"],[\"SL2-412\",\"SPG7\"],[\"SL2-421\",\"DEGS1\"],[\"SL2-424\",\"ATM\"],[\"SL2-437\",\"ASH1L\"],[\"SL2-440\",\"ACTA1\"],[\"SL2-442\",\"PTPN11\"],[\"SL2-443\",\"HCFC1\"],[\"SL2-446\",\"PSEN1\"],[\"SL2-449\",\"FBXO11\"],[\"SL2-454\",\"FAR1\"],[\"SL2-457\",\"TGFBR2\"],[\"SL2-458\",\"AEBP1\"],[\"SL2-462\",\"CACNA1A\"],[\"SL2-466\",\"SERPINA1\"],[\"SL2-468\",\"C12orf57\"],[\"SL2-469\",\"CYP7B1\"],[\"SL2-471\",\"ACTB\"],[\"SL2-472\",\"TRPV4\"],[\"SL2-473\",\"EP300\"],[\"SL2-485\",\"TUBB4A\"],[\"SL2-521\",\"TRMU\"],[\"SL2-528\",\"CLN3\"],[\"SL2-2962\",\"LOX\"],[\"SL2-3015\",\"STAG1\"],[\"SL2-3041\",\"NEB\"],[\"SL2-539\",\"EBF3\"],[\"SL2-540\",\"HMGCS2\"],[\"SL2-547\",\"SYNGAP1\"],[\"SL2-550\",\"LTBP3\"],[\"SL2-552\",\"ATP1A3\"],[\"SL2-557\",\"SIN3A\"],[\"SL2-557\",\"SIN3A\"],[\"SL2-557\",\"FLG\"],[\"SL2-557\",\"FLG\"],[\"SL2-557\",\"EDAR\"],[\"SL2-557\",\"EDAR\"],[\"SL2-563\",\"ASXL3\"],[\"SL2-566\",\"ACO2\"],[\"SL2-577\",\"ALDH18A1\"],[\"SL2-579\",\"TTN\"],[\"SL2-579\",\"TTN\"],[\"SL2-579\",\"MYBPC3\"],[\"SL2-579\",\"MYBPC3\"],[\"SL2-580\",\"ACVR1\"],[\"SL2-581\",\"MEFV\"],[\"SL2-592\",\"SLC25A46\"],[\"SL2-598\",\"WAC\"],[\"SL2-607\",\"SLC6A1\"],[\"SL2-623\",\"ENPP1\"],[\"SL2-632\",\"OCA2\"],[\"SL2-646\",\"CHAT\"],[\"SL2-653\",\"NFKB1\"],[\"SL2-657\",\"NKX2-1\"],[\"SL2-659\",\"GFAP\"],[\"SL2-659\",\"GFAP\"],[\"SL2-659\",\"ACVRL1\"],[\"SL2-659\",\"ACVRL1\"],[\"SL2-674\",\"PIGV\"],[\"SL2-681\",\"TBX4\"],[\"SL2-684\",\"SETD5\"],[\"SL2-686\",\"ARSB\"],[\"SL2-688\",\"B4GALNT1\"],[\"SL2-697\",\"ANKRD11\"],[\"SL2-699\",\"CHD7\"],[\"SL2-716\",\"SLC12A3\"],[\"SL2-724\",\"TUBA1A\"],[\"SL2-728\",\"NAA15\"],[\"SL2-732\",\"DOCK3\"],[\"SL2-752\",\"GNPTAB\"],[\"SL2-767\",\"CTCF\"],[\"SL2-795\",\"MECP2\"],[\"SL2-799\",\"GRIN1\"],[\"SL2-799\",\"GRIN1\"],[\"SL2-799\",\"FLG\"],[\"SL2-799\",\"FLG\"],[\"SL2-806\",\"JAK2\"],[\"SL2-816\",\"PIK3R1\"],[\"SL2-817\",\"CACNA1E\"],[\"SL2-835\",\"CACNA1F\"],[\"SL2-835\",\"CACNA1F\"],[\"SL2-835\",\"SPG11\"],[\"SL2-835\",\"SPG11\"],[\"SL2-842\",\"KDM6A\"],[\"SL2-844\",\"CHD2\"],[\"SL2-850\",\"TCF4\"],[\"SL2-852\",\"PLA2G6\"],[\"SL2-854\",\"MAP3K7\"],[\"SL2-860\",\"GABRA1\"],[\"SL2-865\",\"ZBTB18\"],[\"SL2-879\",\"RPS6KA3\"],[\"SL2-879\",\"RPS6KA3\"],[\"SL2-879\",\"USP9X\"],[\"SL2-879\",\"USP9X\"],[\"SL2-891\",\"CBL\"],[\"SL2-891\",\"CBL\"],[\"SL2-891\",\"ELN\"],[\"SL2-891\",\"ELN\"],[\"SL2-904\",\"CFTR\"],[\"SL2-910\",\"POLR3A\"],[\"SL2-919\",\"SON\"],[\"SL2-924\",\"SETD5\"],[\"SL2-938\",\"ZC4H2\"],[\"SL2-940\",\"BRPF1\"],[\"SL2-940\",\"BRPF1\"],[\"SL2-940\",\"KDM5C\"],[\"SL2-940\",\"KDM5C\"],[\"SL2-943\",\"DGAT1\"],[\"SL2-947\",\"SYNGAP1\"]],\"hovertemplate\":\"Method=delta_bayes_geo_PCAN<br>Rank_PCAN=%{x}<br>Rank=%{y}<br>Normalized ID=%{customdata[0]}<br>Gene1=%{customdata[1]}<extra></extra>\",\"legendgroup\":\"delta_bayes_geo_PCAN\",\"marker\":{\"color\":\"#636efa\",\"symbol\":\"circle\"},\"mode\":\"markers\",\"name\":\"delta_bayes_geo_PCAN\",\"orientation\":\"v\",\"showlegend\":true,\"x\":[143.0,826.0,945.0,5.0,1505.0,2169.0,920.0,1926.0,1.0,10.0,4.0,437.0,200.0,165.0,64.0,37.0,81.0,67.0,1451.0,2.0,31.0,858.0,1521.0,47.0,48.0,204.0,848.0,103.0,3378.0,2070.0,121.0,3737.0,876.0,999.0,795.0,999.0,795.0,38.0,1.0,18.0,2962.0,18.0,2962.0,903.0,11.0,3.0,408.0,1895.0,43.0,957.0,40.0,238.0,null,238.0,null,1583.0,767.0,21.0,701.0,455.0,35.0,1159.0,14.0,714.0,742.0,49.0,152.0,4.0,49.0,247.0,504.0,6.0,196.0,1395.0,170.0,716.0,927.0,119.0,339.0,957.0,138.0,2254.0,249.0,205.0,319.0,205.0,319.0,706.0,78.0,5.0,2229.0,322.0,226.0,887.0,10.0,45.0,11.0,14.0,5.0,901.0,26.0,202.0,463.0,634.0,131.0,276.0,988.0,241.0,45.0,85.0,22.0,266.0,455.0,643.0,444.0,1150.0,444.0,1150.0,444.0,1150.0,423.0,179.0,43.0,31.0,43.0,31.0,176.0,879.0,245.0,618.0,139.0,33.0,1080.0,477.0,2419.0,19.0,164.0,233.0,436.0,548.0,4.0,6.0,683.0,593.0,199.0,19.0,90.0,63.0,15.0,89.0,17.0,933.0,1.0,12.0,355.0,2309.0,302.0,3.0,642.0,7.0,611.0,8.0,71.0,104.0,94.0,137.0,192.0,2.0,187.0,1637.0,33.0,157.0,99.0,5.0,211.0,188.0,1513.0,185.0,432.0,352.0,22.0,205.0,447.0,1026.0,64.0,19.0,490.0,288.0,258.0,240.0,50.0,361.0,166.0,174.0,2267.0,174.0,2267.0,174.0,2267.0,491.0,894.0,38.0,28.0,25.0,28.0,25.0,365.0,708.0,367.0,627.0,2474.0,55.0,45.0,3.0,242.0,227.0,674.0,31.0,674.0,31.0,741.0,2002.0,203.0,81.0,7.0,2266.0,272.0,5.0,14.0,1.0,1324.0,6.0,2216.0,10.0,157.0,1938.0,157.0,1938.0,14.0,365.0,13.0,778.0,14.0,778.0,14.0,965.0,89.0,130.0,18.0,11.0,1055.0,2125.0,874.0,974.0,874.0,974.0,233.0,689.0,233.0,689.0,190.0,161.0,244.0,144.0,83.0,387.0,943.0,387.0,943.0,16.0,367.0],\"xaxis\":\"x\",\"y\":[-644.0,-2451.0,-1418.0,-3459.0,988.0,880.0,-2216.0,1051.0,-1702.0,-2955.0,-321.0,-1984.0,-3070.0,-318.0,-3027.0,-2808.0,-2618.0,-858.0,-1751.0,-360.0,-2629.0,-160.0,-1761.0,-439.0,-42.0,-2816.0,-265.0,-602.0,3129.0,2065.0,-1359.0,2325.0,305.0,131.0,-73.0,769.0,565.0,-10.0,-948.0,-3374.0,-430.0,-1450.0,1494.0,-2653.0,-340.0,-198.0,-214.0,1829.0,-498.0,526.0,-3507.0,214.0,null,-1819.0,null,-1169.0,-807.0,-1962.0,-2623.0,-417.0,-48.0,1129.0,-808.0,-417.0,48.0,-825.0,-2502.0,-2628.0,-2793.0,-3173.0,-577.0,-1992.0,-385.0,-1625.0,-1110.0,-2427.0,651.0,-43.0,-548.0,375.0,-1787.0,-117.0,-2147.0,-2893.0,-2779.0,-2391.0,-2277.0,-192.0,-2510.0,-3300.0,1598.0,-342.0,209.0,-497.0,-121.0,-2745.0,-325.0,-2211.0,-3343.0,893.0,-2361.0,-1767.0,-713.0,-2812.0,-1547.0,-2322.0,-301.0,-1545.0,-2139.0,-2784.0,-2711.0,-2895.0,-112.0,-1758.0,-3103.0,-2397.0,-2884.0,-2178.0,-1344.0,-638.0,194.0,-2819.0,-2764.0,-2776.0,-2530.0,-2542.0,-1094.0,-524.0,-449.0,-700.0,-3144.0,-3174.0,-1780.0,-1370.0,1064.0,-702.0,-2905.0,-1537.0,-2597.0,212.0,-862.0,-1041.0,-2840.0,420.0,-2968.0,-1448.0,-449.0,-2724.0,-1804.0,-3127.0,-1056.0,-2098.0,-3412.0,-3547.0,-262.0,-613.0,-2689.0,-3550.0,-2177.0,-1179.0,-530.0,-1784.0,-3340.0,-599.0,-2959.0,-877.0,-811.0,1.0,-88.0,49.0,-616.0,-3283.0,-3098.0,-3089.0,-1215.0,-1315.0,-1120.0,9.0,-617.0,-3168.0,-1486.0,-3057.0,-107.0,-2267.0,-2428.0,-1978.0,-840.0,-1039.0,-1523.0,-739.0,-229.0,-2343.0,-3305.0,-3024.0,-931.0,-900.0,1193.0,-1748.0,345.0,-1321.0,193.0,-3431.0,-3100.0,-3103.0,-2710.0,-2713.0,-2257.0,-2841.0,71.0,-514.0,124.0,-2915.0,-128.0,-3522.0,-3222.0,138.0,-180.0,-823.0,-853.0,-1496.0,666.0,-1357.0,-260.0,-914.0,-693.0,850.0,-1440.0,4.0,-2413.0,-3173.0,-1726.0,-918.0,1704.0,-388.0,-371.0,1410.0,-390.0,1391.0,-1398.0,111.0,-2424.0,-457.0,-1221.0,-63.0,-827.0,433.0,-3078.0,-3024.0,-663.0,-889.0,-975.0,881.0,834.0,934.0,513.0,613.0,-212.0,244.0,-1659.0,-1203.0,73.0,-295.0,-2555.0,-2890.0,-27.0,83.0,639.0,74.0,630.0,-3391.0,-2760.0],\"yaxis\":\"y\",\"type\":\"scatter\"},{\"alignmentgroup\":\"True\",\"bingroup\":\"x\",\"hovertemplate\":\"Method=delta_bayes_geo_PCAN<br>Rank_PCAN=%{x}<br>count=%{y}<extra></extra>\",\"legendgroup\":\"delta_bayes_geo_PCAN\",\"marker\":{\"color\":\"#636efa\"},\"name\":\"delta_bayes_geo_PCAN\",\"offsetgroup\":\"delta_bayes_geo_PCAN\",\"opacity\":0.5,\"showlegend\":false,\"x\":[143.0,826.0,945.0,5.0,1505.0,2169.0,920.0,1926.0,1.0,10.0,4.0,437.0,200.0,165.0,64.0,37.0,81.0,67.0,1451.0,2.0,31.0,858.0,1521.0,47.0,48.0,204.0,848.0,103.0,3378.0,2070.0,121.0,3737.0,876.0,999.0,795.0,999.0,795.0,38.0,1.0,18.0,2962.0,18.0,2962.0,903.0,11.0,3.0,408.0,1895.0,43.0,957.0,40.0,238.0,null,238.0,null,1583.0,767.0,21.0,701.0,455.0,35.0,1159.0,14.0,714.0,742.0,49.0,152.0,4.0,49.0,247.0,504.0,6.0,196.0,1395.0,170.0,716.0,927.0,119.0,339.0,957.0,138.0,2254.0,249.0,205.0,319.0,205.0,319.0,706.0,78.0,5.0,2229.0,322.0,226.0,887.0,10.0,45.0,11.0,14.0,5.0,901.0,26.0,202.0,463.0,634.0,131.0,276.0,988.0,241.0,45.0,85.0,22.0,266.0,455.0,643.0,444.0,1150.0,444.0,1150.0,444.0,1150.0,423.0,179.0,43.0,31.0,43.0,31.0,176.0,879.0,245.0,618.0,139.0,33.0,1080.0,477.0,2419.0,19.0,164.0,233.0,436.0,548.0,4.0,6.0,683.0,593.0,199.0,19.0,90.0,63.0,15.0,89.0,17.0,933.0,1.0,12.0,355.0,2309.0,302.0,3.0,642.0,7.0,611.0,8.0,71.0,104.0,94.0,137.0,192.0,2.0,187.0,1637.0,33.0,157.0,99.0,5.0,211.0,188.0,1513.0,185.0,432.0,352.0,22.0,205.0,447.0,1026.0,64.0,19.0,490.0,288.0,258.0,240.0,50.0,361.0,166.0,174.0,2267.0,174.0,2267.0,174.0,2267.0,491.0,894.0,38.0,28.0,25.0,28.0,25.0,365.0,708.0,367.0,627.0,2474.0,55.0,45.0,3.0,242.0,227.0,674.0,31.0,674.0,31.0,741.0,2002.0,203.0,81.0,7.0,2266.0,272.0,5.0,14.0,1.0,1324.0,6.0,2216.0,10.0,157.0,1938.0,157.0,1938.0,14.0,365.0,13.0,778.0,14.0,778.0,14.0,965.0,89.0,130.0,18.0,11.0,1055.0,2125.0,874.0,974.0,874.0,974.0,233.0,689.0,233.0,689.0,190.0,161.0,244.0,144.0,83.0,387.0,943.0,387.0,943.0,16.0,367.0],\"xaxis\":\"x3\",\"yaxis\":\"y3\",\"type\":\"histogram\"},{\"alignmentgroup\":\"True\",\"boxpoints\":\"all\",\"customdata\":[[\"SL2-009\",\"CACNA1E\"],[\"SL2-016\",\"PACS1\"],[\"SL2-021\",\"CACNA1A\"],[\"SL2-029\",\"FGFR1\"],[\"SL2-033\",\"GABBR2\"],[\"SL2-049\",\"AFG3L2\"],[\"SL2-105\",\"THOC6\"],[\"SL2-127\",\"EHMT1\"],[\"SL2-144\",\"C2CD3\"],[\"SL2-145\",\"COL2A1\"],[\"SL2-147\",\"CACNA1A\"],[\"SL2-155\",\"CLN6\"],[\"SL2-156\",\"CLN6\"],[\"SL2-157\",\"CLN6\"],[\"SL2-158\",\"RUNX1\"],[\"SL2-164\",\"ATM\"],[\"SL2-167\",\"SOX2\"],[\"SL2-170\",\"KAT6A\"],[\"SL2-173\",\"BMP4\"],[\"SL2-1000\",\"PTPN11\"],[\"SL2-1006\",\"SCN2A\"],[\"SL2-1076\",\"RECQL4\"],[\"SL2-1167\",\"HNRNPU\"],[\"SL2-1181\",\"ARID1B\"],[\"SL2-1187\",\"POMGNT1\"],[\"SL2-1205\",\"NR2F1\"],[\"SL2-1209\",\"UBE3A\"],[\"SL2-1211\",\"SLC6A8\"],[\"SL2-1214\",\"CTCF\"],[\"SL2-1216\",\"UBA1\"],[\"SL2-1222\",\"ALPL\"],[\"SL2-1224\",\"ACTG2\"],[\"SL2-1253\",\"CHD2\"],[\"SL2-1256\",\"COL4A2\"],[\"SL2-1256\",\"COL4A2\"],[\"SL2-1256\",\"MEFV\"],[\"SL2-1256\",\"MEFV\"],[\"SL2-1275\",\"DEAF1\"],[\"SL2-1280\",\"NSD1\"],[\"SL2-1282\",\"MECP2\"],[\"SL2-1282\",\"MECP2\"],[\"SL2-1282\",\"MLH1\"],[\"SL2-1282\",\"MLH1\"],[\"SL2-1291\",\"GLMN\"],[\"SL2-1312\",\"TSPEAR\"],[\"SL2-1315\",\"CACNA1A\"],[\"SL2-1316\",\"SLC35C1\"],[\"SL2-1340\",\"ATP1A3\"],[\"SL2-1343\",\"MYH11\"],[\"SL2-1365\",\"ALG12\"],[\"SL2-1377\",\"DOCK8\"],[\"SL2-1382\",\"CTLA4\"],[\"SL2-1382\",\"CTLA4\"],[\"SL2-1382\",\"NOD2\"],[\"SL2-1382\",\"NOD2\"],[\"SL2-1383\",\"CTCF\"],[\"SL2-1385\",\"TRPS1\"],[\"SL2-1397\",\"ERCC6L2\"],[\"SL2-1431\",\"KMT2B\"],[\"SL2-1435\",\"SETD5\"],[\"SL2-1451\",\"MUC1\"],[\"SL2-1481\",\"ACTB\"],[\"SL2-1490\",\"SLC26A3\"],[\"SL2-1493\",\"TRIP12\"],[\"SL2-1496\",\"ASXL1\"],[\"SL2-1507\",\"COL4A4\"],[\"SL2-1529\",\"PGAP3\"],[\"SL2-1538\",\"GAA\"],[\"SL2-1539\",\"IFIH1\"],[\"SL2-1547\",\"NONO\"],[\"SL2-1554\",\"POGZ\"],[\"SL2-1556\",\"LGI1\"],[\"SL2-1581\",\"ZEB2\"],[\"SL2-1584\",\"KCNB1\"],[\"SL2-1600\",\"CNOT1\"],[\"SL2-1628\",\"AHDC1\"],[\"SL2-1631\",\"PTEN\"],[\"SL2-1653\",\"ATP1A3\"],[\"SL2-1685\",\"TRAPPC9\"],[\"SL2-1723\",\"CUL4B\"],[\"SL2-1766\",\"NSD1\"],[\"SL2-1768\",\"ACTG1\"],[\"SL2-1769\",\"ZSWIM6\"],[\"SL2-190\",\"EZH2\"],[\"SL2-190\",\"EZH2\"],[\"SL2-190\",\"DNMT3A\"],[\"SL2-190\",\"DNMT3A\"],[\"SL2-193\",\"EHMT1\"],[\"SL2-197\",\"IDH1\"],[\"SL2-198\",\"KMT2D\"],[\"SL2-203\",\"NAA15\"],[\"SL2-237\",\"USP9X\"],[\"SL2-245\",\"UBE2A\"],[\"SL2-252\",\"CIC\"],[\"SL2-254\",\"NEFL\"],[\"SL2-259\",\"DMD\"],[\"SL2-266\",\"SLC20A2\"],[\"SL2-1805\",\"MSTO1\"],[\"SL2-1842\",\"CUL3\"],[\"SL2-1886\",\"PPP3CA\"],[\"SL2-1924\",\"HTRA1\"],[\"SL2-1940\",\"SCN2A\"],[\"SL2-1978\",\"PIEZO1\"],[\"SL2-1989\",\"FOXP1\"],[\"SL2-1991\",\"CHD2\"],[\"SL2-2028\",\"PBX1\"],[\"SL2-2081\",\"SIN3A\"],[\"SL2-2086\",\"ABCC9\"],[\"SL2-2141\",\"PLA2G6\"],[\"SL2-2202\",\"TRIO\"],[\"SL2-2238\",\"BRCA2\"],[\"SL2-2239\",\"TRIO\"],[\"SL2-2246\",\"AMPD2\"],[\"SL2-2281\",\"MPZ\"],[\"SL2-2307\",\"PKD1\"],[\"SL2-2307\",\"PKD1\"],[\"SL2-2307\",\"COL11A1\"],[\"SL2-2307\",\"COL11A1\"],[\"SL2-2307\",\"VWF\"],[\"SL2-2307\",\"VWF\"],[\"SL2-2318\",\"TRRAP\"],[\"SL2-2325\",\"GJB2\"],[\"SL2-2328\",\"ALPL\"],[\"SL2-2328\",\"ALPL\"],[\"SL2-2328\",\"NF1\"],[\"SL2-2328\",\"NF1\"],[\"SL2-2354\",\"EFTUD2\"],[\"SL2-2357\",\"ABCD1\"],[\"SL2-2383\",\"NPC1\"],[\"SL2-2404\",\"NR2F2\"],[\"SL2-2433\",\"PTEN\"],[\"SL2-2490\",\"AAAS\"],[\"SL2-2511\",\"LZTR1\"],[\"SL2-2580\",\"TNFRSF1A\"],[\"SL2-2593\",\"ADCY5\"],[\"SL2-2612\",\"MECP2\"],[\"SL2-2646\",\"SMAD4\"],[\"SL2-2647\",\"SHANK3\"],[\"SL2-2689\",\"FLG\"],[\"SL2-273\",\"KANSL1\"],[\"SL2-276\",\"RYR1\"],[\"SL2-284\",\"ANO3\"],[\"SL2-287\",\"TBR1\"],[\"SL2-299\",\"PYCR2\"],[\"SL2-301\",\"KCNA2\"],[\"SL2-310\",\"UMOD\"],[\"SL2-313\",\"NDUFS4\"],[\"SL2-314\",\"TIA1\"],[\"SL2-315\",\"TRRAP\"],[\"SL2-319\",\"KIF11\"],[\"SL2-339\",\"OPA1\"],[\"SL2-349\",\"EXOSC3\"],[\"SL2-363\",\"FA2H\"],[\"SL2-376\",\"XPC\"],[\"SL2-381\",\"BCL11A\"],[\"SL2-387\",\"DDX3X\"],[\"SL2-388\",\"DCX\"],[\"SL2-392\",\"THAP1\"],[\"SL2-395\",\"CASR\"],[\"SL2-397\",\"CYP11A1\"],[\"SL2-400\",\"NR2F1\"],[\"SL2-405\",\"KMT2A\"],[\"SL2-410\",\"GJA1\"],[\"SL2-412\",\"SPG7\"],[\"SL2-421\",\"DEGS1\"],[\"SL2-424\",\"ATM\"],[\"SL2-437\",\"ASH1L\"],[\"SL2-440\",\"ACTA1\"],[\"SL2-442\",\"PTPN11\"],[\"SL2-443\",\"HCFC1\"],[\"SL2-446\",\"PSEN1\"],[\"SL2-449\",\"FBXO11\"],[\"SL2-454\",\"FAR1\"],[\"SL2-457\",\"TGFBR2\"],[\"SL2-458\",\"AEBP1\"],[\"SL2-462\",\"CACNA1A\"],[\"SL2-466\",\"SERPINA1\"],[\"SL2-468\",\"C12orf57\"],[\"SL2-469\",\"CYP7B1\"],[\"SL2-471\",\"ACTB\"],[\"SL2-472\",\"TRPV4\"],[\"SL2-473\",\"EP300\"],[\"SL2-485\",\"TUBB4A\"],[\"SL2-521\",\"TRMU\"],[\"SL2-528\",\"CLN3\"],[\"SL2-2962\",\"LOX\"],[\"SL2-3015\",\"STAG1\"],[\"SL2-3041\",\"NEB\"],[\"SL2-539\",\"EBF3\"],[\"SL2-540\",\"HMGCS2\"],[\"SL2-547\",\"SYNGAP1\"],[\"SL2-550\",\"LTBP3\"],[\"SL2-552\",\"ATP1A3\"],[\"SL2-557\",\"SIN3A\"],[\"SL2-557\",\"SIN3A\"],[\"SL2-557\",\"FLG\"],[\"SL2-557\",\"FLG\"],[\"SL2-557\",\"EDAR\"],[\"SL2-557\",\"EDAR\"],[\"SL2-563\",\"ASXL3\"],[\"SL2-566\",\"ACO2\"],[\"SL2-577\",\"ALDH18A1\"],[\"SL2-579\",\"TTN\"],[\"SL2-579\",\"TTN\"],[\"SL2-579\",\"MYBPC3\"],[\"SL2-579\",\"MYBPC3\"],[\"SL2-580\",\"ACVR1\"],[\"SL2-581\",\"MEFV\"],[\"SL2-592\",\"SLC25A46\"],[\"SL2-598\",\"WAC\"],[\"SL2-607\",\"SLC6A1\"],[\"SL2-623\",\"ENPP1\"],[\"SL2-632\",\"OCA2\"],[\"SL2-646\",\"CHAT\"],[\"SL2-653\",\"NFKB1\"],[\"SL2-657\",\"NKX2-1\"],[\"SL2-659\",\"GFAP\"],[\"SL2-659\",\"GFAP\"],[\"SL2-659\",\"ACVRL1\"],[\"SL2-659\",\"ACVRL1\"],[\"SL2-674\",\"PIGV\"],[\"SL2-681\",\"TBX4\"],[\"SL2-684\",\"SETD5\"],[\"SL2-686\",\"ARSB\"],[\"SL2-688\",\"B4GALNT1\"],[\"SL2-697\",\"ANKRD11\"],[\"SL2-699\",\"CHD7\"],[\"SL2-716\",\"SLC12A3\"],[\"SL2-724\",\"TUBA1A\"],[\"SL2-728\",\"NAA15\"],[\"SL2-732\",\"DOCK3\"],[\"SL2-752\",\"GNPTAB\"],[\"SL2-767\",\"CTCF\"],[\"SL2-795\",\"MECP2\"],[\"SL2-799\",\"GRIN1\"],[\"SL2-799\",\"GRIN1\"],[\"SL2-799\",\"FLG\"],[\"SL2-799\",\"FLG\"],[\"SL2-806\",\"JAK2\"],[\"SL2-816\",\"PIK3R1\"],[\"SL2-817\",\"CACNA1E\"],[\"SL2-835\",\"CACNA1F\"],[\"SL2-835\",\"CACNA1F\"],[\"SL2-835\",\"SPG11\"],[\"SL2-835\",\"SPG11\"],[\"SL2-842\",\"KDM6A\"],[\"SL2-844\",\"CHD2\"],[\"SL2-850\",\"TCF4\"],[\"SL2-852\",\"PLA2G6\"],[\"SL2-854\",\"MAP3K7\"],[\"SL2-860\",\"GABRA1\"],[\"SL2-865\",\"ZBTB18\"],[\"SL2-879\",\"RPS6KA3\"],[\"SL2-879\",\"RPS6KA3\"],[\"SL2-879\",\"USP9X\"],[\"SL2-879\",\"USP9X\"],[\"SL2-891\",\"CBL\"],[\"SL2-891\",\"CBL\"],[\"SL2-891\",\"ELN\"],[\"SL2-891\",\"ELN\"],[\"SL2-904\",\"CFTR\"],[\"SL2-910\",\"POLR3A\"],[\"SL2-919\",\"SON\"],[\"SL2-924\",\"SETD5\"],[\"SL2-938\",\"ZC4H2\"],[\"SL2-940\",\"BRPF1\"],[\"SL2-940\",\"BRPF1\"],[\"SL2-940\",\"KDM5C\"],[\"SL2-940\",\"KDM5C\"],[\"SL2-943\",\"DGAT1\"],[\"SL2-947\",\"SYNGAP1\"]],\"fillcolor\":\"rgba(255,255,255,0)\",\"hoveron\":\"points\",\"hovertemplate\":\"Method=delta_bayes_geo_PCAN<br>Rank=%{y}<br>Normalized ID=%{customdata[0]}<br>Gene1=%{customdata[1]}<extra></extra>\",\"jitter\":0,\"legendgroup\":\"delta_bayes_geo_PCAN\",\"line\":{\"color\":\"rgba(255,255,255,0)\"},\"marker\":{\"color\":\"#636efa\",\"symbol\":\"line-ew-open\"},\"name\":\"delta_bayes_geo_PCAN\",\"offsetgroup\":\"delta_bayes_geo_PCAN\",\"showlegend\":false,\"xaxis\":\"x2\",\"y\":[-644.0,-2451.0,-1418.0,-3459.0,988.0,880.0,-2216.0,1051.0,-1702.0,-2955.0,-321.0,-1984.0,-3070.0,-318.0,-3027.0,-2808.0,-2618.0,-858.0,-1751.0,-360.0,-2629.0,-160.0,-1761.0,-439.0,-42.0,-2816.0,-265.0,-602.0,3129.0,2065.0,-1359.0,2325.0,305.0,131.0,-73.0,769.0,565.0,-10.0,-948.0,-3374.0,-430.0,-1450.0,1494.0,-2653.0,-340.0,-198.0,-214.0,1829.0,-498.0,526.0,-3507.0,214.0,null,-1819.0,null,-1169.0,-807.0,-1962.0,-2623.0,-417.0,-48.0,1129.0,-808.0,-417.0,48.0,-825.0,-2502.0,-2628.0,-2793.0,-3173.0,-577.0,-1992.0,-385.0,-1625.0,-1110.0,-2427.0,651.0,-43.0,-548.0,375.0,-1787.0,-117.0,-2147.0,-2893.0,-2779.0,-2391.0,-2277.0,-192.0,-2510.0,-3300.0,1598.0,-342.0,209.0,-497.0,-121.0,-2745.0,-325.0,-2211.0,-3343.0,893.0,-2361.0,-1767.0,-713.0,-2812.0,-1547.0,-2322.0,-301.0,-1545.0,-2139.0,-2784.0,-2711.0,-2895.0,-112.0,-1758.0,-3103.0,-2397.0,-2884.0,-2178.0,-1344.0,-638.0,194.0,-2819.0,-2764.0,-2776.0,-2530.0,-2542.0,-1094.0,-524.0,-449.0,-700.0,-3144.0,-3174.0,-1780.0,-1370.0,1064.0,-702.0,-2905.0,-1537.0,-2597.0,212.0,-862.0,-1041.0,-2840.0,420.0,-2968.0,-1448.0,-449.0,-2724.0,-1804.0,-3127.0,-1056.0,-2098.0,-3412.0,-3547.0,-262.0,-613.0,-2689.0,-3550.0,-2177.0,-1179.0,-530.0,-1784.0,-3340.0,-599.0,-2959.0,-877.0,-811.0,1.0,-88.0,49.0,-616.0,-3283.0,-3098.0,-3089.0,-1215.0,-1315.0,-1120.0,9.0,-617.0,-3168.0,-1486.0,-3057.0,-107.0,-2267.0,-2428.0,-1978.0,-840.0,-1039.0,-1523.0,-739.0,-229.0,-2343.0,-3305.0,-3024.0,-931.0,-900.0,1193.0,-1748.0,345.0,-1321.0,193.0,-3431.0,-3100.0,-3103.0,-2710.0,-2713.0,-2257.0,-2841.0,71.0,-514.0,124.0,-2915.0,-128.0,-3522.0,-3222.0,138.0,-180.0,-823.0,-853.0,-1496.0,666.0,-1357.0,-260.0,-914.0,-693.0,850.0,-1440.0,4.0,-2413.0,-3173.0,-1726.0,-918.0,1704.0,-388.0,-371.0,1410.0,-390.0,1391.0,-1398.0,111.0,-2424.0,-457.0,-1221.0,-63.0,-827.0,433.0,-3078.0,-3024.0,-663.0,-889.0,-975.0,881.0,834.0,934.0,513.0,613.0,-212.0,244.0,-1659.0,-1203.0,73.0,-295.0,-2555.0,-2890.0,-27.0,83.0,639.0,74.0,630.0,-3391.0,-2760.0],\"yaxis\":\"y2\",\"type\":\"box\"}],                        {\"template\":{\"data\":{\"histogram2dcontour\":[{\"type\":\"histogram2dcontour\",\"colorbar\":{\"outlinewidth\":0,\"ticks\":\"\"},\"colorscale\":[[0.0,\"#0d0887\"],[0.1111111111111111,\"#46039f\"],[0.2222222222222222,\"#7201a8\"],[0.3333333333333333,\"#9c179e\"],[0.4444444444444444,\"#bd3786\"],[0.5555555555555556,\"#d8576b\"],[0.6666666666666666,\"#ed7953\"],[0.7777777777777778,\"#fb9f3a\"],[0.8888888888888888,\"#fdca26\"],[1.0,\"#f0f921\"]]}],\"choropleth\":[{\"type\":\"choropleth\",\"colorbar\":{\"outlinewidth\":0,\"ticks\":\"\"}}],\"histogram2d\":[{\"type\":\"histogram2d\",\"colorbar\":{\"outlinewidth\":0,\"ticks\":\"\"},\"colorscale\":[[0.0,\"#0d0887\"],[0.1111111111111111,\"#46039f\"],[0.2222222222222222,\"#7201a8\"],[0.3333333333333333,\"#9c179e\"],[0.4444444444444444,\"#bd3786\"],[0.5555555555555556,\"#d8576b\"],[0.6666666666666666,\"#ed7953\"],[0.7777777777777778,\"#fb9f3a\"],[0.8888888888888888,\"#fdca26\"],[1.0,\"#f0f921\"]]}],\"heatmap\":[{\"type\":\"heatmap\",\"colorbar\":{\"outlinewidth\":0,\"ticks\":\"\"},\"colorscale\":[[0.0,\"#0d0887\"],[0.1111111111111111,\"#46039f\"],[0.2222222222222222,\"#7201a8\"],[0.3333333333333333,\"#9c179e\"],[0.4444444444444444,\"#bd3786\"],[0.5555555555555556,\"#d8576b\"],[0.6666666666666666,\"#ed7953\"],[0.7777777777777778,\"#fb9f3a\"],[0.8888888888888888,\"#fdca26\"],[1.0,\"#f0f921\"]]}],\"heatmapgl\":[{\"type\":\"heatmapgl\",\"colorbar\":{\"outlinewidth\":0,\"ticks\":\"\"},\"colorscale\":[[0.0,\"#0d0887\"],[0.1111111111111111,\"#46039f\"],[0.2222222222222222,\"#7201a8\"],[0.3333333333333333,\"#9c179e\"],[0.4444444444444444,\"#bd3786\"],[0.5555555555555556,\"#d8576b\"],[0.6666666666666666,\"#ed7953\"],[0.7777777777777778,\"#fb9f3a\"],[0.8888888888888888,\"#fdca26\"],[1.0,\"#f0f921\"]]}],\"contourcarpet\":[{\"type\":\"contourcarpet\",\"colorbar\":{\"outlinewidth\":0,\"ticks\":\"\"}}],\"contour\":[{\"type\":\"contour\",\"colorbar\":{\"outlinewidth\":0,\"ticks\":\"\"},\"colorscale\":[[0.0,\"#0d0887\"],[0.1111111111111111,\"#46039f\"],[0.2222222222222222,\"#7201a8\"],[0.3333333333333333,\"#9c179e\"],[0.4444444444444444,\"#bd3786\"],[0.5555555555555556,\"#d8576b\"],[0.6666666666666666,\"#ed7953\"],[0.7777777777777778,\"#fb9f3a\"],[0.8888888888888888,\"#fdca26\"],[1.0,\"#f0f921\"]]}],\"surface\":[{\"type\":\"surface\",\"colorbar\":{\"outlinewidth\":0,\"ticks\":\"\"},\"colorscale\":[[0.0,\"#0d0887\"],[0.1111111111111111,\"#46039f\"],[0.2222222222222222,\"#7201a8\"],[0.3333333333333333,\"#9c179e\"],[0.4444444444444444,\"#bd3786\"],[0.5555555555555556,\"#d8576b\"],[0.6666666666666666,\"#ed7953\"],[0.7777777777777778,\"#fb9f3a\"],[0.8888888888888888,\"#fdca26\"],[1.0,\"#f0f921\"]]}],\"mesh3d\":[{\"type\":\"mesh3d\",\"colorbar\":{\"outlinewidth\":0,\"ticks\":\"\"}}],\"scatter\":[{\"fillpattern\":{\"fillmode\":\"overlay\",\"size\":10,\"solidity\":0.2},\"type\":\"scatter\"}],\"parcoords\":[{\"type\":\"parcoords\",\"line\":{\"colorbar\":{\"outlinewidth\":0,\"ticks\":\"\"}}}],\"scatterpolargl\":[{\"type\":\"scatterpolargl\",\"marker\":{\"colorbar\":{\"outlinewidth\":0,\"ticks\":\"\"}}}],\"bar\":[{\"error_x\":{\"color\":\"#2a3f5f\"},\"error_y\":{\"color\":\"#2a3f5f\"},\"marker\":{\"line\":{\"color\":\"#E5ECF6\",\"width\":0.5},\"pattern\":{\"fillmode\":\"overlay\",\"size\":10,\"solidity\":0.2}},\"type\":\"bar\"}],\"scattergeo\":[{\"type\":\"scattergeo\",\"marker\":{\"colorbar\":{\"outlinewidth\":0,\"ticks\":\"\"}}}],\"scatterpolar\":[{\"type\":\"scatterpolar\",\"marker\":{\"colorbar\":{\"outlinewidth\":0,\"ticks\":\"\"}}}],\"histogram\":[{\"marker\":{\"pattern\":{\"fillmode\":\"overlay\",\"size\":10,\"solidity\":0.2}},\"type\":\"histogram\"}],\"scattergl\":[{\"type\":\"scattergl\",\"marker\":{\"colorbar\":{\"outlinewidth\":0,\"ticks\":\"\"}}}],\"scatter3d\":[{\"type\":\"scatter3d\",\"line\":{\"colorbar\":{\"outlinewidth\":0,\"ticks\":\"\"}},\"marker\":{\"colorbar\":{\"outlinewidth\":0,\"ticks\":\"\"}}}],\"scattermapbox\":[{\"type\":\"scattermapbox\",\"marker\":{\"colorbar\":{\"outlinewidth\":0,\"ticks\":\"\"}}}],\"scatterternary\":[{\"type\":\"scatterternary\",\"marker\":{\"colorbar\":{\"outlinewidth\":0,\"ticks\":\"\"}}}],\"scattercarpet\":[{\"type\":\"scattercarpet\",\"marker\":{\"colorbar\":{\"outlinewidth\":0,\"ticks\":\"\"}}}],\"carpet\":[{\"aaxis\":{\"endlinecolor\":\"#2a3f5f\",\"gridcolor\":\"white\",\"linecolor\":\"white\",\"minorgridcolor\":\"white\",\"startlinecolor\":\"#2a3f5f\"},\"baxis\":{\"endlinecolor\":\"#2a3f5f\",\"gridcolor\":\"white\",\"linecolor\":\"white\",\"minorgridcolor\":\"white\",\"startlinecolor\":\"#2a3f5f\"},\"type\":\"carpet\"}],\"table\":[{\"cells\":{\"fill\":{\"color\":\"#EBF0F8\"},\"line\":{\"color\":\"white\"}},\"header\":{\"fill\":{\"color\":\"#C8D4E3\"},\"line\":{\"color\":\"white\"}},\"type\":\"table\"}],\"barpolar\":[{\"marker\":{\"line\":{\"color\":\"#E5ECF6\",\"width\":0.5},\"pattern\":{\"fillmode\":\"overlay\",\"size\":10,\"solidity\":0.2}},\"type\":\"barpolar\"}],\"pie\":[{\"automargin\":true,\"type\":\"pie\"}]},\"layout\":{\"autotypenumbers\":\"strict\",\"colorway\":[\"#636efa\",\"#EF553B\",\"#00cc96\",\"#ab63fa\",\"#FFA15A\",\"#19d3f3\",\"#FF6692\",\"#B6E880\",\"#FF97FF\",\"#FECB52\"],\"font\":{\"color\":\"#2a3f5f\"},\"hovermode\":\"closest\",\"hoverlabel\":{\"align\":\"left\"},\"paper_bgcolor\":\"white\",\"plot_bgcolor\":\"#E5ECF6\",\"polar\":{\"bgcolor\":\"#E5ECF6\",\"angularaxis\":{\"gridcolor\":\"white\",\"linecolor\":\"white\",\"ticks\":\"\"},\"radialaxis\":{\"gridcolor\":\"white\",\"linecolor\":\"white\",\"ticks\":\"\"}},\"ternary\":{\"bgcolor\":\"#E5ECF6\",\"aaxis\":{\"gridcolor\":\"white\",\"linecolor\":\"white\",\"ticks\":\"\"},\"baxis\":{\"gridcolor\":\"white\",\"linecolor\":\"white\",\"ticks\":\"\"},\"caxis\":{\"gridcolor\":\"white\",\"linecolor\":\"white\",\"ticks\":\"\"}},\"coloraxis\":{\"colorbar\":{\"outlinewidth\":0,\"ticks\":\"\"}},\"colorscale\":{\"sequential\":[[0.0,\"#0d0887\"],[0.1111111111111111,\"#46039f\"],[0.2222222222222222,\"#7201a8\"],[0.3333333333333333,\"#9c179e\"],[0.4444444444444444,\"#bd3786\"],[0.5555555555555556,\"#d8576b\"],[0.6666666666666666,\"#ed7953\"],[0.7777777777777778,\"#fb9f3a\"],[0.8888888888888888,\"#fdca26\"],[1.0,\"#f0f921\"]],\"sequentialminus\":[[0.0,\"#0d0887\"],[0.1111111111111111,\"#46039f\"],[0.2222222222222222,\"#7201a8\"],[0.3333333333333333,\"#9c179e\"],[0.4444444444444444,\"#bd3786\"],[0.5555555555555556,\"#d8576b\"],[0.6666666666666666,\"#ed7953\"],[0.7777777777777778,\"#fb9f3a\"],[0.8888888888888888,\"#fdca26\"],[1.0,\"#f0f921\"]],\"diverging\":[[0,\"#8e0152\"],[0.1,\"#c51b7d\"],[0.2,\"#de77ae\"],[0.3,\"#f1b6da\"],[0.4,\"#fde0ef\"],[0.5,\"#f7f7f7\"],[0.6,\"#e6f5d0\"],[0.7,\"#b8e186\"],[0.8,\"#7fbc41\"],[0.9,\"#4d9221\"],[1,\"#276419\"]]},\"xaxis\":{\"gridcolor\":\"white\",\"linecolor\":\"white\",\"ticks\":\"\",\"title\":{\"standoff\":15},\"zerolinecolor\":\"white\",\"automargin\":true,\"zerolinewidth\":2},\"yaxis\":{\"gridcolor\":\"white\",\"linecolor\":\"white\",\"ticks\":\"\",\"title\":{\"standoff\":15},\"zerolinecolor\":\"white\",\"automargin\":true,\"zerolinewidth\":2},\"scene\":{\"xaxis\":{\"backgroundcolor\":\"#E5ECF6\",\"gridcolor\":\"white\",\"linecolor\":\"white\",\"showbackground\":true,\"ticks\":\"\",\"zerolinecolor\":\"white\",\"gridwidth\":2},\"yaxis\":{\"backgroundcolor\":\"#E5ECF6\",\"gridcolor\":\"white\",\"linecolor\":\"white\",\"showbackground\":true,\"ticks\":\"\",\"zerolinecolor\":\"white\",\"gridwidth\":2},\"zaxis\":{\"backgroundcolor\":\"#E5ECF6\",\"gridcolor\":\"white\",\"linecolor\":\"white\",\"showbackground\":true,\"ticks\":\"\",\"zerolinecolor\":\"white\",\"gridwidth\":2}},\"shapedefaults\":{\"line\":{\"color\":\"#2a3f5f\"}},\"annotationdefaults\":{\"arrowcolor\":\"#2a3f5f\",\"arrowhead\":0,\"arrowwidth\":1},\"geo\":{\"bgcolor\":\"white\",\"landcolor\":\"#E5ECF6\",\"subunitcolor\":\"white\",\"showland\":true,\"showlakes\":true,\"lakecolor\":\"white\"},\"title\":{\"x\":0.05},\"mapbox\":{\"style\":\"light\"}}},\"xaxis\":{\"anchor\":\"y\",\"domain\":[0.0,0.7363],\"title\":{\"text\":\"Rank_PCAN\"}},\"yaxis\":{\"anchor\":\"x\",\"domain\":[0.0,0.7326],\"title\":{\"text\":\"Rank\"}},\"xaxis2\":{\"anchor\":\"y2\",\"domain\":[0.7413,1.0],\"matches\":\"x2\",\"showticklabels\":false,\"showline\":false,\"ticks\":\"\",\"showgrid\":false},\"yaxis2\":{\"anchor\":\"x2\",\"domain\":[0.0,0.7326],\"matches\":\"y\",\"showticklabels\":false,\"showgrid\":true},\"xaxis3\":{\"anchor\":\"y3\",\"domain\":[0.0,0.7363],\"matches\":\"x\",\"showticklabels\":false,\"showgrid\":true},\"yaxis3\":{\"anchor\":\"x3\",\"domain\":[0.7426,1.0],\"matches\":\"y3\",\"showticklabels\":false,\"showline\":false,\"ticks\":\"\",\"showgrid\":true},\"xaxis4\":{\"anchor\":\"y4\",\"domain\":[0.7413,1.0],\"matches\":\"x2\",\"showticklabels\":false,\"showgrid\":false,\"showline\":false,\"ticks\":\"\"},\"yaxis4\":{\"anchor\":\"x4\",\"domain\":[0.7426,1.0],\"matches\":\"y3\",\"showticklabels\":false,\"showline\":false,\"ticks\":\"\",\"showgrid\":true},\"legend\":{\"title\":{\"text\":\"Method\"},\"tracegroupgap\":0},\"margin\":{\"t\":60},\"barmode\":\"overlay\"},                        {\"responsive\": true}                    ).then(function(){\n",
       "                            \n",
       "var gd = document.getElementById('a1a5e809-1725-4e62-a8d6-06a93b32d9c4');\n",
       "var x = new MutationObserver(function (mutations, observer) {{\n",
       "        var display = window.getComputedStyle(gd).display;\n",
       "        if (!display || display === 'none') {{\n",
       "            console.log([gd, 'removed!']);\n",
       "            Plotly.purge(gd);\n",
       "            observer.disconnect();\n",
       "        }}\n",
       "}});\n",
       "\n",
       "// Listen for the removal of the full notebook cells\n",
       "var notebookContainer = gd.closest('#notebook-container');\n",
       "if (notebookContainer) {{\n",
       "    x.observe(notebookContainer, {childList: true});\n",
       "}}\n",
       "\n",
       "// Listen for the clearing of the current output cell\n",
       "var outputEl = gd.closest('.output');\n",
       "if (outputEl) {{\n",
       "    x.observe(outputEl, {childList: true});\n",
       "}}\n",
       "\n",
       "                        })                };                });            </script>        </div>"
      ]
     },
     "metadata": {},
     "output_type": "display_data"
    },
    {
     "data": {
      "application/vnd.plotly.v1+json": {
       "config": {
        "plotlyServerURL": "https://plot.ly"
       },
       "data": [
        {
         "customdata": [
          [
           "SL2-009",
           "CACNA1E"
          ],
          [
           "SL2-016",
           "PACS1"
          ],
          [
           "SL2-021",
           "CACNA1A"
          ],
          [
           "SL2-029",
           "FGFR1"
          ],
          [
           "SL2-033",
           "GABBR2"
          ],
          [
           "SL2-049",
           "AFG3L2"
          ],
          [
           "SL2-105",
           "THOC6"
          ],
          [
           "SL2-127",
           "EHMT1"
          ],
          [
           "SL2-144",
           "C2CD3"
          ],
          [
           "SL2-145",
           "COL2A1"
          ],
          [
           "SL2-147",
           "CACNA1A"
          ],
          [
           "SL2-155",
           "CLN6"
          ],
          [
           "SL2-156",
           "CLN6"
          ],
          [
           "SL2-157",
           "CLN6"
          ],
          [
           "SL2-158",
           "RUNX1"
          ],
          [
           "SL2-164",
           "ATM"
          ],
          [
           "SL2-167",
           "SOX2"
          ],
          [
           "SL2-170",
           "KAT6A"
          ],
          [
           "SL2-173",
           "BMP4"
          ],
          [
           "SL2-1000",
           "PTPN11"
          ],
          [
           "SL2-1006",
           "SCN2A"
          ],
          [
           "SL2-1076",
           "RECQL4"
          ],
          [
           "SL2-1167",
           "HNRNPU"
          ],
          [
           "SL2-1181",
           "ARID1B"
          ],
          [
           "SL2-1187",
           "POMGNT1"
          ],
          [
           "SL2-1205",
           "NR2F1"
          ],
          [
           "SL2-1209",
           "UBE3A"
          ],
          [
           "SL2-1211",
           "SLC6A8"
          ],
          [
           "SL2-1214",
           "CTCF"
          ],
          [
           "SL2-1216",
           "UBA1"
          ],
          [
           "SL2-1222",
           "ALPL"
          ],
          [
           "SL2-1224",
           "ACTG2"
          ],
          [
           "SL2-1253",
           "CHD2"
          ],
          [
           "SL2-1256",
           "COL4A2"
          ],
          [
           "SL2-1256",
           "COL4A2"
          ],
          [
           "SL2-1256",
           "MEFV"
          ],
          [
           "SL2-1256",
           "MEFV"
          ],
          [
           "SL2-1275",
           "DEAF1"
          ],
          [
           "SL2-1280",
           "NSD1"
          ],
          [
           "SL2-1282",
           "MECP2"
          ],
          [
           "SL2-1282",
           "MECP2"
          ],
          [
           "SL2-1282",
           "MLH1"
          ],
          [
           "SL2-1282",
           "MLH1"
          ],
          [
           "SL2-1291",
           "GLMN"
          ],
          [
           "SL2-1312",
           "TSPEAR"
          ],
          [
           "SL2-1315",
           "CACNA1A"
          ],
          [
           "SL2-1316",
           "SLC35C1"
          ],
          [
           "SL2-1340",
           "ATP1A3"
          ],
          [
           "SL2-1343",
           "MYH11"
          ],
          [
           "SL2-1365",
           "ALG12"
          ],
          [
           "SL2-1377",
           "DOCK8"
          ],
          [
           "SL2-1382",
           "CTLA4"
          ],
          [
           "SL2-1382",
           "CTLA4"
          ],
          [
           "SL2-1382",
           "NOD2"
          ],
          [
           "SL2-1382",
           "NOD2"
          ],
          [
           "SL2-1383",
           "CTCF"
          ],
          [
           "SL2-1385",
           "TRPS1"
          ],
          [
           "SL2-1397",
           "ERCC6L2"
          ],
          [
           "SL2-1431",
           "KMT2B"
          ],
          [
           "SL2-1435",
           "SETD5"
          ],
          [
           "SL2-1451",
           "MUC1"
          ],
          [
           "SL2-1481",
           "ACTB"
          ],
          [
           "SL2-1490",
           "SLC26A3"
          ],
          [
           "SL2-1493",
           "TRIP12"
          ],
          [
           "SL2-1496",
           "ASXL1"
          ],
          [
           "SL2-1507",
           "COL4A4"
          ],
          [
           "SL2-1529",
           "PGAP3"
          ],
          [
           "SL2-1538",
           "GAA"
          ],
          [
           "SL2-1539",
           "IFIH1"
          ],
          [
           "SL2-1547",
           "NONO"
          ],
          [
           "SL2-1554",
           "POGZ"
          ],
          [
           "SL2-1556",
           "LGI1"
          ],
          [
           "SL2-1581",
           "ZEB2"
          ],
          [
           "SL2-1584",
           "KCNB1"
          ],
          [
           "SL2-1600",
           "CNOT1"
          ],
          [
           "SL2-1628",
           "AHDC1"
          ],
          [
           "SL2-1631",
           "PTEN"
          ],
          [
           "SL2-1653",
           "ATP1A3"
          ],
          [
           "SL2-1685",
           "TRAPPC9"
          ],
          [
           "SL2-1723",
           "CUL4B"
          ],
          [
           "SL2-1766",
           "NSD1"
          ],
          [
           "SL2-1768",
           "ACTG1"
          ],
          [
           "SL2-1769",
           "ZSWIM6"
          ],
          [
           "SL2-190",
           "EZH2"
          ],
          [
           "SL2-190",
           "EZH2"
          ],
          [
           "SL2-190",
           "DNMT3A"
          ],
          [
           "SL2-190",
           "DNMT3A"
          ],
          [
           "SL2-193",
           "EHMT1"
          ],
          [
           "SL2-197",
           "IDH1"
          ],
          [
           "SL2-198",
           "KMT2D"
          ],
          [
           "SL2-203",
           "NAA15"
          ],
          [
           "SL2-237",
           "USP9X"
          ],
          [
           "SL2-245",
           "UBE2A"
          ],
          [
           "SL2-252",
           "CIC"
          ],
          [
           "SL2-254",
           "NEFL"
          ],
          [
           "SL2-259",
           "DMD"
          ],
          [
           "SL2-266",
           "SLC20A2"
          ],
          [
           "SL2-1805",
           "MSTO1"
          ],
          [
           "SL2-1842",
           "CUL3"
          ],
          [
           "SL2-1886",
           "PPP3CA"
          ],
          [
           "SL2-1924",
           "HTRA1"
          ],
          [
           "SL2-1940",
           "SCN2A"
          ],
          [
           "SL2-1978",
           "PIEZO1"
          ],
          [
           "SL2-1989",
           "FOXP1"
          ],
          [
           "SL2-1991",
           "CHD2"
          ],
          [
           "SL2-2028",
           "PBX1"
          ],
          [
           "SL2-2081",
           "SIN3A"
          ],
          [
           "SL2-2086",
           "ABCC9"
          ],
          [
           "SL2-2141",
           "PLA2G6"
          ],
          [
           "SL2-2202",
           "TRIO"
          ],
          [
           "SL2-2238",
           "BRCA2"
          ],
          [
           "SL2-2239",
           "TRIO"
          ],
          [
           "SL2-2246",
           "AMPD2"
          ],
          [
           "SL2-2281",
           "MPZ"
          ],
          [
           "SL2-2307",
           "PKD1"
          ],
          [
           "SL2-2307",
           "PKD1"
          ],
          [
           "SL2-2307",
           "COL11A1"
          ],
          [
           "SL2-2307",
           "COL11A1"
          ],
          [
           "SL2-2307",
           "VWF"
          ],
          [
           "SL2-2307",
           "VWF"
          ],
          [
           "SL2-2318",
           "TRRAP"
          ],
          [
           "SL2-2325",
           "GJB2"
          ],
          [
           "SL2-2328",
           "ALPL"
          ],
          [
           "SL2-2328",
           "ALPL"
          ],
          [
           "SL2-2328",
           "NF1"
          ],
          [
           "SL2-2328",
           "NF1"
          ],
          [
           "SL2-2354",
           "EFTUD2"
          ],
          [
           "SL2-2357",
           "ABCD1"
          ],
          [
           "SL2-2383",
           "NPC1"
          ],
          [
           "SL2-2404",
           "NR2F2"
          ],
          [
           "SL2-2433",
           "PTEN"
          ],
          [
           "SL2-2490",
           "AAAS"
          ],
          [
           "SL2-2511",
           "LZTR1"
          ],
          [
           "SL2-2580",
           "TNFRSF1A"
          ],
          [
           "SL2-2593",
           "ADCY5"
          ],
          [
           "SL2-2612",
           "MECP2"
          ],
          [
           "SL2-2646",
           "SMAD4"
          ],
          [
           "SL2-2647",
           "SHANK3"
          ],
          [
           "SL2-2689",
           "FLG"
          ],
          [
           "SL2-273",
           "KANSL1"
          ],
          [
           "SL2-276",
           "RYR1"
          ],
          [
           "SL2-284",
           "ANO3"
          ],
          [
           "SL2-287",
           "TBR1"
          ],
          [
           "SL2-299",
           "PYCR2"
          ],
          [
           "SL2-301",
           "KCNA2"
          ],
          [
           "SL2-310",
           "UMOD"
          ],
          [
           "SL2-313",
           "NDUFS4"
          ],
          [
           "SL2-314",
           "TIA1"
          ],
          [
           "SL2-315",
           "TRRAP"
          ],
          [
           "SL2-319",
           "KIF11"
          ],
          [
           "SL2-339",
           "OPA1"
          ],
          [
           "SL2-349",
           "EXOSC3"
          ],
          [
           "SL2-363",
           "FA2H"
          ],
          [
           "SL2-376",
           "XPC"
          ],
          [
           "SL2-381",
           "BCL11A"
          ],
          [
           "SL2-387",
           "DDX3X"
          ],
          [
           "SL2-388",
           "DCX"
          ],
          [
           "SL2-392",
           "THAP1"
          ],
          [
           "SL2-395",
           "CASR"
          ],
          [
           "SL2-397",
           "CYP11A1"
          ],
          [
           "SL2-400",
           "NR2F1"
          ],
          [
           "SL2-405",
           "KMT2A"
          ],
          [
           "SL2-410",
           "GJA1"
          ],
          [
           "SL2-412",
           "SPG7"
          ],
          [
           "SL2-421",
           "DEGS1"
          ],
          [
           "SL2-424",
           "ATM"
          ],
          [
           "SL2-437",
           "ASH1L"
          ],
          [
           "SL2-440",
           "ACTA1"
          ],
          [
           "SL2-442",
           "PTPN11"
          ],
          [
           "SL2-443",
           "HCFC1"
          ],
          [
           "SL2-446",
           "PSEN1"
          ],
          [
           "SL2-449",
           "FBXO11"
          ],
          [
           "SL2-454",
           "FAR1"
          ],
          [
           "SL2-457",
           "TGFBR2"
          ],
          [
           "SL2-458",
           "AEBP1"
          ],
          [
           "SL2-462",
           "CACNA1A"
          ],
          [
           "SL2-466",
           "SERPINA1"
          ],
          [
           "SL2-468",
           "C12orf57"
          ],
          [
           "SL2-469",
           "CYP7B1"
          ],
          [
           "SL2-471",
           "ACTB"
          ],
          [
           "SL2-472",
           "TRPV4"
          ],
          [
           "SL2-473",
           "EP300"
          ],
          [
           "SL2-485",
           "TUBB4A"
          ],
          [
           "SL2-521",
           "TRMU"
          ],
          [
           "SL2-528",
           "CLN3"
          ],
          [
           "SL2-2962",
           "LOX"
          ],
          [
           "SL2-3015",
           "STAG1"
          ],
          [
           "SL2-3041",
           "NEB"
          ],
          [
           "SL2-539",
           "EBF3"
          ],
          [
           "SL2-540",
           "HMGCS2"
          ],
          [
           "SL2-547",
           "SYNGAP1"
          ],
          [
           "SL2-550",
           "LTBP3"
          ],
          [
           "SL2-552",
           "ATP1A3"
          ],
          [
           "SL2-557",
           "SIN3A"
          ],
          [
           "SL2-557",
           "SIN3A"
          ],
          [
           "SL2-557",
           "FLG"
          ],
          [
           "SL2-557",
           "FLG"
          ],
          [
           "SL2-557",
           "EDAR"
          ],
          [
           "SL2-557",
           "EDAR"
          ],
          [
           "SL2-563",
           "ASXL3"
          ],
          [
           "SL2-566",
           "ACO2"
          ],
          [
           "SL2-577",
           "ALDH18A1"
          ],
          [
           "SL2-579",
           "TTN"
          ],
          [
           "SL2-579",
           "TTN"
          ],
          [
           "SL2-579",
           "MYBPC3"
          ],
          [
           "SL2-579",
           "MYBPC3"
          ],
          [
           "SL2-580",
           "ACVR1"
          ],
          [
           "SL2-581",
           "MEFV"
          ],
          [
           "SL2-592",
           "SLC25A46"
          ],
          [
           "SL2-598",
           "WAC"
          ],
          [
           "SL2-607",
           "SLC6A1"
          ],
          [
           "SL2-623",
           "ENPP1"
          ],
          [
           "SL2-632",
           "OCA2"
          ],
          [
           "SL2-646",
           "CHAT"
          ],
          [
           "SL2-653",
           "NFKB1"
          ],
          [
           "SL2-657",
           "NKX2-1"
          ],
          [
           "SL2-659",
           "GFAP"
          ],
          [
           "SL2-659",
           "GFAP"
          ],
          [
           "SL2-659",
           "ACVRL1"
          ],
          [
           "SL2-659",
           "ACVRL1"
          ],
          [
           "SL2-674",
           "PIGV"
          ],
          [
           "SL2-681",
           "TBX4"
          ],
          [
           "SL2-684",
           "SETD5"
          ],
          [
           "SL2-686",
           "ARSB"
          ],
          [
           "SL2-688",
           "B4GALNT1"
          ],
          [
           "SL2-697",
           "ANKRD11"
          ],
          [
           "SL2-699",
           "CHD7"
          ],
          [
           "SL2-716",
           "SLC12A3"
          ],
          [
           "SL2-724",
           "TUBA1A"
          ],
          [
           "SL2-728",
           "NAA15"
          ],
          [
           "SL2-732",
           "DOCK3"
          ],
          [
           "SL2-752",
           "GNPTAB"
          ],
          [
           "SL2-767",
           "CTCF"
          ],
          [
           "SL2-795",
           "MECP2"
          ],
          [
           "SL2-799",
           "GRIN1"
          ],
          [
           "SL2-799",
           "GRIN1"
          ],
          [
           "SL2-799",
           "FLG"
          ],
          [
           "SL2-799",
           "FLG"
          ],
          [
           "SL2-806",
           "JAK2"
          ],
          [
           "SL2-816",
           "PIK3R1"
          ],
          [
           "SL2-817",
           "CACNA1E"
          ],
          [
           "SL2-835",
           "CACNA1F"
          ],
          [
           "SL2-835",
           "CACNA1F"
          ],
          [
           "SL2-835",
           "SPG11"
          ],
          [
           "SL2-835",
           "SPG11"
          ],
          [
           "SL2-842",
           "KDM6A"
          ],
          [
           "SL2-844",
           "CHD2"
          ],
          [
           "SL2-850",
           "TCF4"
          ],
          [
           "SL2-852",
           "PLA2G6"
          ],
          [
           "SL2-854",
           "MAP3K7"
          ],
          [
           "SL2-860",
           "GABRA1"
          ],
          [
           "SL2-865",
           "ZBTB18"
          ],
          [
           "SL2-879",
           "RPS6KA3"
          ],
          [
           "SL2-879",
           "RPS6KA3"
          ],
          [
           "SL2-879",
           "USP9X"
          ],
          [
           "SL2-879",
           "USP9X"
          ],
          [
           "SL2-891",
           "CBL"
          ],
          [
           "SL2-891",
           "CBL"
          ],
          [
           "SL2-891",
           "ELN"
          ],
          [
           "SL2-891",
           "ELN"
          ],
          [
           "SL2-904",
           "CFTR"
          ],
          [
           "SL2-910",
           "POLR3A"
          ],
          [
           "SL2-919",
           "SON"
          ],
          [
           "SL2-924",
           "SETD5"
          ],
          [
           "SL2-938",
           "ZC4H2"
          ],
          [
           "SL2-940",
           "BRPF1"
          ],
          [
           "SL2-940",
           "BRPF1"
          ],
          [
           "SL2-940",
           "KDM5C"
          ],
          [
           "SL2-940",
           "KDM5C"
          ],
          [
           "SL2-943",
           "DGAT1"
          ],
          [
           "SL2-947",
           "SYNGAP1"
          ]
         ],
         "hovertemplate": "Method=delta_bayes_geo_PCAN<br>Rank_PCAN=%{x}<br>Rank=%{y}<br>Normalized ID=%{customdata[0]}<br>Gene1=%{customdata[1]}<extra></extra>",
         "legendgroup": "delta_bayes_geo_PCAN",
         "marker": {
          "color": "#636efa",
          "symbol": "circle"
         },
         "mode": "markers",
         "name": "delta_bayes_geo_PCAN",
         "orientation": "v",
         "showlegend": true,
         "type": "scatter",
         "x": [
          143,
          826,
          945,
          5,
          1505,
          2169,
          920,
          1926,
          1,
          10,
          4,
          437,
          200,
          165,
          64,
          37,
          81,
          67,
          1451,
          2,
          31,
          858,
          1521,
          47,
          48,
          204,
          848,
          103,
          3378,
          2070,
          121,
          3737,
          876,
          999,
          795,
          999,
          795,
          38,
          1,
          18,
          2962,
          18,
          2962,
          903,
          11,
          3,
          408,
          1895,
          43,
          957,
          40,
          238,
          null,
          238,
          null,
          1583,
          767,
          21,
          701,
          455,
          35,
          1159,
          14,
          714,
          742,
          49,
          152,
          4,
          49,
          247,
          504,
          6,
          196,
          1395,
          170,
          716,
          927,
          119,
          339,
          957,
          138,
          2254,
          249,
          205,
          319,
          205,
          319,
          706,
          78,
          5,
          2229,
          322,
          226,
          887,
          10,
          45,
          11,
          14,
          5,
          901,
          26,
          202,
          463,
          634,
          131,
          276,
          988,
          241,
          45,
          85,
          22,
          266,
          455,
          643,
          444,
          1150,
          444,
          1150,
          444,
          1150,
          423,
          179,
          43,
          31,
          43,
          31,
          176,
          879,
          245,
          618,
          139,
          33,
          1080,
          477,
          2419,
          19,
          164,
          233,
          436,
          548,
          4,
          6,
          683,
          593,
          199,
          19,
          90,
          63,
          15,
          89,
          17,
          933,
          1,
          12,
          355,
          2309,
          302,
          3,
          642,
          7,
          611,
          8,
          71,
          104,
          94,
          137,
          192,
          2,
          187,
          1637,
          33,
          157,
          99,
          5,
          211,
          188,
          1513,
          185,
          432,
          352,
          22,
          205,
          447,
          1026,
          64,
          19,
          490,
          288,
          258,
          240,
          50,
          361,
          166,
          174,
          2267,
          174,
          2267,
          174,
          2267,
          491,
          894,
          38,
          28,
          25,
          28,
          25,
          365,
          708,
          367,
          627,
          2474,
          55,
          45,
          3,
          242,
          227,
          674,
          31,
          674,
          31,
          741,
          2002,
          203,
          81,
          7,
          2266,
          272,
          5,
          14,
          1,
          1324,
          6,
          2216,
          10,
          157,
          1938,
          157,
          1938,
          14,
          365,
          13,
          778,
          14,
          778,
          14,
          965,
          89,
          130,
          18,
          11,
          1055,
          2125,
          874,
          974,
          874,
          974,
          233,
          689,
          233,
          689,
          190,
          161,
          244,
          144,
          83,
          387,
          943,
          387,
          943,
          16,
          367
         ],
         "xaxis": "x",
         "y": [
          -644,
          -2451,
          -1418,
          -3459,
          988,
          880,
          -2216,
          1051,
          -1702,
          -2955,
          -321,
          -1984,
          -3070,
          -318,
          -3027,
          -2808,
          -2618,
          -858,
          -1751,
          -360,
          -2629,
          -160,
          -1761,
          -439,
          -42,
          -2816,
          -265,
          -602,
          3129,
          2065,
          -1359,
          2325,
          305,
          131,
          -73,
          769,
          565,
          -10,
          -948,
          -3374,
          -430,
          -1450,
          1494,
          -2653,
          -340,
          -198,
          -214,
          1829,
          -498,
          526,
          -3507,
          214,
          null,
          -1819,
          null,
          -1169,
          -807,
          -1962,
          -2623,
          -417,
          -48,
          1129,
          -808,
          -417,
          48,
          -825,
          -2502,
          -2628,
          -2793,
          -3173,
          -577,
          -1992,
          -385,
          -1625,
          -1110,
          -2427,
          651,
          -43,
          -548,
          375,
          -1787,
          -117,
          -2147,
          -2893,
          -2779,
          -2391,
          -2277,
          -192,
          -2510,
          -3300,
          1598,
          -342,
          209,
          -497,
          -121,
          -2745,
          -325,
          -2211,
          -3343,
          893,
          -2361,
          -1767,
          -713,
          -2812,
          -1547,
          -2322,
          -301,
          -1545,
          -2139,
          -2784,
          -2711,
          -2895,
          -112,
          -1758,
          -3103,
          -2397,
          -2884,
          -2178,
          -1344,
          -638,
          194,
          -2819,
          -2764,
          -2776,
          -2530,
          -2542,
          -1094,
          -524,
          -449,
          -700,
          -3144,
          -3174,
          -1780,
          -1370,
          1064,
          -702,
          -2905,
          -1537,
          -2597,
          212,
          -862,
          -1041,
          -2840,
          420,
          -2968,
          -1448,
          -449,
          -2724,
          -1804,
          -3127,
          -1056,
          -2098,
          -3412,
          -3547,
          -262,
          -613,
          -2689,
          -3550,
          -2177,
          -1179,
          -530,
          -1784,
          -3340,
          -599,
          -2959,
          -877,
          -811,
          1,
          -88,
          49,
          -616,
          -3283,
          -3098,
          -3089,
          -1215,
          -1315,
          -1120,
          9,
          -617,
          -3168,
          -1486,
          -3057,
          -107,
          -2267,
          -2428,
          -1978,
          -840,
          -1039,
          -1523,
          -739,
          -229,
          -2343,
          -3305,
          -3024,
          -931,
          -900,
          1193,
          -1748,
          345,
          -1321,
          193,
          -3431,
          -3100,
          -3103,
          -2710,
          -2713,
          -2257,
          -2841,
          71,
          -514,
          124,
          -2915,
          -128,
          -3522,
          -3222,
          138,
          -180,
          -823,
          -853,
          -1496,
          666,
          -1357,
          -260,
          -914,
          -693,
          850,
          -1440,
          4,
          -2413,
          -3173,
          -1726,
          -918,
          1704,
          -388,
          -371,
          1410,
          -390,
          1391,
          -1398,
          111,
          -2424,
          -457,
          -1221,
          -63,
          -827,
          433,
          -3078,
          -3024,
          -663,
          -889,
          -975,
          881,
          834,
          934,
          513,
          613,
          -212,
          244,
          -1659,
          -1203,
          73,
          -295,
          -2555,
          -2890,
          -27,
          83,
          639,
          74,
          630,
          -3391,
          -2760
         ],
         "yaxis": "y"
        },
        {
         "alignmentgroup": "True",
         "bingroup": "x",
         "hovertemplate": "Method=delta_bayes_geo_PCAN<br>Rank_PCAN=%{x}<br>count=%{y}<extra></extra>",
         "legendgroup": "delta_bayes_geo_PCAN",
         "marker": {
          "color": "#636efa"
         },
         "name": "delta_bayes_geo_PCAN",
         "offsetgroup": "delta_bayes_geo_PCAN",
         "opacity": 0.5,
         "showlegend": false,
         "type": "histogram",
         "x": [
          143,
          826,
          945,
          5,
          1505,
          2169,
          920,
          1926,
          1,
          10,
          4,
          437,
          200,
          165,
          64,
          37,
          81,
          67,
          1451,
          2,
          31,
          858,
          1521,
          47,
          48,
          204,
          848,
          103,
          3378,
          2070,
          121,
          3737,
          876,
          999,
          795,
          999,
          795,
          38,
          1,
          18,
          2962,
          18,
          2962,
          903,
          11,
          3,
          408,
          1895,
          43,
          957,
          40,
          238,
          null,
          238,
          null,
          1583,
          767,
          21,
          701,
          455,
          35,
          1159,
          14,
          714,
          742,
          49,
          152,
          4,
          49,
          247,
          504,
          6,
          196,
          1395,
          170,
          716,
          927,
          119,
          339,
          957,
          138,
          2254,
          249,
          205,
          319,
          205,
          319,
          706,
          78,
          5,
          2229,
          322,
          226,
          887,
          10,
          45,
          11,
          14,
          5,
          901,
          26,
          202,
          463,
          634,
          131,
          276,
          988,
          241,
          45,
          85,
          22,
          266,
          455,
          643,
          444,
          1150,
          444,
          1150,
          444,
          1150,
          423,
          179,
          43,
          31,
          43,
          31,
          176,
          879,
          245,
          618,
          139,
          33,
          1080,
          477,
          2419,
          19,
          164,
          233,
          436,
          548,
          4,
          6,
          683,
          593,
          199,
          19,
          90,
          63,
          15,
          89,
          17,
          933,
          1,
          12,
          355,
          2309,
          302,
          3,
          642,
          7,
          611,
          8,
          71,
          104,
          94,
          137,
          192,
          2,
          187,
          1637,
          33,
          157,
          99,
          5,
          211,
          188,
          1513,
          185,
          432,
          352,
          22,
          205,
          447,
          1026,
          64,
          19,
          490,
          288,
          258,
          240,
          50,
          361,
          166,
          174,
          2267,
          174,
          2267,
          174,
          2267,
          491,
          894,
          38,
          28,
          25,
          28,
          25,
          365,
          708,
          367,
          627,
          2474,
          55,
          45,
          3,
          242,
          227,
          674,
          31,
          674,
          31,
          741,
          2002,
          203,
          81,
          7,
          2266,
          272,
          5,
          14,
          1,
          1324,
          6,
          2216,
          10,
          157,
          1938,
          157,
          1938,
          14,
          365,
          13,
          778,
          14,
          778,
          14,
          965,
          89,
          130,
          18,
          11,
          1055,
          2125,
          874,
          974,
          874,
          974,
          233,
          689,
          233,
          689,
          190,
          161,
          244,
          144,
          83,
          387,
          943,
          387,
          943,
          16,
          367
         ],
         "xaxis": "x3",
         "yaxis": "y3"
        },
        {
         "alignmentgroup": "True",
         "boxpoints": "all",
         "customdata": [
          [
           "SL2-009",
           "CACNA1E"
          ],
          [
           "SL2-016",
           "PACS1"
          ],
          [
           "SL2-021",
           "CACNA1A"
          ],
          [
           "SL2-029",
           "FGFR1"
          ],
          [
           "SL2-033",
           "GABBR2"
          ],
          [
           "SL2-049",
           "AFG3L2"
          ],
          [
           "SL2-105",
           "THOC6"
          ],
          [
           "SL2-127",
           "EHMT1"
          ],
          [
           "SL2-144",
           "C2CD3"
          ],
          [
           "SL2-145",
           "COL2A1"
          ],
          [
           "SL2-147",
           "CACNA1A"
          ],
          [
           "SL2-155",
           "CLN6"
          ],
          [
           "SL2-156",
           "CLN6"
          ],
          [
           "SL2-157",
           "CLN6"
          ],
          [
           "SL2-158",
           "RUNX1"
          ],
          [
           "SL2-164",
           "ATM"
          ],
          [
           "SL2-167",
           "SOX2"
          ],
          [
           "SL2-170",
           "KAT6A"
          ],
          [
           "SL2-173",
           "BMP4"
          ],
          [
           "SL2-1000",
           "PTPN11"
          ],
          [
           "SL2-1006",
           "SCN2A"
          ],
          [
           "SL2-1076",
           "RECQL4"
          ],
          [
           "SL2-1167",
           "HNRNPU"
          ],
          [
           "SL2-1181",
           "ARID1B"
          ],
          [
           "SL2-1187",
           "POMGNT1"
          ],
          [
           "SL2-1205",
           "NR2F1"
          ],
          [
           "SL2-1209",
           "UBE3A"
          ],
          [
           "SL2-1211",
           "SLC6A8"
          ],
          [
           "SL2-1214",
           "CTCF"
          ],
          [
           "SL2-1216",
           "UBA1"
          ],
          [
           "SL2-1222",
           "ALPL"
          ],
          [
           "SL2-1224",
           "ACTG2"
          ],
          [
           "SL2-1253",
           "CHD2"
          ],
          [
           "SL2-1256",
           "COL4A2"
          ],
          [
           "SL2-1256",
           "COL4A2"
          ],
          [
           "SL2-1256",
           "MEFV"
          ],
          [
           "SL2-1256",
           "MEFV"
          ],
          [
           "SL2-1275",
           "DEAF1"
          ],
          [
           "SL2-1280",
           "NSD1"
          ],
          [
           "SL2-1282",
           "MECP2"
          ],
          [
           "SL2-1282",
           "MECP2"
          ],
          [
           "SL2-1282",
           "MLH1"
          ],
          [
           "SL2-1282",
           "MLH1"
          ],
          [
           "SL2-1291",
           "GLMN"
          ],
          [
           "SL2-1312",
           "TSPEAR"
          ],
          [
           "SL2-1315",
           "CACNA1A"
          ],
          [
           "SL2-1316",
           "SLC35C1"
          ],
          [
           "SL2-1340",
           "ATP1A3"
          ],
          [
           "SL2-1343",
           "MYH11"
          ],
          [
           "SL2-1365",
           "ALG12"
          ],
          [
           "SL2-1377",
           "DOCK8"
          ],
          [
           "SL2-1382",
           "CTLA4"
          ],
          [
           "SL2-1382",
           "CTLA4"
          ],
          [
           "SL2-1382",
           "NOD2"
          ],
          [
           "SL2-1382",
           "NOD2"
          ],
          [
           "SL2-1383",
           "CTCF"
          ],
          [
           "SL2-1385",
           "TRPS1"
          ],
          [
           "SL2-1397",
           "ERCC6L2"
          ],
          [
           "SL2-1431",
           "KMT2B"
          ],
          [
           "SL2-1435",
           "SETD5"
          ],
          [
           "SL2-1451",
           "MUC1"
          ],
          [
           "SL2-1481",
           "ACTB"
          ],
          [
           "SL2-1490",
           "SLC26A3"
          ],
          [
           "SL2-1493",
           "TRIP12"
          ],
          [
           "SL2-1496",
           "ASXL1"
          ],
          [
           "SL2-1507",
           "COL4A4"
          ],
          [
           "SL2-1529",
           "PGAP3"
          ],
          [
           "SL2-1538",
           "GAA"
          ],
          [
           "SL2-1539",
           "IFIH1"
          ],
          [
           "SL2-1547",
           "NONO"
          ],
          [
           "SL2-1554",
           "POGZ"
          ],
          [
           "SL2-1556",
           "LGI1"
          ],
          [
           "SL2-1581",
           "ZEB2"
          ],
          [
           "SL2-1584",
           "KCNB1"
          ],
          [
           "SL2-1600",
           "CNOT1"
          ],
          [
           "SL2-1628",
           "AHDC1"
          ],
          [
           "SL2-1631",
           "PTEN"
          ],
          [
           "SL2-1653",
           "ATP1A3"
          ],
          [
           "SL2-1685",
           "TRAPPC9"
          ],
          [
           "SL2-1723",
           "CUL4B"
          ],
          [
           "SL2-1766",
           "NSD1"
          ],
          [
           "SL2-1768",
           "ACTG1"
          ],
          [
           "SL2-1769",
           "ZSWIM6"
          ],
          [
           "SL2-190",
           "EZH2"
          ],
          [
           "SL2-190",
           "EZH2"
          ],
          [
           "SL2-190",
           "DNMT3A"
          ],
          [
           "SL2-190",
           "DNMT3A"
          ],
          [
           "SL2-193",
           "EHMT1"
          ],
          [
           "SL2-197",
           "IDH1"
          ],
          [
           "SL2-198",
           "KMT2D"
          ],
          [
           "SL2-203",
           "NAA15"
          ],
          [
           "SL2-237",
           "USP9X"
          ],
          [
           "SL2-245",
           "UBE2A"
          ],
          [
           "SL2-252",
           "CIC"
          ],
          [
           "SL2-254",
           "NEFL"
          ],
          [
           "SL2-259",
           "DMD"
          ],
          [
           "SL2-266",
           "SLC20A2"
          ],
          [
           "SL2-1805",
           "MSTO1"
          ],
          [
           "SL2-1842",
           "CUL3"
          ],
          [
           "SL2-1886",
           "PPP3CA"
          ],
          [
           "SL2-1924",
           "HTRA1"
          ],
          [
           "SL2-1940",
           "SCN2A"
          ],
          [
           "SL2-1978",
           "PIEZO1"
          ],
          [
           "SL2-1989",
           "FOXP1"
          ],
          [
           "SL2-1991",
           "CHD2"
          ],
          [
           "SL2-2028",
           "PBX1"
          ],
          [
           "SL2-2081",
           "SIN3A"
          ],
          [
           "SL2-2086",
           "ABCC9"
          ],
          [
           "SL2-2141",
           "PLA2G6"
          ],
          [
           "SL2-2202",
           "TRIO"
          ],
          [
           "SL2-2238",
           "BRCA2"
          ],
          [
           "SL2-2239",
           "TRIO"
          ],
          [
           "SL2-2246",
           "AMPD2"
          ],
          [
           "SL2-2281",
           "MPZ"
          ],
          [
           "SL2-2307",
           "PKD1"
          ],
          [
           "SL2-2307",
           "PKD1"
          ],
          [
           "SL2-2307",
           "COL11A1"
          ],
          [
           "SL2-2307",
           "COL11A1"
          ],
          [
           "SL2-2307",
           "VWF"
          ],
          [
           "SL2-2307",
           "VWF"
          ],
          [
           "SL2-2318",
           "TRRAP"
          ],
          [
           "SL2-2325",
           "GJB2"
          ],
          [
           "SL2-2328",
           "ALPL"
          ],
          [
           "SL2-2328",
           "ALPL"
          ],
          [
           "SL2-2328",
           "NF1"
          ],
          [
           "SL2-2328",
           "NF1"
          ],
          [
           "SL2-2354",
           "EFTUD2"
          ],
          [
           "SL2-2357",
           "ABCD1"
          ],
          [
           "SL2-2383",
           "NPC1"
          ],
          [
           "SL2-2404",
           "NR2F2"
          ],
          [
           "SL2-2433",
           "PTEN"
          ],
          [
           "SL2-2490",
           "AAAS"
          ],
          [
           "SL2-2511",
           "LZTR1"
          ],
          [
           "SL2-2580",
           "TNFRSF1A"
          ],
          [
           "SL2-2593",
           "ADCY5"
          ],
          [
           "SL2-2612",
           "MECP2"
          ],
          [
           "SL2-2646",
           "SMAD4"
          ],
          [
           "SL2-2647",
           "SHANK3"
          ],
          [
           "SL2-2689",
           "FLG"
          ],
          [
           "SL2-273",
           "KANSL1"
          ],
          [
           "SL2-276",
           "RYR1"
          ],
          [
           "SL2-284",
           "ANO3"
          ],
          [
           "SL2-287",
           "TBR1"
          ],
          [
           "SL2-299",
           "PYCR2"
          ],
          [
           "SL2-301",
           "KCNA2"
          ],
          [
           "SL2-310",
           "UMOD"
          ],
          [
           "SL2-313",
           "NDUFS4"
          ],
          [
           "SL2-314",
           "TIA1"
          ],
          [
           "SL2-315",
           "TRRAP"
          ],
          [
           "SL2-319",
           "KIF11"
          ],
          [
           "SL2-339",
           "OPA1"
          ],
          [
           "SL2-349",
           "EXOSC3"
          ],
          [
           "SL2-363",
           "FA2H"
          ],
          [
           "SL2-376",
           "XPC"
          ],
          [
           "SL2-381",
           "BCL11A"
          ],
          [
           "SL2-387",
           "DDX3X"
          ],
          [
           "SL2-388",
           "DCX"
          ],
          [
           "SL2-392",
           "THAP1"
          ],
          [
           "SL2-395",
           "CASR"
          ],
          [
           "SL2-397",
           "CYP11A1"
          ],
          [
           "SL2-400",
           "NR2F1"
          ],
          [
           "SL2-405",
           "KMT2A"
          ],
          [
           "SL2-410",
           "GJA1"
          ],
          [
           "SL2-412",
           "SPG7"
          ],
          [
           "SL2-421",
           "DEGS1"
          ],
          [
           "SL2-424",
           "ATM"
          ],
          [
           "SL2-437",
           "ASH1L"
          ],
          [
           "SL2-440",
           "ACTA1"
          ],
          [
           "SL2-442",
           "PTPN11"
          ],
          [
           "SL2-443",
           "HCFC1"
          ],
          [
           "SL2-446",
           "PSEN1"
          ],
          [
           "SL2-449",
           "FBXO11"
          ],
          [
           "SL2-454",
           "FAR1"
          ],
          [
           "SL2-457",
           "TGFBR2"
          ],
          [
           "SL2-458",
           "AEBP1"
          ],
          [
           "SL2-462",
           "CACNA1A"
          ],
          [
           "SL2-466",
           "SERPINA1"
          ],
          [
           "SL2-468",
           "C12orf57"
          ],
          [
           "SL2-469",
           "CYP7B1"
          ],
          [
           "SL2-471",
           "ACTB"
          ],
          [
           "SL2-472",
           "TRPV4"
          ],
          [
           "SL2-473",
           "EP300"
          ],
          [
           "SL2-485",
           "TUBB4A"
          ],
          [
           "SL2-521",
           "TRMU"
          ],
          [
           "SL2-528",
           "CLN3"
          ],
          [
           "SL2-2962",
           "LOX"
          ],
          [
           "SL2-3015",
           "STAG1"
          ],
          [
           "SL2-3041",
           "NEB"
          ],
          [
           "SL2-539",
           "EBF3"
          ],
          [
           "SL2-540",
           "HMGCS2"
          ],
          [
           "SL2-547",
           "SYNGAP1"
          ],
          [
           "SL2-550",
           "LTBP3"
          ],
          [
           "SL2-552",
           "ATP1A3"
          ],
          [
           "SL2-557",
           "SIN3A"
          ],
          [
           "SL2-557",
           "SIN3A"
          ],
          [
           "SL2-557",
           "FLG"
          ],
          [
           "SL2-557",
           "FLG"
          ],
          [
           "SL2-557",
           "EDAR"
          ],
          [
           "SL2-557",
           "EDAR"
          ],
          [
           "SL2-563",
           "ASXL3"
          ],
          [
           "SL2-566",
           "ACO2"
          ],
          [
           "SL2-577",
           "ALDH18A1"
          ],
          [
           "SL2-579",
           "TTN"
          ],
          [
           "SL2-579",
           "TTN"
          ],
          [
           "SL2-579",
           "MYBPC3"
          ],
          [
           "SL2-579",
           "MYBPC3"
          ],
          [
           "SL2-580",
           "ACVR1"
          ],
          [
           "SL2-581",
           "MEFV"
          ],
          [
           "SL2-592",
           "SLC25A46"
          ],
          [
           "SL2-598",
           "WAC"
          ],
          [
           "SL2-607",
           "SLC6A1"
          ],
          [
           "SL2-623",
           "ENPP1"
          ],
          [
           "SL2-632",
           "OCA2"
          ],
          [
           "SL2-646",
           "CHAT"
          ],
          [
           "SL2-653",
           "NFKB1"
          ],
          [
           "SL2-657",
           "NKX2-1"
          ],
          [
           "SL2-659",
           "GFAP"
          ],
          [
           "SL2-659",
           "GFAP"
          ],
          [
           "SL2-659",
           "ACVRL1"
          ],
          [
           "SL2-659",
           "ACVRL1"
          ],
          [
           "SL2-674",
           "PIGV"
          ],
          [
           "SL2-681",
           "TBX4"
          ],
          [
           "SL2-684",
           "SETD5"
          ],
          [
           "SL2-686",
           "ARSB"
          ],
          [
           "SL2-688",
           "B4GALNT1"
          ],
          [
           "SL2-697",
           "ANKRD11"
          ],
          [
           "SL2-699",
           "CHD7"
          ],
          [
           "SL2-716",
           "SLC12A3"
          ],
          [
           "SL2-724",
           "TUBA1A"
          ],
          [
           "SL2-728",
           "NAA15"
          ],
          [
           "SL2-732",
           "DOCK3"
          ],
          [
           "SL2-752",
           "GNPTAB"
          ],
          [
           "SL2-767",
           "CTCF"
          ],
          [
           "SL2-795",
           "MECP2"
          ],
          [
           "SL2-799",
           "GRIN1"
          ],
          [
           "SL2-799",
           "GRIN1"
          ],
          [
           "SL2-799",
           "FLG"
          ],
          [
           "SL2-799",
           "FLG"
          ],
          [
           "SL2-806",
           "JAK2"
          ],
          [
           "SL2-816",
           "PIK3R1"
          ],
          [
           "SL2-817",
           "CACNA1E"
          ],
          [
           "SL2-835",
           "CACNA1F"
          ],
          [
           "SL2-835",
           "CACNA1F"
          ],
          [
           "SL2-835",
           "SPG11"
          ],
          [
           "SL2-835",
           "SPG11"
          ],
          [
           "SL2-842",
           "KDM6A"
          ],
          [
           "SL2-844",
           "CHD2"
          ],
          [
           "SL2-850",
           "TCF4"
          ],
          [
           "SL2-852",
           "PLA2G6"
          ],
          [
           "SL2-854",
           "MAP3K7"
          ],
          [
           "SL2-860",
           "GABRA1"
          ],
          [
           "SL2-865",
           "ZBTB18"
          ],
          [
           "SL2-879",
           "RPS6KA3"
          ],
          [
           "SL2-879",
           "RPS6KA3"
          ],
          [
           "SL2-879",
           "USP9X"
          ],
          [
           "SL2-879",
           "USP9X"
          ],
          [
           "SL2-891",
           "CBL"
          ],
          [
           "SL2-891",
           "CBL"
          ],
          [
           "SL2-891",
           "ELN"
          ],
          [
           "SL2-891",
           "ELN"
          ],
          [
           "SL2-904",
           "CFTR"
          ],
          [
           "SL2-910",
           "POLR3A"
          ],
          [
           "SL2-919",
           "SON"
          ],
          [
           "SL2-924",
           "SETD5"
          ],
          [
           "SL2-938",
           "ZC4H2"
          ],
          [
           "SL2-940",
           "BRPF1"
          ],
          [
           "SL2-940",
           "BRPF1"
          ],
          [
           "SL2-940",
           "KDM5C"
          ],
          [
           "SL2-940",
           "KDM5C"
          ],
          [
           "SL2-943",
           "DGAT1"
          ],
          [
           "SL2-947",
           "SYNGAP1"
          ]
         ],
         "fillcolor": "rgba(255,255,255,0)",
         "hoveron": "points",
         "hovertemplate": "Method=delta_bayes_geo_PCAN<br>Rank=%{y}<br>Normalized ID=%{customdata[0]}<br>Gene1=%{customdata[1]}<extra></extra>",
         "jitter": 0,
         "legendgroup": "delta_bayes_geo_PCAN",
         "line": {
          "color": "rgba(255,255,255,0)"
         },
         "marker": {
          "color": "#636efa",
          "symbol": "line-ew-open"
         },
         "name": "delta_bayes_geo_PCAN",
         "offsetgroup": "delta_bayes_geo_PCAN",
         "showlegend": false,
         "type": "box",
         "xaxis": "x2",
         "y": [
          -644,
          -2451,
          -1418,
          -3459,
          988,
          880,
          -2216,
          1051,
          -1702,
          -2955,
          -321,
          -1984,
          -3070,
          -318,
          -3027,
          -2808,
          -2618,
          -858,
          -1751,
          -360,
          -2629,
          -160,
          -1761,
          -439,
          -42,
          -2816,
          -265,
          -602,
          3129,
          2065,
          -1359,
          2325,
          305,
          131,
          -73,
          769,
          565,
          -10,
          -948,
          -3374,
          -430,
          -1450,
          1494,
          -2653,
          -340,
          -198,
          -214,
          1829,
          -498,
          526,
          -3507,
          214,
          null,
          -1819,
          null,
          -1169,
          -807,
          -1962,
          -2623,
          -417,
          -48,
          1129,
          -808,
          -417,
          48,
          -825,
          -2502,
          -2628,
          -2793,
          -3173,
          -577,
          -1992,
          -385,
          -1625,
          -1110,
          -2427,
          651,
          -43,
          -548,
          375,
          -1787,
          -117,
          -2147,
          -2893,
          -2779,
          -2391,
          -2277,
          -192,
          -2510,
          -3300,
          1598,
          -342,
          209,
          -497,
          -121,
          -2745,
          -325,
          -2211,
          -3343,
          893,
          -2361,
          -1767,
          -713,
          -2812,
          -1547,
          -2322,
          -301,
          -1545,
          -2139,
          -2784,
          -2711,
          -2895,
          -112,
          -1758,
          -3103,
          -2397,
          -2884,
          -2178,
          -1344,
          -638,
          194,
          -2819,
          -2764,
          -2776,
          -2530,
          -2542,
          -1094,
          -524,
          -449,
          -700,
          -3144,
          -3174,
          -1780,
          -1370,
          1064,
          -702,
          -2905,
          -1537,
          -2597,
          212,
          -862,
          -1041,
          -2840,
          420,
          -2968,
          -1448,
          -449,
          -2724,
          -1804,
          -3127,
          -1056,
          -2098,
          -3412,
          -3547,
          -262,
          -613,
          -2689,
          -3550,
          -2177,
          -1179,
          -530,
          -1784,
          -3340,
          -599,
          -2959,
          -877,
          -811,
          1,
          -88,
          49,
          -616,
          -3283,
          -3098,
          -3089,
          -1215,
          -1315,
          -1120,
          9,
          -617,
          -3168,
          -1486,
          -3057,
          -107,
          -2267,
          -2428,
          -1978,
          -840,
          -1039,
          -1523,
          -739,
          -229,
          -2343,
          -3305,
          -3024,
          -931,
          -900,
          1193,
          -1748,
          345,
          -1321,
          193,
          -3431,
          -3100,
          -3103,
          -2710,
          -2713,
          -2257,
          -2841,
          71,
          -514,
          124,
          -2915,
          -128,
          -3522,
          -3222,
          138,
          -180,
          -823,
          -853,
          -1496,
          666,
          -1357,
          -260,
          -914,
          -693,
          850,
          -1440,
          4,
          -2413,
          -3173,
          -1726,
          -918,
          1704,
          -388,
          -371,
          1410,
          -390,
          1391,
          -1398,
          111,
          -2424,
          -457,
          -1221,
          -63,
          -827,
          433,
          -3078,
          -3024,
          -663,
          -889,
          -975,
          881,
          834,
          934,
          513,
          613,
          -212,
          244,
          -1659,
          -1203,
          73,
          -295,
          -2555,
          -2890,
          -27,
          83,
          639,
          74,
          630,
          -3391,
          -2760
         ],
         "yaxis": "y2"
        },
        {
         "customdata": [
          [
           "SL2-009",
           "CACNA1E"
          ],
          [
           "SL2-016",
           "PACS1"
          ],
          [
           "SL2-021",
           "CACNA1A"
          ],
          [
           "SL2-029",
           "FGFR1"
          ],
          [
           "SL2-033",
           "GABBR2"
          ],
          [
           "SL2-049",
           "AFG3L2"
          ],
          [
           "SL2-105",
           "THOC6"
          ],
          [
           "SL2-127",
           "EHMT1"
          ],
          [
           "SL2-144",
           "C2CD3"
          ],
          [
           "SL2-145",
           "COL2A1"
          ],
          [
           "SL2-147",
           "CACNA1A"
          ],
          [
           "SL2-155",
           "CLN6"
          ],
          [
           "SL2-156",
           "CLN6"
          ],
          [
           "SL2-157",
           "CLN6"
          ],
          [
           "SL2-158",
           "RUNX1"
          ],
          [
           "SL2-164",
           "ATM"
          ],
          [
           "SL2-167",
           "SOX2"
          ],
          [
           "SL2-170",
           "KAT6A"
          ],
          [
           "SL2-173",
           "BMP4"
          ],
          [
           "SL2-1000",
           "PTPN11"
          ],
          [
           "SL2-1006",
           "SCN2A"
          ],
          [
           "SL2-1076",
           "RECQL4"
          ],
          [
           "SL2-1167",
           "HNRNPU"
          ],
          [
           "SL2-1181",
           "ARID1B"
          ],
          [
           "SL2-1187",
           "POMGNT1"
          ],
          [
           "SL2-1205",
           "NR2F1"
          ],
          [
           "SL2-1209",
           "UBE3A"
          ],
          [
           "SL2-1211",
           "SLC6A8"
          ],
          [
           "SL2-1214",
           "CTCF"
          ],
          [
           "SL2-1216",
           "UBA1"
          ],
          [
           "SL2-1222",
           "ALPL"
          ],
          [
           "SL2-1224",
           "ACTG2"
          ],
          [
           "SL2-1253",
           "CHD2"
          ],
          [
           "SL2-1256",
           "COL4A2"
          ],
          [
           "SL2-1256",
           "COL4A2"
          ],
          [
           "SL2-1256",
           "MEFV"
          ],
          [
           "SL2-1256",
           "MEFV"
          ],
          [
           "SL2-1275",
           "DEAF1"
          ],
          [
           "SL2-1280",
           "NSD1"
          ],
          [
           "SL2-1282",
           "MECP2"
          ],
          [
           "SL2-1282",
           "MECP2"
          ],
          [
           "SL2-1282",
           "MLH1"
          ],
          [
           "SL2-1282",
           "MLH1"
          ],
          [
           "SL2-1291",
           "GLMN"
          ],
          [
           "SL2-1312",
           "TSPEAR"
          ],
          [
           "SL2-1315",
           "CACNA1A"
          ],
          [
           "SL2-1316",
           "SLC35C1"
          ],
          [
           "SL2-1340",
           "ATP1A3"
          ],
          [
           "SL2-1343",
           "MYH11"
          ],
          [
           "SL2-1365",
           "ALG12"
          ],
          [
           "SL2-1377",
           "DOCK8"
          ],
          [
           "SL2-1382",
           "CTLA4"
          ],
          [
           "SL2-1382",
           "CTLA4"
          ],
          [
           "SL2-1382",
           "NOD2"
          ],
          [
           "SL2-1382",
           "NOD2"
          ],
          [
           "SL2-1383",
           "CTCF"
          ],
          [
           "SL2-1385",
           "TRPS1"
          ],
          [
           "SL2-1397",
           "ERCC6L2"
          ],
          [
           "SL2-1431",
           "KMT2B"
          ],
          [
           "SL2-1435",
           "SETD5"
          ],
          [
           "SL2-1451",
           "MUC1"
          ],
          [
           "SL2-1481",
           "ACTB"
          ],
          [
           "SL2-1490",
           "SLC26A3"
          ],
          [
           "SL2-1493",
           "TRIP12"
          ],
          [
           "SL2-1496",
           "ASXL1"
          ],
          [
           "SL2-1507",
           "COL4A4"
          ],
          [
           "SL2-1529",
           "PGAP3"
          ],
          [
           "SL2-1538",
           "GAA"
          ],
          [
           "SL2-1539",
           "IFIH1"
          ],
          [
           "SL2-1547",
           "NONO"
          ],
          [
           "SL2-1554",
           "POGZ"
          ],
          [
           "SL2-1556",
           "LGI1"
          ],
          [
           "SL2-1581",
           "ZEB2"
          ],
          [
           "SL2-1584",
           "KCNB1"
          ],
          [
           "SL2-1600",
           "CNOT1"
          ],
          [
           "SL2-1628",
           "AHDC1"
          ],
          [
           "SL2-1631",
           "PTEN"
          ],
          [
           "SL2-1653",
           "ATP1A3"
          ],
          [
           "SL2-1685",
           "TRAPPC9"
          ],
          [
           "SL2-1723",
           "CUL4B"
          ],
          [
           "SL2-1766",
           "NSD1"
          ],
          [
           "SL2-1768",
           "ACTG1"
          ],
          [
           "SL2-1769",
           "ZSWIM6"
          ],
          [
           "SL2-190",
           "EZH2"
          ],
          [
           "SL2-190",
           "EZH2"
          ],
          [
           "SL2-190",
           "DNMT3A"
          ],
          [
           "SL2-190",
           "DNMT3A"
          ],
          [
           "SL2-193",
           "EHMT1"
          ],
          [
           "SL2-197",
           "IDH1"
          ],
          [
           "SL2-198",
           "KMT2D"
          ],
          [
           "SL2-203",
           "NAA15"
          ],
          [
           "SL2-237",
           "USP9X"
          ],
          [
           "SL2-245",
           "UBE2A"
          ],
          [
           "SL2-252",
           "CIC"
          ],
          [
           "SL2-254",
           "NEFL"
          ],
          [
           "SL2-259",
           "DMD"
          ],
          [
           "SL2-266",
           "SLC20A2"
          ],
          [
           "SL2-1805",
           "MSTO1"
          ],
          [
           "SL2-1842",
           "CUL3"
          ],
          [
           "SL2-1886",
           "PPP3CA"
          ],
          [
           "SL2-1924",
           "HTRA1"
          ],
          [
           "SL2-1940",
           "SCN2A"
          ],
          [
           "SL2-1978",
           "PIEZO1"
          ],
          [
           "SL2-1989",
           "FOXP1"
          ],
          [
           "SL2-1991",
           "CHD2"
          ],
          [
           "SL2-2028",
           "PBX1"
          ],
          [
           "SL2-2081",
           "SIN3A"
          ],
          [
           "SL2-2086",
           "ABCC9"
          ],
          [
           "SL2-2141",
           "PLA2G6"
          ],
          [
           "SL2-2202",
           "TRIO"
          ],
          [
           "SL2-2238",
           "BRCA2"
          ],
          [
           "SL2-2239",
           "TRIO"
          ],
          [
           "SL2-2246",
           "AMPD2"
          ],
          [
           "SL2-2281",
           "MPZ"
          ],
          [
           "SL2-2307",
           "PKD1"
          ],
          [
           "SL2-2307",
           "PKD1"
          ],
          [
           "SL2-2307",
           "COL11A1"
          ],
          [
           "SL2-2307",
           "COL11A1"
          ],
          [
           "SL2-2307",
           "VWF"
          ],
          [
           "SL2-2307",
           "VWF"
          ],
          [
           "SL2-2318",
           "TRRAP"
          ],
          [
           "SL2-2325",
           "GJB2"
          ],
          [
           "SL2-2328",
           "ALPL"
          ],
          [
           "SL2-2328",
           "ALPL"
          ],
          [
           "SL2-2328",
           "NF1"
          ],
          [
           "SL2-2328",
           "NF1"
          ],
          [
           "SL2-2354",
           "EFTUD2"
          ],
          [
           "SL2-2357",
           "ABCD1"
          ],
          [
           "SL2-2383",
           "NPC1"
          ],
          [
           "SL2-2404",
           "NR2F2"
          ],
          [
           "SL2-2433",
           "PTEN"
          ],
          [
           "SL2-2490",
           "AAAS"
          ],
          [
           "SL2-2511",
           "LZTR1"
          ],
          [
           "SL2-2580",
           "TNFRSF1A"
          ],
          [
           "SL2-2593",
           "ADCY5"
          ],
          [
           "SL2-2612",
           "MECP2"
          ],
          [
           "SL2-2646",
           "SMAD4"
          ],
          [
           "SL2-2647",
           "SHANK3"
          ],
          [
           "SL2-2689",
           "FLG"
          ],
          [
           "SL2-273",
           "KANSL1"
          ],
          [
           "SL2-276",
           "RYR1"
          ],
          [
           "SL2-284",
           "ANO3"
          ],
          [
           "SL2-287",
           "TBR1"
          ],
          [
           "SL2-299",
           "PYCR2"
          ],
          [
           "SL2-301",
           "KCNA2"
          ],
          [
           "SL2-310",
           "UMOD"
          ],
          [
           "SL2-313",
           "NDUFS4"
          ],
          [
           "SL2-314",
           "TIA1"
          ],
          [
           "SL2-315",
           "TRRAP"
          ],
          [
           "SL2-319",
           "KIF11"
          ],
          [
           "SL2-339",
           "OPA1"
          ],
          [
           "SL2-349",
           "EXOSC3"
          ],
          [
           "SL2-363",
           "FA2H"
          ],
          [
           "SL2-376",
           "XPC"
          ],
          [
           "SL2-381",
           "BCL11A"
          ],
          [
           "SL2-387",
           "DDX3X"
          ],
          [
           "SL2-388",
           "DCX"
          ],
          [
           "SL2-392",
           "THAP1"
          ],
          [
           "SL2-395",
           "CASR"
          ],
          [
           "SL2-397",
           "CYP11A1"
          ],
          [
           "SL2-400",
           "NR2F1"
          ],
          [
           "SL2-405",
           "KMT2A"
          ],
          [
           "SL2-410",
           "GJA1"
          ],
          [
           "SL2-412",
           "SPG7"
          ],
          [
           "SL2-421",
           "DEGS1"
          ],
          [
           "SL2-424",
           "ATM"
          ],
          [
           "SL2-437",
           "ASH1L"
          ],
          [
           "SL2-440",
           "ACTA1"
          ],
          [
           "SL2-442",
           "PTPN11"
          ],
          [
           "SL2-443",
           "HCFC1"
          ],
          [
           "SL2-446",
           "PSEN1"
          ],
          [
           "SL2-449",
           "FBXO11"
          ],
          [
           "SL2-454",
           "FAR1"
          ],
          [
           "SL2-457",
           "TGFBR2"
          ],
          [
           "SL2-458",
           "AEBP1"
          ],
          [
           "SL2-462",
           "CACNA1A"
          ],
          [
           "SL2-466",
           "SERPINA1"
          ],
          [
           "SL2-468",
           "C12orf57"
          ],
          [
           "SL2-469",
           "CYP7B1"
          ],
          [
           "SL2-471",
           "ACTB"
          ],
          [
           "SL2-472",
           "TRPV4"
          ],
          [
           "SL2-473",
           "EP300"
          ],
          [
           "SL2-485",
           "TUBB4A"
          ],
          [
           "SL2-521",
           "TRMU"
          ],
          [
           "SL2-528",
           "CLN3"
          ],
          [
           "SL2-2962",
           "LOX"
          ],
          [
           "SL2-3015",
           "STAG1"
          ],
          [
           "SL2-3041",
           "NEB"
          ],
          [
           "SL2-539",
           "EBF3"
          ],
          [
           "SL2-540",
           "HMGCS2"
          ],
          [
           "SL2-547",
           "SYNGAP1"
          ],
          [
           "SL2-550",
           "LTBP3"
          ],
          [
           "SL2-552",
           "ATP1A3"
          ],
          [
           "SL2-557",
           "SIN3A"
          ],
          [
           "SL2-557",
           "SIN3A"
          ],
          [
           "SL2-557",
           "FLG"
          ],
          [
           "SL2-557",
           "FLG"
          ],
          [
           "SL2-557",
           "EDAR"
          ],
          [
           "SL2-557",
           "EDAR"
          ],
          [
           "SL2-563",
           "ASXL3"
          ],
          [
           "SL2-566",
           "ACO2"
          ],
          [
           "SL2-577",
           "ALDH18A1"
          ],
          [
           "SL2-579",
           "TTN"
          ],
          [
           "SL2-579",
           "TTN"
          ],
          [
           "SL2-579",
           "MYBPC3"
          ],
          [
           "SL2-579",
           "MYBPC3"
          ],
          [
           "SL2-580",
           "ACVR1"
          ],
          [
           "SL2-581",
           "MEFV"
          ],
          [
           "SL2-592",
           "SLC25A46"
          ],
          [
           "SL2-598",
           "WAC"
          ],
          [
           "SL2-607",
           "SLC6A1"
          ],
          [
           "SL2-623",
           "ENPP1"
          ],
          [
           "SL2-632",
           "OCA2"
          ],
          [
           "SL2-646",
           "CHAT"
          ],
          [
           "SL2-653",
           "NFKB1"
          ],
          [
           "SL2-657",
           "NKX2-1"
          ],
          [
           "SL2-659",
           "GFAP"
          ],
          [
           "SL2-659",
           "GFAP"
          ],
          [
           "SL2-659",
           "ACVRL1"
          ],
          [
           "SL2-659",
           "ACVRL1"
          ],
          [
           "SL2-674",
           "PIGV"
          ],
          [
           "SL2-681",
           "TBX4"
          ],
          [
           "SL2-684",
           "SETD5"
          ],
          [
           "SL2-686",
           "ARSB"
          ],
          [
           "SL2-688",
           "B4GALNT1"
          ],
          [
           "SL2-697",
           "ANKRD11"
          ],
          [
           "SL2-699",
           "CHD7"
          ],
          [
           "SL2-716",
           "SLC12A3"
          ],
          [
           "SL2-724",
           "TUBA1A"
          ],
          [
           "SL2-728",
           "NAA15"
          ],
          [
           "SL2-732",
           "DOCK3"
          ],
          [
           "SL2-752",
           "GNPTAB"
          ],
          [
           "SL2-767",
           "CTCF"
          ],
          [
           "SL2-795",
           "MECP2"
          ],
          [
           "SL2-799",
           "GRIN1"
          ],
          [
           "SL2-799",
           "GRIN1"
          ],
          [
           "SL2-799",
           "FLG"
          ],
          [
           "SL2-799",
           "FLG"
          ],
          [
           "SL2-806",
           "JAK2"
          ],
          [
           "SL2-816",
           "PIK3R1"
          ],
          [
           "SL2-817",
           "CACNA1E"
          ],
          [
           "SL2-835",
           "CACNA1F"
          ],
          [
           "SL2-835",
           "CACNA1F"
          ],
          [
           "SL2-835",
           "SPG11"
          ],
          [
           "SL2-835",
           "SPG11"
          ],
          [
           "SL2-842",
           "KDM6A"
          ],
          [
           "SL2-844",
           "CHD2"
          ],
          [
           "SL2-850",
           "TCF4"
          ],
          [
           "SL2-852",
           "PLA2G6"
          ],
          [
           "SL2-854",
           "MAP3K7"
          ],
          [
           "SL2-860",
           "GABRA1"
          ],
          [
           "SL2-865",
           "ZBTB18"
          ],
          [
           "SL2-879",
           "RPS6KA3"
          ],
          [
           "SL2-879",
           "RPS6KA3"
          ],
          [
           "SL2-879",
           "USP9X"
          ],
          [
           "SL2-879",
           "USP9X"
          ],
          [
           "SL2-891",
           "CBL"
          ],
          [
           "SL2-891",
           "CBL"
          ],
          [
           "SL2-891",
           "ELN"
          ],
          [
           "SL2-891",
           "ELN"
          ],
          [
           "SL2-904",
           "CFTR"
          ],
          [
           "SL2-910",
           "POLR3A"
          ],
          [
           "SL2-919",
           "SON"
          ],
          [
           "SL2-924",
           "SETD5"
          ],
          [
           "SL2-938",
           "ZC4H2"
          ],
          [
           "SL2-940",
           "BRPF1"
          ],
          [
           "SL2-940",
           "BRPF1"
          ],
          [
           "SL2-940",
           "KDM5C"
          ],
          [
           "SL2-940",
           "KDM5C"
          ],
          [
           "SL2-943",
           "DGAT1"
          ],
          [
           "SL2-947",
           "SYNGAP1"
          ]
         ],
         "hovertemplate": "Method=delta_bayes_PCAN<br>Rank_PCAN=%{x}<br>Rank=%{y}<br>Normalized ID=%{customdata[0]}<br>Gene1=%{customdata[1]}<extra></extra>",
         "legendgroup": "delta_bayes_PCAN",
         "marker": {
          "color": "#EF553B",
          "symbol": "circle"
         },
         "mode": "markers",
         "name": "delta_bayes_PCAN",
         "orientation": "v",
         "showlegend": true,
         "type": "scatter",
         "x": [
          143,
          826,
          945,
          5,
          1505,
          2169,
          920,
          1926,
          1,
          10,
          4,
          437,
          200,
          165,
          64,
          37,
          81,
          67,
          1451,
          2,
          31,
          858,
          1521,
          47,
          48,
          204,
          848,
          103,
          3378,
          2070,
          121,
          3737,
          876,
          999,
          795,
          999,
          795,
          38,
          1,
          18,
          2962,
          18,
          2962,
          903,
          11,
          3,
          408,
          1895,
          43,
          957,
          40,
          238,
          null,
          238,
          null,
          1583,
          767,
          21,
          701,
          455,
          35,
          1159,
          14,
          714,
          742,
          49,
          152,
          4,
          49,
          247,
          504,
          6,
          196,
          1395,
          170,
          716,
          927,
          119,
          339,
          957,
          138,
          2254,
          249,
          205,
          319,
          205,
          319,
          706,
          78,
          5,
          2229,
          322,
          226,
          887,
          10,
          45,
          11,
          14,
          5,
          901,
          26,
          202,
          463,
          634,
          131,
          276,
          988,
          241,
          45,
          85,
          22,
          266,
          455,
          643,
          444,
          1150,
          444,
          1150,
          444,
          1150,
          423,
          179,
          43,
          31,
          43,
          31,
          176,
          879,
          245,
          618,
          139,
          33,
          1080,
          477,
          2419,
          19,
          164,
          233,
          436,
          548,
          4,
          6,
          683,
          593,
          199,
          19,
          90,
          63,
          15,
          89,
          17,
          933,
          1,
          12,
          355,
          2309,
          302,
          3,
          642,
          7,
          611,
          8,
          71,
          104,
          94,
          137,
          192,
          2,
          187,
          1637,
          33,
          157,
          99,
          5,
          211,
          188,
          1513,
          185,
          432,
          352,
          22,
          205,
          447,
          1026,
          64,
          19,
          490,
          288,
          258,
          240,
          50,
          361,
          166,
          174,
          2267,
          174,
          2267,
          174,
          2267,
          491,
          894,
          38,
          28,
          25,
          28,
          25,
          365,
          708,
          367,
          627,
          2474,
          55,
          45,
          3,
          242,
          227,
          674,
          31,
          674,
          31,
          741,
          2002,
          203,
          81,
          7,
          2266,
          272,
          5,
          14,
          1,
          1324,
          6,
          2216,
          10,
          157,
          1938,
          157,
          1938,
          14,
          365,
          13,
          778,
          14,
          778,
          14,
          965,
          89,
          130,
          18,
          11,
          1055,
          2125,
          874,
          974,
          874,
          974,
          233,
          689,
          233,
          689,
          190,
          161,
          244,
          144,
          83,
          387,
          943,
          387,
          943,
          16,
          367
         ],
         "xaxis": "x",
         "y": [
          -1969,
          -94,
          286,
          -949,
          1201,
          -554,
          -2100,
          -1109,
          -777,
          -944,
          -13,
          -434,
          -1877,
          -2689,
          -1238,
          -86,
          -1374,
          -678,
          1292,
          -184,
          -2526,
          -1869,
          1243,
          -1258,
          -2113,
          42,
          -1904,
          -1522,
          2340,
          2064,
          -2020,
          2325,
          319,
          552,
          348,
          105,
          -99,
          -887,
          -196,
          -233,
          2711,
          -2360,
          584,
          895,
          -36,
          -10,
          -958,
          1833,
          25,
          -1891,
          1,
          189,
          null,
          -3072,
          null,
          445,
          -656,
          -1882,
          -2249,
          -1496,
          -3106,
          1029,
          -2379,
          410,
          515,
          -1962,
          -937,
          -1887,
          -123,
          -362,
          -1418,
          -1992,
          -2217,
          1028,
          -2208,
          -1481,
          -1088,
          -129,
          -686,
          942,
          -2680,
          166,
          -3146,
          -1388,
          -1274,
          -231,
          -117,
          -2787,
          -2714,
          -3080,
          -283,
          -798,
          189,
          -1794,
          -2381,
          -306,
          -8,
          -1103,
          -51,
          897,
          -2399,
          167,
          294,
          -978,
          -2144,
          -146,
          -2529,
          -1668,
          -1764,
          -3000,
          -2422,
          -3065,
          -1440,
          -1855,
          -3111,
          -2405,
          -2228,
          -1522,
          -1096,
          -390,
          -2459,
          -1038,
          -963,
          -975,
          -743,
          -755,
          -445,
          -623,
          -2893,
          128,
          -3177,
          21,
          245,
          -155,
          -298,
          -3145,
          -1065,
          -1310,
          -2562,
          76,
          -1013,
          -1138,
          666,
          493,
          -208,
          -376,
          -1357,
          -1964,
          -952,
          -231,
          -133,
          -1646,
          -471,
          -39,
          -843,
          -1198,
          -6,
          -4,
          582,
          -1025,
          -709,
          -1202,
          -520,
          -420,
          -2717,
          -1313,
          -2841,
          0,
          -1486,
          -884,
          -152,
          -214,
          -536,
          -1096,
          -967,
          -3082,
          -707,
          -3189,
          -407,
          189,
          -3348,
          164,
          283,
          82,
          -3328,
          -1837,
          -1852,
          -2153,
          -487,
          -1808,
          -387,
          -871,
          -1499,
          -73,
          2020,
          -2822,
          -729,
          -1480,
          613,
          -1035,
          -2084,
          29,
          -3100,
          -3103,
          -2710,
          -2713,
          -2130,
          -1371,
          328,
          -2822,
          2127,
          -1373,
          24,
          -12,
          -125,
          -209,
          -1289,
          -1932,
          350,
          -293,
          408,
          1847,
          -1895,
          -2972,
          -1014,
          909,
          -421,
          2,
          -2163,
          -3023,
          -1396,
          -377,
          -394,
          -2335,
          -79,
          1702,
          -84,
          1697,
          -2259,
          -1360,
          -773,
          -1828,
          -2592,
          -947,
          -1711,
          149,
          -924,
          -1445,
          -327,
          -3331,
          930,
          -667,
          576,
          676,
          695,
          795,
          -1093,
          -637,
          -2407,
          -1951,
          98,
          -2222,
          -1254,
          -2003,
          -3337,
          -1529,
          -973,
          -2654,
          -2098,
          -3433,
          -1375
         ],
         "yaxis": "y"
        },
        {
         "alignmentgroup": "True",
         "bingroup": "x",
         "hovertemplate": "Method=delta_bayes_PCAN<br>Rank_PCAN=%{x}<br>count=%{y}<extra></extra>",
         "legendgroup": "delta_bayes_PCAN",
         "marker": {
          "color": "#EF553B"
         },
         "name": "delta_bayes_PCAN",
         "offsetgroup": "delta_bayes_PCAN",
         "opacity": 0.5,
         "showlegend": false,
         "type": "histogram",
         "x": [
          143,
          826,
          945,
          5,
          1505,
          2169,
          920,
          1926,
          1,
          10,
          4,
          437,
          200,
          165,
          64,
          37,
          81,
          67,
          1451,
          2,
          31,
          858,
          1521,
          47,
          48,
          204,
          848,
          103,
          3378,
          2070,
          121,
          3737,
          876,
          999,
          795,
          999,
          795,
          38,
          1,
          18,
          2962,
          18,
          2962,
          903,
          11,
          3,
          408,
          1895,
          43,
          957,
          40,
          238,
          null,
          238,
          null,
          1583,
          767,
          21,
          701,
          455,
          35,
          1159,
          14,
          714,
          742,
          49,
          152,
          4,
          49,
          247,
          504,
          6,
          196,
          1395,
          170,
          716,
          927,
          119,
          339,
          957,
          138,
          2254,
          249,
          205,
          319,
          205,
          319,
          706,
          78,
          5,
          2229,
          322,
          226,
          887,
          10,
          45,
          11,
          14,
          5,
          901,
          26,
          202,
          463,
          634,
          131,
          276,
          988,
          241,
          45,
          85,
          22,
          266,
          455,
          643,
          444,
          1150,
          444,
          1150,
          444,
          1150,
          423,
          179,
          43,
          31,
          43,
          31,
          176,
          879,
          245,
          618,
          139,
          33,
          1080,
          477,
          2419,
          19,
          164,
          233,
          436,
          548,
          4,
          6,
          683,
          593,
          199,
          19,
          90,
          63,
          15,
          89,
          17,
          933,
          1,
          12,
          355,
          2309,
          302,
          3,
          642,
          7,
          611,
          8,
          71,
          104,
          94,
          137,
          192,
          2,
          187,
          1637,
          33,
          157,
          99,
          5,
          211,
          188,
          1513,
          185,
          432,
          352,
          22,
          205,
          447,
          1026,
          64,
          19,
          490,
          288,
          258,
          240,
          50,
          361,
          166,
          174,
          2267,
          174,
          2267,
          174,
          2267,
          491,
          894,
          38,
          28,
          25,
          28,
          25,
          365,
          708,
          367,
          627,
          2474,
          55,
          45,
          3,
          242,
          227,
          674,
          31,
          674,
          31,
          741,
          2002,
          203,
          81,
          7,
          2266,
          272,
          5,
          14,
          1,
          1324,
          6,
          2216,
          10,
          157,
          1938,
          157,
          1938,
          14,
          365,
          13,
          778,
          14,
          778,
          14,
          965,
          89,
          130,
          18,
          11,
          1055,
          2125,
          874,
          974,
          874,
          974,
          233,
          689,
          233,
          689,
          190,
          161,
          244,
          144,
          83,
          387,
          943,
          387,
          943,
          16,
          367
         ],
         "xaxis": "x3",
         "yaxis": "y3"
        },
        {
         "alignmentgroup": "True",
         "boxpoints": "all",
         "customdata": [
          [
           "SL2-009",
           "CACNA1E"
          ],
          [
           "SL2-016",
           "PACS1"
          ],
          [
           "SL2-021",
           "CACNA1A"
          ],
          [
           "SL2-029",
           "FGFR1"
          ],
          [
           "SL2-033",
           "GABBR2"
          ],
          [
           "SL2-049",
           "AFG3L2"
          ],
          [
           "SL2-105",
           "THOC6"
          ],
          [
           "SL2-127",
           "EHMT1"
          ],
          [
           "SL2-144",
           "C2CD3"
          ],
          [
           "SL2-145",
           "COL2A1"
          ],
          [
           "SL2-147",
           "CACNA1A"
          ],
          [
           "SL2-155",
           "CLN6"
          ],
          [
           "SL2-156",
           "CLN6"
          ],
          [
           "SL2-157",
           "CLN6"
          ],
          [
           "SL2-158",
           "RUNX1"
          ],
          [
           "SL2-164",
           "ATM"
          ],
          [
           "SL2-167",
           "SOX2"
          ],
          [
           "SL2-170",
           "KAT6A"
          ],
          [
           "SL2-173",
           "BMP4"
          ],
          [
           "SL2-1000",
           "PTPN11"
          ],
          [
           "SL2-1006",
           "SCN2A"
          ],
          [
           "SL2-1076",
           "RECQL4"
          ],
          [
           "SL2-1167",
           "HNRNPU"
          ],
          [
           "SL2-1181",
           "ARID1B"
          ],
          [
           "SL2-1187",
           "POMGNT1"
          ],
          [
           "SL2-1205",
           "NR2F1"
          ],
          [
           "SL2-1209",
           "UBE3A"
          ],
          [
           "SL2-1211",
           "SLC6A8"
          ],
          [
           "SL2-1214",
           "CTCF"
          ],
          [
           "SL2-1216",
           "UBA1"
          ],
          [
           "SL2-1222",
           "ALPL"
          ],
          [
           "SL2-1224",
           "ACTG2"
          ],
          [
           "SL2-1253",
           "CHD2"
          ],
          [
           "SL2-1256",
           "COL4A2"
          ],
          [
           "SL2-1256",
           "COL4A2"
          ],
          [
           "SL2-1256",
           "MEFV"
          ],
          [
           "SL2-1256",
           "MEFV"
          ],
          [
           "SL2-1275",
           "DEAF1"
          ],
          [
           "SL2-1280",
           "NSD1"
          ],
          [
           "SL2-1282",
           "MECP2"
          ],
          [
           "SL2-1282",
           "MECP2"
          ],
          [
           "SL2-1282",
           "MLH1"
          ],
          [
           "SL2-1282",
           "MLH1"
          ],
          [
           "SL2-1291",
           "GLMN"
          ],
          [
           "SL2-1312",
           "TSPEAR"
          ],
          [
           "SL2-1315",
           "CACNA1A"
          ],
          [
           "SL2-1316",
           "SLC35C1"
          ],
          [
           "SL2-1340",
           "ATP1A3"
          ],
          [
           "SL2-1343",
           "MYH11"
          ],
          [
           "SL2-1365",
           "ALG12"
          ],
          [
           "SL2-1377",
           "DOCK8"
          ],
          [
           "SL2-1382",
           "CTLA4"
          ],
          [
           "SL2-1382",
           "CTLA4"
          ],
          [
           "SL2-1382",
           "NOD2"
          ],
          [
           "SL2-1382",
           "NOD2"
          ],
          [
           "SL2-1383",
           "CTCF"
          ],
          [
           "SL2-1385",
           "TRPS1"
          ],
          [
           "SL2-1397",
           "ERCC6L2"
          ],
          [
           "SL2-1431",
           "KMT2B"
          ],
          [
           "SL2-1435",
           "SETD5"
          ],
          [
           "SL2-1451",
           "MUC1"
          ],
          [
           "SL2-1481",
           "ACTB"
          ],
          [
           "SL2-1490",
           "SLC26A3"
          ],
          [
           "SL2-1493",
           "TRIP12"
          ],
          [
           "SL2-1496",
           "ASXL1"
          ],
          [
           "SL2-1507",
           "COL4A4"
          ],
          [
           "SL2-1529",
           "PGAP3"
          ],
          [
           "SL2-1538",
           "GAA"
          ],
          [
           "SL2-1539",
           "IFIH1"
          ],
          [
           "SL2-1547",
           "NONO"
          ],
          [
           "SL2-1554",
           "POGZ"
          ],
          [
           "SL2-1556",
           "LGI1"
          ],
          [
           "SL2-1581",
           "ZEB2"
          ],
          [
           "SL2-1584",
           "KCNB1"
          ],
          [
           "SL2-1600",
           "CNOT1"
          ],
          [
           "SL2-1628",
           "AHDC1"
          ],
          [
           "SL2-1631",
           "PTEN"
          ],
          [
           "SL2-1653",
           "ATP1A3"
          ],
          [
           "SL2-1685",
           "TRAPPC9"
          ],
          [
           "SL2-1723",
           "CUL4B"
          ],
          [
           "SL2-1766",
           "NSD1"
          ],
          [
           "SL2-1768",
           "ACTG1"
          ],
          [
           "SL2-1769",
           "ZSWIM6"
          ],
          [
           "SL2-190",
           "EZH2"
          ],
          [
           "SL2-190",
           "EZH2"
          ],
          [
           "SL2-190",
           "DNMT3A"
          ],
          [
           "SL2-190",
           "DNMT3A"
          ],
          [
           "SL2-193",
           "EHMT1"
          ],
          [
           "SL2-197",
           "IDH1"
          ],
          [
           "SL2-198",
           "KMT2D"
          ],
          [
           "SL2-203",
           "NAA15"
          ],
          [
           "SL2-237",
           "USP9X"
          ],
          [
           "SL2-245",
           "UBE2A"
          ],
          [
           "SL2-252",
           "CIC"
          ],
          [
           "SL2-254",
           "NEFL"
          ],
          [
           "SL2-259",
           "DMD"
          ],
          [
           "SL2-266",
           "SLC20A2"
          ],
          [
           "SL2-1805",
           "MSTO1"
          ],
          [
           "SL2-1842",
           "CUL3"
          ],
          [
           "SL2-1886",
           "PPP3CA"
          ],
          [
           "SL2-1924",
           "HTRA1"
          ],
          [
           "SL2-1940",
           "SCN2A"
          ],
          [
           "SL2-1978",
           "PIEZO1"
          ],
          [
           "SL2-1989",
           "FOXP1"
          ],
          [
           "SL2-1991",
           "CHD2"
          ],
          [
           "SL2-2028",
           "PBX1"
          ],
          [
           "SL2-2081",
           "SIN3A"
          ],
          [
           "SL2-2086",
           "ABCC9"
          ],
          [
           "SL2-2141",
           "PLA2G6"
          ],
          [
           "SL2-2202",
           "TRIO"
          ],
          [
           "SL2-2238",
           "BRCA2"
          ],
          [
           "SL2-2239",
           "TRIO"
          ],
          [
           "SL2-2246",
           "AMPD2"
          ],
          [
           "SL2-2281",
           "MPZ"
          ],
          [
           "SL2-2307",
           "PKD1"
          ],
          [
           "SL2-2307",
           "PKD1"
          ],
          [
           "SL2-2307",
           "COL11A1"
          ],
          [
           "SL2-2307",
           "COL11A1"
          ],
          [
           "SL2-2307",
           "VWF"
          ],
          [
           "SL2-2307",
           "VWF"
          ],
          [
           "SL2-2318",
           "TRRAP"
          ],
          [
           "SL2-2325",
           "GJB2"
          ],
          [
           "SL2-2328",
           "ALPL"
          ],
          [
           "SL2-2328",
           "ALPL"
          ],
          [
           "SL2-2328",
           "NF1"
          ],
          [
           "SL2-2328",
           "NF1"
          ],
          [
           "SL2-2354",
           "EFTUD2"
          ],
          [
           "SL2-2357",
           "ABCD1"
          ],
          [
           "SL2-2383",
           "NPC1"
          ],
          [
           "SL2-2404",
           "NR2F2"
          ],
          [
           "SL2-2433",
           "PTEN"
          ],
          [
           "SL2-2490",
           "AAAS"
          ],
          [
           "SL2-2511",
           "LZTR1"
          ],
          [
           "SL2-2580",
           "TNFRSF1A"
          ],
          [
           "SL2-2593",
           "ADCY5"
          ],
          [
           "SL2-2612",
           "MECP2"
          ],
          [
           "SL2-2646",
           "SMAD4"
          ],
          [
           "SL2-2647",
           "SHANK3"
          ],
          [
           "SL2-2689",
           "FLG"
          ],
          [
           "SL2-273",
           "KANSL1"
          ],
          [
           "SL2-276",
           "RYR1"
          ],
          [
           "SL2-284",
           "ANO3"
          ],
          [
           "SL2-287",
           "TBR1"
          ],
          [
           "SL2-299",
           "PYCR2"
          ],
          [
           "SL2-301",
           "KCNA2"
          ],
          [
           "SL2-310",
           "UMOD"
          ],
          [
           "SL2-313",
           "NDUFS4"
          ],
          [
           "SL2-314",
           "TIA1"
          ],
          [
           "SL2-315",
           "TRRAP"
          ],
          [
           "SL2-319",
           "KIF11"
          ],
          [
           "SL2-339",
           "OPA1"
          ],
          [
           "SL2-349",
           "EXOSC3"
          ],
          [
           "SL2-363",
           "FA2H"
          ],
          [
           "SL2-376",
           "XPC"
          ],
          [
           "SL2-381",
           "BCL11A"
          ],
          [
           "SL2-387",
           "DDX3X"
          ],
          [
           "SL2-388",
           "DCX"
          ],
          [
           "SL2-392",
           "THAP1"
          ],
          [
           "SL2-395",
           "CASR"
          ],
          [
           "SL2-397",
           "CYP11A1"
          ],
          [
           "SL2-400",
           "NR2F1"
          ],
          [
           "SL2-405",
           "KMT2A"
          ],
          [
           "SL2-410",
           "GJA1"
          ],
          [
           "SL2-412",
           "SPG7"
          ],
          [
           "SL2-421",
           "DEGS1"
          ],
          [
           "SL2-424",
           "ATM"
          ],
          [
           "SL2-437",
           "ASH1L"
          ],
          [
           "SL2-440",
           "ACTA1"
          ],
          [
           "SL2-442",
           "PTPN11"
          ],
          [
           "SL2-443",
           "HCFC1"
          ],
          [
           "SL2-446",
           "PSEN1"
          ],
          [
           "SL2-449",
           "FBXO11"
          ],
          [
           "SL2-454",
           "FAR1"
          ],
          [
           "SL2-457",
           "TGFBR2"
          ],
          [
           "SL2-458",
           "AEBP1"
          ],
          [
           "SL2-462",
           "CACNA1A"
          ],
          [
           "SL2-466",
           "SERPINA1"
          ],
          [
           "SL2-468",
           "C12orf57"
          ],
          [
           "SL2-469",
           "CYP7B1"
          ],
          [
           "SL2-471",
           "ACTB"
          ],
          [
           "SL2-472",
           "TRPV4"
          ],
          [
           "SL2-473",
           "EP300"
          ],
          [
           "SL2-485",
           "TUBB4A"
          ],
          [
           "SL2-521",
           "TRMU"
          ],
          [
           "SL2-528",
           "CLN3"
          ],
          [
           "SL2-2962",
           "LOX"
          ],
          [
           "SL2-3015",
           "STAG1"
          ],
          [
           "SL2-3041",
           "NEB"
          ],
          [
           "SL2-539",
           "EBF3"
          ],
          [
           "SL2-540",
           "HMGCS2"
          ],
          [
           "SL2-547",
           "SYNGAP1"
          ],
          [
           "SL2-550",
           "LTBP3"
          ],
          [
           "SL2-552",
           "ATP1A3"
          ],
          [
           "SL2-557",
           "SIN3A"
          ],
          [
           "SL2-557",
           "SIN3A"
          ],
          [
           "SL2-557",
           "FLG"
          ],
          [
           "SL2-557",
           "FLG"
          ],
          [
           "SL2-557",
           "EDAR"
          ],
          [
           "SL2-557",
           "EDAR"
          ],
          [
           "SL2-563",
           "ASXL3"
          ],
          [
           "SL2-566",
           "ACO2"
          ],
          [
           "SL2-577",
           "ALDH18A1"
          ],
          [
           "SL2-579",
           "TTN"
          ],
          [
           "SL2-579",
           "TTN"
          ],
          [
           "SL2-579",
           "MYBPC3"
          ],
          [
           "SL2-579",
           "MYBPC3"
          ],
          [
           "SL2-580",
           "ACVR1"
          ],
          [
           "SL2-581",
           "MEFV"
          ],
          [
           "SL2-592",
           "SLC25A46"
          ],
          [
           "SL2-598",
           "WAC"
          ],
          [
           "SL2-607",
           "SLC6A1"
          ],
          [
           "SL2-623",
           "ENPP1"
          ],
          [
           "SL2-632",
           "OCA2"
          ],
          [
           "SL2-646",
           "CHAT"
          ],
          [
           "SL2-653",
           "NFKB1"
          ],
          [
           "SL2-657",
           "NKX2-1"
          ],
          [
           "SL2-659",
           "GFAP"
          ],
          [
           "SL2-659",
           "GFAP"
          ],
          [
           "SL2-659",
           "ACVRL1"
          ],
          [
           "SL2-659",
           "ACVRL1"
          ],
          [
           "SL2-674",
           "PIGV"
          ],
          [
           "SL2-681",
           "TBX4"
          ],
          [
           "SL2-684",
           "SETD5"
          ],
          [
           "SL2-686",
           "ARSB"
          ],
          [
           "SL2-688",
           "B4GALNT1"
          ],
          [
           "SL2-697",
           "ANKRD11"
          ],
          [
           "SL2-699",
           "CHD7"
          ],
          [
           "SL2-716",
           "SLC12A3"
          ],
          [
           "SL2-724",
           "TUBA1A"
          ],
          [
           "SL2-728",
           "NAA15"
          ],
          [
           "SL2-732",
           "DOCK3"
          ],
          [
           "SL2-752",
           "GNPTAB"
          ],
          [
           "SL2-767",
           "CTCF"
          ],
          [
           "SL2-795",
           "MECP2"
          ],
          [
           "SL2-799",
           "GRIN1"
          ],
          [
           "SL2-799",
           "GRIN1"
          ],
          [
           "SL2-799",
           "FLG"
          ],
          [
           "SL2-799",
           "FLG"
          ],
          [
           "SL2-806",
           "JAK2"
          ],
          [
           "SL2-816",
           "PIK3R1"
          ],
          [
           "SL2-817",
           "CACNA1E"
          ],
          [
           "SL2-835",
           "CACNA1F"
          ],
          [
           "SL2-835",
           "CACNA1F"
          ],
          [
           "SL2-835",
           "SPG11"
          ],
          [
           "SL2-835",
           "SPG11"
          ],
          [
           "SL2-842",
           "KDM6A"
          ],
          [
           "SL2-844",
           "CHD2"
          ],
          [
           "SL2-850",
           "TCF4"
          ],
          [
           "SL2-852",
           "PLA2G6"
          ],
          [
           "SL2-854",
           "MAP3K7"
          ],
          [
           "SL2-860",
           "GABRA1"
          ],
          [
           "SL2-865",
           "ZBTB18"
          ],
          [
           "SL2-879",
           "RPS6KA3"
          ],
          [
           "SL2-879",
           "RPS6KA3"
          ],
          [
           "SL2-879",
           "USP9X"
          ],
          [
           "SL2-879",
           "USP9X"
          ],
          [
           "SL2-891",
           "CBL"
          ],
          [
           "SL2-891",
           "CBL"
          ],
          [
           "SL2-891",
           "ELN"
          ],
          [
           "SL2-891",
           "ELN"
          ],
          [
           "SL2-904",
           "CFTR"
          ],
          [
           "SL2-910",
           "POLR3A"
          ],
          [
           "SL2-919",
           "SON"
          ],
          [
           "SL2-924",
           "SETD5"
          ],
          [
           "SL2-938",
           "ZC4H2"
          ],
          [
           "SL2-940",
           "BRPF1"
          ],
          [
           "SL2-940",
           "BRPF1"
          ],
          [
           "SL2-940",
           "KDM5C"
          ],
          [
           "SL2-940",
           "KDM5C"
          ],
          [
           "SL2-943",
           "DGAT1"
          ],
          [
           "SL2-947",
           "SYNGAP1"
          ]
         ],
         "fillcolor": "rgba(255,255,255,0)",
         "hoveron": "points",
         "hovertemplate": "Method=delta_bayes_PCAN<br>Rank=%{y}<br>Normalized ID=%{customdata[0]}<br>Gene1=%{customdata[1]}<extra></extra>",
         "jitter": 0,
         "legendgroup": "delta_bayes_PCAN",
         "line": {
          "color": "rgba(255,255,255,0)"
         },
         "marker": {
          "color": "#EF553B",
          "symbol": "line-ew-open"
         },
         "name": "delta_bayes_PCAN",
         "offsetgroup": "delta_bayes_PCAN",
         "showlegend": false,
         "type": "box",
         "xaxis": "x2",
         "y": [
          -1969,
          -94,
          286,
          -949,
          1201,
          -554,
          -2100,
          -1109,
          -777,
          -944,
          -13,
          -434,
          -1877,
          -2689,
          -1238,
          -86,
          -1374,
          -678,
          1292,
          -184,
          -2526,
          -1869,
          1243,
          -1258,
          -2113,
          42,
          -1904,
          -1522,
          2340,
          2064,
          -2020,
          2325,
          319,
          552,
          348,
          105,
          -99,
          -887,
          -196,
          -233,
          2711,
          -2360,
          584,
          895,
          -36,
          -10,
          -958,
          1833,
          25,
          -1891,
          1,
          189,
          null,
          -3072,
          null,
          445,
          -656,
          -1882,
          -2249,
          -1496,
          -3106,
          1029,
          -2379,
          410,
          515,
          -1962,
          -937,
          -1887,
          -123,
          -362,
          -1418,
          -1992,
          -2217,
          1028,
          -2208,
          -1481,
          -1088,
          -129,
          -686,
          942,
          -2680,
          166,
          -3146,
          -1388,
          -1274,
          -231,
          -117,
          -2787,
          -2714,
          -3080,
          -283,
          -798,
          189,
          -1794,
          -2381,
          -306,
          -8,
          -1103,
          -51,
          897,
          -2399,
          167,
          294,
          -978,
          -2144,
          -146,
          -2529,
          -1668,
          -1764,
          -3000,
          -2422,
          -3065,
          -1440,
          -1855,
          -3111,
          -2405,
          -2228,
          -1522,
          -1096,
          -390,
          -2459,
          -1038,
          -963,
          -975,
          -743,
          -755,
          -445,
          -623,
          -2893,
          128,
          -3177,
          21,
          245,
          -155,
          -298,
          -3145,
          -1065,
          -1310,
          -2562,
          76,
          -1013,
          -1138,
          666,
          493,
          -208,
          -376,
          -1357,
          -1964,
          -952,
          -231,
          -133,
          -1646,
          -471,
          -39,
          -843,
          -1198,
          -6,
          -4,
          582,
          -1025,
          -709,
          -1202,
          -520,
          -420,
          -2717,
          -1313,
          -2841,
          0,
          -1486,
          -884,
          -152,
          -214,
          -536,
          -1096,
          -967,
          -3082,
          -707,
          -3189,
          -407,
          189,
          -3348,
          164,
          283,
          82,
          -3328,
          -1837,
          -1852,
          -2153,
          -487,
          -1808,
          -387,
          -871,
          -1499,
          -73,
          2020,
          -2822,
          -729,
          -1480,
          613,
          -1035,
          -2084,
          29,
          -3100,
          -3103,
          -2710,
          -2713,
          -2130,
          -1371,
          328,
          -2822,
          2127,
          -1373,
          24,
          -12,
          -125,
          -209,
          -1289,
          -1932,
          350,
          -293,
          408,
          1847,
          -1895,
          -2972,
          -1014,
          909,
          -421,
          2,
          -2163,
          -3023,
          -1396,
          -377,
          -394,
          -2335,
          -79,
          1702,
          -84,
          1697,
          -2259,
          -1360,
          -773,
          -1828,
          -2592,
          -947,
          -1711,
          149,
          -924,
          -1445,
          -327,
          -3331,
          930,
          -667,
          576,
          676,
          695,
          795,
          -1093,
          -637,
          -2407,
          -1951,
          98,
          -2222,
          -1254,
          -2003,
          -3337,
          -1529,
          -973,
          -2654,
          -2098,
          -3433,
          -1375
         ],
         "yaxis": "y2"
        }
       ],
       "layout": {
        "barmode": "overlay",
        "legend": {
         "title": {
          "text": "Method"
         },
         "tracegroupgap": 0
        },
        "margin": {
         "t": 60
        },
        "template": {
         "data": {
          "bar": [
           {
            "error_x": {
             "color": "#2a3f5f"
            },
            "error_y": {
             "color": "#2a3f5f"
            },
            "marker": {
             "line": {
              "color": "#E5ECF6",
              "width": 0.5
             },
             "pattern": {
              "fillmode": "overlay",
              "size": 10,
              "solidity": 0.2
             }
            },
            "type": "bar"
           }
          ],
          "barpolar": [
           {
            "marker": {
             "line": {
              "color": "#E5ECF6",
              "width": 0.5
             },
             "pattern": {
              "fillmode": "overlay",
              "size": 10,
              "solidity": 0.2
             }
            },
            "type": "barpolar"
           }
          ],
          "carpet": [
           {
            "aaxis": {
             "endlinecolor": "#2a3f5f",
             "gridcolor": "white",
             "linecolor": "white",
             "minorgridcolor": "white",
             "startlinecolor": "#2a3f5f"
            },
            "baxis": {
             "endlinecolor": "#2a3f5f",
             "gridcolor": "white",
             "linecolor": "white",
             "minorgridcolor": "white",
             "startlinecolor": "#2a3f5f"
            },
            "type": "carpet"
           }
          ],
          "choropleth": [
           {
            "colorbar": {
             "outlinewidth": 0,
             "ticks": ""
            },
            "type": "choropleth"
           }
          ],
          "contour": [
           {
            "colorbar": {
             "outlinewidth": 0,
             "ticks": ""
            },
            "colorscale": [
             [
              0,
              "#0d0887"
             ],
             [
              0.1111111111111111,
              "#46039f"
             ],
             [
              0.2222222222222222,
              "#7201a8"
             ],
             [
              0.3333333333333333,
              "#9c179e"
             ],
             [
              0.4444444444444444,
              "#bd3786"
             ],
             [
              0.5555555555555556,
              "#d8576b"
             ],
             [
              0.6666666666666666,
              "#ed7953"
             ],
             [
              0.7777777777777778,
              "#fb9f3a"
             ],
             [
              0.8888888888888888,
              "#fdca26"
             ],
             [
              1,
              "#f0f921"
             ]
            ],
            "type": "contour"
           }
          ],
          "contourcarpet": [
           {
            "colorbar": {
             "outlinewidth": 0,
             "ticks": ""
            },
            "type": "contourcarpet"
           }
          ],
          "heatmap": [
           {
            "colorbar": {
             "outlinewidth": 0,
             "ticks": ""
            },
            "colorscale": [
             [
              0,
              "#0d0887"
             ],
             [
              0.1111111111111111,
              "#46039f"
             ],
             [
              0.2222222222222222,
              "#7201a8"
             ],
             [
              0.3333333333333333,
              "#9c179e"
             ],
             [
              0.4444444444444444,
              "#bd3786"
             ],
             [
              0.5555555555555556,
              "#d8576b"
             ],
             [
              0.6666666666666666,
              "#ed7953"
             ],
             [
              0.7777777777777778,
              "#fb9f3a"
             ],
             [
              0.8888888888888888,
              "#fdca26"
             ],
             [
              1,
              "#f0f921"
             ]
            ],
            "type": "heatmap"
           }
          ],
          "heatmapgl": [
           {
            "colorbar": {
             "outlinewidth": 0,
             "ticks": ""
            },
            "colorscale": [
             [
              0,
              "#0d0887"
             ],
             [
              0.1111111111111111,
              "#46039f"
             ],
             [
              0.2222222222222222,
              "#7201a8"
             ],
             [
              0.3333333333333333,
              "#9c179e"
             ],
             [
              0.4444444444444444,
              "#bd3786"
             ],
             [
              0.5555555555555556,
              "#d8576b"
             ],
             [
              0.6666666666666666,
              "#ed7953"
             ],
             [
              0.7777777777777778,
              "#fb9f3a"
             ],
             [
              0.8888888888888888,
              "#fdca26"
             ],
             [
              1,
              "#f0f921"
             ]
            ],
            "type": "heatmapgl"
           }
          ],
          "histogram": [
           {
            "marker": {
             "pattern": {
              "fillmode": "overlay",
              "size": 10,
              "solidity": 0.2
             }
            },
            "type": "histogram"
           }
          ],
          "histogram2d": [
           {
            "colorbar": {
             "outlinewidth": 0,
             "ticks": ""
            },
            "colorscale": [
             [
              0,
              "#0d0887"
             ],
             [
              0.1111111111111111,
              "#46039f"
             ],
             [
              0.2222222222222222,
              "#7201a8"
             ],
             [
              0.3333333333333333,
              "#9c179e"
             ],
             [
              0.4444444444444444,
              "#bd3786"
             ],
             [
              0.5555555555555556,
              "#d8576b"
             ],
             [
              0.6666666666666666,
              "#ed7953"
             ],
             [
              0.7777777777777778,
              "#fb9f3a"
             ],
             [
              0.8888888888888888,
              "#fdca26"
             ],
             [
              1,
              "#f0f921"
             ]
            ],
            "type": "histogram2d"
           }
          ],
          "histogram2dcontour": [
           {
            "colorbar": {
             "outlinewidth": 0,
             "ticks": ""
            },
            "colorscale": [
             [
              0,
              "#0d0887"
             ],
             [
              0.1111111111111111,
              "#46039f"
             ],
             [
              0.2222222222222222,
              "#7201a8"
             ],
             [
              0.3333333333333333,
              "#9c179e"
             ],
             [
              0.4444444444444444,
              "#bd3786"
             ],
             [
              0.5555555555555556,
              "#d8576b"
             ],
             [
              0.6666666666666666,
              "#ed7953"
             ],
             [
              0.7777777777777778,
              "#fb9f3a"
             ],
             [
              0.8888888888888888,
              "#fdca26"
             ],
             [
              1,
              "#f0f921"
             ]
            ],
            "type": "histogram2dcontour"
           }
          ],
          "mesh3d": [
           {
            "colorbar": {
             "outlinewidth": 0,
             "ticks": ""
            },
            "type": "mesh3d"
           }
          ],
          "parcoords": [
           {
            "line": {
             "colorbar": {
              "outlinewidth": 0,
              "ticks": ""
             }
            },
            "type": "parcoords"
           }
          ],
          "pie": [
           {
            "automargin": true,
            "type": "pie"
           }
          ],
          "scatter": [
           {
            "fillpattern": {
             "fillmode": "overlay",
             "size": 10,
             "solidity": 0.2
            },
            "type": "scatter"
           }
          ],
          "scatter3d": [
           {
            "line": {
             "colorbar": {
              "outlinewidth": 0,
              "ticks": ""
             }
            },
            "marker": {
             "colorbar": {
              "outlinewidth": 0,
              "ticks": ""
             }
            },
            "type": "scatter3d"
           }
          ],
          "scattercarpet": [
           {
            "marker": {
             "colorbar": {
              "outlinewidth": 0,
              "ticks": ""
             }
            },
            "type": "scattercarpet"
           }
          ],
          "scattergeo": [
           {
            "marker": {
             "colorbar": {
              "outlinewidth": 0,
              "ticks": ""
             }
            },
            "type": "scattergeo"
           }
          ],
          "scattergl": [
           {
            "marker": {
             "colorbar": {
              "outlinewidth": 0,
              "ticks": ""
             }
            },
            "type": "scattergl"
           }
          ],
          "scattermapbox": [
           {
            "marker": {
             "colorbar": {
              "outlinewidth": 0,
              "ticks": ""
             }
            },
            "type": "scattermapbox"
           }
          ],
          "scatterpolar": [
           {
            "marker": {
             "colorbar": {
              "outlinewidth": 0,
              "ticks": ""
             }
            },
            "type": "scatterpolar"
           }
          ],
          "scatterpolargl": [
           {
            "marker": {
             "colorbar": {
              "outlinewidth": 0,
              "ticks": ""
             }
            },
            "type": "scatterpolargl"
           }
          ],
          "scatterternary": [
           {
            "marker": {
             "colorbar": {
              "outlinewidth": 0,
              "ticks": ""
             }
            },
            "type": "scatterternary"
           }
          ],
          "surface": [
           {
            "colorbar": {
             "outlinewidth": 0,
             "ticks": ""
            },
            "colorscale": [
             [
              0,
              "#0d0887"
             ],
             [
              0.1111111111111111,
              "#46039f"
             ],
             [
              0.2222222222222222,
              "#7201a8"
             ],
             [
              0.3333333333333333,
              "#9c179e"
             ],
             [
              0.4444444444444444,
              "#bd3786"
             ],
             [
              0.5555555555555556,
              "#d8576b"
             ],
             [
              0.6666666666666666,
              "#ed7953"
             ],
             [
              0.7777777777777778,
              "#fb9f3a"
             ],
             [
              0.8888888888888888,
              "#fdca26"
             ],
             [
              1,
              "#f0f921"
             ]
            ],
            "type": "surface"
           }
          ],
          "table": [
           {
            "cells": {
             "fill": {
              "color": "#EBF0F8"
             },
             "line": {
              "color": "white"
             }
            },
            "header": {
             "fill": {
              "color": "#C8D4E3"
             },
             "line": {
              "color": "white"
             }
            },
            "type": "table"
           }
          ]
         },
         "layout": {
          "annotationdefaults": {
           "arrowcolor": "#2a3f5f",
           "arrowhead": 0,
           "arrowwidth": 1
          },
          "autotypenumbers": "strict",
          "coloraxis": {
           "colorbar": {
            "outlinewidth": 0,
            "ticks": ""
           }
          },
          "colorscale": {
           "diverging": [
            [
             0,
             "#8e0152"
            ],
            [
             0.1,
             "#c51b7d"
            ],
            [
             0.2,
             "#de77ae"
            ],
            [
             0.3,
             "#f1b6da"
            ],
            [
             0.4,
             "#fde0ef"
            ],
            [
             0.5,
             "#f7f7f7"
            ],
            [
             0.6,
             "#e6f5d0"
            ],
            [
             0.7,
             "#b8e186"
            ],
            [
             0.8,
             "#7fbc41"
            ],
            [
             0.9,
             "#4d9221"
            ],
            [
             1,
             "#276419"
            ]
           ],
           "sequential": [
            [
             0,
             "#0d0887"
            ],
            [
             0.1111111111111111,
             "#46039f"
            ],
            [
             0.2222222222222222,
             "#7201a8"
            ],
            [
             0.3333333333333333,
             "#9c179e"
            ],
            [
             0.4444444444444444,
             "#bd3786"
            ],
            [
             0.5555555555555556,
             "#d8576b"
            ],
            [
             0.6666666666666666,
             "#ed7953"
            ],
            [
             0.7777777777777778,
             "#fb9f3a"
            ],
            [
             0.8888888888888888,
             "#fdca26"
            ],
            [
             1,
             "#f0f921"
            ]
           ],
           "sequentialminus": [
            [
             0,
             "#0d0887"
            ],
            [
             0.1111111111111111,
             "#46039f"
            ],
            [
             0.2222222222222222,
             "#7201a8"
            ],
            [
             0.3333333333333333,
             "#9c179e"
            ],
            [
             0.4444444444444444,
             "#bd3786"
            ],
            [
             0.5555555555555556,
             "#d8576b"
            ],
            [
             0.6666666666666666,
             "#ed7953"
            ],
            [
             0.7777777777777778,
             "#fb9f3a"
            ],
            [
             0.8888888888888888,
             "#fdca26"
            ],
            [
             1,
             "#f0f921"
            ]
           ]
          },
          "colorway": [
           "#636efa",
           "#EF553B",
           "#00cc96",
           "#ab63fa",
           "#FFA15A",
           "#19d3f3",
           "#FF6692",
           "#B6E880",
           "#FF97FF",
           "#FECB52"
          ],
          "font": {
           "color": "#2a3f5f"
          },
          "geo": {
           "bgcolor": "white",
           "lakecolor": "white",
           "landcolor": "#E5ECF6",
           "showlakes": true,
           "showland": true,
           "subunitcolor": "white"
          },
          "hoverlabel": {
           "align": "left"
          },
          "hovermode": "closest",
          "mapbox": {
           "style": "light"
          },
          "paper_bgcolor": "white",
          "plot_bgcolor": "#E5ECF6",
          "polar": {
           "angularaxis": {
            "gridcolor": "white",
            "linecolor": "white",
            "ticks": ""
           },
           "bgcolor": "#E5ECF6",
           "radialaxis": {
            "gridcolor": "white",
            "linecolor": "white",
            "ticks": ""
           }
          },
          "scene": {
           "xaxis": {
            "backgroundcolor": "#E5ECF6",
            "gridcolor": "white",
            "gridwidth": 2,
            "linecolor": "white",
            "showbackground": true,
            "ticks": "",
            "zerolinecolor": "white"
           },
           "yaxis": {
            "backgroundcolor": "#E5ECF6",
            "gridcolor": "white",
            "gridwidth": 2,
            "linecolor": "white",
            "showbackground": true,
            "ticks": "",
            "zerolinecolor": "white"
           },
           "zaxis": {
            "backgroundcolor": "#E5ECF6",
            "gridcolor": "white",
            "gridwidth": 2,
            "linecolor": "white",
            "showbackground": true,
            "ticks": "",
            "zerolinecolor": "white"
           }
          },
          "shapedefaults": {
           "line": {
            "color": "#2a3f5f"
           }
          },
          "ternary": {
           "aaxis": {
            "gridcolor": "white",
            "linecolor": "white",
            "ticks": ""
           },
           "baxis": {
            "gridcolor": "white",
            "linecolor": "white",
            "ticks": ""
           },
           "bgcolor": "#E5ECF6",
           "caxis": {
            "gridcolor": "white",
            "linecolor": "white",
            "ticks": ""
           }
          },
          "title": {
           "x": 0.05
          },
          "xaxis": {
           "automargin": true,
           "gridcolor": "white",
           "linecolor": "white",
           "ticks": "",
           "title": {
            "standoff": 15
           },
           "zerolinecolor": "white",
           "zerolinewidth": 2
          },
          "yaxis": {
           "automargin": true,
           "gridcolor": "white",
           "linecolor": "white",
           "ticks": "",
           "title": {
            "standoff": 15
           },
           "zerolinecolor": "white",
           "zerolinewidth": 2
          }
         }
        },
        "xaxis": {
         "anchor": "y",
         "domain": [
          0,
          0.7363
         ],
         "title": {
          "text": "Rank_PCAN"
         }
        },
        "xaxis2": {
         "anchor": "y2",
         "domain": [
          0.7413,
          1
         ],
         "matches": "x2",
         "showgrid": false,
         "showline": false,
         "showticklabels": false,
         "ticks": ""
        },
        "xaxis3": {
         "anchor": "y3",
         "domain": [
          0,
          0.7363
         ],
         "matches": "x",
         "showgrid": true,
         "showticklabels": false
        },
        "xaxis4": {
         "anchor": "y4",
         "domain": [
          0.7413,
          1
         ],
         "matches": "x2",
         "showgrid": false,
         "showline": false,
         "showticklabels": false,
         "ticks": ""
        },
        "yaxis": {
         "anchor": "x",
         "domain": [
          0,
          0.7326
         ],
         "title": {
          "text": "Rank"
         }
        },
        "yaxis2": {
         "anchor": "x2",
         "domain": [
          0,
          0.7326
         ],
         "matches": "y",
         "showgrid": true,
         "showticklabels": false
        },
        "yaxis3": {
         "anchor": "x3",
         "domain": [
          0.7426,
          1
         ],
         "matches": "y3",
         "showgrid": true,
         "showline": false,
         "showticklabels": false,
         "ticks": ""
        },
        "yaxis4": {
         "anchor": "x4",
         "domain": [
          0.7426,
          1
         ],
         "matches": "y3",
         "showgrid": true,
         "showline": false,
         "showticklabels": false,
         "ticks": ""
        }
       }
      },
      "text/html": [
       "<div>                            <div id=\"34b10f8f-beed-49f3-8c5a-539197f4b50e\" class=\"plotly-graph-div\" style=\"height:525px; width:100%;\"></div>            <script type=\"text/javascript\">                require([\"plotly\"], function(Plotly) {                    window.PLOTLYENV=window.PLOTLYENV || {};                                    if (document.getElementById(\"34b10f8f-beed-49f3-8c5a-539197f4b50e\")) {                    Plotly.newPlot(                        \"34b10f8f-beed-49f3-8c5a-539197f4b50e\",                        [{\"customdata\":[[\"SL2-009\",\"CACNA1E\"],[\"SL2-016\",\"PACS1\"],[\"SL2-021\",\"CACNA1A\"],[\"SL2-029\",\"FGFR1\"],[\"SL2-033\",\"GABBR2\"],[\"SL2-049\",\"AFG3L2\"],[\"SL2-105\",\"THOC6\"],[\"SL2-127\",\"EHMT1\"],[\"SL2-144\",\"C2CD3\"],[\"SL2-145\",\"COL2A1\"],[\"SL2-147\",\"CACNA1A\"],[\"SL2-155\",\"CLN6\"],[\"SL2-156\",\"CLN6\"],[\"SL2-157\",\"CLN6\"],[\"SL2-158\",\"RUNX1\"],[\"SL2-164\",\"ATM\"],[\"SL2-167\",\"SOX2\"],[\"SL2-170\",\"KAT6A\"],[\"SL2-173\",\"BMP4\"],[\"SL2-1000\",\"PTPN11\"],[\"SL2-1006\",\"SCN2A\"],[\"SL2-1076\",\"RECQL4\"],[\"SL2-1167\",\"HNRNPU\"],[\"SL2-1181\",\"ARID1B\"],[\"SL2-1187\",\"POMGNT1\"],[\"SL2-1205\",\"NR2F1\"],[\"SL2-1209\",\"UBE3A\"],[\"SL2-1211\",\"SLC6A8\"],[\"SL2-1214\",\"CTCF\"],[\"SL2-1216\",\"UBA1\"],[\"SL2-1222\",\"ALPL\"],[\"SL2-1224\",\"ACTG2\"],[\"SL2-1253\",\"CHD2\"],[\"SL2-1256\",\"COL4A2\"],[\"SL2-1256\",\"COL4A2\"],[\"SL2-1256\",\"MEFV\"],[\"SL2-1256\",\"MEFV\"],[\"SL2-1275\",\"DEAF1\"],[\"SL2-1280\",\"NSD1\"],[\"SL2-1282\",\"MECP2\"],[\"SL2-1282\",\"MECP2\"],[\"SL2-1282\",\"MLH1\"],[\"SL2-1282\",\"MLH1\"],[\"SL2-1291\",\"GLMN\"],[\"SL2-1312\",\"TSPEAR\"],[\"SL2-1315\",\"CACNA1A\"],[\"SL2-1316\",\"SLC35C1\"],[\"SL2-1340\",\"ATP1A3\"],[\"SL2-1343\",\"MYH11\"],[\"SL2-1365\",\"ALG12\"],[\"SL2-1377\",\"DOCK8\"],[\"SL2-1382\",\"CTLA4\"],[\"SL2-1382\",\"CTLA4\"],[\"SL2-1382\",\"NOD2\"],[\"SL2-1382\",\"NOD2\"],[\"SL2-1383\",\"CTCF\"],[\"SL2-1385\",\"TRPS1\"],[\"SL2-1397\",\"ERCC6L2\"],[\"SL2-1431\",\"KMT2B\"],[\"SL2-1435\",\"SETD5\"],[\"SL2-1451\",\"MUC1\"],[\"SL2-1481\",\"ACTB\"],[\"SL2-1490\",\"SLC26A3\"],[\"SL2-1493\",\"TRIP12\"],[\"SL2-1496\",\"ASXL1\"],[\"SL2-1507\",\"COL4A4\"],[\"SL2-1529\",\"PGAP3\"],[\"SL2-1538\",\"GAA\"],[\"SL2-1539\",\"IFIH1\"],[\"SL2-1547\",\"NONO\"],[\"SL2-1554\",\"POGZ\"],[\"SL2-1556\",\"LGI1\"],[\"SL2-1581\",\"ZEB2\"],[\"SL2-1584\",\"KCNB1\"],[\"SL2-1600\",\"CNOT1\"],[\"SL2-1628\",\"AHDC1\"],[\"SL2-1631\",\"PTEN\"],[\"SL2-1653\",\"ATP1A3\"],[\"SL2-1685\",\"TRAPPC9\"],[\"SL2-1723\",\"CUL4B\"],[\"SL2-1766\",\"NSD1\"],[\"SL2-1768\",\"ACTG1\"],[\"SL2-1769\",\"ZSWIM6\"],[\"SL2-190\",\"EZH2\"],[\"SL2-190\",\"EZH2\"],[\"SL2-190\",\"DNMT3A\"],[\"SL2-190\",\"DNMT3A\"],[\"SL2-193\",\"EHMT1\"],[\"SL2-197\",\"IDH1\"],[\"SL2-198\",\"KMT2D\"],[\"SL2-203\",\"NAA15\"],[\"SL2-237\",\"USP9X\"],[\"SL2-245\",\"UBE2A\"],[\"SL2-252\",\"CIC\"],[\"SL2-254\",\"NEFL\"],[\"SL2-259\",\"DMD\"],[\"SL2-266\",\"SLC20A2\"],[\"SL2-1805\",\"MSTO1\"],[\"SL2-1842\",\"CUL3\"],[\"SL2-1886\",\"PPP3CA\"],[\"SL2-1924\",\"HTRA1\"],[\"SL2-1940\",\"SCN2A\"],[\"SL2-1978\",\"PIEZO1\"],[\"SL2-1989\",\"FOXP1\"],[\"SL2-1991\",\"CHD2\"],[\"SL2-2028\",\"PBX1\"],[\"SL2-2081\",\"SIN3A\"],[\"SL2-2086\",\"ABCC9\"],[\"SL2-2141\",\"PLA2G6\"],[\"SL2-2202\",\"TRIO\"],[\"SL2-2238\",\"BRCA2\"],[\"SL2-2239\",\"TRIO\"],[\"SL2-2246\",\"AMPD2\"],[\"SL2-2281\",\"MPZ\"],[\"SL2-2307\",\"PKD1\"],[\"SL2-2307\",\"PKD1\"],[\"SL2-2307\",\"COL11A1\"],[\"SL2-2307\",\"COL11A1\"],[\"SL2-2307\",\"VWF\"],[\"SL2-2307\",\"VWF\"],[\"SL2-2318\",\"TRRAP\"],[\"SL2-2325\",\"GJB2\"],[\"SL2-2328\",\"ALPL\"],[\"SL2-2328\",\"ALPL\"],[\"SL2-2328\",\"NF1\"],[\"SL2-2328\",\"NF1\"],[\"SL2-2354\",\"EFTUD2\"],[\"SL2-2357\",\"ABCD1\"],[\"SL2-2383\",\"NPC1\"],[\"SL2-2404\",\"NR2F2\"],[\"SL2-2433\",\"PTEN\"],[\"SL2-2490\",\"AAAS\"],[\"SL2-2511\",\"LZTR1\"],[\"SL2-2580\",\"TNFRSF1A\"],[\"SL2-2593\",\"ADCY5\"],[\"SL2-2612\",\"MECP2\"],[\"SL2-2646\",\"SMAD4\"],[\"SL2-2647\",\"SHANK3\"],[\"SL2-2689\",\"FLG\"],[\"SL2-273\",\"KANSL1\"],[\"SL2-276\",\"RYR1\"],[\"SL2-284\",\"ANO3\"],[\"SL2-287\",\"TBR1\"],[\"SL2-299\",\"PYCR2\"],[\"SL2-301\",\"KCNA2\"],[\"SL2-310\",\"UMOD\"],[\"SL2-313\",\"NDUFS4\"],[\"SL2-314\",\"TIA1\"],[\"SL2-315\",\"TRRAP\"],[\"SL2-319\",\"KIF11\"],[\"SL2-339\",\"OPA1\"],[\"SL2-349\",\"EXOSC3\"],[\"SL2-363\",\"FA2H\"],[\"SL2-376\",\"XPC\"],[\"SL2-381\",\"BCL11A\"],[\"SL2-387\",\"DDX3X\"],[\"SL2-388\",\"DCX\"],[\"SL2-392\",\"THAP1\"],[\"SL2-395\",\"CASR\"],[\"SL2-397\",\"CYP11A1\"],[\"SL2-400\",\"NR2F1\"],[\"SL2-405\",\"KMT2A\"],[\"SL2-410\",\"GJA1\"],[\"SL2-412\",\"SPG7\"],[\"SL2-421\",\"DEGS1\"],[\"SL2-424\",\"ATM\"],[\"SL2-437\",\"ASH1L\"],[\"SL2-440\",\"ACTA1\"],[\"SL2-442\",\"PTPN11\"],[\"SL2-443\",\"HCFC1\"],[\"SL2-446\",\"PSEN1\"],[\"SL2-449\",\"FBXO11\"],[\"SL2-454\",\"FAR1\"],[\"SL2-457\",\"TGFBR2\"],[\"SL2-458\",\"AEBP1\"],[\"SL2-462\",\"CACNA1A\"],[\"SL2-466\",\"SERPINA1\"],[\"SL2-468\",\"C12orf57\"],[\"SL2-469\",\"CYP7B1\"],[\"SL2-471\",\"ACTB\"],[\"SL2-472\",\"TRPV4\"],[\"SL2-473\",\"EP300\"],[\"SL2-485\",\"TUBB4A\"],[\"SL2-521\",\"TRMU\"],[\"SL2-528\",\"CLN3\"],[\"SL2-2962\",\"LOX\"],[\"SL2-3015\",\"STAG1\"],[\"SL2-3041\",\"NEB\"],[\"SL2-539\",\"EBF3\"],[\"SL2-540\",\"HMGCS2\"],[\"SL2-547\",\"SYNGAP1\"],[\"SL2-550\",\"LTBP3\"],[\"SL2-552\",\"ATP1A3\"],[\"SL2-557\",\"SIN3A\"],[\"SL2-557\",\"SIN3A\"],[\"SL2-557\",\"FLG\"],[\"SL2-557\",\"FLG\"],[\"SL2-557\",\"EDAR\"],[\"SL2-557\",\"EDAR\"],[\"SL2-563\",\"ASXL3\"],[\"SL2-566\",\"ACO2\"],[\"SL2-577\",\"ALDH18A1\"],[\"SL2-579\",\"TTN\"],[\"SL2-579\",\"TTN\"],[\"SL2-579\",\"MYBPC3\"],[\"SL2-579\",\"MYBPC3\"],[\"SL2-580\",\"ACVR1\"],[\"SL2-581\",\"MEFV\"],[\"SL2-592\",\"SLC25A46\"],[\"SL2-598\",\"WAC\"],[\"SL2-607\",\"SLC6A1\"],[\"SL2-623\",\"ENPP1\"],[\"SL2-632\",\"OCA2\"],[\"SL2-646\",\"CHAT\"],[\"SL2-653\",\"NFKB1\"],[\"SL2-657\",\"NKX2-1\"],[\"SL2-659\",\"GFAP\"],[\"SL2-659\",\"GFAP\"],[\"SL2-659\",\"ACVRL1\"],[\"SL2-659\",\"ACVRL1\"],[\"SL2-674\",\"PIGV\"],[\"SL2-681\",\"TBX4\"],[\"SL2-684\",\"SETD5\"],[\"SL2-686\",\"ARSB\"],[\"SL2-688\",\"B4GALNT1\"],[\"SL2-697\",\"ANKRD11\"],[\"SL2-699\",\"CHD7\"],[\"SL2-716\",\"SLC12A3\"],[\"SL2-724\",\"TUBA1A\"],[\"SL2-728\",\"NAA15\"],[\"SL2-732\",\"DOCK3\"],[\"SL2-752\",\"GNPTAB\"],[\"SL2-767\",\"CTCF\"],[\"SL2-795\",\"MECP2\"],[\"SL2-799\",\"GRIN1\"],[\"SL2-799\",\"GRIN1\"],[\"SL2-799\",\"FLG\"],[\"SL2-799\",\"FLG\"],[\"SL2-806\",\"JAK2\"],[\"SL2-816\",\"PIK3R1\"],[\"SL2-817\",\"CACNA1E\"],[\"SL2-835\",\"CACNA1F\"],[\"SL2-835\",\"CACNA1F\"],[\"SL2-835\",\"SPG11\"],[\"SL2-835\",\"SPG11\"],[\"SL2-842\",\"KDM6A\"],[\"SL2-844\",\"CHD2\"],[\"SL2-850\",\"TCF4\"],[\"SL2-852\",\"PLA2G6\"],[\"SL2-854\",\"MAP3K7\"],[\"SL2-860\",\"GABRA1\"],[\"SL2-865\",\"ZBTB18\"],[\"SL2-879\",\"RPS6KA3\"],[\"SL2-879\",\"RPS6KA3\"],[\"SL2-879\",\"USP9X\"],[\"SL2-879\",\"USP9X\"],[\"SL2-891\",\"CBL\"],[\"SL2-891\",\"CBL\"],[\"SL2-891\",\"ELN\"],[\"SL2-891\",\"ELN\"],[\"SL2-904\",\"CFTR\"],[\"SL2-910\",\"POLR3A\"],[\"SL2-919\",\"SON\"],[\"SL2-924\",\"SETD5\"],[\"SL2-938\",\"ZC4H2\"],[\"SL2-940\",\"BRPF1\"],[\"SL2-940\",\"BRPF1\"],[\"SL2-940\",\"KDM5C\"],[\"SL2-940\",\"KDM5C\"],[\"SL2-943\",\"DGAT1\"],[\"SL2-947\",\"SYNGAP1\"]],\"hovertemplate\":\"Method=delta_bayes_geo_PCAN<br>Rank_PCAN=%{x}<br>Rank=%{y}<br>Normalized ID=%{customdata[0]}<br>Gene1=%{customdata[1]}<extra></extra>\",\"legendgroup\":\"delta_bayes_geo_PCAN\",\"marker\":{\"color\":\"#636efa\",\"symbol\":\"circle\"},\"mode\":\"markers\",\"name\":\"delta_bayes_geo_PCAN\",\"orientation\":\"v\",\"showlegend\":true,\"x\":[143.0,826.0,945.0,5.0,1505.0,2169.0,920.0,1926.0,1.0,10.0,4.0,437.0,200.0,165.0,64.0,37.0,81.0,67.0,1451.0,2.0,31.0,858.0,1521.0,47.0,48.0,204.0,848.0,103.0,3378.0,2070.0,121.0,3737.0,876.0,999.0,795.0,999.0,795.0,38.0,1.0,18.0,2962.0,18.0,2962.0,903.0,11.0,3.0,408.0,1895.0,43.0,957.0,40.0,238.0,null,238.0,null,1583.0,767.0,21.0,701.0,455.0,35.0,1159.0,14.0,714.0,742.0,49.0,152.0,4.0,49.0,247.0,504.0,6.0,196.0,1395.0,170.0,716.0,927.0,119.0,339.0,957.0,138.0,2254.0,249.0,205.0,319.0,205.0,319.0,706.0,78.0,5.0,2229.0,322.0,226.0,887.0,10.0,45.0,11.0,14.0,5.0,901.0,26.0,202.0,463.0,634.0,131.0,276.0,988.0,241.0,45.0,85.0,22.0,266.0,455.0,643.0,444.0,1150.0,444.0,1150.0,444.0,1150.0,423.0,179.0,43.0,31.0,43.0,31.0,176.0,879.0,245.0,618.0,139.0,33.0,1080.0,477.0,2419.0,19.0,164.0,233.0,436.0,548.0,4.0,6.0,683.0,593.0,199.0,19.0,90.0,63.0,15.0,89.0,17.0,933.0,1.0,12.0,355.0,2309.0,302.0,3.0,642.0,7.0,611.0,8.0,71.0,104.0,94.0,137.0,192.0,2.0,187.0,1637.0,33.0,157.0,99.0,5.0,211.0,188.0,1513.0,185.0,432.0,352.0,22.0,205.0,447.0,1026.0,64.0,19.0,490.0,288.0,258.0,240.0,50.0,361.0,166.0,174.0,2267.0,174.0,2267.0,174.0,2267.0,491.0,894.0,38.0,28.0,25.0,28.0,25.0,365.0,708.0,367.0,627.0,2474.0,55.0,45.0,3.0,242.0,227.0,674.0,31.0,674.0,31.0,741.0,2002.0,203.0,81.0,7.0,2266.0,272.0,5.0,14.0,1.0,1324.0,6.0,2216.0,10.0,157.0,1938.0,157.0,1938.0,14.0,365.0,13.0,778.0,14.0,778.0,14.0,965.0,89.0,130.0,18.0,11.0,1055.0,2125.0,874.0,974.0,874.0,974.0,233.0,689.0,233.0,689.0,190.0,161.0,244.0,144.0,83.0,387.0,943.0,387.0,943.0,16.0,367.0],\"xaxis\":\"x\",\"y\":[-644.0,-2451.0,-1418.0,-3459.0,988.0,880.0,-2216.0,1051.0,-1702.0,-2955.0,-321.0,-1984.0,-3070.0,-318.0,-3027.0,-2808.0,-2618.0,-858.0,-1751.0,-360.0,-2629.0,-160.0,-1761.0,-439.0,-42.0,-2816.0,-265.0,-602.0,3129.0,2065.0,-1359.0,2325.0,305.0,131.0,-73.0,769.0,565.0,-10.0,-948.0,-3374.0,-430.0,-1450.0,1494.0,-2653.0,-340.0,-198.0,-214.0,1829.0,-498.0,526.0,-3507.0,214.0,null,-1819.0,null,-1169.0,-807.0,-1962.0,-2623.0,-417.0,-48.0,1129.0,-808.0,-417.0,48.0,-825.0,-2502.0,-2628.0,-2793.0,-3173.0,-577.0,-1992.0,-385.0,-1625.0,-1110.0,-2427.0,651.0,-43.0,-548.0,375.0,-1787.0,-117.0,-2147.0,-2893.0,-2779.0,-2391.0,-2277.0,-192.0,-2510.0,-3300.0,1598.0,-342.0,209.0,-497.0,-121.0,-2745.0,-325.0,-2211.0,-3343.0,893.0,-2361.0,-1767.0,-713.0,-2812.0,-1547.0,-2322.0,-301.0,-1545.0,-2139.0,-2784.0,-2711.0,-2895.0,-112.0,-1758.0,-3103.0,-2397.0,-2884.0,-2178.0,-1344.0,-638.0,194.0,-2819.0,-2764.0,-2776.0,-2530.0,-2542.0,-1094.0,-524.0,-449.0,-700.0,-3144.0,-3174.0,-1780.0,-1370.0,1064.0,-702.0,-2905.0,-1537.0,-2597.0,212.0,-862.0,-1041.0,-2840.0,420.0,-2968.0,-1448.0,-449.0,-2724.0,-1804.0,-3127.0,-1056.0,-2098.0,-3412.0,-3547.0,-262.0,-613.0,-2689.0,-3550.0,-2177.0,-1179.0,-530.0,-1784.0,-3340.0,-599.0,-2959.0,-877.0,-811.0,1.0,-88.0,49.0,-616.0,-3283.0,-3098.0,-3089.0,-1215.0,-1315.0,-1120.0,9.0,-617.0,-3168.0,-1486.0,-3057.0,-107.0,-2267.0,-2428.0,-1978.0,-840.0,-1039.0,-1523.0,-739.0,-229.0,-2343.0,-3305.0,-3024.0,-931.0,-900.0,1193.0,-1748.0,345.0,-1321.0,193.0,-3431.0,-3100.0,-3103.0,-2710.0,-2713.0,-2257.0,-2841.0,71.0,-514.0,124.0,-2915.0,-128.0,-3522.0,-3222.0,138.0,-180.0,-823.0,-853.0,-1496.0,666.0,-1357.0,-260.0,-914.0,-693.0,850.0,-1440.0,4.0,-2413.0,-3173.0,-1726.0,-918.0,1704.0,-388.0,-371.0,1410.0,-390.0,1391.0,-1398.0,111.0,-2424.0,-457.0,-1221.0,-63.0,-827.0,433.0,-3078.0,-3024.0,-663.0,-889.0,-975.0,881.0,834.0,934.0,513.0,613.0,-212.0,244.0,-1659.0,-1203.0,73.0,-295.0,-2555.0,-2890.0,-27.0,83.0,639.0,74.0,630.0,-3391.0,-2760.0],\"yaxis\":\"y\",\"type\":\"scatter\"},{\"alignmentgroup\":\"True\",\"bingroup\":\"x\",\"hovertemplate\":\"Method=delta_bayes_geo_PCAN<br>Rank_PCAN=%{x}<br>count=%{y}<extra></extra>\",\"legendgroup\":\"delta_bayes_geo_PCAN\",\"marker\":{\"color\":\"#636efa\"},\"name\":\"delta_bayes_geo_PCAN\",\"offsetgroup\":\"delta_bayes_geo_PCAN\",\"opacity\":0.5,\"showlegend\":false,\"x\":[143.0,826.0,945.0,5.0,1505.0,2169.0,920.0,1926.0,1.0,10.0,4.0,437.0,200.0,165.0,64.0,37.0,81.0,67.0,1451.0,2.0,31.0,858.0,1521.0,47.0,48.0,204.0,848.0,103.0,3378.0,2070.0,121.0,3737.0,876.0,999.0,795.0,999.0,795.0,38.0,1.0,18.0,2962.0,18.0,2962.0,903.0,11.0,3.0,408.0,1895.0,43.0,957.0,40.0,238.0,null,238.0,null,1583.0,767.0,21.0,701.0,455.0,35.0,1159.0,14.0,714.0,742.0,49.0,152.0,4.0,49.0,247.0,504.0,6.0,196.0,1395.0,170.0,716.0,927.0,119.0,339.0,957.0,138.0,2254.0,249.0,205.0,319.0,205.0,319.0,706.0,78.0,5.0,2229.0,322.0,226.0,887.0,10.0,45.0,11.0,14.0,5.0,901.0,26.0,202.0,463.0,634.0,131.0,276.0,988.0,241.0,45.0,85.0,22.0,266.0,455.0,643.0,444.0,1150.0,444.0,1150.0,444.0,1150.0,423.0,179.0,43.0,31.0,43.0,31.0,176.0,879.0,245.0,618.0,139.0,33.0,1080.0,477.0,2419.0,19.0,164.0,233.0,436.0,548.0,4.0,6.0,683.0,593.0,199.0,19.0,90.0,63.0,15.0,89.0,17.0,933.0,1.0,12.0,355.0,2309.0,302.0,3.0,642.0,7.0,611.0,8.0,71.0,104.0,94.0,137.0,192.0,2.0,187.0,1637.0,33.0,157.0,99.0,5.0,211.0,188.0,1513.0,185.0,432.0,352.0,22.0,205.0,447.0,1026.0,64.0,19.0,490.0,288.0,258.0,240.0,50.0,361.0,166.0,174.0,2267.0,174.0,2267.0,174.0,2267.0,491.0,894.0,38.0,28.0,25.0,28.0,25.0,365.0,708.0,367.0,627.0,2474.0,55.0,45.0,3.0,242.0,227.0,674.0,31.0,674.0,31.0,741.0,2002.0,203.0,81.0,7.0,2266.0,272.0,5.0,14.0,1.0,1324.0,6.0,2216.0,10.0,157.0,1938.0,157.0,1938.0,14.0,365.0,13.0,778.0,14.0,778.0,14.0,965.0,89.0,130.0,18.0,11.0,1055.0,2125.0,874.0,974.0,874.0,974.0,233.0,689.0,233.0,689.0,190.0,161.0,244.0,144.0,83.0,387.0,943.0,387.0,943.0,16.0,367.0],\"xaxis\":\"x3\",\"yaxis\":\"y3\",\"type\":\"histogram\"},{\"alignmentgroup\":\"True\",\"boxpoints\":\"all\",\"customdata\":[[\"SL2-009\",\"CACNA1E\"],[\"SL2-016\",\"PACS1\"],[\"SL2-021\",\"CACNA1A\"],[\"SL2-029\",\"FGFR1\"],[\"SL2-033\",\"GABBR2\"],[\"SL2-049\",\"AFG3L2\"],[\"SL2-105\",\"THOC6\"],[\"SL2-127\",\"EHMT1\"],[\"SL2-144\",\"C2CD3\"],[\"SL2-145\",\"COL2A1\"],[\"SL2-147\",\"CACNA1A\"],[\"SL2-155\",\"CLN6\"],[\"SL2-156\",\"CLN6\"],[\"SL2-157\",\"CLN6\"],[\"SL2-158\",\"RUNX1\"],[\"SL2-164\",\"ATM\"],[\"SL2-167\",\"SOX2\"],[\"SL2-170\",\"KAT6A\"],[\"SL2-173\",\"BMP4\"],[\"SL2-1000\",\"PTPN11\"],[\"SL2-1006\",\"SCN2A\"],[\"SL2-1076\",\"RECQL4\"],[\"SL2-1167\",\"HNRNPU\"],[\"SL2-1181\",\"ARID1B\"],[\"SL2-1187\",\"POMGNT1\"],[\"SL2-1205\",\"NR2F1\"],[\"SL2-1209\",\"UBE3A\"],[\"SL2-1211\",\"SLC6A8\"],[\"SL2-1214\",\"CTCF\"],[\"SL2-1216\",\"UBA1\"],[\"SL2-1222\",\"ALPL\"],[\"SL2-1224\",\"ACTG2\"],[\"SL2-1253\",\"CHD2\"],[\"SL2-1256\",\"COL4A2\"],[\"SL2-1256\",\"COL4A2\"],[\"SL2-1256\",\"MEFV\"],[\"SL2-1256\",\"MEFV\"],[\"SL2-1275\",\"DEAF1\"],[\"SL2-1280\",\"NSD1\"],[\"SL2-1282\",\"MECP2\"],[\"SL2-1282\",\"MECP2\"],[\"SL2-1282\",\"MLH1\"],[\"SL2-1282\",\"MLH1\"],[\"SL2-1291\",\"GLMN\"],[\"SL2-1312\",\"TSPEAR\"],[\"SL2-1315\",\"CACNA1A\"],[\"SL2-1316\",\"SLC35C1\"],[\"SL2-1340\",\"ATP1A3\"],[\"SL2-1343\",\"MYH11\"],[\"SL2-1365\",\"ALG12\"],[\"SL2-1377\",\"DOCK8\"],[\"SL2-1382\",\"CTLA4\"],[\"SL2-1382\",\"CTLA4\"],[\"SL2-1382\",\"NOD2\"],[\"SL2-1382\",\"NOD2\"],[\"SL2-1383\",\"CTCF\"],[\"SL2-1385\",\"TRPS1\"],[\"SL2-1397\",\"ERCC6L2\"],[\"SL2-1431\",\"KMT2B\"],[\"SL2-1435\",\"SETD5\"],[\"SL2-1451\",\"MUC1\"],[\"SL2-1481\",\"ACTB\"],[\"SL2-1490\",\"SLC26A3\"],[\"SL2-1493\",\"TRIP12\"],[\"SL2-1496\",\"ASXL1\"],[\"SL2-1507\",\"COL4A4\"],[\"SL2-1529\",\"PGAP3\"],[\"SL2-1538\",\"GAA\"],[\"SL2-1539\",\"IFIH1\"],[\"SL2-1547\",\"NONO\"],[\"SL2-1554\",\"POGZ\"],[\"SL2-1556\",\"LGI1\"],[\"SL2-1581\",\"ZEB2\"],[\"SL2-1584\",\"KCNB1\"],[\"SL2-1600\",\"CNOT1\"],[\"SL2-1628\",\"AHDC1\"],[\"SL2-1631\",\"PTEN\"],[\"SL2-1653\",\"ATP1A3\"],[\"SL2-1685\",\"TRAPPC9\"],[\"SL2-1723\",\"CUL4B\"],[\"SL2-1766\",\"NSD1\"],[\"SL2-1768\",\"ACTG1\"],[\"SL2-1769\",\"ZSWIM6\"],[\"SL2-190\",\"EZH2\"],[\"SL2-190\",\"EZH2\"],[\"SL2-190\",\"DNMT3A\"],[\"SL2-190\",\"DNMT3A\"],[\"SL2-193\",\"EHMT1\"],[\"SL2-197\",\"IDH1\"],[\"SL2-198\",\"KMT2D\"],[\"SL2-203\",\"NAA15\"],[\"SL2-237\",\"USP9X\"],[\"SL2-245\",\"UBE2A\"],[\"SL2-252\",\"CIC\"],[\"SL2-254\",\"NEFL\"],[\"SL2-259\",\"DMD\"],[\"SL2-266\",\"SLC20A2\"],[\"SL2-1805\",\"MSTO1\"],[\"SL2-1842\",\"CUL3\"],[\"SL2-1886\",\"PPP3CA\"],[\"SL2-1924\",\"HTRA1\"],[\"SL2-1940\",\"SCN2A\"],[\"SL2-1978\",\"PIEZO1\"],[\"SL2-1989\",\"FOXP1\"],[\"SL2-1991\",\"CHD2\"],[\"SL2-2028\",\"PBX1\"],[\"SL2-2081\",\"SIN3A\"],[\"SL2-2086\",\"ABCC9\"],[\"SL2-2141\",\"PLA2G6\"],[\"SL2-2202\",\"TRIO\"],[\"SL2-2238\",\"BRCA2\"],[\"SL2-2239\",\"TRIO\"],[\"SL2-2246\",\"AMPD2\"],[\"SL2-2281\",\"MPZ\"],[\"SL2-2307\",\"PKD1\"],[\"SL2-2307\",\"PKD1\"],[\"SL2-2307\",\"COL11A1\"],[\"SL2-2307\",\"COL11A1\"],[\"SL2-2307\",\"VWF\"],[\"SL2-2307\",\"VWF\"],[\"SL2-2318\",\"TRRAP\"],[\"SL2-2325\",\"GJB2\"],[\"SL2-2328\",\"ALPL\"],[\"SL2-2328\",\"ALPL\"],[\"SL2-2328\",\"NF1\"],[\"SL2-2328\",\"NF1\"],[\"SL2-2354\",\"EFTUD2\"],[\"SL2-2357\",\"ABCD1\"],[\"SL2-2383\",\"NPC1\"],[\"SL2-2404\",\"NR2F2\"],[\"SL2-2433\",\"PTEN\"],[\"SL2-2490\",\"AAAS\"],[\"SL2-2511\",\"LZTR1\"],[\"SL2-2580\",\"TNFRSF1A\"],[\"SL2-2593\",\"ADCY5\"],[\"SL2-2612\",\"MECP2\"],[\"SL2-2646\",\"SMAD4\"],[\"SL2-2647\",\"SHANK3\"],[\"SL2-2689\",\"FLG\"],[\"SL2-273\",\"KANSL1\"],[\"SL2-276\",\"RYR1\"],[\"SL2-284\",\"ANO3\"],[\"SL2-287\",\"TBR1\"],[\"SL2-299\",\"PYCR2\"],[\"SL2-301\",\"KCNA2\"],[\"SL2-310\",\"UMOD\"],[\"SL2-313\",\"NDUFS4\"],[\"SL2-314\",\"TIA1\"],[\"SL2-315\",\"TRRAP\"],[\"SL2-319\",\"KIF11\"],[\"SL2-339\",\"OPA1\"],[\"SL2-349\",\"EXOSC3\"],[\"SL2-363\",\"FA2H\"],[\"SL2-376\",\"XPC\"],[\"SL2-381\",\"BCL11A\"],[\"SL2-387\",\"DDX3X\"],[\"SL2-388\",\"DCX\"],[\"SL2-392\",\"THAP1\"],[\"SL2-395\",\"CASR\"],[\"SL2-397\",\"CYP11A1\"],[\"SL2-400\",\"NR2F1\"],[\"SL2-405\",\"KMT2A\"],[\"SL2-410\",\"GJA1\"],[\"SL2-412\",\"SPG7\"],[\"SL2-421\",\"DEGS1\"],[\"SL2-424\",\"ATM\"],[\"SL2-437\",\"ASH1L\"],[\"SL2-440\",\"ACTA1\"],[\"SL2-442\",\"PTPN11\"],[\"SL2-443\",\"HCFC1\"],[\"SL2-446\",\"PSEN1\"],[\"SL2-449\",\"FBXO11\"],[\"SL2-454\",\"FAR1\"],[\"SL2-457\",\"TGFBR2\"],[\"SL2-458\",\"AEBP1\"],[\"SL2-462\",\"CACNA1A\"],[\"SL2-466\",\"SERPINA1\"],[\"SL2-468\",\"C12orf57\"],[\"SL2-469\",\"CYP7B1\"],[\"SL2-471\",\"ACTB\"],[\"SL2-472\",\"TRPV4\"],[\"SL2-473\",\"EP300\"],[\"SL2-485\",\"TUBB4A\"],[\"SL2-521\",\"TRMU\"],[\"SL2-528\",\"CLN3\"],[\"SL2-2962\",\"LOX\"],[\"SL2-3015\",\"STAG1\"],[\"SL2-3041\",\"NEB\"],[\"SL2-539\",\"EBF3\"],[\"SL2-540\",\"HMGCS2\"],[\"SL2-547\",\"SYNGAP1\"],[\"SL2-550\",\"LTBP3\"],[\"SL2-552\",\"ATP1A3\"],[\"SL2-557\",\"SIN3A\"],[\"SL2-557\",\"SIN3A\"],[\"SL2-557\",\"FLG\"],[\"SL2-557\",\"FLG\"],[\"SL2-557\",\"EDAR\"],[\"SL2-557\",\"EDAR\"],[\"SL2-563\",\"ASXL3\"],[\"SL2-566\",\"ACO2\"],[\"SL2-577\",\"ALDH18A1\"],[\"SL2-579\",\"TTN\"],[\"SL2-579\",\"TTN\"],[\"SL2-579\",\"MYBPC3\"],[\"SL2-579\",\"MYBPC3\"],[\"SL2-580\",\"ACVR1\"],[\"SL2-581\",\"MEFV\"],[\"SL2-592\",\"SLC25A46\"],[\"SL2-598\",\"WAC\"],[\"SL2-607\",\"SLC6A1\"],[\"SL2-623\",\"ENPP1\"],[\"SL2-632\",\"OCA2\"],[\"SL2-646\",\"CHAT\"],[\"SL2-653\",\"NFKB1\"],[\"SL2-657\",\"NKX2-1\"],[\"SL2-659\",\"GFAP\"],[\"SL2-659\",\"GFAP\"],[\"SL2-659\",\"ACVRL1\"],[\"SL2-659\",\"ACVRL1\"],[\"SL2-674\",\"PIGV\"],[\"SL2-681\",\"TBX4\"],[\"SL2-684\",\"SETD5\"],[\"SL2-686\",\"ARSB\"],[\"SL2-688\",\"B4GALNT1\"],[\"SL2-697\",\"ANKRD11\"],[\"SL2-699\",\"CHD7\"],[\"SL2-716\",\"SLC12A3\"],[\"SL2-724\",\"TUBA1A\"],[\"SL2-728\",\"NAA15\"],[\"SL2-732\",\"DOCK3\"],[\"SL2-752\",\"GNPTAB\"],[\"SL2-767\",\"CTCF\"],[\"SL2-795\",\"MECP2\"],[\"SL2-799\",\"GRIN1\"],[\"SL2-799\",\"GRIN1\"],[\"SL2-799\",\"FLG\"],[\"SL2-799\",\"FLG\"],[\"SL2-806\",\"JAK2\"],[\"SL2-816\",\"PIK3R1\"],[\"SL2-817\",\"CACNA1E\"],[\"SL2-835\",\"CACNA1F\"],[\"SL2-835\",\"CACNA1F\"],[\"SL2-835\",\"SPG11\"],[\"SL2-835\",\"SPG11\"],[\"SL2-842\",\"KDM6A\"],[\"SL2-844\",\"CHD2\"],[\"SL2-850\",\"TCF4\"],[\"SL2-852\",\"PLA2G6\"],[\"SL2-854\",\"MAP3K7\"],[\"SL2-860\",\"GABRA1\"],[\"SL2-865\",\"ZBTB18\"],[\"SL2-879\",\"RPS6KA3\"],[\"SL2-879\",\"RPS6KA3\"],[\"SL2-879\",\"USP9X\"],[\"SL2-879\",\"USP9X\"],[\"SL2-891\",\"CBL\"],[\"SL2-891\",\"CBL\"],[\"SL2-891\",\"ELN\"],[\"SL2-891\",\"ELN\"],[\"SL2-904\",\"CFTR\"],[\"SL2-910\",\"POLR3A\"],[\"SL2-919\",\"SON\"],[\"SL2-924\",\"SETD5\"],[\"SL2-938\",\"ZC4H2\"],[\"SL2-940\",\"BRPF1\"],[\"SL2-940\",\"BRPF1\"],[\"SL2-940\",\"KDM5C\"],[\"SL2-940\",\"KDM5C\"],[\"SL2-943\",\"DGAT1\"],[\"SL2-947\",\"SYNGAP1\"]],\"fillcolor\":\"rgba(255,255,255,0)\",\"hoveron\":\"points\",\"hovertemplate\":\"Method=delta_bayes_geo_PCAN<br>Rank=%{y}<br>Normalized ID=%{customdata[0]}<br>Gene1=%{customdata[1]}<extra></extra>\",\"jitter\":0,\"legendgroup\":\"delta_bayes_geo_PCAN\",\"line\":{\"color\":\"rgba(255,255,255,0)\"},\"marker\":{\"color\":\"#636efa\",\"symbol\":\"line-ew-open\"},\"name\":\"delta_bayes_geo_PCAN\",\"offsetgroup\":\"delta_bayes_geo_PCAN\",\"showlegend\":false,\"xaxis\":\"x2\",\"y\":[-644.0,-2451.0,-1418.0,-3459.0,988.0,880.0,-2216.0,1051.0,-1702.0,-2955.0,-321.0,-1984.0,-3070.0,-318.0,-3027.0,-2808.0,-2618.0,-858.0,-1751.0,-360.0,-2629.0,-160.0,-1761.0,-439.0,-42.0,-2816.0,-265.0,-602.0,3129.0,2065.0,-1359.0,2325.0,305.0,131.0,-73.0,769.0,565.0,-10.0,-948.0,-3374.0,-430.0,-1450.0,1494.0,-2653.0,-340.0,-198.0,-214.0,1829.0,-498.0,526.0,-3507.0,214.0,null,-1819.0,null,-1169.0,-807.0,-1962.0,-2623.0,-417.0,-48.0,1129.0,-808.0,-417.0,48.0,-825.0,-2502.0,-2628.0,-2793.0,-3173.0,-577.0,-1992.0,-385.0,-1625.0,-1110.0,-2427.0,651.0,-43.0,-548.0,375.0,-1787.0,-117.0,-2147.0,-2893.0,-2779.0,-2391.0,-2277.0,-192.0,-2510.0,-3300.0,1598.0,-342.0,209.0,-497.0,-121.0,-2745.0,-325.0,-2211.0,-3343.0,893.0,-2361.0,-1767.0,-713.0,-2812.0,-1547.0,-2322.0,-301.0,-1545.0,-2139.0,-2784.0,-2711.0,-2895.0,-112.0,-1758.0,-3103.0,-2397.0,-2884.0,-2178.0,-1344.0,-638.0,194.0,-2819.0,-2764.0,-2776.0,-2530.0,-2542.0,-1094.0,-524.0,-449.0,-700.0,-3144.0,-3174.0,-1780.0,-1370.0,1064.0,-702.0,-2905.0,-1537.0,-2597.0,212.0,-862.0,-1041.0,-2840.0,420.0,-2968.0,-1448.0,-449.0,-2724.0,-1804.0,-3127.0,-1056.0,-2098.0,-3412.0,-3547.0,-262.0,-613.0,-2689.0,-3550.0,-2177.0,-1179.0,-530.0,-1784.0,-3340.0,-599.0,-2959.0,-877.0,-811.0,1.0,-88.0,49.0,-616.0,-3283.0,-3098.0,-3089.0,-1215.0,-1315.0,-1120.0,9.0,-617.0,-3168.0,-1486.0,-3057.0,-107.0,-2267.0,-2428.0,-1978.0,-840.0,-1039.0,-1523.0,-739.0,-229.0,-2343.0,-3305.0,-3024.0,-931.0,-900.0,1193.0,-1748.0,345.0,-1321.0,193.0,-3431.0,-3100.0,-3103.0,-2710.0,-2713.0,-2257.0,-2841.0,71.0,-514.0,124.0,-2915.0,-128.0,-3522.0,-3222.0,138.0,-180.0,-823.0,-853.0,-1496.0,666.0,-1357.0,-260.0,-914.0,-693.0,850.0,-1440.0,4.0,-2413.0,-3173.0,-1726.0,-918.0,1704.0,-388.0,-371.0,1410.0,-390.0,1391.0,-1398.0,111.0,-2424.0,-457.0,-1221.0,-63.0,-827.0,433.0,-3078.0,-3024.0,-663.0,-889.0,-975.0,881.0,834.0,934.0,513.0,613.0,-212.0,244.0,-1659.0,-1203.0,73.0,-295.0,-2555.0,-2890.0,-27.0,83.0,639.0,74.0,630.0,-3391.0,-2760.0],\"yaxis\":\"y2\",\"type\":\"box\"},{\"customdata\":[[\"SL2-009\",\"CACNA1E\"],[\"SL2-016\",\"PACS1\"],[\"SL2-021\",\"CACNA1A\"],[\"SL2-029\",\"FGFR1\"],[\"SL2-033\",\"GABBR2\"],[\"SL2-049\",\"AFG3L2\"],[\"SL2-105\",\"THOC6\"],[\"SL2-127\",\"EHMT1\"],[\"SL2-144\",\"C2CD3\"],[\"SL2-145\",\"COL2A1\"],[\"SL2-147\",\"CACNA1A\"],[\"SL2-155\",\"CLN6\"],[\"SL2-156\",\"CLN6\"],[\"SL2-157\",\"CLN6\"],[\"SL2-158\",\"RUNX1\"],[\"SL2-164\",\"ATM\"],[\"SL2-167\",\"SOX2\"],[\"SL2-170\",\"KAT6A\"],[\"SL2-173\",\"BMP4\"],[\"SL2-1000\",\"PTPN11\"],[\"SL2-1006\",\"SCN2A\"],[\"SL2-1076\",\"RECQL4\"],[\"SL2-1167\",\"HNRNPU\"],[\"SL2-1181\",\"ARID1B\"],[\"SL2-1187\",\"POMGNT1\"],[\"SL2-1205\",\"NR2F1\"],[\"SL2-1209\",\"UBE3A\"],[\"SL2-1211\",\"SLC6A8\"],[\"SL2-1214\",\"CTCF\"],[\"SL2-1216\",\"UBA1\"],[\"SL2-1222\",\"ALPL\"],[\"SL2-1224\",\"ACTG2\"],[\"SL2-1253\",\"CHD2\"],[\"SL2-1256\",\"COL4A2\"],[\"SL2-1256\",\"COL4A2\"],[\"SL2-1256\",\"MEFV\"],[\"SL2-1256\",\"MEFV\"],[\"SL2-1275\",\"DEAF1\"],[\"SL2-1280\",\"NSD1\"],[\"SL2-1282\",\"MECP2\"],[\"SL2-1282\",\"MECP2\"],[\"SL2-1282\",\"MLH1\"],[\"SL2-1282\",\"MLH1\"],[\"SL2-1291\",\"GLMN\"],[\"SL2-1312\",\"TSPEAR\"],[\"SL2-1315\",\"CACNA1A\"],[\"SL2-1316\",\"SLC35C1\"],[\"SL2-1340\",\"ATP1A3\"],[\"SL2-1343\",\"MYH11\"],[\"SL2-1365\",\"ALG12\"],[\"SL2-1377\",\"DOCK8\"],[\"SL2-1382\",\"CTLA4\"],[\"SL2-1382\",\"CTLA4\"],[\"SL2-1382\",\"NOD2\"],[\"SL2-1382\",\"NOD2\"],[\"SL2-1383\",\"CTCF\"],[\"SL2-1385\",\"TRPS1\"],[\"SL2-1397\",\"ERCC6L2\"],[\"SL2-1431\",\"KMT2B\"],[\"SL2-1435\",\"SETD5\"],[\"SL2-1451\",\"MUC1\"],[\"SL2-1481\",\"ACTB\"],[\"SL2-1490\",\"SLC26A3\"],[\"SL2-1493\",\"TRIP12\"],[\"SL2-1496\",\"ASXL1\"],[\"SL2-1507\",\"COL4A4\"],[\"SL2-1529\",\"PGAP3\"],[\"SL2-1538\",\"GAA\"],[\"SL2-1539\",\"IFIH1\"],[\"SL2-1547\",\"NONO\"],[\"SL2-1554\",\"POGZ\"],[\"SL2-1556\",\"LGI1\"],[\"SL2-1581\",\"ZEB2\"],[\"SL2-1584\",\"KCNB1\"],[\"SL2-1600\",\"CNOT1\"],[\"SL2-1628\",\"AHDC1\"],[\"SL2-1631\",\"PTEN\"],[\"SL2-1653\",\"ATP1A3\"],[\"SL2-1685\",\"TRAPPC9\"],[\"SL2-1723\",\"CUL4B\"],[\"SL2-1766\",\"NSD1\"],[\"SL2-1768\",\"ACTG1\"],[\"SL2-1769\",\"ZSWIM6\"],[\"SL2-190\",\"EZH2\"],[\"SL2-190\",\"EZH2\"],[\"SL2-190\",\"DNMT3A\"],[\"SL2-190\",\"DNMT3A\"],[\"SL2-193\",\"EHMT1\"],[\"SL2-197\",\"IDH1\"],[\"SL2-198\",\"KMT2D\"],[\"SL2-203\",\"NAA15\"],[\"SL2-237\",\"USP9X\"],[\"SL2-245\",\"UBE2A\"],[\"SL2-252\",\"CIC\"],[\"SL2-254\",\"NEFL\"],[\"SL2-259\",\"DMD\"],[\"SL2-266\",\"SLC20A2\"],[\"SL2-1805\",\"MSTO1\"],[\"SL2-1842\",\"CUL3\"],[\"SL2-1886\",\"PPP3CA\"],[\"SL2-1924\",\"HTRA1\"],[\"SL2-1940\",\"SCN2A\"],[\"SL2-1978\",\"PIEZO1\"],[\"SL2-1989\",\"FOXP1\"],[\"SL2-1991\",\"CHD2\"],[\"SL2-2028\",\"PBX1\"],[\"SL2-2081\",\"SIN3A\"],[\"SL2-2086\",\"ABCC9\"],[\"SL2-2141\",\"PLA2G6\"],[\"SL2-2202\",\"TRIO\"],[\"SL2-2238\",\"BRCA2\"],[\"SL2-2239\",\"TRIO\"],[\"SL2-2246\",\"AMPD2\"],[\"SL2-2281\",\"MPZ\"],[\"SL2-2307\",\"PKD1\"],[\"SL2-2307\",\"PKD1\"],[\"SL2-2307\",\"COL11A1\"],[\"SL2-2307\",\"COL11A1\"],[\"SL2-2307\",\"VWF\"],[\"SL2-2307\",\"VWF\"],[\"SL2-2318\",\"TRRAP\"],[\"SL2-2325\",\"GJB2\"],[\"SL2-2328\",\"ALPL\"],[\"SL2-2328\",\"ALPL\"],[\"SL2-2328\",\"NF1\"],[\"SL2-2328\",\"NF1\"],[\"SL2-2354\",\"EFTUD2\"],[\"SL2-2357\",\"ABCD1\"],[\"SL2-2383\",\"NPC1\"],[\"SL2-2404\",\"NR2F2\"],[\"SL2-2433\",\"PTEN\"],[\"SL2-2490\",\"AAAS\"],[\"SL2-2511\",\"LZTR1\"],[\"SL2-2580\",\"TNFRSF1A\"],[\"SL2-2593\",\"ADCY5\"],[\"SL2-2612\",\"MECP2\"],[\"SL2-2646\",\"SMAD4\"],[\"SL2-2647\",\"SHANK3\"],[\"SL2-2689\",\"FLG\"],[\"SL2-273\",\"KANSL1\"],[\"SL2-276\",\"RYR1\"],[\"SL2-284\",\"ANO3\"],[\"SL2-287\",\"TBR1\"],[\"SL2-299\",\"PYCR2\"],[\"SL2-301\",\"KCNA2\"],[\"SL2-310\",\"UMOD\"],[\"SL2-313\",\"NDUFS4\"],[\"SL2-314\",\"TIA1\"],[\"SL2-315\",\"TRRAP\"],[\"SL2-319\",\"KIF11\"],[\"SL2-339\",\"OPA1\"],[\"SL2-349\",\"EXOSC3\"],[\"SL2-363\",\"FA2H\"],[\"SL2-376\",\"XPC\"],[\"SL2-381\",\"BCL11A\"],[\"SL2-387\",\"DDX3X\"],[\"SL2-388\",\"DCX\"],[\"SL2-392\",\"THAP1\"],[\"SL2-395\",\"CASR\"],[\"SL2-397\",\"CYP11A1\"],[\"SL2-400\",\"NR2F1\"],[\"SL2-405\",\"KMT2A\"],[\"SL2-410\",\"GJA1\"],[\"SL2-412\",\"SPG7\"],[\"SL2-421\",\"DEGS1\"],[\"SL2-424\",\"ATM\"],[\"SL2-437\",\"ASH1L\"],[\"SL2-440\",\"ACTA1\"],[\"SL2-442\",\"PTPN11\"],[\"SL2-443\",\"HCFC1\"],[\"SL2-446\",\"PSEN1\"],[\"SL2-449\",\"FBXO11\"],[\"SL2-454\",\"FAR1\"],[\"SL2-457\",\"TGFBR2\"],[\"SL2-458\",\"AEBP1\"],[\"SL2-462\",\"CACNA1A\"],[\"SL2-466\",\"SERPINA1\"],[\"SL2-468\",\"C12orf57\"],[\"SL2-469\",\"CYP7B1\"],[\"SL2-471\",\"ACTB\"],[\"SL2-472\",\"TRPV4\"],[\"SL2-473\",\"EP300\"],[\"SL2-485\",\"TUBB4A\"],[\"SL2-521\",\"TRMU\"],[\"SL2-528\",\"CLN3\"],[\"SL2-2962\",\"LOX\"],[\"SL2-3015\",\"STAG1\"],[\"SL2-3041\",\"NEB\"],[\"SL2-539\",\"EBF3\"],[\"SL2-540\",\"HMGCS2\"],[\"SL2-547\",\"SYNGAP1\"],[\"SL2-550\",\"LTBP3\"],[\"SL2-552\",\"ATP1A3\"],[\"SL2-557\",\"SIN3A\"],[\"SL2-557\",\"SIN3A\"],[\"SL2-557\",\"FLG\"],[\"SL2-557\",\"FLG\"],[\"SL2-557\",\"EDAR\"],[\"SL2-557\",\"EDAR\"],[\"SL2-563\",\"ASXL3\"],[\"SL2-566\",\"ACO2\"],[\"SL2-577\",\"ALDH18A1\"],[\"SL2-579\",\"TTN\"],[\"SL2-579\",\"TTN\"],[\"SL2-579\",\"MYBPC3\"],[\"SL2-579\",\"MYBPC3\"],[\"SL2-580\",\"ACVR1\"],[\"SL2-581\",\"MEFV\"],[\"SL2-592\",\"SLC25A46\"],[\"SL2-598\",\"WAC\"],[\"SL2-607\",\"SLC6A1\"],[\"SL2-623\",\"ENPP1\"],[\"SL2-632\",\"OCA2\"],[\"SL2-646\",\"CHAT\"],[\"SL2-653\",\"NFKB1\"],[\"SL2-657\",\"NKX2-1\"],[\"SL2-659\",\"GFAP\"],[\"SL2-659\",\"GFAP\"],[\"SL2-659\",\"ACVRL1\"],[\"SL2-659\",\"ACVRL1\"],[\"SL2-674\",\"PIGV\"],[\"SL2-681\",\"TBX4\"],[\"SL2-684\",\"SETD5\"],[\"SL2-686\",\"ARSB\"],[\"SL2-688\",\"B4GALNT1\"],[\"SL2-697\",\"ANKRD11\"],[\"SL2-699\",\"CHD7\"],[\"SL2-716\",\"SLC12A3\"],[\"SL2-724\",\"TUBA1A\"],[\"SL2-728\",\"NAA15\"],[\"SL2-732\",\"DOCK3\"],[\"SL2-752\",\"GNPTAB\"],[\"SL2-767\",\"CTCF\"],[\"SL2-795\",\"MECP2\"],[\"SL2-799\",\"GRIN1\"],[\"SL2-799\",\"GRIN1\"],[\"SL2-799\",\"FLG\"],[\"SL2-799\",\"FLG\"],[\"SL2-806\",\"JAK2\"],[\"SL2-816\",\"PIK3R1\"],[\"SL2-817\",\"CACNA1E\"],[\"SL2-835\",\"CACNA1F\"],[\"SL2-835\",\"CACNA1F\"],[\"SL2-835\",\"SPG11\"],[\"SL2-835\",\"SPG11\"],[\"SL2-842\",\"KDM6A\"],[\"SL2-844\",\"CHD2\"],[\"SL2-850\",\"TCF4\"],[\"SL2-852\",\"PLA2G6\"],[\"SL2-854\",\"MAP3K7\"],[\"SL2-860\",\"GABRA1\"],[\"SL2-865\",\"ZBTB18\"],[\"SL2-879\",\"RPS6KA3\"],[\"SL2-879\",\"RPS6KA3\"],[\"SL2-879\",\"USP9X\"],[\"SL2-879\",\"USP9X\"],[\"SL2-891\",\"CBL\"],[\"SL2-891\",\"CBL\"],[\"SL2-891\",\"ELN\"],[\"SL2-891\",\"ELN\"],[\"SL2-904\",\"CFTR\"],[\"SL2-910\",\"POLR3A\"],[\"SL2-919\",\"SON\"],[\"SL2-924\",\"SETD5\"],[\"SL2-938\",\"ZC4H2\"],[\"SL2-940\",\"BRPF1\"],[\"SL2-940\",\"BRPF1\"],[\"SL2-940\",\"KDM5C\"],[\"SL2-940\",\"KDM5C\"],[\"SL2-943\",\"DGAT1\"],[\"SL2-947\",\"SYNGAP1\"]],\"hovertemplate\":\"Method=delta_bayes_PCAN<br>Rank_PCAN=%{x}<br>Rank=%{y}<br>Normalized ID=%{customdata[0]}<br>Gene1=%{customdata[1]}<extra></extra>\",\"legendgroup\":\"delta_bayes_PCAN\",\"marker\":{\"color\":\"#EF553B\",\"symbol\":\"circle\"},\"mode\":\"markers\",\"name\":\"delta_bayes_PCAN\",\"orientation\":\"v\",\"showlegend\":true,\"x\":[143.0,826.0,945.0,5.0,1505.0,2169.0,920.0,1926.0,1.0,10.0,4.0,437.0,200.0,165.0,64.0,37.0,81.0,67.0,1451.0,2.0,31.0,858.0,1521.0,47.0,48.0,204.0,848.0,103.0,3378.0,2070.0,121.0,3737.0,876.0,999.0,795.0,999.0,795.0,38.0,1.0,18.0,2962.0,18.0,2962.0,903.0,11.0,3.0,408.0,1895.0,43.0,957.0,40.0,238.0,null,238.0,null,1583.0,767.0,21.0,701.0,455.0,35.0,1159.0,14.0,714.0,742.0,49.0,152.0,4.0,49.0,247.0,504.0,6.0,196.0,1395.0,170.0,716.0,927.0,119.0,339.0,957.0,138.0,2254.0,249.0,205.0,319.0,205.0,319.0,706.0,78.0,5.0,2229.0,322.0,226.0,887.0,10.0,45.0,11.0,14.0,5.0,901.0,26.0,202.0,463.0,634.0,131.0,276.0,988.0,241.0,45.0,85.0,22.0,266.0,455.0,643.0,444.0,1150.0,444.0,1150.0,444.0,1150.0,423.0,179.0,43.0,31.0,43.0,31.0,176.0,879.0,245.0,618.0,139.0,33.0,1080.0,477.0,2419.0,19.0,164.0,233.0,436.0,548.0,4.0,6.0,683.0,593.0,199.0,19.0,90.0,63.0,15.0,89.0,17.0,933.0,1.0,12.0,355.0,2309.0,302.0,3.0,642.0,7.0,611.0,8.0,71.0,104.0,94.0,137.0,192.0,2.0,187.0,1637.0,33.0,157.0,99.0,5.0,211.0,188.0,1513.0,185.0,432.0,352.0,22.0,205.0,447.0,1026.0,64.0,19.0,490.0,288.0,258.0,240.0,50.0,361.0,166.0,174.0,2267.0,174.0,2267.0,174.0,2267.0,491.0,894.0,38.0,28.0,25.0,28.0,25.0,365.0,708.0,367.0,627.0,2474.0,55.0,45.0,3.0,242.0,227.0,674.0,31.0,674.0,31.0,741.0,2002.0,203.0,81.0,7.0,2266.0,272.0,5.0,14.0,1.0,1324.0,6.0,2216.0,10.0,157.0,1938.0,157.0,1938.0,14.0,365.0,13.0,778.0,14.0,778.0,14.0,965.0,89.0,130.0,18.0,11.0,1055.0,2125.0,874.0,974.0,874.0,974.0,233.0,689.0,233.0,689.0,190.0,161.0,244.0,144.0,83.0,387.0,943.0,387.0,943.0,16.0,367.0],\"xaxis\":\"x\",\"y\":[-1969.0,-94.0,286.0,-949.0,1201.0,-554.0,-2100.0,-1109.0,-777.0,-944.0,-13.0,-434.0,-1877.0,-2689.0,-1238.0,-86.0,-1374.0,-678.0,1292.0,-184.0,-2526.0,-1869.0,1243.0,-1258.0,-2113.0,42.0,-1904.0,-1522.0,2340.0,2064.0,-2020.0,2325.0,319.0,552.0,348.0,105.0,-99.0,-887.0,-196.0,-233.0,2711.0,-2360.0,584.0,895.0,-36.0,-10.0,-958.0,1833.0,25.0,-1891.0,1.0,189.0,null,-3072.0,null,445.0,-656.0,-1882.0,-2249.0,-1496.0,-3106.0,1029.0,-2379.0,410.0,515.0,-1962.0,-937.0,-1887.0,-123.0,-362.0,-1418.0,-1992.0,-2217.0,1028.0,-2208.0,-1481.0,-1088.0,-129.0,-686.0,942.0,-2680.0,166.0,-3146.0,-1388.0,-1274.0,-231.0,-117.0,-2787.0,-2714.0,-3080.0,-283.0,-798.0,189.0,-1794.0,-2381.0,-306.0,-8.0,-1103.0,-51.0,897.0,-2399.0,167.0,294.0,-978.0,-2144.0,-146.0,-2529.0,-1668.0,-1764.0,-3000.0,-2422.0,-3065.0,-1440.0,-1855.0,-3111.0,-2405.0,-2228.0,-1522.0,-1096.0,-390.0,-2459.0,-1038.0,-963.0,-975.0,-743.0,-755.0,-445.0,-623.0,-2893.0,128.0,-3177.0,21.0,245.0,-155.0,-298.0,-3145.0,-1065.0,-1310.0,-2562.0,76.0,-1013.0,-1138.0,666.0,493.0,-208.0,-376.0,-1357.0,-1964.0,-952.0,-231.0,-133.0,-1646.0,-471.0,-39.0,-843.0,-1198.0,-6.0,-4.0,582.0,-1025.0,-709.0,-1202.0,-520.0,-420.0,-2717.0,-1313.0,-2841.0,0.0,-1486.0,-884.0,-152.0,-214.0,-536.0,-1096.0,-967.0,-3082.0,-707.0,-3189.0,-407.0,189.0,-3348.0,164.0,283.0,82.0,-3328.0,-1837.0,-1852.0,-2153.0,-487.0,-1808.0,-387.0,-871.0,-1499.0,-73.0,2020.0,-2822.0,-729.0,-1480.0,613.0,-1035.0,-2084.0,29.0,-3100.0,-3103.0,-2710.0,-2713.0,-2130.0,-1371.0,328.0,-2822.0,2127.0,-1373.0,24.0,-12.0,-125.0,-209.0,-1289.0,-1932.0,350.0,-293.0,408.0,1847.0,-1895.0,-2972.0,-1014.0,909.0,-421.0,2.0,-2163.0,-3023.0,-1396.0,-377.0,-394.0,-2335.0,-79.0,1702.0,-84.0,1697.0,-2259.0,-1360.0,-773.0,-1828.0,-2592.0,-947.0,-1711.0,149.0,-924.0,-1445.0,-327.0,-3331.0,930.0,-667.0,576.0,676.0,695.0,795.0,-1093.0,-637.0,-2407.0,-1951.0,98.0,-2222.0,-1254.0,-2003.0,-3337.0,-1529.0,-973.0,-2654.0,-2098.0,-3433.0,-1375.0],\"yaxis\":\"y\",\"type\":\"scatter\"},{\"alignmentgroup\":\"True\",\"bingroup\":\"x\",\"hovertemplate\":\"Method=delta_bayes_PCAN<br>Rank_PCAN=%{x}<br>count=%{y}<extra></extra>\",\"legendgroup\":\"delta_bayes_PCAN\",\"marker\":{\"color\":\"#EF553B\"},\"name\":\"delta_bayes_PCAN\",\"offsetgroup\":\"delta_bayes_PCAN\",\"opacity\":0.5,\"showlegend\":false,\"x\":[143.0,826.0,945.0,5.0,1505.0,2169.0,920.0,1926.0,1.0,10.0,4.0,437.0,200.0,165.0,64.0,37.0,81.0,67.0,1451.0,2.0,31.0,858.0,1521.0,47.0,48.0,204.0,848.0,103.0,3378.0,2070.0,121.0,3737.0,876.0,999.0,795.0,999.0,795.0,38.0,1.0,18.0,2962.0,18.0,2962.0,903.0,11.0,3.0,408.0,1895.0,43.0,957.0,40.0,238.0,null,238.0,null,1583.0,767.0,21.0,701.0,455.0,35.0,1159.0,14.0,714.0,742.0,49.0,152.0,4.0,49.0,247.0,504.0,6.0,196.0,1395.0,170.0,716.0,927.0,119.0,339.0,957.0,138.0,2254.0,249.0,205.0,319.0,205.0,319.0,706.0,78.0,5.0,2229.0,322.0,226.0,887.0,10.0,45.0,11.0,14.0,5.0,901.0,26.0,202.0,463.0,634.0,131.0,276.0,988.0,241.0,45.0,85.0,22.0,266.0,455.0,643.0,444.0,1150.0,444.0,1150.0,444.0,1150.0,423.0,179.0,43.0,31.0,43.0,31.0,176.0,879.0,245.0,618.0,139.0,33.0,1080.0,477.0,2419.0,19.0,164.0,233.0,436.0,548.0,4.0,6.0,683.0,593.0,199.0,19.0,90.0,63.0,15.0,89.0,17.0,933.0,1.0,12.0,355.0,2309.0,302.0,3.0,642.0,7.0,611.0,8.0,71.0,104.0,94.0,137.0,192.0,2.0,187.0,1637.0,33.0,157.0,99.0,5.0,211.0,188.0,1513.0,185.0,432.0,352.0,22.0,205.0,447.0,1026.0,64.0,19.0,490.0,288.0,258.0,240.0,50.0,361.0,166.0,174.0,2267.0,174.0,2267.0,174.0,2267.0,491.0,894.0,38.0,28.0,25.0,28.0,25.0,365.0,708.0,367.0,627.0,2474.0,55.0,45.0,3.0,242.0,227.0,674.0,31.0,674.0,31.0,741.0,2002.0,203.0,81.0,7.0,2266.0,272.0,5.0,14.0,1.0,1324.0,6.0,2216.0,10.0,157.0,1938.0,157.0,1938.0,14.0,365.0,13.0,778.0,14.0,778.0,14.0,965.0,89.0,130.0,18.0,11.0,1055.0,2125.0,874.0,974.0,874.0,974.0,233.0,689.0,233.0,689.0,190.0,161.0,244.0,144.0,83.0,387.0,943.0,387.0,943.0,16.0,367.0],\"xaxis\":\"x3\",\"yaxis\":\"y3\",\"type\":\"histogram\"},{\"alignmentgroup\":\"True\",\"boxpoints\":\"all\",\"customdata\":[[\"SL2-009\",\"CACNA1E\"],[\"SL2-016\",\"PACS1\"],[\"SL2-021\",\"CACNA1A\"],[\"SL2-029\",\"FGFR1\"],[\"SL2-033\",\"GABBR2\"],[\"SL2-049\",\"AFG3L2\"],[\"SL2-105\",\"THOC6\"],[\"SL2-127\",\"EHMT1\"],[\"SL2-144\",\"C2CD3\"],[\"SL2-145\",\"COL2A1\"],[\"SL2-147\",\"CACNA1A\"],[\"SL2-155\",\"CLN6\"],[\"SL2-156\",\"CLN6\"],[\"SL2-157\",\"CLN6\"],[\"SL2-158\",\"RUNX1\"],[\"SL2-164\",\"ATM\"],[\"SL2-167\",\"SOX2\"],[\"SL2-170\",\"KAT6A\"],[\"SL2-173\",\"BMP4\"],[\"SL2-1000\",\"PTPN11\"],[\"SL2-1006\",\"SCN2A\"],[\"SL2-1076\",\"RECQL4\"],[\"SL2-1167\",\"HNRNPU\"],[\"SL2-1181\",\"ARID1B\"],[\"SL2-1187\",\"POMGNT1\"],[\"SL2-1205\",\"NR2F1\"],[\"SL2-1209\",\"UBE3A\"],[\"SL2-1211\",\"SLC6A8\"],[\"SL2-1214\",\"CTCF\"],[\"SL2-1216\",\"UBA1\"],[\"SL2-1222\",\"ALPL\"],[\"SL2-1224\",\"ACTG2\"],[\"SL2-1253\",\"CHD2\"],[\"SL2-1256\",\"COL4A2\"],[\"SL2-1256\",\"COL4A2\"],[\"SL2-1256\",\"MEFV\"],[\"SL2-1256\",\"MEFV\"],[\"SL2-1275\",\"DEAF1\"],[\"SL2-1280\",\"NSD1\"],[\"SL2-1282\",\"MECP2\"],[\"SL2-1282\",\"MECP2\"],[\"SL2-1282\",\"MLH1\"],[\"SL2-1282\",\"MLH1\"],[\"SL2-1291\",\"GLMN\"],[\"SL2-1312\",\"TSPEAR\"],[\"SL2-1315\",\"CACNA1A\"],[\"SL2-1316\",\"SLC35C1\"],[\"SL2-1340\",\"ATP1A3\"],[\"SL2-1343\",\"MYH11\"],[\"SL2-1365\",\"ALG12\"],[\"SL2-1377\",\"DOCK8\"],[\"SL2-1382\",\"CTLA4\"],[\"SL2-1382\",\"CTLA4\"],[\"SL2-1382\",\"NOD2\"],[\"SL2-1382\",\"NOD2\"],[\"SL2-1383\",\"CTCF\"],[\"SL2-1385\",\"TRPS1\"],[\"SL2-1397\",\"ERCC6L2\"],[\"SL2-1431\",\"KMT2B\"],[\"SL2-1435\",\"SETD5\"],[\"SL2-1451\",\"MUC1\"],[\"SL2-1481\",\"ACTB\"],[\"SL2-1490\",\"SLC26A3\"],[\"SL2-1493\",\"TRIP12\"],[\"SL2-1496\",\"ASXL1\"],[\"SL2-1507\",\"COL4A4\"],[\"SL2-1529\",\"PGAP3\"],[\"SL2-1538\",\"GAA\"],[\"SL2-1539\",\"IFIH1\"],[\"SL2-1547\",\"NONO\"],[\"SL2-1554\",\"POGZ\"],[\"SL2-1556\",\"LGI1\"],[\"SL2-1581\",\"ZEB2\"],[\"SL2-1584\",\"KCNB1\"],[\"SL2-1600\",\"CNOT1\"],[\"SL2-1628\",\"AHDC1\"],[\"SL2-1631\",\"PTEN\"],[\"SL2-1653\",\"ATP1A3\"],[\"SL2-1685\",\"TRAPPC9\"],[\"SL2-1723\",\"CUL4B\"],[\"SL2-1766\",\"NSD1\"],[\"SL2-1768\",\"ACTG1\"],[\"SL2-1769\",\"ZSWIM6\"],[\"SL2-190\",\"EZH2\"],[\"SL2-190\",\"EZH2\"],[\"SL2-190\",\"DNMT3A\"],[\"SL2-190\",\"DNMT3A\"],[\"SL2-193\",\"EHMT1\"],[\"SL2-197\",\"IDH1\"],[\"SL2-198\",\"KMT2D\"],[\"SL2-203\",\"NAA15\"],[\"SL2-237\",\"USP9X\"],[\"SL2-245\",\"UBE2A\"],[\"SL2-252\",\"CIC\"],[\"SL2-254\",\"NEFL\"],[\"SL2-259\",\"DMD\"],[\"SL2-266\",\"SLC20A2\"],[\"SL2-1805\",\"MSTO1\"],[\"SL2-1842\",\"CUL3\"],[\"SL2-1886\",\"PPP3CA\"],[\"SL2-1924\",\"HTRA1\"],[\"SL2-1940\",\"SCN2A\"],[\"SL2-1978\",\"PIEZO1\"],[\"SL2-1989\",\"FOXP1\"],[\"SL2-1991\",\"CHD2\"],[\"SL2-2028\",\"PBX1\"],[\"SL2-2081\",\"SIN3A\"],[\"SL2-2086\",\"ABCC9\"],[\"SL2-2141\",\"PLA2G6\"],[\"SL2-2202\",\"TRIO\"],[\"SL2-2238\",\"BRCA2\"],[\"SL2-2239\",\"TRIO\"],[\"SL2-2246\",\"AMPD2\"],[\"SL2-2281\",\"MPZ\"],[\"SL2-2307\",\"PKD1\"],[\"SL2-2307\",\"PKD1\"],[\"SL2-2307\",\"COL11A1\"],[\"SL2-2307\",\"COL11A1\"],[\"SL2-2307\",\"VWF\"],[\"SL2-2307\",\"VWF\"],[\"SL2-2318\",\"TRRAP\"],[\"SL2-2325\",\"GJB2\"],[\"SL2-2328\",\"ALPL\"],[\"SL2-2328\",\"ALPL\"],[\"SL2-2328\",\"NF1\"],[\"SL2-2328\",\"NF1\"],[\"SL2-2354\",\"EFTUD2\"],[\"SL2-2357\",\"ABCD1\"],[\"SL2-2383\",\"NPC1\"],[\"SL2-2404\",\"NR2F2\"],[\"SL2-2433\",\"PTEN\"],[\"SL2-2490\",\"AAAS\"],[\"SL2-2511\",\"LZTR1\"],[\"SL2-2580\",\"TNFRSF1A\"],[\"SL2-2593\",\"ADCY5\"],[\"SL2-2612\",\"MECP2\"],[\"SL2-2646\",\"SMAD4\"],[\"SL2-2647\",\"SHANK3\"],[\"SL2-2689\",\"FLG\"],[\"SL2-273\",\"KANSL1\"],[\"SL2-276\",\"RYR1\"],[\"SL2-284\",\"ANO3\"],[\"SL2-287\",\"TBR1\"],[\"SL2-299\",\"PYCR2\"],[\"SL2-301\",\"KCNA2\"],[\"SL2-310\",\"UMOD\"],[\"SL2-313\",\"NDUFS4\"],[\"SL2-314\",\"TIA1\"],[\"SL2-315\",\"TRRAP\"],[\"SL2-319\",\"KIF11\"],[\"SL2-339\",\"OPA1\"],[\"SL2-349\",\"EXOSC3\"],[\"SL2-363\",\"FA2H\"],[\"SL2-376\",\"XPC\"],[\"SL2-381\",\"BCL11A\"],[\"SL2-387\",\"DDX3X\"],[\"SL2-388\",\"DCX\"],[\"SL2-392\",\"THAP1\"],[\"SL2-395\",\"CASR\"],[\"SL2-397\",\"CYP11A1\"],[\"SL2-400\",\"NR2F1\"],[\"SL2-405\",\"KMT2A\"],[\"SL2-410\",\"GJA1\"],[\"SL2-412\",\"SPG7\"],[\"SL2-421\",\"DEGS1\"],[\"SL2-424\",\"ATM\"],[\"SL2-437\",\"ASH1L\"],[\"SL2-440\",\"ACTA1\"],[\"SL2-442\",\"PTPN11\"],[\"SL2-443\",\"HCFC1\"],[\"SL2-446\",\"PSEN1\"],[\"SL2-449\",\"FBXO11\"],[\"SL2-454\",\"FAR1\"],[\"SL2-457\",\"TGFBR2\"],[\"SL2-458\",\"AEBP1\"],[\"SL2-462\",\"CACNA1A\"],[\"SL2-466\",\"SERPINA1\"],[\"SL2-468\",\"C12orf57\"],[\"SL2-469\",\"CYP7B1\"],[\"SL2-471\",\"ACTB\"],[\"SL2-472\",\"TRPV4\"],[\"SL2-473\",\"EP300\"],[\"SL2-485\",\"TUBB4A\"],[\"SL2-521\",\"TRMU\"],[\"SL2-528\",\"CLN3\"],[\"SL2-2962\",\"LOX\"],[\"SL2-3015\",\"STAG1\"],[\"SL2-3041\",\"NEB\"],[\"SL2-539\",\"EBF3\"],[\"SL2-540\",\"HMGCS2\"],[\"SL2-547\",\"SYNGAP1\"],[\"SL2-550\",\"LTBP3\"],[\"SL2-552\",\"ATP1A3\"],[\"SL2-557\",\"SIN3A\"],[\"SL2-557\",\"SIN3A\"],[\"SL2-557\",\"FLG\"],[\"SL2-557\",\"FLG\"],[\"SL2-557\",\"EDAR\"],[\"SL2-557\",\"EDAR\"],[\"SL2-563\",\"ASXL3\"],[\"SL2-566\",\"ACO2\"],[\"SL2-577\",\"ALDH18A1\"],[\"SL2-579\",\"TTN\"],[\"SL2-579\",\"TTN\"],[\"SL2-579\",\"MYBPC3\"],[\"SL2-579\",\"MYBPC3\"],[\"SL2-580\",\"ACVR1\"],[\"SL2-581\",\"MEFV\"],[\"SL2-592\",\"SLC25A46\"],[\"SL2-598\",\"WAC\"],[\"SL2-607\",\"SLC6A1\"],[\"SL2-623\",\"ENPP1\"],[\"SL2-632\",\"OCA2\"],[\"SL2-646\",\"CHAT\"],[\"SL2-653\",\"NFKB1\"],[\"SL2-657\",\"NKX2-1\"],[\"SL2-659\",\"GFAP\"],[\"SL2-659\",\"GFAP\"],[\"SL2-659\",\"ACVRL1\"],[\"SL2-659\",\"ACVRL1\"],[\"SL2-674\",\"PIGV\"],[\"SL2-681\",\"TBX4\"],[\"SL2-684\",\"SETD5\"],[\"SL2-686\",\"ARSB\"],[\"SL2-688\",\"B4GALNT1\"],[\"SL2-697\",\"ANKRD11\"],[\"SL2-699\",\"CHD7\"],[\"SL2-716\",\"SLC12A3\"],[\"SL2-724\",\"TUBA1A\"],[\"SL2-728\",\"NAA15\"],[\"SL2-732\",\"DOCK3\"],[\"SL2-752\",\"GNPTAB\"],[\"SL2-767\",\"CTCF\"],[\"SL2-795\",\"MECP2\"],[\"SL2-799\",\"GRIN1\"],[\"SL2-799\",\"GRIN1\"],[\"SL2-799\",\"FLG\"],[\"SL2-799\",\"FLG\"],[\"SL2-806\",\"JAK2\"],[\"SL2-816\",\"PIK3R1\"],[\"SL2-817\",\"CACNA1E\"],[\"SL2-835\",\"CACNA1F\"],[\"SL2-835\",\"CACNA1F\"],[\"SL2-835\",\"SPG11\"],[\"SL2-835\",\"SPG11\"],[\"SL2-842\",\"KDM6A\"],[\"SL2-844\",\"CHD2\"],[\"SL2-850\",\"TCF4\"],[\"SL2-852\",\"PLA2G6\"],[\"SL2-854\",\"MAP3K7\"],[\"SL2-860\",\"GABRA1\"],[\"SL2-865\",\"ZBTB18\"],[\"SL2-879\",\"RPS6KA3\"],[\"SL2-879\",\"RPS6KA3\"],[\"SL2-879\",\"USP9X\"],[\"SL2-879\",\"USP9X\"],[\"SL2-891\",\"CBL\"],[\"SL2-891\",\"CBL\"],[\"SL2-891\",\"ELN\"],[\"SL2-891\",\"ELN\"],[\"SL2-904\",\"CFTR\"],[\"SL2-910\",\"POLR3A\"],[\"SL2-919\",\"SON\"],[\"SL2-924\",\"SETD5\"],[\"SL2-938\",\"ZC4H2\"],[\"SL2-940\",\"BRPF1\"],[\"SL2-940\",\"BRPF1\"],[\"SL2-940\",\"KDM5C\"],[\"SL2-940\",\"KDM5C\"],[\"SL2-943\",\"DGAT1\"],[\"SL2-947\",\"SYNGAP1\"]],\"fillcolor\":\"rgba(255,255,255,0)\",\"hoveron\":\"points\",\"hovertemplate\":\"Method=delta_bayes_PCAN<br>Rank=%{y}<br>Normalized ID=%{customdata[0]}<br>Gene1=%{customdata[1]}<extra></extra>\",\"jitter\":0,\"legendgroup\":\"delta_bayes_PCAN\",\"line\":{\"color\":\"rgba(255,255,255,0)\"},\"marker\":{\"color\":\"#EF553B\",\"symbol\":\"line-ew-open\"},\"name\":\"delta_bayes_PCAN\",\"offsetgroup\":\"delta_bayes_PCAN\",\"showlegend\":false,\"xaxis\":\"x2\",\"y\":[-1969.0,-94.0,286.0,-949.0,1201.0,-554.0,-2100.0,-1109.0,-777.0,-944.0,-13.0,-434.0,-1877.0,-2689.0,-1238.0,-86.0,-1374.0,-678.0,1292.0,-184.0,-2526.0,-1869.0,1243.0,-1258.0,-2113.0,42.0,-1904.0,-1522.0,2340.0,2064.0,-2020.0,2325.0,319.0,552.0,348.0,105.0,-99.0,-887.0,-196.0,-233.0,2711.0,-2360.0,584.0,895.0,-36.0,-10.0,-958.0,1833.0,25.0,-1891.0,1.0,189.0,null,-3072.0,null,445.0,-656.0,-1882.0,-2249.0,-1496.0,-3106.0,1029.0,-2379.0,410.0,515.0,-1962.0,-937.0,-1887.0,-123.0,-362.0,-1418.0,-1992.0,-2217.0,1028.0,-2208.0,-1481.0,-1088.0,-129.0,-686.0,942.0,-2680.0,166.0,-3146.0,-1388.0,-1274.0,-231.0,-117.0,-2787.0,-2714.0,-3080.0,-283.0,-798.0,189.0,-1794.0,-2381.0,-306.0,-8.0,-1103.0,-51.0,897.0,-2399.0,167.0,294.0,-978.0,-2144.0,-146.0,-2529.0,-1668.0,-1764.0,-3000.0,-2422.0,-3065.0,-1440.0,-1855.0,-3111.0,-2405.0,-2228.0,-1522.0,-1096.0,-390.0,-2459.0,-1038.0,-963.0,-975.0,-743.0,-755.0,-445.0,-623.0,-2893.0,128.0,-3177.0,21.0,245.0,-155.0,-298.0,-3145.0,-1065.0,-1310.0,-2562.0,76.0,-1013.0,-1138.0,666.0,493.0,-208.0,-376.0,-1357.0,-1964.0,-952.0,-231.0,-133.0,-1646.0,-471.0,-39.0,-843.0,-1198.0,-6.0,-4.0,582.0,-1025.0,-709.0,-1202.0,-520.0,-420.0,-2717.0,-1313.0,-2841.0,0.0,-1486.0,-884.0,-152.0,-214.0,-536.0,-1096.0,-967.0,-3082.0,-707.0,-3189.0,-407.0,189.0,-3348.0,164.0,283.0,82.0,-3328.0,-1837.0,-1852.0,-2153.0,-487.0,-1808.0,-387.0,-871.0,-1499.0,-73.0,2020.0,-2822.0,-729.0,-1480.0,613.0,-1035.0,-2084.0,29.0,-3100.0,-3103.0,-2710.0,-2713.0,-2130.0,-1371.0,328.0,-2822.0,2127.0,-1373.0,24.0,-12.0,-125.0,-209.0,-1289.0,-1932.0,350.0,-293.0,408.0,1847.0,-1895.0,-2972.0,-1014.0,909.0,-421.0,2.0,-2163.0,-3023.0,-1396.0,-377.0,-394.0,-2335.0,-79.0,1702.0,-84.0,1697.0,-2259.0,-1360.0,-773.0,-1828.0,-2592.0,-947.0,-1711.0,149.0,-924.0,-1445.0,-327.0,-3331.0,930.0,-667.0,576.0,676.0,695.0,795.0,-1093.0,-637.0,-2407.0,-1951.0,98.0,-2222.0,-1254.0,-2003.0,-3337.0,-1529.0,-973.0,-2654.0,-2098.0,-3433.0,-1375.0],\"yaxis\":\"y2\",\"type\":\"box\"}],                        {\"template\":{\"data\":{\"histogram2dcontour\":[{\"type\":\"histogram2dcontour\",\"colorbar\":{\"outlinewidth\":0,\"ticks\":\"\"},\"colorscale\":[[0.0,\"#0d0887\"],[0.1111111111111111,\"#46039f\"],[0.2222222222222222,\"#7201a8\"],[0.3333333333333333,\"#9c179e\"],[0.4444444444444444,\"#bd3786\"],[0.5555555555555556,\"#d8576b\"],[0.6666666666666666,\"#ed7953\"],[0.7777777777777778,\"#fb9f3a\"],[0.8888888888888888,\"#fdca26\"],[1.0,\"#f0f921\"]]}],\"choropleth\":[{\"type\":\"choropleth\",\"colorbar\":{\"outlinewidth\":0,\"ticks\":\"\"}}],\"histogram2d\":[{\"type\":\"histogram2d\",\"colorbar\":{\"outlinewidth\":0,\"ticks\":\"\"},\"colorscale\":[[0.0,\"#0d0887\"],[0.1111111111111111,\"#46039f\"],[0.2222222222222222,\"#7201a8\"],[0.3333333333333333,\"#9c179e\"],[0.4444444444444444,\"#bd3786\"],[0.5555555555555556,\"#d8576b\"],[0.6666666666666666,\"#ed7953\"],[0.7777777777777778,\"#fb9f3a\"],[0.8888888888888888,\"#fdca26\"],[1.0,\"#f0f921\"]]}],\"heatmap\":[{\"type\":\"heatmap\",\"colorbar\":{\"outlinewidth\":0,\"ticks\":\"\"},\"colorscale\":[[0.0,\"#0d0887\"],[0.1111111111111111,\"#46039f\"],[0.2222222222222222,\"#7201a8\"],[0.3333333333333333,\"#9c179e\"],[0.4444444444444444,\"#bd3786\"],[0.5555555555555556,\"#d8576b\"],[0.6666666666666666,\"#ed7953\"],[0.7777777777777778,\"#fb9f3a\"],[0.8888888888888888,\"#fdca26\"],[1.0,\"#f0f921\"]]}],\"heatmapgl\":[{\"type\":\"heatmapgl\",\"colorbar\":{\"outlinewidth\":0,\"ticks\":\"\"},\"colorscale\":[[0.0,\"#0d0887\"],[0.1111111111111111,\"#46039f\"],[0.2222222222222222,\"#7201a8\"],[0.3333333333333333,\"#9c179e\"],[0.4444444444444444,\"#bd3786\"],[0.5555555555555556,\"#d8576b\"],[0.6666666666666666,\"#ed7953\"],[0.7777777777777778,\"#fb9f3a\"],[0.8888888888888888,\"#fdca26\"],[1.0,\"#f0f921\"]]}],\"contourcarpet\":[{\"type\":\"contourcarpet\",\"colorbar\":{\"outlinewidth\":0,\"ticks\":\"\"}}],\"contour\":[{\"type\":\"contour\",\"colorbar\":{\"outlinewidth\":0,\"ticks\":\"\"},\"colorscale\":[[0.0,\"#0d0887\"],[0.1111111111111111,\"#46039f\"],[0.2222222222222222,\"#7201a8\"],[0.3333333333333333,\"#9c179e\"],[0.4444444444444444,\"#bd3786\"],[0.5555555555555556,\"#d8576b\"],[0.6666666666666666,\"#ed7953\"],[0.7777777777777778,\"#fb9f3a\"],[0.8888888888888888,\"#fdca26\"],[1.0,\"#f0f921\"]]}],\"surface\":[{\"type\":\"surface\",\"colorbar\":{\"outlinewidth\":0,\"ticks\":\"\"},\"colorscale\":[[0.0,\"#0d0887\"],[0.1111111111111111,\"#46039f\"],[0.2222222222222222,\"#7201a8\"],[0.3333333333333333,\"#9c179e\"],[0.4444444444444444,\"#bd3786\"],[0.5555555555555556,\"#d8576b\"],[0.6666666666666666,\"#ed7953\"],[0.7777777777777778,\"#fb9f3a\"],[0.8888888888888888,\"#fdca26\"],[1.0,\"#f0f921\"]]}],\"mesh3d\":[{\"type\":\"mesh3d\",\"colorbar\":{\"outlinewidth\":0,\"ticks\":\"\"}}],\"scatter\":[{\"fillpattern\":{\"fillmode\":\"overlay\",\"size\":10,\"solidity\":0.2},\"type\":\"scatter\"}],\"parcoords\":[{\"type\":\"parcoords\",\"line\":{\"colorbar\":{\"outlinewidth\":0,\"ticks\":\"\"}}}],\"scatterpolargl\":[{\"type\":\"scatterpolargl\",\"marker\":{\"colorbar\":{\"outlinewidth\":0,\"ticks\":\"\"}}}],\"bar\":[{\"error_x\":{\"color\":\"#2a3f5f\"},\"error_y\":{\"color\":\"#2a3f5f\"},\"marker\":{\"line\":{\"color\":\"#E5ECF6\",\"width\":0.5},\"pattern\":{\"fillmode\":\"overlay\",\"size\":10,\"solidity\":0.2}},\"type\":\"bar\"}],\"scattergeo\":[{\"type\":\"scattergeo\",\"marker\":{\"colorbar\":{\"outlinewidth\":0,\"ticks\":\"\"}}}],\"scatterpolar\":[{\"type\":\"scatterpolar\",\"marker\":{\"colorbar\":{\"outlinewidth\":0,\"ticks\":\"\"}}}],\"histogram\":[{\"marker\":{\"pattern\":{\"fillmode\":\"overlay\",\"size\":10,\"solidity\":0.2}},\"type\":\"histogram\"}],\"scattergl\":[{\"type\":\"scattergl\",\"marker\":{\"colorbar\":{\"outlinewidth\":0,\"ticks\":\"\"}}}],\"scatter3d\":[{\"type\":\"scatter3d\",\"line\":{\"colorbar\":{\"outlinewidth\":0,\"ticks\":\"\"}},\"marker\":{\"colorbar\":{\"outlinewidth\":0,\"ticks\":\"\"}}}],\"scattermapbox\":[{\"type\":\"scattermapbox\",\"marker\":{\"colorbar\":{\"outlinewidth\":0,\"ticks\":\"\"}}}],\"scatterternary\":[{\"type\":\"scatterternary\",\"marker\":{\"colorbar\":{\"outlinewidth\":0,\"ticks\":\"\"}}}],\"scattercarpet\":[{\"type\":\"scattercarpet\",\"marker\":{\"colorbar\":{\"outlinewidth\":0,\"ticks\":\"\"}}}],\"carpet\":[{\"aaxis\":{\"endlinecolor\":\"#2a3f5f\",\"gridcolor\":\"white\",\"linecolor\":\"white\",\"minorgridcolor\":\"white\",\"startlinecolor\":\"#2a3f5f\"},\"baxis\":{\"endlinecolor\":\"#2a3f5f\",\"gridcolor\":\"white\",\"linecolor\":\"white\",\"minorgridcolor\":\"white\",\"startlinecolor\":\"#2a3f5f\"},\"type\":\"carpet\"}],\"table\":[{\"cells\":{\"fill\":{\"color\":\"#EBF0F8\"},\"line\":{\"color\":\"white\"}},\"header\":{\"fill\":{\"color\":\"#C8D4E3\"},\"line\":{\"color\":\"white\"}},\"type\":\"table\"}],\"barpolar\":[{\"marker\":{\"line\":{\"color\":\"#E5ECF6\",\"width\":0.5},\"pattern\":{\"fillmode\":\"overlay\",\"size\":10,\"solidity\":0.2}},\"type\":\"barpolar\"}],\"pie\":[{\"automargin\":true,\"type\":\"pie\"}]},\"layout\":{\"autotypenumbers\":\"strict\",\"colorway\":[\"#636efa\",\"#EF553B\",\"#00cc96\",\"#ab63fa\",\"#FFA15A\",\"#19d3f3\",\"#FF6692\",\"#B6E880\",\"#FF97FF\",\"#FECB52\"],\"font\":{\"color\":\"#2a3f5f\"},\"hovermode\":\"closest\",\"hoverlabel\":{\"align\":\"left\"},\"paper_bgcolor\":\"white\",\"plot_bgcolor\":\"#E5ECF6\",\"polar\":{\"bgcolor\":\"#E5ECF6\",\"angularaxis\":{\"gridcolor\":\"white\",\"linecolor\":\"white\",\"ticks\":\"\"},\"radialaxis\":{\"gridcolor\":\"white\",\"linecolor\":\"white\",\"ticks\":\"\"}},\"ternary\":{\"bgcolor\":\"#E5ECF6\",\"aaxis\":{\"gridcolor\":\"white\",\"linecolor\":\"white\",\"ticks\":\"\"},\"baxis\":{\"gridcolor\":\"white\",\"linecolor\":\"white\",\"ticks\":\"\"},\"caxis\":{\"gridcolor\":\"white\",\"linecolor\":\"white\",\"ticks\":\"\"}},\"coloraxis\":{\"colorbar\":{\"outlinewidth\":0,\"ticks\":\"\"}},\"colorscale\":{\"sequential\":[[0.0,\"#0d0887\"],[0.1111111111111111,\"#46039f\"],[0.2222222222222222,\"#7201a8\"],[0.3333333333333333,\"#9c179e\"],[0.4444444444444444,\"#bd3786\"],[0.5555555555555556,\"#d8576b\"],[0.6666666666666666,\"#ed7953\"],[0.7777777777777778,\"#fb9f3a\"],[0.8888888888888888,\"#fdca26\"],[1.0,\"#f0f921\"]],\"sequentialminus\":[[0.0,\"#0d0887\"],[0.1111111111111111,\"#46039f\"],[0.2222222222222222,\"#7201a8\"],[0.3333333333333333,\"#9c179e\"],[0.4444444444444444,\"#bd3786\"],[0.5555555555555556,\"#d8576b\"],[0.6666666666666666,\"#ed7953\"],[0.7777777777777778,\"#fb9f3a\"],[0.8888888888888888,\"#fdca26\"],[1.0,\"#f0f921\"]],\"diverging\":[[0,\"#8e0152\"],[0.1,\"#c51b7d\"],[0.2,\"#de77ae\"],[0.3,\"#f1b6da\"],[0.4,\"#fde0ef\"],[0.5,\"#f7f7f7\"],[0.6,\"#e6f5d0\"],[0.7,\"#b8e186\"],[0.8,\"#7fbc41\"],[0.9,\"#4d9221\"],[1,\"#276419\"]]},\"xaxis\":{\"gridcolor\":\"white\",\"linecolor\":\"white\",\"ticks\":\"\",\"title\":{\"standoff\":15},\"zerolinecolor\":\"white\",\"automargin\":true,\"zerolinewidth\":2},\"yaxis\":{\"gridcolor\":\"white\",\"linecolor\":\"white\",\"ticks\":\"\",\"title\":{\"standoff\":15},\"zerolinecolor\":\"white\",\"automargin\":true,\"zerolinewidth\":2},\"scene\":{\"xaxis\":{\"backgroundcolor\":\"#E5ECF6\",\"gridcolor\":\"white\",\"linecolor\":\"white\",\"showbackground\":true,\"ticks\":\"\",\"zerolinecolor\":\"white\",\"gridwidth\":2},\"yaxis\":{\"backgroundcolor\":\"#E5ECF6\",\"gridcolor\":\"white\",\"linecolor\":\"white\",\"showbackground\":true,\"ticks\":\"\",\"zerolinecolor\":\"white\",\"gridwidth\":2},\"zaxis\":{\"backgroundcolor\":\"#E5ECF6\",\"gridcolor\":\"white\",\"linecolor\":\"white\",\"showbackground\":true,\"ticks\":\"\",\"zerolinecolor\":\"white\",\"gridwidth\":2}},\"shapedefaults\":{\"line\":{\"color\":\"#2a3f5f\"}},\"annotationdefaults\":{\"arrowcolor\":\"#2a3f5f\",\"arrowhead\":0,\"arrowwidth\":1},\"geo\":{\"bgcolor\":\"white\",\"landcolor\":\"#E5ECF6\",\"subunitcolor\":\"white\",\"showland\":true,\"showlakes\":true,\"lakecolor\":\"white\"},\"title\":{\"x\":0.05},\"mapbox\":{\"style\":\"light\"}}},\"xaxis\":{\"anchor\":\"y\",\"domain\":[0.0,0.7363],\"title\":{\"text\":\"Rank_PCAN\"}},\"yaxis\":{\"anchor\":\"x\",\"domain\":[0.0,0.7326],\"title\":{\"text\":\"Rank\"}},\"xaxis2\":{\"anchor\":\"y2\",\"domain\":[0.7413,1.0],\"matches\":\"x2\",\"showticklabels\":false,\"showline\":false,\"ticks\":\"\",\"showgrid\":false},\"yaxis2\":{\"anchor\":\"x2\",\"domain\":[0.0,0.7326],\"matches\":\"y\",\"showticklabels\":false,\"showgrid\":true},\"xaxis3\":{\"anchor\":\"y3\",\"domain\":[0.0,0.7363],\"matches\":\"x\",\"showticklabels\":false,\"showgrid\":true},\"yaxis3\":{\"anchor\":\"x3\",\"domain\":[0.7426,1.0],\"matches\":\"y3\",\"showticklabels\":false,\"showline\":false,\"ticks\":\"\",\"showgrid\":true},\"xaxis4\":{\"anchor\":\"y4\",\"domain\":[0.7413,1.0],\"matches\":\"x2\",\"showticklabels\":false,\"showgrid\":false,\"showline\":false,\"ticks\":\"\"},\"yaxis4\":{\"anchor\":\"x4\",\"domain\":[0.7426,1.0],\"matches\":\"y3\",\"showticklabels\":false,\"showline\":false,\"ticks\":\"\",\"showgrid\":true},\"legend\":{\"title\":{\"text\":\"Method\"},\"tracegroupgap\":0},\"margin\":{\"t\":60},\"barmode\":\"overlay\"},                        {\"responsive\": true}                    ).then(function(){\n",
       "                            \n",
       "var gd = document.getElementById('34b10f8f-beed-49f3-8c5a-539197f4b50e');\n",
       "var x = new MutationObserver(function (mutations, observer) {{\n",
       "        var display = window.getComputedStyle(gd).display;\n",
       "        if (!display || display === 'none') {{\n",
       "            console.log([gd, 'removed!']);\n",
       "            Plotly.purge(gd);\n",
       "            observer.disconnect();\n",
       "        }}\n",
       "}});\n",
       "\n",
       "// Listen for the removal of the full notebook cells\n",
       "var notebookContainer = gd.closest('#notebook-container');\n",
       "if (notebookContainer) {{\n",
       "    x.observe(notebookContainer, {childList: true});\n",
       "}}\n",
       "\n",
       "// Listen for the clearing of the current output cell\n",
       "var outputEl = gd.closest('.output');\n",
       "if (outputEl) {{\n",
       "    x.observe(outputEl, {childList: true});\n",
       "}}\n",
       "\n",
       "                        })                };                });            </script>        </div>"
      ]
     },
     "metadata": {},
     "output_type": "display_data"
    },
    {
     "data": {
      "application/vnd.plotly.v1+json": {
       "config": {
        "plotlyServerURL": "https://plot.ly"
       },
       "data": [
        {
         "customdata": [
          [
           "SL2-009",
           "CACNA1E"
          ],
          [
           "SL2-016",
           "PACS1"
          ],
          [
           "SL2-021",
           "CACNA1A"
          ],
          [
           "SL2-029",
           "FGFR1"
          ],
          [
           "SL2-033",
           "GABBR2"
          ],
          [
           "SL2-049",
           "AFG3L2"
          ],
          [
           "SL2-105",
           "THOC6"
          ],
          [
           "SL2-127",
           "EHMT1"
          ],
          [
           "SL2-144",
           "C2CD3"
          ],
          [
           "SL2-145",
           "COL2A1"
          ],
          [
           "SL2-147",
           "CACNA1A"
          ],
          [
           "SL2-155",
           "CLN6"
          ],
          [
           "SL2-156",
           "CLN6"
          ],
          [
           "SL2-157",
           "CLN6"
          ],
          [
           "SL2-158",
           "RUNX1"
          ],
          [
           "SL2-164",
           "ATM"
          ],
          [
           "SL2-167",
           "SOX2"
          ],
          [
           "SL2-170",
           "KAT6A"
          ],
          [
           "SL2-173",
           "BMP4"
          ],
          [
           "SL2-1000",
           "PTPN11"
          ],
          [
           "SL2-1006",
           "SCN2A"
          ],
          [
           "SL2-1076",
           "RECQL4"
          ],
          [
           "SL2-1167",
           "HNRNPU"
          ],
          [
           "SL2-1181",
           "ARID1B"
          ],
          [
           "SL2-1187",
           "POMGNT1"
          ],
          [
           "SL2-1205",
           "NR2F1"
          ],
          [
           "SL2-1209",
           "UBE3A"
          ],
          [
           "SL2-1211",
           "SLC6A8"
          ],
          [
           "SL2-1214",
           "CTCF"
          ],
          [
           "SL2-1216",
           "UBA1"
          ],
          [
           "SL2-1222",
           "ALPL"
          ],
          [
           "SL2-1224",
           "ACTG2"
          ],
          [
           "SL2-1253",
           "CHD2"
          ],
          [
           "SL2-1256",
           "COL4A2"
          ],
          [
           "SL2-1256",
           "COL4A2"
          ],
          [
           "SL2-1256",
           "MEFV"
          ],
          [
           "SL2-1256",
           "MEFV"
          ],
          [
           "SL2-1275",
           "DEAF1"
          ],
          [
           "SL2-1280",
           "NSD1"
          ],
          [
           "SL2-1282",
           "MECP2"
          ],
          [
           "SL2-1282",
           "MECP2"
          ],
          [
           "SL2-1282",
           "MLH1"
          ],
          [
           "SL2-1282",
           "MLH1"
          ],
          [
           "SL2-1291",
           "GLMN"
          ],
          [
           "SL2-1312",
           "TSPEAR"
          ],
          [
           "SL2-1315",
           "CACNA1A"
          ],
          [
           "SL2-1316",
           "SLC35C1"
          ],
          [
           "SL2-1340",
           "ATP1A3"
          ],
          [
           "SL2-1343",
           "MYH11"
          ],
          [
           "SL2-1365",
           "ALG12"
          ],
          [
           "SL2-1377",
           "DOCK8"
          ],
          [
           "SL2-1382",
           "CTLA4"
          ],
          [
           "SL2-1382",
           "CTLA4"
          ],
          [
           "SL2-1382",
           "NOD2"
          ],
          [
           "SL2-1382",
           "NOD2"
          ],
          [
           "SL2-1383",
           "CTCF"
          ],
          [
           "SL2-1385",
           "TRPS1"
          ],
          [
           "SL2-1397",
           "ERCC6L2"
          ],
          [
           "SL2-1431",
           "KMT2B"
          ],
          [
           "SL2-1435",
           "SETD5"
          ],
          [
           "SL2-1451",
           "MUC1"
          ],
          [
           "SL2-1481",
           "ACTB"
          ],
          [
           "SL2-1490",
           "SLC26A3"
          ],
          [
           "SL2-1493",
           "TRIP12"
          ],
          [
           "SL2-1496",
           "ASXL1"
          ],
          [
           "SL2-1507",
           "COL4A4"
          ],
          [
           "SL2-1529",
           "PGAP3"
          ],
          [
           "SL2-1538",
           "GAA"
          ],
          [
           "SL2-1539",
           "IFIH1"
          ],
          [
           "SL2-1547",
           "NONO"
          ],
          [
           "SL2-1554",
           "POGZ"
          ],
          [
           "SL2-1556",
           "LGI1"
          ],
          [
           "SL2-1581",
           "ZEB2"
          ],
          [
           "SL2-1584",
           "KCNB1"
          ],
          [
           "SL2-1600",
           "CNOT1"
          ],
          [
           "SL2-1628",
           "AHDC1"
          ],
          [
           "SL2-1631",
           "PTEN"
          ],
          [
           "SL2-1653",
           "ATP1A3"
          ],
          [
           "SL2-1685",
           "TRAPPC9"
          ],
          [
           "SL2-1723",
           "CUL4B"
          ],
          [
           "SL2-1766",
           "NSD1"
          ],
          [
           "SL2-1768",
           "ACTG1"
          ],
          [
           "SL2-1769",
           "ZSWIM6"
          ],
          [
           "SL2-190",
           "EZH2"
          ],
          [
           "SL2-190",
           "EZH2"
          ],
          [
           "SL2-190",
           "DNMT3A"
          ],
          [
           "SL2-190",
           "DNMT3A"
          ],
          [
           "SL2-193",
           "EHMT1"
          ],
          [
           "SL2-197",
           "IDH1"
          ],
          [
           "SL2-198",
           "KMT2D"
          ],
          [
           "SL2-203",
           "NAA15"
          ],
          [
           "SL2-237",
           "USP9X"
          ],
          [
           "SL2-245",
           "UBE2A"
          ],
          [
           "SL2-252",
           "CIC"
          ],
          [
           "SL2-254",
           "NEFL"
          ],
          [
           "SL2-259",
           "DMD"
          ],
          [
           "SL2-266",
           "SLC20A2"
          ],
          [
           "SL2-1805",
           "MSTO1"
          ],
          [
           "SL2-1842",
           "CUL3"
          ],
          [
           "SL2-1886",
           "PPP3CA"
          ],
          [
           "SL2-1924",
           "HTRA1"
          ],
          [
           "SL2-1940",
           "SCN2A"
          ],
          [
           "SL2-1978",
           "PIEZO1"
          ],
          [
           "SL2-1989",
           "FOXP1"
          ],
          [
           "SL2-1991",
           "CHD2"
          ],
          [
           "SL2-2028",
           "PBX1"
          ],
          [
           "SL2-2081",
           "SIN3A"
          ],
          [
           "SL2-2086",
           "ABCC9"
          ],
          [
           "SL2-2141",
           "PLA2G6"
          ],
          [
           "SL2-2202",
           "TRIO"
          ],
          [
           "SL2-2238",
           "BRCA2"
          ],
          [
           "SL2-2239",
           "TRIO"
          ],
          [
           "SL2-2246",
           "AMPD2"
          ],
          [
           "SL2-2281",
           "MPZ"
          ],
          [
           "SL2-2307",
           "PKD1"
          ],
          [
           "SL2-2307",
           "PKD1"
          ],
          [
           "SL2-2307",
           "COL11A1"
          ],
          [
           "SL2-2307",
           "COL11A1"
          ],
          [
           "SL2-2307",
           "VWF"
          ],
          [
           "SL2-2307",
           "VWF"
          ],
          [
           "SL2-2318",
           "TRRAP"
          ],
          [
           "SL2-2325",
           "GJB2"
          ],
          [
           "SL2-2328",
           "ALPL"
          ],
          [
           "SL2-2328",
           "ALPL"
          ],
          [
           "SL2-2328",
           "NF1"
          ],
          [
           "SL2-2328",
           "NF1"
          ],
          [
           "SL2-2354",
           "EFTUD2"
          ],
          [
           "SL2-2357",
           "ABCD1"
          ],
          [
           "SL2-2383",
           "NPC1"
          ],
          [
           "SL2-2404",
           "NR2F2"
          ],
          [
           "SL2-2433",
           "PTEN"
          ],
          [
           "SL2-2490",
           "AAAS"
          ],
          [
           "SL2-2511",
           "LZTR1"
          ],
          [
           "SL2-2580",
           "TNFRSF1A"
          ],
          [
           "SL2-2593",
           "ADCY5"
          ],
          [
           "SL2-2612",
           "MECP2"
          ],
          [
           "SL2-2646",
           "SMAD4"
          ],
          [
           "SL2-2647",
           "SHANK3"
          ],
          [
           "SL2-2689",
           "FLG"
          ],
          [
           "SL2-273",
           "KANSL1"
          ],
          [
           "SL2-276",
           "RYR1"
          ],
          [
           "SL2-284",
           "ANO3"
          ],
          [
           "SL2-287",
           "TBR1"
          ],
          [
           "SL2-299",
           "PYCR2"
          ],
          [
           "SL2-301",
           "KCNA2"
          ],
          [
           "SL2-310",
           "UMOD"
          ],
          [
           "SL2-313",
           "NDUFS4"
          ],
          [
           "SL2-314",
           "TIA1"
          ],
          [
           "SL2-315",
           "TRRAP"
          ],
          [
           "SL2-319",
           "KIF11"
          ],
          [
           "SL2-339",
           "OPA1"
          ],
          [
           "SL2-349",
           "EXOSC3"
          ],
          [
           "SL2-363",
           "FA2H"
          ],
          [
           "SL2-376",
           "XPC"
          ],
          [
           "SL2-381",
           "BCL11A"
          ],
          [
           "SL2-387",
           "DDX3X"
          ],
          [
           "SL2-388",
           "DCX"
          ],
          [
           "SL2-392",
           "THAP1"
          ],
          [
           "SL2-395",
           "CASR"
          ],
          [
           "SL2-397",
           "CYP11A1"
          ],
          [
           "SL2-400",
           "NR2F1"
          ],
          [
           "SL2-405",
           "KMT2A"
          ],
          [
           "SL2-410",
           "GJA1"
          ],
          [
           "SL2-412",
           "SPG7"
          ],
          [
           "SL2-421",
           "DEGS1"
          ],
          [
           "SL2-424",
           "ATM"
          ],
          [
           "SL2-437",
           "ASH1L"
          ],
          [
           "SL2-440",
           "ACTA1"
          ],
          [
           "SL2-442",
           "PTPN11"
          ],
          [
           "SL2-443",
           "HCFC1"
          ],
          [
           "SL2-446",
           "PSEN1"
          ],
          [
           "SL2-449",
           "FBXO11"
          ],
          [
           "SL2-454",
           "FAR1"
          ],
          [
           "SL2-457",
           "TGFBR2"
          ],
          [
           "SL2-458",
           "AEBP1"
          ],
          [
           "SL2-462",
           "CACNA1A"
          ],
          [
           "SL2-466",
           "SERPINA1"
          ],
          [
           "SL2-468",
           "C12orf57"
          ],
          [
           "SL2-469",
           "CYP7B1"
          ],
          [
           "SL2-471",
           "ACTB"
          ],
          [
           "SL2-472",
           "TRPV4"
          ],
          [
           "SL2-473",
           "EP300"
          ],
          [
           "SL2-485",
           "TUBB4A"
          ],
          [
           "SL2-521",
           "TRMU"
          ],
          [
           "SL2-528",
           "CLN3"
          ],
          [
           "SL2-2962",
           "LOX"
          ],
          [
           "SL2-3015",
           "STAG1"
          ],
          [
           "SL2-3041",
           "NEB"
          ],
          [
           "SL2-539",
           "EBF3"
          ],
          [
           "SL2-540",
           "HMGCS2"
          ],
          [
           "SL2-547",
           "SYNGAP1"
          ],
          [
           "SL2-550",
           "LTBP3"
          ],
          [
           "SL2-552",
           "ATP1A3"
          ],
          [
           "SL2-557",
           "SIN3A"
          ],
          [
           "SL2-557",
           "SIN3A"
          ],
          [
           "SL2-557",
           "FLG"
          ],
          [
           "SL2-557",
           "FLG"
          ],
          [
           "SL2-557",
           "EDAR"
          ],
          [
           "SL2-557",
           "EDAR"
          ],
          [
           "SL2-563",
           "ASXL3"
          ],
          [
           "SL2-566",
           "ACO2"
          ],
          [
           "SL2-577",
           "ALDH18A1"
          ],
          [
           "SL2-579",
           "TTN"
          ],
          [
           "SL2-579",
           "TTN"
          ],
          [
           "SL2-579",
           "MYBPC3"
          ],
          [
           "SL2-579",
           "MYBPC3"
          ],
          [
           "SL2-580",
           "ACVR1"
          ],
          [
           "SL2-581",
           "MEFV"
          ],
          [
           "SL2-592",
           "SLC25A46"
          ],
          [
           "SL2-598",
           "WAC"
          ],
          [
           "SL2-607",
           "SLC6A1"
          ],
          [
           "SL2-623",
           "ENPP1"
          ],
          [
           "SL2-632",
           "OCA2"
          ],
          [
           "SL2-646",
           "CHAT"
          ],
          [
           "SL2-653",
           "NFKB1"
          ],
          [
           "SL2-657",
           "NKX2-1"
          ],
          [
           "SL2-659",
           "GFAP"
          ],
          [
           "SL2-659",
           "GFAP"
          ],
          [
           "SL2-659",
           "ACVRL1"
          ],
          [
           "SL2-659",
           "ACVRL1"
          ],
          [
           "SL2-674",
           "PIGV"
          ],
          [
           "SL2-681",
           "TBX4"
          ],
          [
           "SL2-684",
           "SETD5"
          ],
          [
           "SL2-686",
           "ARSB"
          ],
          [
           "SL2-688",
           "B4GALNT1"
          ],
          [
           "SL2-697",
           "ANKRD11"
          ],
          [
           "SL2-699",
           "CHD7"
          ],
          [
           "SL2-716",
           "SLC12A3"
          ],
          [
           "SL2-724",
           "TUBA1A"
          ],
          [
           "SL2-728",
           "NAA15"
          ],
          [
           "SL2-732",
           "DOCK3"
          ],
          [
           "SL2-752",
           "GNPTAB"
          ],
          [
           "SL2-767",
           "CTCF"
          ],
          [
           "SL2-795",
           "MECP2"
          ],
          [
           "SL2-799",
           "GRIN1"
          ],
          [
           "SL2-799",
           "GRIN1"
          ],
          [
           "SL2-799",
           "FLG"
          ],
          [
           "SL2-799",
           "FLG"
          ],
          [
           "SL2-806",
           "JAK2"
          ],
          [
           "SL2-816",
           "PIK3R1"
          ],
          [
           "SL2-817",
           "CACNA1E"
          ],
          [
           "SL2-835",
           "CACNA1F"
          ],
          [
           "SL2-835",
           "CACNA1F"
          ],
          [
           "SL2-835",
           "SPG11"
          ],
          [
           "SL2-835",
           "SPG11"
          ],
          [
           "SL2-842",
           "KDM6A"
          ],
          [
           "SL2-844",
           "CHD2"
          ],
          [
           "SL2-850",
           "TCF4"
          ],
          [
           "SL2-852",
           "PLA2G6"
          ],
          [
           "SL2-854",
           "MAP3K7"
          ],
          [
           "SL2-860",
           "GABRA1"
          ],
          [
           "SL2-865",
           "ZBTB18"
          ],
          [
           "SL2-879",
           "RPS6KA3"
          ],
          [
           "SL2-879",
           "RPS6KA3"
          ],
          [
           "SL2-879",
           "USP9X"
          ],
          [
           "SL2-879",
           "USP9X"
          ],
          [
           "SL2-891",
           "CBL"
          ],
          [
           "SL2-891",
           "CBL"
          ],
          [
           "SL2-891",
           "ELN"
          ],
          [
           "SL2-891",
           "ELN"
          ],
          [
           "SL2-904",
           "CFTR"
          ],
          [
           "SL2-910",
           "POLR3A"
          ],
          [
           "SL2-919",
           "SON"
          ],
          [
           "SL2-924",
           "SETD5"
          ],
          [
           "SL2-938",
           "ZC4H2"
          ],
          [
           "SL2-940",
           "BRPF1"
          ],
          [
           "SL2-940",
           "BRPF1"
          ],
          [
           "SL2-940",
           "KDM5C"
          ],
          [
           "SL2-940",
           "KDM5C"
          ],
          [
           "SL2-943",
           "DGAT1"
          ],
          [
           "SL2-947",
           "SYNGAP1"
          ]
         ],
         "hovertemplate": "Method=rank_bayes_geo<br>Rank_PCAN=%{x}<br>Rank=%{y}<br>Normalized ID=%{customdata[0]}<br>Gene1=%{customdata[1]}<extra></extra>",
         "legendgroup": "rank_bayes_geo",
         "marker": {
          "color": "#636efa",
          "symbol": "circle"
         },
         "mode": "markers",
         "name": "rank_bayes_geo",
         "orientation": "v",
         "showlegend": true,
         "type": "scatter",
         "x": [
          143,
          826,
          945,
          5,
          1505,
          2169,
          920,
          1926,
          1,
          10,
          4,
          437,
          200,
          165,
          64,
          37,
          81,
          67,
          1451,
          2,
          31,
          858,
          1521,
          47,
          48,
          204,
          848,
          103,
          3378,
          2070,
          121,
          3737,
          876,
          999,
          795,
          999,
          795,
          38,
          1,
          18,
          2962,
          18,
          2962,
          903,
          11,
          3,
          408,
          1895,
          43,
          957,
          40,
          238,
          null,
          238,
          null,
          1583,
          767,
          21,
          701,
          455,
          35,
          1159,
          14,
          714,
          742,
          49,
          152,
          4,
          49,
          247,
          504,
          6,
          196,
          1395,
          170,
          716,
          927,
          119,
          339,
          957,
          138,
          2254,
          249,
          205,
          319,
          205,
          319,
          706,
          78,
          5,
          2229,
          322,
          226,
          887,
          10,
          45,
          11,
          14,
          5,
          901,
          26,
          202,
          463,
          634,
          131,
          276,
          988,
          241,
          45,
          85,
          22,
          266,
          455,
          643,
          444,
          1150,
          444,
          1150,
          444,
          1150,
          423,
          179,
          43,
          31,
          43,
          31,
          176,
          879,
          245,
          618,
          139,
          33,
          1080,
          477,
          2419,
          19,
          164,
          233,
          436,
          548,
          4,
          6,
          683,
          593,
          199,
          19,
          90,
          63,
          15,
          89,
          17,
          933,
          1,
          12,
          355,
          2309,
          302,
          3,
          642,
          7,
          611,
          8,
          71,
          104,
          94,
          137,
          192,
          2,
          187,
          1637,
          33,
          157,
          99,
          5,
          211,
          188,
          1513,
          185,
          432,
          352,
          22,
          205,
          447,
          1026,
          64,
          19,
          490,
          288,
          258,
          240,
          50,
          361,
          166,
          174,
          2267,
          174,
          2267,
          174,
          2267,
          491,
          894,
          38,
          28,
          25,
          28,
          25,
          365,
          708,
          367,
          627,
          2474,
          55,
          45,
          3,
          242,
          227,
          674,
          31,
          674,
          31,
          741,
          2002,
          203,
          81,
          7,
          2266,
          272,
          5,
          14,
          1,
          1324,
          6,
          2216,
          10,
          157,
          1938,
          157,
          1938,
          14,
          365,
          13,
          778,
          14,
          778,
          14,
          965,
          89,
          130,
          18,
          11,
          1055,
          2125,
          874,
          974,
          874,
          974,
          233,
          689,
          233,
          689,
          190,
          161,
          244,
          144,
          83,
          387,
          943,
          387,
          943,
          16,
          367
         ],
         "xaxis": "x",
         "y": [
          787,
          3277,
          2363,
          3464,
          517,
          1289,
          3136,
          875,
          1703,
          2965,
          325,
          2421,
          3270,
          483,
          3091,
          2845,
          2699,
          925,
          3202,
          362,
          2660,
          1018,
          3282,
          486,
          90,
          3020,
          1113,
          705,
          249,
          5,
          1480,
          1412,
          571,
          868,
          868,
          230,
          230,
          48,
          949,
          3392,
          3392,
          1468,
          1468,
          3556,
          351,
          201,
          622,
          66,
          541,
          431,
          3547,
          24,
          24,
          2057,
          2057,
          2752,
          1574,
          1983,
          3324,
          872,
          83,
          30,
          822,
          1131,
          694,
          874,
          2654,
          2632,
          2842,
          3420,
          1081,
          1998,
          581,
          3020,
          1280,
          3143,
          276,
          162,
          887,
          582,
          1925,
          2371,
          2396,
          3098,
          3098,
          2596,
          2596,
          898,
          2588,
          3305,
          631,
          664,
          17,
          1384,
          131,
          2790,
          336,
          2225,
          3348,
          8,
          2387,
          1969,
          1176,
          3446,
          1678,
          2598,
          1289,
          1786,
          2184,
          2869,
          2733,
          3161,
          567,
          2401,
          3547,
          3547,
          3328,
          3328,
          1788,
          1788,
          229,
          2998,
          2807,
          2807,
          2573,
          2573,
          1270,
          1403,
          694,
          1318,
          3283,
          3207,
          2860,
          1847,
          1355,
          721,
          3069,
          1770,
          3033,
          336,
          866,
          1047,
          3523,
          173,
          3167,
          1467,
          539,
          2787,
          1819,
          3216,
          1073,
          3031,
          3413,
          3559,
          617,
          2922,
          2991,
          3553,
          2819,
          1186,
          1141,
          1792,
          3411,
          703,
          3053,
          1014,
          1003,
          1,
          275,
          1588,
          649,
          3440,
          3197,
          3094,
          1426,
          1503,
          2633,
          176,
          1049,
          3520,
          1508,
          3262,
          554,
          3293,
          2492,
          1997,
          1330,
          1327,
          1781,
          979,
          279,
          2704,
          3471,
          3198,
          3198,
          1074,
          1074,
          1922,
          1922,
          1812,
          701,
          3469,
          3128,
          3128,
          2738,
          2738,
          2622,
          3549,
          296,
          1141,
          2350,
          2970,
          173,
          3525,
          3464,
          89,
          854,
          854,
          1527,
          1527,
          75,
          3359,
          463,
          995,
          700,
          1416,
          1712,
          1,
          2427,
          3174,
          3050,
          924,
          512,
          398,
          528,
          528,
          547,
          547,
          1412,
          254,
          2437,
          1235,
          1235,
          841,
          841,
          532,
          3167,
          3154,
          681,
          900,
          2030,
          1244,
          40,
          40,
          361,
          361,
          445,
          445,
          1892,
          1892,
          117,
          456,
          2799,
          3034,
          110,
          304,
          304,
          313,
          313,
          3407,
          3127
         ],
         "yaxis": "y"
        },
        {
         "alignmentgroup": "True",
         "bingroup": "x",
         "hovertemplate": "Method=rank_bayes_geo<br>Rank_PCAN=%{x}<br>count=%{y}<extra></extra>",
         "legendgroup": "rank_bayes_geo",
         "marker": {
          "color": "#636efa"
         },
         "name": "rank_bayes_geo",
         "offsetgroup": "rank_bayes_geo",
         "opacity": 0.5,
         "showlegend": false,
         "type": "histogram",
         "x": [
          143,
          826,
          945,
          5,
          1505,
          2169,
          920,
          1926,
          1,
          10,
          4,
          437,
          200,
          165,
          64,
          37,
          81,
          67,
          1451,
          2,
          31,
          858,
          1521,
          47,
          48,
          204,
          848,
          103,
          3378,
          2070,
          121,
          3737,
          876,
          999,
          795,
          999,
          795,
          38,
          1,
          18,
          2962,
          18,
          2962,
          903,
          11,
          3,
          408,
          1895,
          43,
          957,
          40,
          238,
          null,
          238,
          null,
          1583,
          767,
          21,
          701,
          455,
          35,
          1159,
          14,
          714,
          742,
          49,
          152,
          4,
          49,
          247,
          504,
          6,
          196,
          1395,
          170,
          716,
          927,
          119,
          339,
          957,
          138,
          2254,
          249,
          205,
          319,
          205,
          319,
          706,
          78,
          5,
          2229,
          322,
          226,
          887,
          10,
          45,
          11,
          14,
          5,
          901,
          26,
          202,
          463,
          634,
          131,
          276,
          988,
          241,
          45,
          85,
          22,
          266,
          455,
          643,
          444,
          1150,
          444,
          1150,
          444,
          1150,
          423,
          179,
          43,
          31,
          43,
          31,
          176,
          879,
          245,
          618,
          139,
          33,
          1080,
          477,
          2419,
          19,
          164,
          233,
          436,
          548,
          4,
          6,
          683,
          593,
          199,
          19,
          90,
          63,
          15,
          89,
          17,
          933,
          1,
          12,
          355,
          2309,
          302,
          3,
          642,
          7,
          611,
          8,
          71,
          104,
          94,
          137,
          192,
          2,
          187,
          1637,
          33,
          157,
          99,
          5,
          211,
          188,
          1513,
          185,
          432,
          352,
          22,
          205,
          447,
          1026,
          64,
          19,
          490,
          288,
          258,
          240,
          50,
          361,
          166,
          174,
          2267,
          174,
          2267,
          174,
          2267,
          491,
          894,
          38,
          28,
          25,
          28,
          25,
          365,
          708,
          367,
          627,
          2474,
          55,
          45,
          3,
          242,
          227,
          674,
          31,
          674,
          31,
          741,
          2002,
          203,
          81,
          7,
          2266,
          272,
          5,
          14,
          1,
          1324,
          6,
          2216,
          10,
          157,
          1938,
          157,
          1938,
          14,
          365,
          13,
          778,
          14,
          778,
          14,
          965,
          89,
          130,
          18,
          11,
          1055,
          2125,
          874,
          974,
          874,
          974,
          233,
          689,
          233,
          689,
          190,
          161,
          244,
          144,
          83,
          387,
          943,
          387,
          943,
          16,
          367
         ],
         "xaxis": "x3",
         "yaxis": "y3"
        },
        {
         "alignmentgroup": "True",
         "boxpoints": "all",
         "customdata": [
          [
           "SL2-009",
           "CACNA1E"
          ],
          [
           "SL2-016",
           "PACS1"
          ],
          [
           "SL2-021",
           "CACNA1A"
          ],
          [
           "SL2-029",
           "FGFR1"
          ],
          [
           "SL2-033",
           "GABBR2"
          ],
          [
           "SL2-049",
           "AFG3L2"
          ],
          [
           "SL2-105",
           "THOC6"
          ],
          [
           "SL2-127",
           "EHMT1"
          ],
          [
           "SL2-144",
           "C2CD3"
          ],
          [
           "SL2-145",
           "COL2A1"
          ],
          [
           "SL2-147",
           "CACNA1A"
          ],
          [
           "SL2-155",
           "CLN6"
          ],
          [
           "SL2-156",
           "CLN6"
          ],
          [
           "SL2-157",
           "CLN6"
          ],
          [
           "SL2-158",
           "RUNX1"
          ],
          [
           "SL2-164",
           "ATM"
          ],
          [
           "SL2-167",
           "SOX2"
          ],
          [
           "SL2-170",
           "KAT6A"
          ],
          [
           "SL2-173",
           "BMP4"
          ],
          [
           "SL2-1000",
           "PTPN11"
          ],
          [
           "SL2-1006",
           "SCN2A"
          ],
          [
           "SL2-1076",
           "RECQL4"
          ],
          [
           "SL2-1167",
           "HNRNPU"
          ],
          [
           "SL2-1181",
           "ARID1B"
          ],
          [
           "SL2-1187",
           "POMGNT1"
          ],
          [
           "SL2-1205",
           "NR2F1"
          ],
          [
           "SL2-1209",
           "UBE3A"
          ],
          [
           "SL2-1211",
           "SLC6A8"
          ],
          [
           "SL2-1214",
           "CTCF"
          ],
          [
           "SL2-1216",
           "UBA1"
          ],
          [
           "SL2-1222",
           "ALPL"
          ],
          [
           "SL2-1224",
           "ACTG2"
          ],
          [
           "SL2-1253",
           "CHD2"
          ],
          [
           "SL2-1256",
           "COL4A2"
          ],
          [
           "SL2-1256",
           "COL4A2"
          ],
          [
           "SL2-1256",
           "MEFV"
          ],
          [
           "SL2-1256",
           "MEFV"
          ],
          [
           "SL2-1275",
           "DEAF1"
          ],
          [
           "SL2-1280",
           "NSD1"
          ],
          [
           "SL2-1282",
           "MECP2"
          ],
          [
           "SL2-1282",
           "MECP2"
          ],
          [
           "SL2-1282",
           "MLH1"
          ],
          [
           "SL2-1282",
           "MLH1"
          ],
          [
           "SL2-1291",
           "GLMN"
          ],
          [
           "SL2-1312",
           "TSPEAR"
          ],
          [
           "SL2-1315",
           "CACNA1A"
          ],
          [
           "SL2-1316",
           "SLC35C1"
          ],
          [
           "SL2-1340",
           "ATP1A3"
          ],
          [
           "SL2-1343",
           "MYH11"
          ],
          [
           "SL2-1365",
           "ALG12"
          ],
          [
           "SL2-1377",
           "DOCK8"
          ],
          [
           "SL2-1382",
           "CTLA4"
          ],
          [
           "SL2-1382",
           "CTLA4"
          ],
          [
           "SL2-1382",
           "NOD2"
          ],
          [
           "SL2-1382",
           "NOD2"
          ],
          [
           "SL2-1383",
           "CTCF"
          ],
          [
           "SL2-1385",
           "TRPS1"
          ],
          [
           "SL2-1397",
           "ERCC6L2"
          ],
          [
           "SL2-1431",
           "KMT2B"
          ],
          [
           "SL2-1435",
           "SETD5"
          ],
          [
           "SL2-1451",
           "MUC1"
          ],
          [
           "SL2-1481",
           "ACTB"
          ],
          [
           "SL2-1490",
           "SLC26A3"
          ],
          [
           "SL2-1493",
           "TRIP12"
          ],
          [
           "SL2-1496",
           "ASXL1"
          ],
          [
           "SL2-1507",
           "COL4A4"
          ],
          [
           "SL2-1529",
           "PGAP3"
          ],
          [
           "SL2-1538",
           "GAA"
          ],
          [
           "SL2-1539",
           "IFIH1"
          ],
          [
           "SL2-1547",
           "NONO"
          ],
          [
           "SL2-1554",
           "POGZ"
          ],
          [
           "SL2-1556",
           "LGI1"
          ],
          [
           "SL2-1581",
           "ZEB2"
          ],
          [
           "SL2-1584",
           "KCNB1"
          ],
          [
           "SL2-1600",
           "CNOT1"
          ],
          [
           "SL2-1628",
           "AHDC1"
          ],
          [
           "SL2-1631",
           "PTEN"
          ],
          [
           "SL2-1653",
           "ATP1A3"
          ],
          [
           "SL2-1685",
           "TRAPPC9"
          ],
          [
           "SL2-1723",
           "CUL4B"
          ],
          [
           "SL2-1766",
           "NSD1"
          ],
          [
           "SL2-1768",
           "ACTG1"
          ],
          [
           "SL2-1769",
           "ZSWIM6"
          ],
          [
           "SL2-190",
           "EZH2"
          ],
          [
           "SL2-190",
           "EZH2"
          ],
          [
           "SL2-190",
           "DNMT3A"
          ],
          [
           "SL2-190",
           "DNMT3A"
          ],
          [
           "SL2-193",
           "EHMT1"
          ],
          [
           "SL2-197",
           "IDH1"
          ],
          [
           "SL2-198",
           "KMT2D"
          ],
          [
           "SL2-203",
           "NAA15"
          ],
          [
           "SL2-237",
           "USP9X"
          ],
          [
           "SL2-245",
           "UBE2A"
          ],
          [
           "SL2-252",
           "CIC"
          ],
          [
           "SL2-254",
           "NEFL"
          ],
          [
           "SL2-259",
           "DMD"
          ],
          [
           "SL2-266",
           "SLC20A2"
          ],
          [
           "SL2-1805",
           "MSTO1"
          ],
          [
           "SL2-1842",
           "CUL3"
          ],
          [
           "SL2-1886",
           "PPP3CA"
          ],
          [
           "SL2-1924",
           "HTRA1"
          ],
          [
           "SL2-1940",
           "SCN2A"
          ],
          [
           "SL2-1978",
           "PIEZO1"
          ],
          [
           "SL2-1989",
           "FOXP1"
          ],
          [
           "SL2-1991",
           "CHD2"
          ],
          [
           "SL2-2028",
           "PBX1"
          ],
          [
           "SL2-2081",
           "SIN3A"
          ],
          [
           "SL2-2086",
           "ABCC9"
          ],
          [
           "SL2-2141",
           "PLA2G6"
          ],
          [
           "SL2-2202",
           "TRIO"
          ],
          [
           "SL2-2238",
           "BRCA2"
          ],
          [
           "SL2-2239",
           "TRIO"
          ],
          [
           "SL2-2246",
           "AMPD2"
          ],
          [
           "SL2-2281",
           "MPZ"
          ],
          [
           "SL2-2307",
           "PKD1"
          ],
          [
           "SL2-2307",
           "PKD1"
          ],
          [
           "SL2-2307",
           "COL11A1"
          ],
          [
           "SL2-2307",
           "COL11A1"
          ],
          [
           "SL2-2307",
           "VWF"
          ],
          [
           "SL2-2307",
           "VWF"
          ],
          [
           "SL2-2318",
           "TRRAP"
          ],
          [
           "SL2-2325",
           "GJB2"
          ],
          [
           "SL2-2328",
           "ALPL"
          ],
          [
           "SL2-2328",
           "ALPL"
          ],
          [
           "SL2-2328",
           "NF1"
          ],
          [
           "SL2-2328",
           "NF1"
          ],
          [
           "SL2-2354",
           "EFTUD2"
          ],
          [
           "SL2-2357",
           "ABCD1"
          ],
          [
           "SL2-2383",
           "NPC1"
          ],
          [
           "SL2-2404",
           "NR2F2"
          ],
          [
           "SL2-2433",
           "PTEN"
          ],
          [
           "SL2-2490",
           "AAAS"
          ],
          [
           "SL2-2511",
           "LZTR1"
          ],
          [
           "SL2-2580",
           "TNFRSF1A"
          ],
          [
           "SL2-2593",
           "ADCY5"
          ],
          [
           "SL2-2612",
           "MECP2"
          ],
          [
           "SL2-2646",
           "SMAD4"
          ],
          [
           "SL2-2647",
           "SHANK3"
          ],
          [
           "SL2-2689",
           "FLG"
          ],
          [
           "SL2-273",
           "KANSL1"
          ],
          [
           "SL2-276",
           "RYR1"
          ],
          [
           "SL2-284",
           "ANO3"
          ],
          [
           "SL2-287",
           "TBR1"
          ],
          [
           "SL2-299",
           "PYCR2"
          ],
          [
           "SL2-301",
           "KCNA2"
          ],
          [
           "SL2-310",
           "UMOD"
          ],
          [
           "SL2-313",
           "NDUFS4"
          ],
          [
           "SL2-314",
           "TIA1"
          ],
          [
           "SL2-315",
           "TRRAP"
          ],
          [
           "SL2-319",
           "KIF11"
          ],
          [
           "SL2-339",
           "OPA1"
          ],
          [
           "SL2-349",
           "EXOSC3"
          ],
          [
           "SL2-363",
           "FA2H"
          ],
          [
           "SL2-376",
           "XPC"
          ],
          [
           "SL2-381",
           "BCL11A"
          ],
          [
           "SL2-387",
           "DDX3X"
          ],
          [
           "SL2-388",
           "DCX"
          ],
          [
           "SL2-392",
           "THAP1"
          ],
          [
           "SL2-395",
           "CASR"
          ],
          [
           "SL2-397",
           "CYP11A1"
          ],
          [
           "SL2-400",
           "NR2F1"
          ],
          [
           "SL2-405",
           "KMT2A"
          ],
          [
           "SL2-410",
           "GJA1"
          ],
          [
           "SL2-412",
           "SPG7"
          ],
          [
           "SL2-421",
           "DEGS1"
          ],
          [
           "SL2-424",
           "ATM"
          ],
          [
           "SL2-437",
           "ASH1L"
          ],
          [
           "SL2-440",
           "ACTA1"
          ],
          [
           "SL2-442",
           "PTPN11"
          ],
          [
           "SL2-443",
           "HCFC1"
          ],
          [
           "SL2-446",
           "PSEN1"
          ],
          [
           "SL2-449",
           "FBXO11"
          ],
          [
           "SL2-454",
           "FAR1"
          ],
          [
           "SL2-457",
           "TGFBR2"
          ],
          [
           "SL2-458",
           "AEBP1"
          ],
          [
           "SL2-462",
           "CACNA1A"
          ],
          [
           "SL2-466",
           "SERPINA1"
          ],
          [
           "SL2-468",
           "C12orf57"
          ],
          [
           "SL2-469",
           "CYP7B1"
          ],
          [
           "SL2-471",
           "ACTB"
          ],
          [
           "SL2-472",
           "TRPV4"
          ],
          [
           "SL2-473",
           "EP300"
          ],
          [
           "SL2-485",
           "TUBB4A"
          ],
          [
           "SL2-521",
           "TRMU"
          ],
          [
           "SL2-528",
           "CLN3"
          ],
          [
           "SL2-2962",
           "LOX"
          ],
          [
           "SL2-3015",
           "STAG1"
          ],
          [
           "SL2-3041",
           "NEB"
          ],
          [
           "SL2-539",
           "EBF3"
          ],
          [
           "SL2-540",
           "HMGCS2"
          ],
          [
           "SL2-547",
           "SYNGAP1"
          ],
          [
           "SL2-550",
           "LTBP3"
          ],
          [
           "SL2-552",
           "ATP1A3"
          ],
          [
           "SL2-557",
           "SIN3A"
          ],
          [
           "SL2-557",
           "SIN3A"
          ],
          [
           "SL2-557",
           "FLG"
          ],
          [
           "SL2-557",
           "FLG"
          ],
          [
           "SL2-557",
           "EDAR"
          ],
          [
           "SL2-557",
           "EDAR"
          ],
          [
           "SL2-563",
           "ASXL3"
          ],
          [
           "SL2-566",
           "ACO2"
          ],
          [
           "SL2-577",
           "ALDH18A1"
          ],
          [
           "SL2-579",
           "TTN"
          ],
          [
           "SL2-579",
           "TTN"
          ],
          [
           "SL2-579",
           "MYBPC3"
          ],
          [
           "SL2-579",
           "MYBPC3"
          ],
          [
           "SL2-580",
           "ACVR1"
          ],
          [
           "SL2-581",
           "MEFV"
          ],
          [
           "SL2-592",
           "SLC25A46"
          ],
          [
           "SL2-598",
           "WAC"
          ],
          [
           "SL2-607",
           "SLC6A1"
          ],
          [
           "SL2-623",
           "ENPP1"
          ],
          [
           "SL2-632",
           "OCA2"
          ],
          [
           "SL2-646",
           "CHAT"
          ],
          [
           "SL2-653",
           "NFKB1"
          ],
          [
           "SL2-657",
           "NKX2-1"
          ],
          [
           "SL2-659",
           "GFAP"
          ],
          [
           "SL2-659",
           "GFAP"
          ],
          [
           "SL2-659",
           "ACVRL1"
          ],
          [
           "SL2-659",
           "ACVRL1"
          ],
          [
           "SL2-674",
           "PIGV"
          ],
          [
           "SL2-681",
           "TBX4"
          ],
          [
           "SL2-684",
           "SETD5"
          ],
          [
           "SL2-686",
           "ARSB"
          ],
          [
           "SL2-688",
           "B4GALNT1"
          ],
          [
           "SL2-697",
           "ANKRD11"
          ],
          [
           "SL2-699",
           "CHD7"
          ],
          [
           "SL2-716",
           "SLC12A3"
          ],
          [
           "SL2-724",
           "TUBA1A"
          ],
          [
           "SL2-728",
           "NAA15"
          ],
          [
           "SL2-732",
           "DOCK3"
          ],
          [
           "SL2-752",
           "GNPTAB"
          ],
          [
           "SL2-767",
           "CTCF"
          ],
          [
           "SL2-795",
           "MECP2"
          ],
          [
           "SL2-799",
           "GRIN1"
          ],
          [
           "SL2-799",
           "GRIN1"
          ],
          [
           "SL2-799",
           "FLG"
          ],
          [
           "SL2-799",
           "FLG"
          ],
          [
           "SL2-806",
           "JAK2"
          ],
          [
           "SL2-816",
           "PIK3R1"
          ],
          [
           "SL2-817",
           "CACNA1E"
          ],
          [
           "SL2-835",
           "CACNA1F"
          ],
          [
           "SL2-835",
           "CACNA1F"
          ],
          [
           "SL2-835",
           "SPG11"
          ],
          [
           "SL2-835",
           "SPG11"
          ],
          [
           "SL2-842",
           "KDM6A"
          ],
          [
           "SL2-844",
           "CHD2"
          ],
          [
           "SL2-850",
           "TCF4"
          ],
          [
           "SL2-852",
           "PLA2G6"
          ],
          [
           "SL2-854",
           "MAP3K7"
          ],
          [
           "SL2-860",
           "GABRA1"
          ],
          [
           "SL2-865",
           "ZBTB18"
          ],
          [
           "SL2-879",
           "RPS6KA3"
          ],
          [
           "SL2-879",
           "RPS6KA3"
          ],
          [
           "SL2-879",
           "USP9X"
          ],
          [
           "SL2-879",
           "USP9X"
          ],
          [
           "SL2-891",
           "CBL"
          ],
          [
           "SL2-891",
           "CBL"
          ],
          [
           "SL2-891",
           "ELN"
          ],
          [
           "SL2-891",
           "ELN"
          ],
          [
           "SL2-904",
           "CFTR"
          ],
          [
           "SL2-910",
           "POLR3A"
          ],
          [
           "SL2-919",
           "SON"
          ],
          [
           "SL2-924",
           "SETD5"
          ],
          [
           "SL2-938",
           "ZC4H2"
          ],
          [
           "SL2-940",
           "BRPF1"
          ],
          [
           "SL2-940",
           "BRPF1"
          ],
          [
           "SL2-940",
           "KDM5C"
          ],
          [
           "SL2-940",
           "KDM5C"
          ],
          [
           "SL2-943",
           "DGAT1"
          ],
          [
           "SL2-947",
           "SYNGAP1"
          ]
         ],
         "fillcolor": "rgba(255,255,255,0)",
         "hoveron": "points",
         "hovertemplate": "Method=rank_bayes_geo<br>Rank=%{y}<br>Normalized ID=%{customdata[0]}<br>Gene1=%{customdata[1]}<extra></extra>",
         "jitter": 0,
         "legendgroup": "rank_bayes_geo",
         "line": {
          "color": "rgba(255,255,255,0)"
         },
         "marker": {
          "color": "#636efa",
          "symbol": "line-ew-open"
         },
         "name": "rank_bayes_geo",
         "offsetgroup": "rank_bayes_geo",
         "showlegend": false,
         "type": "box",
         "xaxis": "x2",
         "y": [
          787,
          3277,
          2363,
          3464,
          517,
          1289,
          3136,
          875,
          1703,
          2965,
          325,
          2421,
          3270,
          483,
          3091,
          2845,
          2699,
          925,
          3202,
          362,
          2660,
          1018,
          3282,
          486,
          90,
          3020,
          1113,
          705,
          249,
          5,
          1480,
          1412,
          571,
          868,
          868,
          230,
          230,
          48,
          949,
          3392,
          3392,
          1468,
          1468,
          3556,
          351,
          201,
          622,
          66,
          541,
          431,
          3547,
          24,
          24,
          2057,
          2057,
          2752,
          1574,
          1983,
          3324,
          872,
          83,
          30,
          822,
          1131,
          694,
          874,
          2654,
          2632,
          2842,
          3420,
          1081,
          1998,
          581,
          3020,
          1280,
          3143,
          276,
          162,
          887,
          582,
          1925,
          2371,
          2396,
          3098,
          3098,
          2596,
          2596,
          898,
          2588,
          3305,
          631,
          664,
          17,
          1384,
          131,
          2790,
          336,
          2225,
          3348,
          8,
          2387,
          1969,
          1176,
          3446,
          1678,
          2598,
          1289,
          1786,
          2184,
          2869,
          2733,
          3161,
          567,
          2401,
          3547,
          3547,
          3328,
          3328,
          1788,
          1788,
          229,
          2998,
          2807,
          2807,
          2573,
          2573,
          1270,
          1403,
          694,
          1318,
          3283,
          3207,
          2860,
          1847,
          1355,
          721,
          3069,
          1770,
          3033,
          336,
          866,
          1047,
          3523,
          173,
          3167,
          1467,
          539,
          2787,
          1819,
          3216,
          1073,
          3031,
          3413,
          3559,
          617,
          2922,
          2991,
          3553,
          2819,
          1186,
          1141,
          1792,
          3411,
          703,
          3053,
          1014,
          1003,
          1,
          275,
          1588,
          649,
          3440,
          3197,
          3094,
          1426,
          1503,
          2633,
          176,
          1049,
          3520,
          1508,
          3262,
          554,
          3293,
          2492,
          1997,
          1330,
          1327,
          1781,
          979,
          279,
          2704,
          3471,
          3198,
          3198,
          1074,
          1074,
          1922,
          1922,
          1812,
          701,
          3469,
          3128,
          3128,
          2738,
          2738,
          2622,
          3549,
          296,
          1141,
          2350,
          2970,
          173,
          3525,
          3464,
          89,
          854,
          854,
          1527,
          1527,
          75,
          3359,
          463,
          995,
          700,
          1416,
          1712,
          1,
          2427,
          3174,
          3050,
          924,
          512,
          398,
          528,
          528,
          547,
          547,
          1412,
          254,
          2437,
          1235,
          1235,
          841,
          841,
          532,
          3167,
          3154,
          681,
          900,
          2030,
          1244,
          40,
          40,
          361,
          361,
          445,
          445,
          1892,
          1892,
          117,
          456,
          2799,
          3034,
          110,
          304,
          304,
          313,
          313,
          3407,
          3127
         ],
         "yaxis": "y2"
        }
       ],
       "layout": {
        "barmode": "overlay",
        "legend": {
         "title": {
          "text": "Method"
         },
         "tracegroupgap": 0
        },
        "margin": {
         "t": 60
        },
        "template": {
         "data": {
          "bar": [
           {
            "error_x": {
             "color": "#2a3f5f"
            },
            "error_y": {
             "color": "#2a3f5f"
            },
            "marker": {
             "line": {
              "color": "#E5ECF6",
              "width": 0.5
             },
             "pattern": {
              "fillmode": "overlay",
              "size": 10,
              "solidity": 0.2
             }
            },
            "type": "bar"
           }
          ],
          "barpolar": [
           {
            "marker": {
             "line": {
              "color": "#E5ECF6",
              "width": 0.5
             },
             "pattern": {
              "fillmode": "overlay",
              "size": 10,
              "solidity": 0.2
             }
            },
            "type": "barpolar"
           }
          ],
          "carpet": [
           {
            "aaxis": {
             "endlinecolor": "#2a3f5f",
             "gridcolor": "white",
             "linecolor": "white",
             "minorgridcolor": "white",
             "startlinecolor": "#2a3f5f"
            },
            "baxis": {
             "endlinecolor": "#2a3f5f",
             "gridcolor": "white",
             "linecolor": "white",
             "minorgridcolor": "white",
             "startlinecolor": "#2a3f5f"
            },
            "type": "carpet"
           }
          ],
          "choropleth": [
           {
            "colorbar": {
             "outlinewidth": 0,
             "ticks": ""
            },
            "type": "choropleth"
           }
          ],
          "contour": [
           {
            "colorbar": {
             "outlinewidth": 0,
             "ticks": ""
            },
            "colorscale": [
             [
              0,
              "#0d0887"
             ],
             [
              0.1111111111111111,
              "#46039f"
             ],
             [
              0.2222222222222222,
              "#7201a8"
             ],
             [
              0.3333333333333333,
              "#9c179e"
             ],
             [
              0.4444444444444444,
              "#bd3786"
             ],
             [
              0.5555555555555556,
              "#d8576b"
             ],
             [
              0.6666666666666666,
              "#ed7953"
             ],
             [
              0.7777777777777778,
              "#fb9f3a"
             ],
             [
              0.8888888888888888,
              "#fdca26"
             ],
             [
              1,
              "#f0f921"
             ]
            ],
            "type": "contour"
           }
          ],
          "contourcarpet": [
           {
            "colorbar": {
             "outlinewidth": 0,
             "ticks": ""
            },
            "type": "contourcarpet"
           }
          ],
          "heatmap": [
           {
            "colorbar": {
             "outlinewidth": 0,
             "ticks": ""
            },
            "colorscale": [
             [
              0,
              "#0d0887"
             ],
             [
              0.1111111111111111,
              "#46039f"
             ],
             [
              0.2222222222222222,
              "#7201a8"
             ],
             [
              0.3333333333333333,
              "#9c179e"
             ],
             [
              0.4444444444444444,
              "#bd3786"
             ],
             [
              0.5555555555555556,
              "#d8576b"
             ],
             [
              0.6666666666666666,
              "#ed7953"
             ],
             [
              0.7777777777777778,
              "#fb9f3a"
             ],
             [
              0.8888888888888888,
              "#fdca26"
             ],
             [
              1,
              "#f0f921"
             ]
            ],
            "type": "heatmap"
           }
          ],
          "heatmapgl": [
           {
            "colorbar": {
             "outlinewidth": 0,
             "ticks": ""
            },
            "colorscale": [
             [
              0,
              "#0d0887"
             ],
             [
              0.1111111111111111,
              "#46039f"
             ],
             [
              0.2222222222222222,
              "#7201a8"
             ],
             [
              0.3333333333333333,
              "#9c179e"
             ],
             [
              0.4444444444444444,
              "#bd3786"
             ],
             [
              0.5555555555555556,
              "#d8576b"
             ],
             [
              0.6666666666666666,
              "#ed7953"
             ],
             [
              0.7777777777777778,
              "#fb9f3a"
             ],
             [
              0.8888888888888888,
              "#fdca26"
             ],
             [
              1,
              "#f0f921"
             ]
            ],
            "type": "heatmapgl"
           }
          ],
          "histogram": [
           {
            "marker": {
             "pattern": {
              "fillmode": "overlay",
              "size": 10,
              "solidity": 0.2
             }
            },
            "type": "histogram"
           }
          ],
          "histogram2d": [
           {
            "colorbar": {
             "outlinewidth": 0,
             "ticks": ""
            },
            "colorscale": [
             [
              0,
              "#0d0887"
             ],
             [
              0.1111111111111111,
              "#46039f"
             ],
             [
              0.2222222222222222,
              "#7201a8"
             ],
             [
              0.3333333333333333,
              "#9c179e"
             ],
             [
              0.4444444444444444,
              "#bd3786"
             ],
             [
              0.5555555555555556,
              "#d8576b"
             ],
             [
              0.6666666666666666,
              "#ed7953"
             ],
             [
              0.7777777777777778,
              "#fb9f3a"
             ],
             [
              0.8888888888888888,
              "#fdca26"
             ],
             [
              1,
              "#f0f921"
             ]
            ],
            "type": "histogram2d"
           }
          ],
          "histogram2dcontour": [
           {
            "colorbar": {
             "outlinewidth": 0,
             "ticks": ""
            },
            "colorscale": [
             [
              0,
              "#0d0887"
             ],
             [
              0.1111111111111111,
              "#46039f"
             ],
             [
              0.2222222222222222,
              "#7201a8"
             ],
             [
              0.3333333333333333,
              "#9c179e"
             ],
             [
              0.4444444444444444,
              "#bd3786"
             ],
             [
              0.5555555555555556,
              "#d8576b"
             ],
             [
              0.6666666666666666,
              "#ed7953"
             ],
             [
              0.7777777777777778,
              "#fb9f3a"
             ],
             [
              0.8888888888888888,
              "#fdca26"
             ],
             [
              1,
              "#f0f921"
             ]
            ],
            "type": "histogram2dcontour"
           }
          ],
          "mesh3d": [
           {
            "colorbar": {
             "outlinewidth": 0,
             "ticks": ""
            },
            "type": "mesh3d"
           }
          ],
          "parcoords": [
           {
            "line": {
             "colorbar": {
              "outlinewidth": 0,
              "ticks": ""
             }
            },
            "type": "parcoords"
           }
          ],
          "pie": [
           {
            "automargin": true,
            "type": "pie"
           }
          ],
          "scatter": [
           {
            "fillpattern": {
             "fillmode": "overlay",
             "size": 10,
             "solidity": 0.2
            },
            "type": "scatter"
           }
          ],
          "scatter3d": [
           {
            "line": {
             "colorbar": {
              "outlinewidth": 0,
              "ticks": ""
             }
            },
            "marker": {
             "colorbar": {
              "outlinewidth": 0,
              "ticks": ""
             }
            },
            "type": "scatter3d"
           }
          ],
          "scattercarpet": [
           {
            "marker": {
             "colorbar": {
              "outlinewidth": 0,
              "ticks": ""
             }
            },
            "type": "scattercarpet"
           }
          ],
          "scattergeo": [
           {
            "marker": {
             "colorbar": {
              "outlinewidth": 0,
              "ticks": ""
             }
            },
            "type": "scattergeo"
           }
          ],
          "scattergl": [
           {
            "marker": {
             "colorbar": {
              "outlinewidth": 0,
              "ticks": ""
             }
            },
            "type": "scattergl"
           }
          ],
          "scattermapbox": [
           {
            "marker": {
             "colorbar": {
              "outlinewidth": 0,
              "ticks": ""
             }
            },
            "type": "scattermapbox"
           }
          ],
          "scatterpolar": [
           {
            "marker": {
             "colorbar": {
              "outlinewidth": 0,
              "ticks": ""
             }
            },
            "type": "scatterpolar"
           }
          ],
          "scatterpolargl": [
           {
            "marker": {
             "colorbar": {
              "outlinewidth": 0,
              "ticks": ""
             }
            },
            "type": "scatterpolargl"
           }
          ],
          "scatterternary": [
           {
            "marker": {
             "colorbar": {
              "outlinewidth": 0,
              "ticks": ""
             }
            },
            "type": "scatterternary"
           }
          ],
          "surface": [
           {
            "colorbar": {
             "outlinewidth": 0,
             "ticks": ""
            },
            "colorscale": [
             [
              0,
              "#0d0887"
             ],
             [
              0.1111111111111111,
              "#46039f"
             ],
             [
              0.2222222222222222,
              "#7201a8"
             ],
             [
              0.3333333333333333,
              "#9c179e"
             ],
             [
              0.4444444444444444,
              "#bd3786"
             ],
             [
              0.5555555555555556,
              "#d8576b"
             ],
             [
              0.6666666666666666,
              "#ed7953"
             ],
             [
              0.7777777777777778,
              "#fb9f3a"
             ],
             [
              0.8888888888888888,
              "#fdca26"
             ],
             [
              1,
              "#f0f921"
             ]
            ],
            "type": "surface"
           }
          ],
          "table": [
           {
            "cells": {
             "fill": {
              "color": "#EBF0F8"
             },
             "line": {
              "color": "white"
             }
            },
            "header": {
             "fill": {
              "color": "#C8D4E3"
             },
             "line": {
              "color": "white"
             }
            },
            "type": "table"
           }
          ]
         },
         "layout": {
          "annotationdefaults": {
           "arrowcolor": "#2a3f5f",
           "arrowhead": 0,
           "arrowwidth": 1
          },
          "autotypenumbers": "strict",
          "coloraxis": {
           "colorbar": {
            "outlinewidth": 0,
            "ticks": ""
           }
          },
          "colorscale": {
           "diverging": [
            [
             0,
             "#8e0152"
            ],
            [
             0.1,
             "#c51b7d"
            ],
            [
             0.2,
             "#de77ae"
            ],
            [
             0.3,
             "#f1b6da"
            ],
            [
             0.4,
             "#fde0ef"
            ],
            [
             0.5,
             "#f7f7f7"
            ],
            [
             0.6,
             "#e6f5d0"
            ],
            [
             0.7,
             "#b8e186"
            ],
            [
             0.8,
             "#7fbc41"
            ],
            [
             0.9,
             "#4d9221"
            ],
            [
             1,
             "#276419"
            ]
           ],
           "sequential": [
            [
             0,
             "#0d0887"
            ],
            [
             0.1111111111111111,
             "#46039f"
            ],
            [
             0.2222222222222222,
             "#7201a8"
            ],
            [
             0.3333333333333333,
             "#9c179e"
            ],
            [
             0.4444444444444444,
             "#bd3786"
            ],
            [
             0.5555555555555556,
             "#d8576b"
            ],
            [
             0.6666666666666666,
             "#ed7953"
            ],
            [
             0.7777777777777778,
             "#fb9f3a"
            ],
            [
             0.8888888888888888,
             "#fdca26"
            ],
            [
             1,
             "#f0f921"
            ]
           ],
           "sequentialminus": [
            [
             0,
             "#0d0887"
            ],
            [
             0.1111111111111111,
             "#46039f"
            ],
            [
             0.2222222222222222,
             "#7201a8"
            ],
            [
             0.3333333333333333,
             "#9c179e"
            ],
            [
             0.4444444444444444,
             "#bd3786"
            ],
            [
             0.5555555555555556,
             "#d8576b"
            ],
            [
             0.6666666666666666,
             "#ed7953"
            ],
            [
             0.7777777777777778,
             "#fb9f3a"
            ],
            [
             0.8888888888888888,
             "#fdca26"
            ],
            [
             1,
             "#f0f921"
            ]
           ]
          },
          "colorway": [
           "#636efa",
           "#EF553B",
           "#00cc96",
           "#ab63fa",
           "#FFA15A",
           "#19d3f3",
           "#FF6692",
           "#B6E880",
           "#FF97FF",
           "#FECB52"
          ],
          "font": {
           "color": "#2a3f5f"
          },
          "geo": {
           "bgcolor": "white",
           "lakecolor": "white",
           "landcolor": "#E5ECF6",
           "showlakes": true,
           "showland": true,
           "subunitcolor": "white"
          },
          "hoverlabel": {
           "align": "left"
          },
          "hovermode": "closest",
          "mapbox": {
           "style": "light"
          },
          "paper_bgcolor": "white",
          "plot_bgcolor": "#E5ECF6",
          "polar": {
           "angularaxis": {
            "gridcolor": "white",
            "linecolor": "white",
            "ticks": ""
           },
           "bgcolor": "#E5ECF6",
           "radialaxis": {
            "gridcolor": "white",
            "linecolor": "white",
            "ticks": ""
           }
          },
          "scene": {
           "xaxis": {
            "backgroundcolor": "#E5ECF6",
            "gridcolor": "white",
            "gridwidth": 2,
            "linecolor": "white",
            "showbackground": true,
            "ticks": "",
            "zerolinecolor": "white"
           },
           "yaxis": {
            "backgroundcolor": "#E5ECF6",
            "gridcolor": "white",
            "gridwidth": 2,
            "linecolor": "white",
            "showbackground": true,
            "ticks": "",
            "zerolinecolor": "white"
           },
           "zaxis": {
            "backgroundcolor": "#E5ECF6",
            "gridcolor": "white",
            "gridwidth": 2,
            "linecolor": "white",
            "showbackground": true,
            "ticks": "",
            "zerolinecolor": "white"
           }
          },
          "shapedefaults": {
           "line": {
            "color": "#2a3f5f"
           }
          },
          "ternary": {
           "aaxis": {
            "gridcolor": "white",
            "linecolor": "white",
            "ticks": ""
           },
           "baxis": {
            "gridcolor": "white",
            "linecolor": "white",
            "ticks": ""
           },
           "bgcolor": "#E5ECF6",
           "caxis": {
            "gridcolor": "white",
            "linecolor": "white",
            "ticks": ""
           }
          },
          "title": {
           "x": 0.05
          },
          "xaxis": {
           "automargin": true,
           "gridcolor": "white",
           "linecolor": "white",
           "ticks": "",
           "title": {
            "standoff": 15
           },
           "zerolinecolor": "white",
           "zerolinewidth": 2
          },
          "yaxis": {
           "automargin": true,
           "gridcolor": "white",
           "linecolor": "white",
           "ticks": "",
           "title": {
            "standoff": 15
           },
           "zerolinecolor": "white",
           "zerolinewidth": 2
          }
         }
        },
        "xaxis": {
         "anchor": "y",
         "domain": [
          0,
          0.7363
         ],
         "title": {
          "text": "Rank_PCAN"
         }
        },
        "xaxis2": {
         "anchor": "y2",
         "domain": [
          0.7413,
          1
         ],
         "matches": "x2",
         "showgrid": false,
         "showline": false,
         "showticklabels": false,
         "ticks": ""
        },
        "xaxis3": {
         "anchor": "y3",
         "domain": [
          0,
          0.7363
         ],
         "matches": "x",
         "showgrid": true,
         "showticklabels": false
        },
        "xaxis4": {
         "anchor": "y4",
         "domain": [
          0.7413,
          1
         ],
         "matches": "x2",
         "showgrid": false,
         "showline": false,
         "showticklabels": false,
         "ticks": ""
        },
        "yaxis": {
         "anchor": "x",
         "domain": [
          0,
          0.7326
         ],
         "title": {
          "text": "Rank"
         }
        },
        "yaxis2": {
         "anchor": "x2",
         "domain": [
          0,
          0.7326
         ],
         "matches": "y",
         "showgrid": true,
         "showticklabels": false
        },
        "yaxis3": {
         "anchor": "x3",
         "domain": [
          0.7426,
          1
         ],
         "matches": "y3",
         "showgrid": true,
         "showline": false,
         "showticklabels": false,
         "ticks": ""
        },
        "yaxis4": {
         "anchor": "x4",
         "domain": [
          0.7426,
          1
         ],
         "matches": "y3",
         "showgrid": true,
         "showline": false,
         "showticklabels": false,
         "ticks": ""
        }
       }
      },
      "text/html": [
       "<div>                            <div id=\"6dfd8622-22bd-4428-a234-c91a0958315c\" class=\"plotly-graph-div\" style=\"height:525px; width:100%;\"></div>            <script type=\"text/javascript\">                require([\"plotly\"], function(Plotly) {                    window.PLOTLYENV=window.PLOTLYENV || {};                                    if (document.getElementById(\"6dfd8622-22bd-4428-a234-c91a0958315c\")) {                    Plotly.newPlot(                        \"6dfd8622-22bd-4428-a234-c91a0958315c\",                        [{\"customdata\":[[\"SL2-009\",\"CACNA1E\"],[\"SL2-016\",\"PACS1\"],[\"SL2-021\",\"CACNA1A\"],[\"SL2-029\",\"FGFR1\"],[\"SL2-033\",\"GABBR2\"],[\"SL2-049\",\"AFG3L2\"],[\"SL2-105\",\"THOC6\"],[\"SL2-127\",\"EHMT1\"],[\"SL2-144\",\"C2CD3\"],[\"SL2-145\",\"COL2A1\"],[\"SL2-147\",\"CACNA1A\"],[\"SL2-155\",\"CLN6\"],[\"SL2-156\",\"CLN6\"],[\"SL2-157\",\"CLN6\"],[\"SL2-158\",\"RUNX1\"],[\"SL2-164\",\"ATM\"],[\"SL2-167\",\"SOX2\"],[\"SL2-170\",\"KAT6A\"],[\"SL2-173\",\"BMP4\"],[\"SL2-1000\",\"PTPN11\"],[\"SL2-1006\",\"SCN2A\"],[\"SL2-1076\",\"RECQL4\"],[\"SL2-1167\",\"HNRNPU\"],[\"SL2-1181\",\"ARID1B\"],[\"SL2-1187\",\"POMGNT1\"],[\"SL2-1205\",\"NR2F1\"],[\"SL2-1209\",\"UBE3A\"],[\"SL2-1211\",\"SLC6A8\"],[\"SL2-1214\",\"CTCF\"],[\"SL2-1216\",\"UBA1\"],[\"SL2-1222\",\"ALPL\"],[\"SL2-1224\",\"ACTG2\"],[\"SL2-1253\",\"CHD2\"],[\"SL2-1256\",\"COL4A2\"],[\"SL2-1256\",\"COL4A2\"],[\"SL2-1256\",\"MEFV\"],[\"SL2-1256\",\"MEFV\"],[\"SL2-1275\",\"DEAF1\"],[\"SL2-1280\",\"NSD1\"],[\"SL2-1282\",\"MECP2\"],[\"SL2-1282\",\"MECP2\"],[\"SL2-1282\",\"MLH1\"],[\"SL2-1282\",\"MLH1\"],[\"SL2-1291\",\"GLMN\"],[\"SL2-1312\",\"TSPEAR\"],[\"SL2-1315\",\"CACNA1A\"],[\"SL2-1316\",\"SLC35C1\"],[\"SL2-1340\",\"ATP1A3\"],[\"SL2-1343\",\"MYH11\"],[\"SL2-1365\",\"ALG12\"],[\"SL2-1377\",\"DOCK8\"],[\"SL2-1382\",\"CTLA4\"],[\"SL2-1382\",\"CTLA4\"],[\"SL2-1382\",\"NOD2\"],[\"SL2-1382\",\"NOD2\"],[\"SL2-1383\",\"CTCF\"],[\"SL2-1385\",\"TRPS1\"],[\"SL2-1397\",\"ERCC6L2\"],[\"SL2-1431\",\"KMT2B\"],[\"SL2-1435\",\"SETD5\"],[\"SL2-1451\",\"MUC1\"],[\"SL2-1481\",\"ACTB\"],[\"SL2-1490\",\"SLC26A3\"],[\"SL2-1493\",\"TRIP12\"],[\"SL2-1496\",\"ASXL1\"],[\"SL2-1507\",\"COL4A4\"],[\"SL2-1529\",\"PGAP3\"],[\"SL2-1538\",\"GAA\"],[\"SL2-1539\",\"IFIH1\"],[\"SL2-1547\",\"NONO\"],[\"SL2-1554\",\"POGZ\"],[\"SL2-1556\",\"LGI1\"],[\"SL2-1581\",\"ZEB2\"],[\"SL2-1584\",\"KCNB1\"],[\"SL2-1600\",\"CNOT1\"],[\"SL2-1628\",\"AHDC1\"],[\"SL2-1631\",\"PTEN\"],[\"SL2-1653\",\"ATP1A3\"],[\"SL2-1685\",\"TRAPPC9\"],[\"SL2-1723\",\"CUL4B\"],[\"SL2-1766\",\"NSD1\"],[\"SL2-1768\",\"ACTG1\"],[\"SL2-1769\",\"ZSWIM6\"],[\"SL2-190\",\"EZH2\"],[\"SL2-190\",\"EZH2\"],[\"SL2-190\",\"DNMT3A\"],[\"SL2-190\",\"DNMT3A\"],[\"SL2-193\",\"EHMT1\"],[\"SL2-197\",\"IDH1\"],[\"SL2-198\",\"KMT2D\"],[\"SL2-203\",\"NAA15\"],[\"SL2-237\",\"USP9X\"],[\"SL2-245\",\"UBE2A\"],[\"SL2-252\",\"CIC\"],[\"SL2-254\",\"NEFL\"],[\"SL2-259\",\"DMD\"],[\"SL2-266\",\"SLC20A2\"],[\"SL2-1805\",\"MSTO1\"],[\"SL2-1842\",\"CUL3\"],[\"SL2-1886\",\"PPP3CA\"],[\"SL2-1924\",\"HTRA1\"],[\"SL2-1940\",\"SCN2A\"],[\"SL2-1978\",\"PIEZO1\"],[\"SL2-1989\",\"FOXP1\"],[\"SL2-1991\",\"CHD2\"],[\"SL2-2028\",\"PBX1\"],[\"SL2-2081\",\"SIN3A\"],[\"SL2-2086\",\"ABCC9\"],[\"SL2-2141\",\"PLA2G6\"],[\"SL2-2202\",\"TRIO\"],[\"SL2-2238\",\"BRCA2\"],[\"SL2-2239\",\"TRIO\"],[\"SL2-2246\",\"AMPD2\"],[\"SL2-2281\",\"MPZ\"],[\"SL2-2307\",\"PKD1\"],[\"SL2-2307\",\"PKD1\"],[\"SL2-2307\",\"COL11A1\"],[\"SL2-2307\",\"COL11A1\"],[\"SL2-2307\",\"VWF\"],[\"SL2-2307\",\"VWF\"],[\"SL2-2318\",\"TRRAP\"],[\"SL2-2325\",\"GJB2\"],[\"SL2-2328\",\"ALPL\"],[\"SL2-2328\",\"ALPL\"],[\"SL2-2328\",\"NF1\"],[\"SL2-2328\",\"NF1\"],[\"SL2-2354\",\"EFTUD2\"],[\"SL2-2357\",\"ABCD1\"],[\"SL2-2383\",\"NPC1\"],[\"SL2-2404\",\"NR2F2\"],[\"SL2-2433\",\"PTEN\"],[\"SL2-2490\",\"AAAS\"],[\"SL2-2511\",\"LZTR1\"],[\"SL2-2580\",\"TNFRSF1A\"],[\"SL2-2593\",\"ADCY5\"],[\"SL2-2612\",\"MECP2\"],[\"SL2-2646\",\"SMAD4\"],[\"SL2-2647\",\"SHANK3\"],[\"SL2-2689\",\"FLG\"],[\"SL2-273\",\"KANSL1\"],[\"SL2-276\",\"RYR1\"],[\"SL2-284\",\"ANO3\"],[\"SL2-287\",\"TBR1\"],[\"SL2-299\",\"PYCR2\"],[\"SL2-301\",\"KCNA2\"],[\"SL2-310\",\"UMOD\"],[\"SL2-313\",\"NDUFS4\"],[\"SL2-314\",\"TIA1\"],[\"SL2-315\",\"TRRAP\"],[\"SL2-319\",\"KIF11\"],[\"SL2-339\",\"OPA1\"],[\"SL2-349\",\"EXOSC3\"],[\"SL2-363\",\"FA2H\"],[\"SL2-376\",\"XPC\"],[\"SL2-381\",\"BCL11A\"],[\"SL2-387\",\"DDX3X\"],[\"SL2-388\",\"DCX\"],[\"SL2-392\",\"THAP1\"],[\"SL2-395\",\"CASR\"],[\"SL2-397\",\"CYP11A1\"],[\"SL2-400\",\"NR2F1\"],[\"SL2-405\",\"KMT2A\"],[\"SL2-410\",\"GJA1\"],[\"SL2-412\",\"SPG7\"],[\"SL2-421\",\"DEGS1\"],[\"SL2-424\",\"ATM\"],[\"SL2-437\",\"ASH1L\"],[\"SL2-440\",\"ACTA1\"],[\"SL2-442\",\"PTPN11\"],[\"SL2-443\",\"HCFC1\"],[\"SL2-446\",\"PSEN1\"],[\"SL2-449\",\"FBXO11\"],[\"SL2-454\",\"FAR1\"],[\"SL2-457\",\"TGFBR2\"],[\"SL2-458\",\"AEBP1\"],[\"SL2-462\",\"CACNA1A\"],[\"SL2-466\",\"SERPINA1\"],[\"SL2-468\",\"C12orf57\"],[\"SL2-469\",\"CYP7B1\"],[\"SL2-471\",\"ACTB\"],[\"SL2-472\",\"TRPV4\"],[\"SL2-473\",\"EP300\"],[\"SL2-485\",\"TUBB4A\"],[\"SL2-521\",\"TRMU\"],[\"SL2-528\",\"CLN3\"],[\"SL2-2962\",\"LOX\"],[\"SL2-3015\",\"STAG1\"],[\"SL2-3041\",\"NEB\"],[\"SL2-539\",\"EBF3\"],[\"SL2-540\",\"HMGCS2\"],[\"SL2-547\",\"SYNGAP1\"],[\"SL2-550\",\"LTBP3\"],[\"SL2-552\",\"ATP1A3\"],[\"SL2-557\",\"SIN3A\"],[\"SL2-557\",\"SIN3A\"],[\"SL2-557\",\"FLG\"],[\"SL2-557\",\"FLG\"],[\"SL2-557\",\"EDAR\"],[\"SL2-557\",\"EDAR\"],[\"SL2-563\",\"ASXL3\"],[\"SL2-566\",\"ACO2\"],[\"SL2-577\",\"ALDH18A1\"],[\"SL2-579\",\"TTN\"],[\"SL2-579\",\"TTN\"],[\"SL2-579\",\"MYBPC3\"],[\"SL2-579\",\"MYBPC3\"],[\"SL2-580\",\"ACVR1\"],[\"SL2-581\",\"MEFV\"],[\"SL2-592\",\"SLC25A46\"],[\"SL2-598\",\"WAC\"],[\"SL2-607\",\"SLC6A1\"],[\"SL2-623\",\"ENPP1\"],[\"SL2-632\",\"OCA2\"],[\"SL2-646\",\"CHAT\"],[\"SL2-653\",\"NFKB1\"],[\"SL2-657\",\"NKX2-1\"],[\"SL2-659\",\"GFAP\"],[\"SL2-659\",\"GFAP\"],[\"SL2-659\",\"ACVRL1\"],[\"SL2-659\",\"ACVRL1\"],[\"SL2-674\",\"PIGV\"],[\"SL2-681\",\"TBX4\"],[\"SL2-684\",\"SETD5\"],[\"SL2-686\",\"ARSB\"],[\"SL2-688\",\"B4GALNT1\"],[\"SL2-697\",\"ANKRD11\"],[\"SL2-699\",\"CHD7\"],[\"SL2-716\",\"SLC12A3\"],[\"SL2-724\",\"TUBA1A\"],[\"SL2-728\",\"NAA15\"],[\"SL2-732\",\"DOCK3\"],[\"SL2-752\",\"GNPTAB\"],[\"SL2-767\",\"CTCF\"],[\"SL2-795\",\"MECP2\"],[\"SL2-799\",\"GRIN1\"],[\"SL2-799\",\"GRIN1\"],[\"SL2-799\",\"FLG\"],[\"SL2-799\",\"FLG\"],[\"SL2-806\",\"JAK2\"],[\"SL2-816\",\"PIK3R1\"],[\"SL2-817\",\"CACNA1E\"],[\"SL2-835\",\"CACNA1F\"],[\"SL2-835\",\"CACNA1F\"],[\"SL2-835\",\"SPG11\"],[\"SL2-835\",\"SPG11\"],[\"SL2-842\",\"KDM6A\"],[\"SL2-844\",\"CHD2\"],[\"SL2-850\",\"TCF4\"],[\"SL2-852\",\"PLA2G6\"],[\"SL2-854\",\"MAP3K7\"],[\"SL2-860\",\"GABRA1\"],[\"SL2-865\",\"ZBTB18\"],[\"SL2-879\",\"RPS6KA3\"],[\"SL2-879\",\"RPS6KA3\"],[\"SL2-879\",\"USP9X\"],[\"SL2-879\",\"USP9X\"],[\"SL2-891\",\"CBL\"],[\"SL2-891\",\"CBL\"],[\"SL2-891\",\"ELN\"],[\"SL2-891\",\"ELN\"],[\"SL2-904\",\"CFTR\"],[\"SL2-910\",\"POLR3A\"],[\"SL2-919\",\"SON\"],[\"SL2-924\",\"SETD5\"],[\"SL2-938\",\"ZC4H2\"],[\"SL2-940\",\"BRPF1\"],[\"SL2-940\",\"BRPF1\"],[\"SL2-940\",\"KDM5C\"],[\"SL2-940\",\"KDM5C\"],[\"SL2-943\",\"DGAT1\"],[\"SL2-947\",\"SYNGAP1\"]],\"hovertemplate\":\"Method=rank_bayes_geo<br>Rank_PCAN=%{x}<br>Rank=%{y}<br>Normalized ID=%{customdata[0]}<br>Gene1=%{customdata[1]}<extra></extra>\",\"legendgroup\":\"rank_bayes_geo\",\"marker\":{\"color\":\"#636efa\",\"symbol\":\"circle\"},\"mode\":\"markers\",\"name\":\"rank_bayes_geo\",\"orientation\":\"v\",\"showlegend\":true,\"x\":[143.0,826.0,945.0,5.0,1505.0,2169.0,920.0,1926.0,1.0,10.0,4.0,437.0,200.0,165.0,64.0,37.0,81.0,67.0,1451.0,2.0,31.0,858.0,1521.0,47.0,48.0,204.0,848.0,103.0,3378.0,2070.0,121.0,3737.0,876.0,999.0,795.0,999.0,795.0,38.0,1.0,18.0,2962.0,18.0,2962.0,903.0,11.0,3.0,408.0,1895.0,43.0,957.0,40.0,238.0,null,238.0,null,1583.0,767.0,21.0,701.0,455.0,35.0,1159.0,14.0,714.0,742.0,49.0,152.0,4.0,49.0,247.0,504.0,6.0,196.0,1395.0,170.0,716.0,927.0,119.0,339.0,957.0,138.0,2254.0,249.0,205.0,319.0,205.0,319.0,706.0,78.0,5.0,2229.0,322.0,226.0,887.0,10.0,45.0,11.0,14.0,5.0,901.0,26.0,202.0,463.0,634.0,131.0,276.0,988.0,241.0,45.0,85.0,22.0,266.0,455.0,643.0,444.0,1150.0,444.0,1150.0,444.0,1150.0,423.0,179.0,43.0,31.0,43.0,31.0,176.0,879.0,245.0,618.0,139.0,33.0,1080.0,477.0,2419.0,19.0,164.0,233.0,436.0,548.0,4.0,6.0,683.0,593.0,199.0,19.0,90.0,63.0,15.0,89.0,17.0,933.0,1.0,12.0,355.0,2309.0,302.0,3.0,642.0,7.0,611.0,8.0,71.0,104.0,94.0,137.0,192.0,2.0,187.0,1637.0,33.0,157.0,99.0,5.0,211.0,188.0,1513.0,185.0,432.0,352.0,22.0,205.0,447.0,1026.0,64.0,19.0,490.0,288.0,258.0,240.0,50.0,361.0,166.0,174.0,2267.0,174.0,2267.0,174.0,2267.0,491.0,894.0,38.0,28.0,25.0,28.0,25.0,365.0,708.0,367.0,627.0,2474.0,55.0,45.0,3.0,242.0,227.0,674.0,31.0,674.0,31.0,741.0,2002.0,203.0,81.0,7.0,2266.0,272.0,5.0,14.0,1.0,1324.0,6.0,2216.0,10.0,157.0,1938.0,157.0,1938.0,14.0,365.0,13.0,778.0,14.0,778.0,14.0,965.0,89.0,130.0,18.0,11.0,1055.0,2125.0,874.0,974.0,874.0,974.0,233.0,689.0,233.0,689.0,190.0,161.0,244.0,144.0,83.0,387.0,943.0,387.0,943.0,16.0,367.0],\"xaxis\":\"x\",\"y\":[787.0,3277.0,2363.0,3464.0,517.0,1289.0,3136.0,875.0,1703.0,2965.0,325.0,2421.0,3270.0,483.0,3091.0,2845.0,2699.0,925.0,3202.0,362.0,2660.0,1018.0,3282.0,486.0,90.0,3020.0,1113.0,705.0,249.0,5.0,1480.0,1412.0,571.0,868.0,868.0,230.0,230.0,48.0,949.0,3392.0,3392.0,1468.0,1468.0,3556.0,351.0,201.0,622.0,66.0,541.0,431.0,3547.0,24.0,24.0,2057.0,2057.0,2752.0,1574.0,1983.0,3324.0,872.0,83.0,30.0,822.0,1131.0,694.0,874.0,2654.0,2632.0,2842.0,3420.0,1081.0,1998.0,581.0,3020.0,1280.0,3143.0,276.0,162.0,887.0,582.0,1925.0,2371.0,2396.0,3098.0,3098.0,2596.0,2596.0,898.0,2588.0,3305.0,631.0,664.0,17.0,1384.0,131.0,2790.0,336.0,2225.0,3348.0,8.0,2387.0,1969.0,1176.0,3446.0,1678.0,2598.0,1289.0,1786.0,2184.0,2869.0,2733.0,3161.0,567.0,2401.0,3547.0,3547.0,3328.0,3328.0,1788.0,1788.0,229.0,2998.0,2807.0,2807.0,2573.0,2573.0,1270.0,1403.0,694.0,1318.0,3283.0,3207.0,2860.0,1847.0,1355.0,721.0,3069.0,1770.0,3033.0,336.0,866.0,1047.0,3523.0,173.0,3167.0,1467.0,539.0,2787.0,1819.0,3216.0,1073.0,3031.0,3413.0,3559.0,617.0,2922.0,2991.0,3553.0,2819.0,1186.0,1141.0,1792.0,3411.0,703.0,3053.0,1014.0,1003.0,1.0,275.0,1588.0,649.0,3440.0,3197.0,3094.0,1426.0,1503.0,2633.0,176.0,1049.0,3520.0,1508.0,3262.0,554.0,3293.0,2492.0,1997.0,1330.0,1327.0,1781.0,979.0,279.0,2704.0,3471.0,3198.0,3198.0,1074.0,1074.0,1922.0,1922.0,1812.0,701.0,3469.0,3128.0,3128.0,2738.0,2738.0,2622.0,3549.0,296.0,1141.0,2350.0,2970.0,173.0,3525.0,3464.0,89.0,854.0,854.0,1527.0,1527.0,75.0,3359.0,463.0,995.0,700.0,1416.0,1712.0,1.0,2427.0,3174.0,3050.0,924.0,512.0,398.0,528.0,528.0,547.0,547.0,1412.0,254.0,2437.0,1235.0,1235.0,841.0,841.0,532.0,3167.0,3154.0,681.0,900.0,2030.0,1244.0,40.0,40.0,361.0,361.0,445.0,445.0,1892.0,1892.0,117.0,456.0,2799.0,3034.0,110.0,304.0,304.0,313.0,313.0,3407.0,3127.0],\"yaxis\":\"y\",\"type\":\"scatter\"},{\"alignmentgroup\":\"True\",\"bingroup\":\"x\",\"hovertemplate\":\"Method=rank_bayes_geo<br>Rank_PCAN=%{x}<br>count=%{y}<extra></extra>\",\"legendgroup\":\"rank_bayes_geo\",\"marker\":{\"color\":\"#636efa\"},\"name\":\"rank_bayes_geo\",\"offsetgroup\":\"rank_bayes_geo\",\"opacity\":0.5,\"showlegend\":false,\"x\":[143.0,826.0,945.0,5.0,1505.0,2169.0,920.0,1926.0,1.0,10.0,4.0,437.0,200.0,165.0,64.0,37.0,81.0,67.0,1451.0,2.0,31.0,858.0,1521.0,47.0,48.0,204.0,848.0,103.0,3378.0,2070.0,121.0,3737.0,876.0,999.0,795.0,999.0,795.0,38.0,1.0,18.0,2962.0,18.0,2962.0,903.0,11.0,3.0,408.0,1895.0,43.0,957.0,40.0,238.0,null,238.0,null,1583.0,767.0,21.0,701.0,455.0,35.0,1159.0,14.0,714.0,742.0,49.0,152.0,4.0,49.0,247.0,504.0,6.0,196.0,1395.0,170.0,716.0,927.0,119.0,339.0,957.0,138.0,2254.0,249.0,205.0,319.0,205.0,319.0,706.0,78.0,5.0,2229.0,322.0,226.0,887.0,10.0,45.0,11.0,14.0,5.0,901.0,26.0,202.0,463.0,634.0,131.0,276.0,988.0,241.0,45.0,85.0,22.0,266.0,455.0,643.0,444.0,1150.0,444.0,1150.0,444.0,1150.0,423.0,179.0,43.0,31.0,43.0,31.0,176.0,879.0,245.0,618.0,139.0,33.0,1080.0,477.0,2419.0,19.0,164.0,233.0,436.0,548.0,4.0,6.0,683.0,593.0,199.0,19.0,90.0,63.0,15.0,89.0,17.0,933.0,1.0,12.0,355.0,2309.0,302.0,3.0,642.0,7.0,611.0,8.0,71.0,104.0,94.0,137.0,192.0,2.0,187.0,1637.0,33.0,157.0,99.0,5.0,211.0,188.0,1513.0,185.0,432.0,352.0,22.0,205.0,447.0,1026.0,64.0,19.0,490.0,288.0,258.0,240.0,50.0,361.0,166.0,174.0,2267.0,174.0,2267.0,174.0,2267.0,491.0,894.0,38.0,28.0,25.0,28.0,25.0,365.0,708.0,367.0,627.0,2474.0,55.0,45.0,3.0,242.0,227.0,674.0,31.0,674.0,31.0,741.0,2002.0,203.0,81.0,7.0,2266.0,272.0,5.0,14.0,1.0,1324.0,6.0,2216.0,10.0,157.0,1938.0,157.0,1938.0,14.0,365.0,13.0,778.0,14.0,778.0,14.0,965.0,89.0,130.0,18.0,11.0,1055.0,2125.0,874.0,974.0,874.0,974.0,233.0,689.0,233.0,689.0,190.0,161.0,244.0,144.0,83.0,387.0,943.0,387.0,943.0,16.0,367.0],\"xaxis\":\"x3\",\"yaxis\":\"y3\",\"type\":\"histogram\"},{\"alignmentgroup\":\"True\",\"boxpoints\":\"all\",\"customdata\":[[\"SL2-009\",\"CACNA1E\"],[\"SL2-016\",\"PACS1\"],[\"SL2-021\",\"CACNA1A\"],[\"SL2-029\",\"FGFR1\"],[\"SL2-033\",\"GABBR2\"],[\"SL2-049\",\"AFG3L2\"],[\"SL2-105\",\"THOC6\"],[\"SL2-127\",\"EHMT1\"],[\"SL2-144\",\"C2CD3\"],[\"SL2-145\",\"COL2A1\"],[\"SL2-147\",\"CACNA1A\"],[\"SL2-155\",\"CLN6\"],[\"SL2-156\",\"CLN6\"],[\"SL2-157\",\"CLN6\"],[\"SL2-158\",\"RUNX1\"],[\"SL2-164\",\"ATM\"],[\"SL2-167\",\"SOX2\"],[\"SL2-170\",\"KAT6A\"],[\"SL2-173\",\"BMP4\"],[\"SL2-1000\",\"PTPN11\"],[\"SL2-1006\",\"SCN2A\"],[\"SL2-1076\",\"RECQL4\"],[\"SL2-1167\",\"HNRNPU\"],[\"SL2-1181\",\"ARID1B\"],[\"SL2-1187\",\"POMGNT1\"],[\"SL2-1205\",\"NR2F1\"],[\"SL2-1209\",\"UBE3A\"],[\"SL2-1211\",\"SLC6A8\"],[\"SL2-1214\",\"CTCF\"],[\"SL2-1216\",\"UBA1\"],[\"SL2-1222\",\"ALPL\"],[\"SL2-1224\",\"ACTG2\"],[\"SL2-1253\",\"CHD2\"],[\"SL2-1256\",\"COL4A2\"],[\"SL2-1256\",\"COL4A2\"],[\"SL2-1256\",\"MEFV\"],[\"SL2-1256\",\"MEFV\"],[\"SL2-1275\",\"DEAF1\"],[\"SL2-1280\",\"NSD1\"],[\"SL2-1282\",\"MECP2\"],[\"SL2-1282\",\"MECP2\"],[\"SL2-1282\",\"MLH1\"],[\"SL2-1282\",\"MLH1\"],[\"SL2-1291\",\"GLMN\"],[\"SL2-1312\",\"TSPEAR\"],[\"SL2-1315\",\"CACNA1A\"],[\"SL2-1316\",\"SLC35C1\"],[\"SL2-1340\",\"ATP1A3\"],[\"SL2-1343\",\"MYH11\"],[\"SL2-1365\",\"ALG12\"],[\"SL2-1377\",\"DOCK8\"],[\"SL2-1382\",\"CTLA4\"],[\"SL2-1382\",\"CTLA4\"],[\"SL2-1382\",\"NOD2\"],[\"SL2-1382\",\"NOD2\"],[\"SL2-1383\",\"CTCF\"],[\"SL2-1385\",\"TRPS1\"],[\"SL2-1397\",\"ERCC6L2\"],[\"SL2-1431\",\"KMT2B\"],[\"SL2-1435\",\"SETD5\"],[\"SL2-1451\",\"MUC1\"],[\"SL2-1481\",\"ACTB\"],[\"SL2-1490\",\"SLC26A3\"],[\"SL2-1493\",\"TRIP12\"],[\"SL2-1496\",\"ASXL1\"],[\"SL2-1507\",\"COL4A4\"],[\"SL2-1529\",\"PGAP3\"],[\"SL2-1538\",\"GAA\"],[\"SL2-1539\",\"IFIH1\"],[\"SL2-1547\",\"NONO\"],[\"SL2-1554\",\"POGZ\"],[\"SL2-1556\",\"LGI1\"],[\"SL2-1581\",\"ZEB2\"],[\"SL2-1584\",\"KCNB1\"],[\"SL2-1600\",\"CNOT1\"],[\"SL2-1628\",\"AHDC1\"],[\"SL2-1631\",\"PTEN\"],[\"SL2-1653\",\"ATP1A3\"],[\"SL2-1685\",\"TRAPPC9\"],[\"SL2-1723\",\"CUL4B\"],[\"SL2-1766\",\"NSD1\"],[\"SL2-1768\",\"ACTG1\"],[\"SL2-1769\",\"ZSWIM6\"],[\"SL2-190\",\"EZH2\"],[\"SL2-190\",\"EZH2\"],[\"SL2-190\",\"DNMT3A\"],[\"SL2-190\",\"DNMT3A\"],[\"SL2-193\",\"EHMT1\"],[\"SL2-197\",\"IDH1\"],[\"SL2-198\",\"KMT2D\"],[\"SL2-203\",\"NAA15\"],[\"SL2-237\",\"USP9X\"],[\"SL2-245\",\"UBE2A\"],[\"SL2-252\",\"CIC\"],[\"SL2-254\",\"NEFL\"],[\"SL2-259\",\"DMD\"],[\"SL2-266\",\"SLC20A2\"],[\"SL2-1805\",\"MSTO1\"],[\"SL2-1842\",\"CUL3\"],[\"SL2-1886\",\"PPP3CA\"],[\"SL2-1924\",\"HTRA1\"],[\"SL2-1940\",\"SCN2A\"],[\"SL2-1978\",\"PIEZO1\"],[\"SL2-1989\",\"FOXP1\"],[\"SL2-1991\",\"CHD2\"],[\"SL2-2028\",\"PBX1\"],[\"SL2-2081\",\"SIN3A\"],[\"SL2-2086\",\"ABCC9\"],[\"SL2-2141\",\"PLA2G6\"],[\"SL2-2202\",\"TRIO\"],[\"SL2-2238\",\"BRCA2\"],[\"SL2-2239\",\"TRIO\"],[\"SL2-2246\",\"AMPD2\"],[\"SL2-2281\",\"MPZ\"],[\"SL2-2307\",\"PKD1\"],[\"SL2-2307\",\"PKD1\"],[\"SL2-2307\",\"COL11A1\"],[\"SL2-2307\",\"COL11A1\"],[\"SL2-2307\",\"VWF\"],[\"SL2-2307\",\"VWF\"],[\"SL2-2318\",\"TRRAP\"],[\"SL2-2325\",\"GJB2\"],[\"SL2-2328\",\"ALPL\"],[\"SL2-2328\",\"ALPL\"],[\"SL2-2328\",\"NF1\"],[\"SL2-2328\",\"NF1\"],[\"SL2-2354\",\"EFTUD2\"],[\"SL2-2357\",\"ABCD1\"],[\"SL2-2383\",\"NPC1\"],[\"SL2-2404\",\"NR2F2\"],[\"SL2-2433\",\"PTEN\"],[\"SL2-2490\",\"AAAS\"],[\"SL2-2511\",\"LZTR1\"],[\"SL2-2580\",\"TNFRSF1A\"],[\"SL2-2593\",\"ADCY5\"],[\"SL2-2612\",\"MECP2\"],[\"SL2-2646\",\"SMAD4\"],[\"SL2-2647\",\"SHANK3\"],[\"SL2-2689\",\"FLG\"],[\"SL2-273\",\"KANSL1\"],[\"SL2-276\",\"RYR1\"],[\"SL2-284\",\"ANO3\"],[\"SL2-287\",\"TBR1\"],[\"SL2-299\",\"PYCR2\"],[\"SL2-301\",\"KCNA2\"],[\"SL2-310\",\"UMOD\"],[\"SL2-313\",\"NDUFS4\"],[\"SL2-314\",\"TIA1\"],[\"SL2-315\",\"TRRAP\"],[\"SL2-319\",\"KIF11\"],[\"SL2-339\",\"OPA1\"],[\"SL2-349\",\"EXOSC3\"],[\"SL2-363\",\"FA2H\"],[\"SL2-376\",\"XPC\"],[\"SL2-381\",\"BCL11A\"],[\"SL2-387\",\"DDX3X\"],[\"SL2-388\",\"DCX\"],[\"SL2-392\",\"THAP1\"],[\"SL2-395\",\"CASR\"],[\"SL2-397\",\"CYP11A1\"],[\"SL2-400\",\"NR2F1\"],[\"SL2-405\",\"KMT2A\"],[\"SL2-410\",\"GJA1\"],[\"SL2-412\",\"SPG7\"],[\"SL2-421\",\"DEGS1\"],[\"SL2-424\",\"ATM\"],[\"SL2-437\",\"ASH1L\"],[\"SL2-440\",\"ACTA1\"],[\"SL2-442\",\"PTPN11\"],[\"SL2-443\",\"HCFC1\"],[\"SL2-446\",\"PSEN1\"],[\"SL2-449\",\"FBXO11\"],[\"SL2-454\",\"FAR1\"],[\"SL2-457\",\"TGFBR2\"],[\"SL2-458\",\"AEBP1\"],[\"SL2-462\",\"CACNA1A\"],[\"SL2-466\",\"SERPINA1\"],[\"SL2-468\",\"C12orf57\"],[\"SL2-469\",\"CYP7B1\"],[\"SL2-471\",\"ACTB\"],[\"SL2-472\",\"TRPV4\"],[\"SL2-473\",\"EP300\"],[\"SL2-485\",\"TUBB4A\"],[\"SL2-521\",\"TRMU\"],[\"SL2-528\",\"CLN3\"],[\"SL2-2962\",\"LOX\"],[\"SL2-3015\",\"STAG1\"],[\"SL2-3041\",\"NEB\"],[\"SL2-539\",\"EBF3\"],[\"SL2-540\",\"HMGCS2\"],[\"SL2-547\",\"SYNGAP1\"],[\"SL2-550\",\"LTBP3\"],[\"SL2-552\",\"ATP1A3\"],[\"SL2-557\",\"SIN3A\"],[\"SL2-557\",\"SIN3A\"],[\"SL2-557\",\"FLG\"],[\"SL2-557\",\"FLG\"],[\"SL2-557\",\"EDAR\"],[\"SL2-557\",\"EDAR\"],[\"SL2-563\",\"ASXL3\"],[\"SL2-566\",\"ACO2\"],[\"SL2-577\",\"ALDH18A1\"],[\"SL2-579\",\"TTN\"],[\"SL2-579\",\"TTN\"],[\"SL2-579\",\"MYBPC3\"],[\"SL2-579\",\"MYBPC3\"],[\"SL2-580\",\"ACVR1\"],[\"SL2-581\",\"MEFV\"],[\"SL2-592\",\"SLC25A46\"],[\"SL2-598\",\"WAC\"],[\"SL2-607\",\"SLC6A1\"],[\"SL2-623\",\"ENPP1\"],[\"SL2-632\",\"OCA2\"],[\"SL2-646\",\"CHAT\"],[\"SL2-653\",\"NFKB1\"],[\"SL2-657\",\"NKX2-1\"],[\"SL2-659\",\"GFAP\"],[\"SL2-659\",\"GFAP\"],[\"SL2-659\",\"ACVRL1\"],[\"SL2-659\",\"ACVRL1\"],[\"SL2-674\",\"PIGV\"],[\"SL2-681\",\"TBX4\"],[\"SL2-684\",\"SETD5\"],[\"SL2-686\",\"ARSB\"],[\"SL2-688\",\"B4GALNT1\"],[\"SL2-697\",\"ANKRD11\"],[\"SL2-699\",\"CHD7\"],[\"SL2-716\",\"SLC12A3\"],[\"SL2-724\",\"TUBA1A\"],[\"SL2-728\",\"NAA15\"],[\"SL2-732\",\"DOCK3\"],[\"SL2-752\",\"GNPTAB\"],[\"SL2-767\",\"CTCF\"],[\"SL2-795\",\"MECP2\"],[\"SL2-799\",\"GRIN1\"],[\"SL2-799\",\"GRIN1\"],[\"SL2-799\",\"FLG\"],[\"SL2-799\",\"FLG\"],[\"SL2-806\",\"JAK2\"],[\"SL2-816\",\"PIK3R1\"],[\"SL2-817\",\"CACNA1E\"],[\"SL2-835\",\"CACNA1F\"],[\"SL2-835\",\"CACNA1F\"],[\"SL2-835\",\"SPG11\"],[\"SL2-835\",\"SPG11\"],[\"SL2-842\",\"KDM6A\"],[\"SL2-844\",\"CHD2\"],[\"SL2-850\",\"TCF4\"],[\"SL2-852\",\"PLA2G6\"],[\"SL2-854\",\"MAP3K7\"],[\"SL2-860\",\"GABRA1\"],[\"SL2-865\",\"ZBTB18\"],[\"SL2-879\",\"RPS6KA3\"],[\"SL2-879\",\"RPS6KA3\"],[\"SL2-879\",\"USP9X\"],[\"SL2-879\",\"USP9X\"],[\"SL2-891\",\"CBL\"],[\"SL2-891\",\"CBL\"],[\"SL2-891\",\"ELN\"],[\"SL2-891\",\"ELN\"],[\"SL2-904\",\"CFTR\"],[\"SL2-910\",\"POLR3A\"],[\"SL2-919\",\"SON\"],[\"SL2-924\",\"SETD5\"],[\"SL2-938\",\"ZC4H2\"],[\"SL2-940\",\"BRPF1\"],[\"SL2-940\",\"BRPF1\"],[\"SL2-940\",\"KDM5C\"],[\"SL2-940\",\"KDM5C\"],[\"SL2-943\",\"DGAT1\"],[\"SL2-947\",\"SYNGAP1\"]],\"fillcolor\":\"rgba(255,255,255,0)\",\"hoveron\":\"points\",\"hovertemplate\":\"Method=rank_bayes_geo<br>Rank=%{y}<br>Normalized ID=%{customdata[0]}<br>Gene1=%{customdata[1]}<extra></extra>\",\"jitter\":0,\"legendgroup\":\"rank_bayes_geo\",\"line\":{\"color\":\"rgba(255,255,255,0)\"},\"marker\":{\"color\":\"#636efa\",\"symbol\":\"line-ew-open\"},\"name\":\"rank_bayes_geo\",\"offsetgroup\":\"rank_bayes_geo\",\"showlegend\":false,\"xaxis\":\"x2\",\"y\":[787.0,3277.0,2363.0,3464.0,517.0,1289.0,3136.0,875.0,1703.0,2965.0,325.0,2421.0,3270.0,483.0,3091.0,2845.0,2699.0,925.0,3202.0,362.0,2660.0,1018.0,3282.0,486.0,90.0,3020.0,1113.0,705.0,249.0,5.0,1480.0,1412.0,571.0,868.0,868.0,230.0,230.0,48.0,949.0,3392.0,3392.0,1468.0,1468.0,3556.0,351.0,201.0,622.0,66.0,541.0,431.0,3547.0,24.0,24.0,2057.0,2057.0,2752.0,1574.0,1983.0,3324.0,872.0,83.0,30.0,822.0,1131.0,694.0,874.0,2654.0,2632.0,2842.0,3420.0,1081.0,1998.0,581.0,3020.0,1280.0,3143.0,276.0,162.0,887.0,582.0,1925.0,2371.0,2396.0,3098.0,3098.0,2596.0,2596.0,898.0,2588.0,3305.0,631.0,664.0,17.0,1384.0,131.0,2790.0,336.0,2225.0,3348.0,8.0,2387.0,1969.0,1176.0,3446.0,1678.0,2598.0,1289.0,1786.0,2184.0,2869.0,2733.0,3161.0,567.0,2401.0,3547.0,3547.0,3328.0,3328.0,1788.0,1788.0,229.0,2998.0,2807.0,2807.0,2573.0,2573.0,1270.0,1403.0,694.0,1318.0,3283.0,3207.0,2860.0,1847.0,1355.0,721.0,3069.0,1770.0,3033.0,336.0,866.0,1047.0,3523.0,173.0,3167.0,1467.0,539.0,2787.0,1819.0,3216.0,1073.0,3031.0,3413.0,3559.0,617.0,2922.0,2991.0,3553.0,2819.0,1186.0,1141.0,1792.0,3411.0,703.0,3053.0,1014.0,1003.0,1.0,275.0,1588.0,649.0,3440.0,3197.0,3094.0,1426.0,1503.0,2633.0,176.0,1049.0,3520.0,1508.0,3262.0,554.0,3293.0,2492.0,1997.0,1330.0,1327.0,1781.0,979.0,279.0,2704.0,3471.0,3198.0,3198.0,1074.0,1074.0,1922.0,1922.0,1812.0,701.0,3469.0,3128.0,3128.0,2738.0,2738.0,2622.0,3549.0,296.0,1141.0,2350.0,2970.0,173.0,3525.0,3464.0,89.0,854.0,854.0,1527.0,1527.0,75.0,3359.0,463.0,995.0,700.0,1416.0,1712.0,1.0,2427.0,3174.0,3050.0,924.0,512.0,398.0,528.0,528.0,547.0,547.0,1412.0,254.0,2437.0,1235.0,1235.0,841.0,841.0,532.0,3167.0,3154.0,681.0,900.0,2030.0,1244.0,40.0,40.0,361.0,361.0,445.0,445.0,1892.0,1892.0,117.0,456.0,2799.0,3034.0,110.0,304.0,304.0,313.0,313.0,3407.0,3127.0],\"yaxis\":\"y2\",\"type\":\"box\"}],                        {\"template\":{\"data\":{\"histogram2dcontour\":[{\"type\":\"histogram2dcontour\",\"colorbar\":{\"outlinewidth\":0,\"ticks\":\"\"},\"colorscale\":[[0.0,\"#0d0887\"],[0.1111111111111111,\"#46039f\"],[0.2222222222222222,\"#7201a8\"],[0.3333333333333333,\"#9c179e\"],[0.4444444444444444,\"#bd3786\"],[0.5555555555555556,\"#d8576b\"],[0.6666666666666666,\"#ed7953\"],[0.7777777777777778,\"#fb9f3a\"],[0.8888888888888888,\"#fdca26\"],[1.0,\"#f0f921\"]]}],\"choropleth\":[{\"type\":\"choropleth\",\"colorbar\":{\"outlinewidth\":0,\"ticks\":\"\"}}],\"histogram2d\":[{\"type\":\"histogram2d\",\"colorbar\":{\"outlinewidth\":0,\"ticks\":\"\"},\"colorscale\":[[0.0,\"#0d0887\"],[0.1111111111111111,\"#46039f\"],[0.2222222222222222,\"#7201a8\"],[0.3333333333333333,\"#9c179e\"],[0.4444444444444444,\"#bd3786\"],[0.5555555555555556,\"#d8576b\"],[0.6666666666666666,\"#ed7953\"],[0.7777777777777778,\"#fb9f3a\"],[0.8888888888888888,\"#fdca26\"],[1.0,\"#f0f921\"]]}],\"heatmap\":[{\"type\":\"heatmap\",\"colorbar\":{\"outlinewidth\":0,\"ticks\":\"\"},\"colorscale\":[[0.0,\"#0d0887\"],[0.1111111111111111,\"#46039f\"],[0.2222222222222222,\"#7201a8\"],[0.3333333333333333,\"#9c179e\"],[0.4444444444444444,\"#bd3786\"],[0.5555555555555556,\"#d8576b\"],[0.6666666666666666,\"#ed7953\"],[0.7777777777777778,\"#fb9f3a\"],[0.8888888888888888,\"#fdca26\"],[1.0,\"#f0f921\"]]}],\"heatmapgl\":[{\"type\":\"heatmapgl\",\"colorbar\":{\"outlinewidth\":0,\"ticks\":\"\"},\"colorscale\":[[0.0,\"#0d0887\"],[0.1111111111111111,\"#46039f\"],[0.2222222222222222,\"#7201a8\"],[0.3333333333333333,\"#9c179e\"],[0.4444444444444444,\"#bd3786\"],[0.5555555555555556,\"#d8576b\"],[0.6666666666666666,\"#ed7953\"],[0.7777777777777778,\"#fb9f3a\"],[0.8888888888888888,\"#fdca26\"],[1.0,\"#f0f921\"]]}],\"contourcarpet\":[{\"type\":\"contourcarpet\",\"colorbar\":{\"outlinewidth\":0,\"ticks\":\"\"}}],\"contour\":[{\"type\":\"contour\",\"colorbar\":{\"outlinewidth\":0,\"ticks\":\"\"},\"colorscale\":[[0.0,\"#0d0887\"],[0.1111111111111111,\"#46039f\"],[0.2222222222222222,\"#7201a8\"],[0.3333333333333333,\"#9c179e\"],[0.4444444444444444,\"#bd3786\"],[0.5555555555555556,\"#d8576b\"],[0.6666666666666666,\"#ed7953\"],[0.7777777777777778,\"#fb9f3a\"],[0.8888888888888888,\"#fdca26\"],[1.0,\"#f0f921\"]]}],\"surface\":[{\"type\":\"surface\",\"colorbar\":{\"outlinewidth\":0,\"ticks\":\"\"},\"colorscale\":[[0.0,\"#0d0887\"],[0.1111111111111111,\"#46039f\"],[0.2222222222222222,\"#7201a8\"],[0.3333333333333333,\"#9c179e\"],[0.4444444444444444,\"#bd3786\"],[0.5555555555555556,\"#d8576b\"],[0.6666666666666666,\"#ed7953\"],[0.7777777777777778,\"#fb9f3a\"],[0.8888888888888888,\"#fdca26\"],[1.0,\"#f0f921\"]]}],\"mesh3d\":[{\"type\":\"mesh3d\",\"colorbar\":{\"outlinewidth\":0,\"ticks\":\"\"}}],\"scatter\":[{\"fillpattern\":{\"fillmode\":\"overlay\",\"size\":10,\"solidity\":0.2},\"type\":\"scatter\"}],\"parcoords\":[{\"type\":\"parcoords\",\"line\":{\"colorbar\":{\"outlinewidth\":0,\"ticks\":\"\"}}}],\"scatterpolargl\":[{\"type\":\"scatterpolargl\",\"marker\":{\"colorbar\":{\"outlinewidth\":0,\"ticks\":\"\"}}}],\"bar\":[{\"error_x\":{\"color\":\"#2a3f5f\"},\"error_y\":{\"color\":\"#2a3f5f\"},\"marker\":{\"line\":{\"color\":\"#E5ECF6\",\"width\":0.5},\"pattern\":{\"fillmode\":\"overlay\",\"size\":10,\"solidity\":0.2}},\"type\":\"bar\"}],\"scattergeo\":[{\"type\":\"scattergeo\",\"marker\":{\"colorbar\":{\"outlinewidth\":0,\"ticks\":\"\"}}}],\"scatterpolar\":[{\"type\":\"scatterpolar\",\"marker\":{\"colorbar\":{\"outlinewidth\":0,\"ticks\":\"\"}}}],\"histogram\":[{\"marker\":{\"pattern\":{\"fillmode\":\"overlay\",\"size\":10,\"solidity\":0.2}},\"type\":\"histogram\"}],\"scattergl\":[{\"type\":\"scattergl\",\"marker\":{\"colorbar\":{\"outlinewidth\":0,\"ticks\":\"\"}}}],\"scatter3d\":[{\"type\":\"scatter3d\",\"line\":{\"colorbar\":{\"outlinewidth\":0,\"ticks\":\"\"}},\"marker\":{\"colorbar\":{\"outlinewidth\":0,\"ticks\":\"\"}}}],\"scattermapbox\":[{\"type\":\"scattermapbox\",\"marker\":{\"colorbar\":{\"outlinewidth\":0,\"ticks\":\"\"}}}],\"scatterternary\":[{\"type\":\"scatterternary\",\"marker\":{\"colorbar\":{\"outlinewidth\":0,\"ticks\":\"\"}}}],\"scattercarpet\":[{\"type\":\"scattercarpet\",\"marker\":{\"colorbar\":{\"outlinewidth\":0,\"ticks\":\"\"}}}],\"carpet\":[{\"aaxis\":{\"endlinecolor\":\"#2a3f5f\",\"gridcolor\":\"white\",\"linecolor\":\"white\",\"minorgridcolor\":\"white\",\"startlinecolor\":\"#2a3f5f\"},\"baxis\":{\"endlinecolor\":\"#2a3f5f\",\"gridcolor\":\"white\",\"linecolor\":\"white\",\"minorgridcolor\":\"white\",\"startlinecolor\":\"#2a3f5f\"},\"type\":\"carpet\"}],\"table\":[{\"cells\":{\"fill\":{\"color\":\"#EBF0F8\"},\"line\":{\"color\":\"white\"}},\"header\":{\"fill\":{\"color\":\"#C8D4E3\"},\"line\":{\"color\":\"white\"}},\"type\":\"table\"}],\"barpolar\":[{\"marker\":{\"line\":{\"color\":\"#E5ECF6\",\"width\":0.5},\"pattern\":{\"fillmode\":\"overlay\",\"size\":10,\"solidity\":0.2}},\"type\":\"barpolar\"}],\"pie\":[{\"automargin\":true,\"type\":\"pie\"}]},\"layout\":{\"autotypenumbers\":\"strict\",\"colorway\":[\"#636efa\",\"#EF553B\",\"#00cc96\",\"#ab63fa\",\"#FFA15A\",\"#19d3f3\",\"#FF6692\",\"#B6E880\",\"#FF97FF\",\"#FECB52\"],\"font\":{\"color\":\"#2a3f5f\"},\"hovermode\":\"closest\",\"hoverlabel\":{\"align\":\"left\"},\"paper_bgcolor\":\"white\",\"plot_bgcolor\":\"#E5ECF6\",\"polar\":{\"bgcolor\":\"#E5ECF6\",\"angularaxis\":{\"gridcolor\":\"white\",\"linecolor\":\"white\",\"ticks\":\"\"},\"radialaxis\":{\"gridcolor\":\"white\",\"linecolor\":\"white\",\"ticks\":\"\"}},\"ternary\":{\"bgcolor\":\"#E5ECF6\",\"aaxis\":{\"gridcolor\":\"white\",\"linecolor\":\"white\",\"ticks\":\"\"},\"baxis\":{\"gridcolor\":\"white\",\"linecolor\":\"white\",\"ticks\":\"\"},\"caxis\":{\"gridcolor\":\"white\",\"linecolor\":\"white\",\"ticks\":\"\"}},\"coloraxis\":{\"colorbar\":{\"outlinewidth\":0,\"ticks\":\"\"}},\"colorscale\":{\"sequential\":[[0.0,\"#0d0887\"],[0.1111111111111111,\"#46039f\"],[0.2222222222222222,\"#7201a8\"],[0.3333333333333333,\"#9c179e\"],[0.4444444444444444,\"#bd3786\"],[0.5555555555555556,\"#d8576b\"],[0.6666666666666666,\"#ed7953\"],[0.7777777777777778,\"#fb9f3a\"],[0.8888888888888888,\"#fdca26\"],[1.0,\"#f0f921\"]],\"sequentialminus\":[[0.0,\"#0d0887\"],[0.1111111111111111,\"#46039f\"],[0.2222222222222222,\"#7201a8\"],[0.3333333333333333,\"#9c179e\"],[0.4444444444444444,\"#bd3786\"],[0.5555555555555556,\"#d8576b\"],[0.6666666666666666,\"#ed7953\"],[0.7777777777777778,\"#fb9f3a\"],[0.8888888888888888,\"#fdca26\"],[1.0,\"#f0f921\"]],\"diverging\":[[0,\"#8e0152\"],[0.1,\"#c51b7d\"],[0.2,\"#de77ae\"],[0.3,\"#f1b6da\"],[0.4,\"#fde0ef\"],[0.5,\"#f7f7f7\"],[0.6,\"#e6f5d0\"],[0.7,\"#b8e186\"],[0.8,\"#7fbc41\"],[0.9,\"#4d9221\"],[1,\"#276419\"]]},\"xaxis\":{\"gridcolor\":\"white\",\"linecolor\":\"white\",\"ticks\":\"\",\"title\":{\"standoff\":15},\"zerolinecolor\":\"white\",\"automargin\":true,\"zerolinewidth\":2},\"yaxis\":{\"gridcolor\":\"white\",\"linecolor\":\"white\",\"ticks\":\"\",\"title\":{\"standoff\":15},\"zerolinecolor\":\"white\",\"automargin\":true,\"zerolinewidth\":2},\"scene\":{\"xaxis\":{\"backgroundcolor\":\"#E5ECF6\",\"gridcolor\":\"white\",\"linecolor\":\"white\",\"showbackground\":true,\"ticks\":\"\",\"zerolinecolor\":\"white\",\"gridwidth\":2},\"yaxis\":{\"backgroundcolor\":\"#E5ECF6\",\"gridcolor\":\"white\",\"linecolor\":\"white\",\"showbackground\":true,\"ticks\":\"\",\"zerolinecolor\":\"white\",\"gridwidth\":2},\"zaxis\":{\"backgroundcolor\":\"#E5ECF6\",\"gridcolor\":\"white\",\"linecolor\":\"white\",\"showbackground\":true,\"ticks\":\"\",\"zerolinecolor\":\"white\",\"gridwidth\":2}},\"shapedefaults\":{\"line\":{\"color\":\"#2a3f5f\"}},\"annotationdefaults\":{\"arrowcolor\":\"#2a3f5f\",\"arrowhead\":0,\"arrowwidth\":1},\"geo\":{\"bgcolor\":\"white\",\"landcolor\":\"#E5ECF6\",\"subunitcolor\":\"white\",\"showland\":true,\"showlakes\":true,\"lakecolor\":\"white\"},\"title\":{\"x\":0.05},\"mapbox\":{\"style\":\"light\"}}},\"xaxis\":{\"anchor\":\"y\",\"domain\":[0.0,0.7363],\"title\":{\"text\":\"Rank_PCAN\"}},\"yaxis\":{\"anchor\":\"x\",\"domain\":[0.0,0.7326],\"title\":{\"text\":\"Rank\"}},\"xaxis2\":{\"anchor\":\"y2\",\"domain\":[0.7413,1.0],\"matches\":\"x2\",\"showticklabels\":false,\"showline\":false,\"ticks\":\"\",\"showgrid\":false},\"yaxis2\":{\"anchor\":\"x2\",\"domain\":[0.0,0.7326],\"matches\":\"y\",\"showticklabels\":false,\"showgrid\":true},\"xaxis3\":{\"anchor\":\"y3\",\"domain\":[0.0,0.7363],\"matches\":\"x\",\"showticklabels\":false,\"showgrid\":true},\"yaxis3\":{\"anchor\":\"x3\",\"domain\":[0.7426,1.0],\"matches\":\"y3\",\"showticklabels\":false,\"showline\":false,\"ticks\":\"\",\"showgrid\":true},\"xaxis4\":{\"anchor\":\"y4\",\"domain\":[0.7413,1.0],\"matches\":\"x2\",\"showticklabels\":false,\"showgrid\":false,\"showline\":false,\"ticks\":\"\"},\"yaxis4\":{\"anchor\":\"x4\",\"domain\":[0.7426,1.0],\"matches\":\"y3\",\"showticklabels\":false,\"showline\":false,\"ticks\":\"\",\"showgrid\":true},\"legend\":{\"title\":{\"text\":\"Method\"},\"tracegroupgap\":0},\"margin\":{\"t\":60},\"barmode\":\"overlay\"},                        {\"responsive\": true}                    ).then(function(){\n",
       "                            \n",
       "var gd = document.getElementById('6dfd8622-22bd-4428-a234-c91a0958315c');\n",
       "var x = new MutationObserver(function (mutations, observer) {{\n",
       "        var display = window.getComputedStyle(gd).display;\n",
       "        if (!display || display === 'none') {{\n",
       "            console.log([gd, 'removed!']);\n",
       "            Plotly.purge(gd);\n",
       "            observer.disconnect();\n",
       "        }}\n",
       "}});\n",
       "\n",
       "// Listen for the removal of the full notebook cells\n",
       "var notebookContainer = gd.closest('#notebook-container');\n",
       "if (notebookContainer) {{\n",
       "    x.observe(notebookContainer, {childList: true});\n",
       "}}\n",
       "\n",
       "// Listen for the clearing of the current output cell\n",
       "var outputEl = gd.closest('.output');\n",
       "if (outputEl) {{\n",
       "    x.observe(outputEl, {childList: true});\n",
       "}}\n",
       "\n",
       "                        })                };                });            </script>        </div>"
      ]
     },
     "metadata": {},
     "output_type": "display_data"
    },
    {
     "data": {
      "application/vnd.plotly.v1+json": {
       "config": {
        "plotlyServerURL": "https://plot.ly"
       },
       "data": [
        {
         "customdata": [
          [
           "SL2-009",
           "CACNA1E"
          ],
          [
           "SL2-016",
           "PACS1"
          ],
          [
           "SL2-021",
           "CACNA1A"
          ],
          [
           "SL2-029",
           "FGFR1"
          ],
          [
           "SL2-033",
           "GABBR2"
          ],
          [
           "SL2-049",
           "AFG3L2"
          ],
          [
           "SL2-105",
           "THOC6"
          ],
          [
           "SL2-127",
           "EHMT1"
          ],
          [
           "SL2-144",
           "C2CD3"
          ],
          [
           "SL2-145",
           "COL2A1"
          ],
          [
           "SL2-147",
           "CACNA1A"
          ],
          [
           "SL2-155",
           "CLN6"
          ],
          [
           "SL2-156",
           "CLN6"
          ],
          [
           "SL2-157",
           "CLN6"
          ],
          [
           "SL2-158",
           "RUNX1"
          ],
          [
           "SL2-164",
           "ATM"
          ],
          [
           "SL2-167",
           "SOX2"
          ],
          [
           "SL2-170",
           "KAT6A"
          ],
          [
           "SL2-173",
           "BMP4"
          ],
          [
           "SL2-1000",
           "PTPN11"
          ],
          [
           "SL2-1006",
           "SCN2A"
          ],
          [
           "SL2-1076",
           "RECQL4"
          ],
          [
           "SL2-1167",
           "HNRNPU"
          ],
          [
           "SL2-1181",
           "ARID1B"
          ],
          [
           "SL2-1187",
           "POMGNT1"
          ],
          [
           "SL2-1205",
           "NR2F1"
          ],
          [
           "SL2-1209",
           "UBE3A"
          ],
          [
           "SL2-1211",
           "SLC6A8"
          ],
          [
           "SL2-1214",
           "CTCF"
          ],
          [
           "SL2-1216",
           "UBA1"
          ],
          [
           "SL2-1222",
           "ALPL"
          ],
          [
           "SL2-1224",
           "ACTG2"
          ],
          [
           "SL2-1253",
           "CHD2"
          ],
          [
           "SL2-1256",
           "COL4A2"
          ],
          [
           "SL2-1256",
           "COL4A2"
          ],
          [
           "SL2-1256",
           "MEFV"
          ],
          [
           "SL2-1256",
           "MEFV"
          ],
          [
           "SL2-1275",
           "DEAF1"
          ],
          [
           "SL2-1280",
           "NSD1"
          ],
          [
           "SL2-1282",
           "MECP2"
          ],
          [
           "SL2-1282",
           "MECP2"
          ],
          [
           "SL2-1282",
           "MLH1"
          ],
          [
           "SL2-1282",
           "MLH1"
          ],
          [
           "SL2-1291",
           "GLMN"
          ],
          [
           "SL2-1312",
           "TSPEAR"
          ],
          [
           "SL2-1315",
           "CACNA1A"
          ],
          [
           "SL2-1316",
           "SLC35C1"
          ],
          [
           "SL2-1340",
           "ATP1A3"
          ],
          [
           "SL2-1343",
           "MYH11"
          ],
          [
           "SL2-1365",
           "ALG12"
          ],
          [
           "SL2-1377",
           "DOCK8"
          ],
          [
           "SL2-1382",
           "CTLA4"
          ],
          [
           "SL2-1382",
           "CTLA4"
          ],
          [
           "SL2-1382",
           "NOD2"
          ],
          [
           "SL2-1382",
           "NOD2"
          ],
          [
           "SL2-1383",
           "CTCF"
          ],
          [
           "SL2-1385",
           "TRPS1"
          ],
          [
           "SL2-1397",
           "ERCC6L2"
          ],
          [
           "SL2-1431",
           "KMT2B"
          ],
          [
           "SL2-1435",
           "SETD5"
          ],
          [
           "SL2-1451",
           "MUC1"
          ],
          [
           "SL2-1481",
           "ACTB"
          ],
          [
           "SL2-1490",
           "SLC26A3"
          ],
          [
           "SL2-1493",
           "TRIP12"
          ],
          [
           "SL2-1496",
           "ASXL1"
          ],
          [
           "SL2-1507",
           "COL4A4"
          ],
          [
           "SL2-1529",
           "PGAP3"
          ],
          [
           "SL2-1538",
           "GAA"
          ],
          [
           "SL2-1539",
           "IFIH1"
          ],
          [
           "SL2-1547",
           "NONO"
          ],
          [
           "SL2-1554",
           "POGZ"
          ],
          [
           "SL2-1556",
           "LGI1"
          ],
          [
           "SL2-1581",
           "ZEB2"
          ],
          [
           "SL2-1584",
           "KCNB1"
          ],
          [
           "SL2-1600",
           "CNOT1"
          ],
          [
           "SL2-1628",
           "AHDC1"
          ],
          [
           "SL2-1631",
           "PTEN"
          ],
          [
           "SL2-1653",
           "ATP1A3"
          ],
          [
           "SL2-1685",
           "TRAPPC9"
          ],
          [
           "SL2-1723",
           "CUL4B"
          ],
          [
           "SL2-1766",
           "NSD1"
          ],
          [
           "SL2-1768",
           "ACTG1"
          ],
          [
           "SL2-1769",
           "ZSWIM6"
          ],
          [
           "SL2-190",
           "EZH2"
          ],
          [
           "SL2-190",
           "EZH2"
          ],
          [
           "SL2-190",
           "DNMT3A"
          ],
          [
           "SL2-190",
           "DNMT3A"
          ],
          [
           "SL2-193",
           "EHMT1"
          ],
          [
           "SL2-197",
           "IDH1"
          ],
          [
           "SL2-198",
           "KMT2D"
          ],
          [
           "SL2-203",
           "NAA15"
          ],
          [
           "SL2-237",
           "USP9X"
          ],
          [
           "SL2-245",
           "UBE2A"
          ],
          [
           "SL2-252",
           "CIC"
          ],
          [
           "SL2-254",
           "NEFL"
          ],
          [
           "SL2-259",
           "DMD"
          ],
          [
           "SL2-266",
           "SLC20A2"
          ],
          [
           "SL2-1805",
           "MSTO1"
          ],
          [
           "SL2-1842",
           "CUL3"
          ],
          [
           "SL2-1886",
           "PPP3CA"
          ],
          [
           "SL2-1924",
           "HTRA1"
          ],
          [
           "SL2-1940",
           "SCN2A"
          ],
          [
           "SL2-1978",
           "PIEZO1"
          ],
          [
           "SL2-1989",
           "FOXP1"
          ],
          [
           "SL2-1991",
           "CHD2"
          ],
          [
           "SL2-2028",
           "PBX1"
          ],
          [
           "SL2-2081",
           "SIN3A"
          ],
          [
           "SL2-2086",
           "ABCC9"
          ],
          [
           "SL2-2141",
           "PLA2G6"
          ],
          [
           "SL2-2202",
           "TRIO"
          ],
          [
           "SL2-2238",
           "BRCA2"
          ],
          [
           "SL2-2239",
           "TRIO"
          ],
          [
           "SL2-2246",
           "AMPD2"
          ],
          [
           "SL2-2281",
           "MPZ"
          ],
          [
           "SL2-2307",
           "PKD1"
          ],
          [
           "SL2-2307",
           "PKD1"
          ],
          [
           "SL2-2307",
           "COL11A1"
          ],
          [
           "SL2-2307",
           "COL11A1"
          ],
          [
           "SL2-2307",
           "VWF"
          ],
          [
           "SL2-2307",
           "VWF"
          ],
          [
           "SL2-2318",
           "TRRAP"
          ],
          [
           "SL2-2325",
           "GJB2"
          ],
          [
           "SL2-2328",
           "ALPL"
          ],
          [
           "SL2-2328",
           "ALPL"
          ],
          [
           "SL2-2328",
           "NF1"
          ],
          [
           "SL2-2328",
           "NF1"
          ],
          [
           "SL2-2354",
           "EFTUD2"
          ],
          [
           "SL2-2357",
           "ABCD1"
          ],
          [
           "SL2-2383",
           "NPC1"
          ],
          [
           "SL2-2404",
           "NR2F2"
          ],
          [
           "SL2-2433",
           "PTEN"
          ],
          [
           "SL2-2490",
           "AAAS"
          ],
          [
           "SL2-2511",
           "LZTR1"
          ],
          [
           "SL2-2580",
           "TNFRSF1A"
          ],
          [
           "SL2-2593",
           "ADCY5"
          ],
          [
           "SL2-2612",
           "MECP2"
          ],
          [
           "SL2-2646",
           "SMAD4"
          ],
          [
           "SL2-2647",
           "SHANK3"
          ],
          [
           "SL2-2689",
           "FLG"
          ],
          [
           "SL2-273",
           "KANSL1"
          ],
          [
           "SL2-276",
           "RYR1"
          ],
          [
           "SL2-284",
           "ANO3"
          ],
          [
           "SL2-287",
           "TBR1"
          ],
          [
           "SL2-299",
           "PYCR2"
          ],
          [
           "SL2-301",
           "KCNA2"
          ],
          [
           "SL2-310",
           "UMOD"
          ],
          [
           "SL2-313",
           "NDUFS4"
          ],
          [
           "SL2-314",
           "TIA1"
          ],
          [
           "SL2-315",
           "TRRAP"
          ],
          [
           "SL2-319",
           "KIF11"
          ],
          [
           "SL2-339",
           "OPA1"
          ],
          [
           "SL2-349",
           "EXOSC3"
          ],
          [
           "SL2-363",
           "FA2H"
          ],
          [
           "SL2-376",
           "XPC"
          ],
          [
           "SL2-381",
           "BCL11A"
          ],
          [
           "SL2-387",
           "DDX3X"
          ],
          [
           "SL2-388",
           "DCX"
          ],
          [
           "SL2-392",
           "THAP1"
          ],
          [
           "SL2-395",
           "CASR"
          ],
          [
           "SL2-397",
           "CYP11A1"
          ],
          [
           "SL2-400",
           "NR2F1"
          ],
          [
           "SL2-405",
           "KMT2A"
          ],
          [
           "SL2-410",
           "GJA1"
          ],
          [
           "SL2-412",
           "SPG7"
          ],
          [
           "SL2-421",
           "DEGS1"
          ],
          [
           "SL2-424",
           "ATM"
          ],
          [
           "SL2-437",
           "ASH1L"
          ],
          [
           "SL2-440",
           "ACTA1"
          ],
          [
           "SL2-442",
           "PTPN11"
          ],
          [
           "SL2-443",
           "HCFC1"
          ],
          [
           "SL2-446",
           "PSEN1"
          ],
          [
           "SL2-449",
           "FBXO11"
          ],
          [
           "SL2-454",
           "FAR1"
          ],
          [
           "SL2-457",
           "TGFBR2"
          ],
          [
           "SL2-458",
           "AEBP1"
          ],
          [
           "SL2-462",
           "CACNA1A"
          ],
          [
           "SL2-466",
           "SERPINA1"
          ],
          [
           "SL2-468",
           "C12orf57"
          ],
          [
           "SL2-469",
           "CYP7B1"
          ],
          [
           "SL2-471",
           "ACTB"
          ],
          [
           "SL2-472",
           "TRPV4"
          ],
          [
           "SL2-473",
           "EP300"
          ],
          [
           "SL2-485",
           "TUBB4A"
          ],
          [
           "SL2-521",
           "TRMU"
          ],
          [
           "SL2-528",
           "CLN3"
          ],
          [
           "SL2-2962",
           "LOX"
          ],
          [
           "SL2-3015",
           "STAG1"
          ],
          [
           "SL2-3041",
           "NEB"
          ],
          [
           "SL2-539",
           "EBF3"
          ],
          [
           "SL2-540",
           "HMGCS2"
          ],
          [
           "SL2-547",
           "SYNGAP1"
          ],
          [
           "SL2-550",
           "LTBP3"
          ],
          [
           "SL2-552",
           "ATP1A3"
          ],
          [
           "SL2-557",
           "SIN3A"
          ],
          [
           "SL2-557",
           "SIN3A"
          ],
          [
           "SL2-557",
           "FLG"
          ],
          [
           "SL2-557",
           "FLG"
          ],
          [
           "SL2-557",
           "EDAR"
          ],
          [
           "SL2-557",
           "EDAR"
          ],
          [
           "SL2-563",
           "ASXL3"
          ],
          [
           "SL2-566",
           "ACO2"
          ],
          [
           "SL2-577",
           "ALDH18A1"
          ],
          [
           "SL2-579",
           "TTN"
          ],
          [
           "SL2-579",
           "TTN"
          ],
          [
           "SL2-579",
           "MYBPC3"
          ],
          [
           "SL2-579",
           "MYBPC3"
          ],
          [
           "SL2-580",
           "ACVR1"
          ],
          [
           "SL2-581",
           "MEFV"
          ],
          [
           "SL2-592",
           "SLC25A46"
          ],
          [
           "SL2-598",
           "WAC"
          ],
          [
           "SL2-607",
           "SLC6A1"
          ],
          [
           "SL2-623",
           "ENPP1"
          ],
          [
           "SL2-632",
           "OCA2"
          ],
          [
           "SL2-646",
           "CHAT"
          ],
          [
           "SL2-653",
           "NFKB1"
          ],
          [
           "SL2-657",
           "NKX2-1"
          ],
          [
           "SL2-659",
           "GFAP"
          ],
          [
           "SL2-659",
           "GFAP"
          ],
          [
           "SL2-659",
           "ACVRL1"
          ],
          [
           "SL2-659",
           "ACVRL1"
          ],
          [
           "SL2-674",
           "PIGV"
          ],
          [
           "SL2-681",
           "TBX4"
          ],
          [
           "SL2-684",
           "SETD5"
          ],
          [
           "SL2-686",
           "ARSB"
          ],
          [
           "SL2-688",
           "B4GALNT1"
          ],
          [
           "SL2-697",
           "ANKRD11"
          ],
          [
           "SL2-699",
           "CHD7"
          ],
          [
           "SL2-716",
           "SLC12A3"
          ],
          [
           "SL2-724",
           "TUBA1A"
          ],
          [
           "SL2-728",
           "NAA15"
          ],
          [
           "SL2-732",
           "DOCK3"
          ],
          [
           "SL2-752",
           "GNPTAB"
          ],
          [
           "SL2-767",
           "CTCF"
          ],
          [
           "SL2-795",
           "MECP2"
          ],
          [
           "SL2-799",
           "GRIN1"
          ],
          [
           "SL2-799",
           "GRIN1"
          ],
          [
           "SL2-799",
           "FLG"
          ],
          [
           "SL2-799",
           "FLG"
          ],
          [
           "SL2-806",
           "JAK2"
          ],
          [
           "SL2-816",
           "PIK3R1"
          ],
          [
           "SL2-817",
           "CACNA1E"
          ],
          [
           "SL2-835",
           "CACNA1F"
          ],
          [
           "SL2-835",
           "CACNA1F"
          ],
          [
           "SL2-835",
           "SPG11"
          ],
          [
           "SL2-835",
           "SPG11"
          ],
          [
           "SL2-842",
           "KDM6A"
          ],
          [
           "SL2-844",
           "CHD2"
          ],
          [
           "SL2-850",
           "TCF4"
          ],
          [
           "SL2-852",
           "PLA2G6"
          ],
          [
           "SL2-854",
           "MAP3K7"
          ],
          [
           "SL2-860",
           "GABRA1"
          ],
          [
           "SL2-865",
           "ZBTB18"
          ],
          [
           "SL2-879",
           "RPS6KA3"
          ],
          [
           "SL2-879",
           "RPS6KA3"
          ],
          [
           "SL2-879",
           "USP9X"
          ],
          [
           "SL2-879",
           "USP9X"
          ],
          [
           "SL2-891",
           "CBL"
          ],
          [
           "SL2-891",
           "CBL"
          ],
          [
           "SL2-891",
           "ELN"
          ],
          [
           "SL2-891",
           "ELN"
          ],
          [
           "SL2-904",
           "CFTR"
          ],
          [
           "SL2-910",
           "POLR3A"
          ],
          [
           "SL2-919",
           "SON"
          ],
          [
           "SL2-924",
           "SETD5"
          ],
          [
           "SL2-938",
           "ZC4H2"
          ],
          [
           "SL2-940",
           "BRPF1"
          ],
          [
           "SL2-940",
           "BRPF1"
          ],
          [
           "SL2-940",
           "KDM5C"
          ],
          [
           "SL2-940",
           "KDM5C"
          ],
          [
           "SL2-943",
           "DGAT1"
          ],
          [
           "SL2-947",
           "SYNGAP1"
          ]
         ],
         "hovertemplate": "Method=Rank_bayes_mean<br>Rank_PCAN=%{x}<br>Rank=%{y}<br>Normalized ID=%{customdata[0]}<br>Gene1=%{customdata[1]}<extra></extra>",
         "legendgroup": "Rank_bayes_mean",
         "marker": {
          "color": "#636efa",
          "symbol": "circle"
         },
         "mode": "markers",
         "name": "Rank_bayes_mean",
         "orientation": "v",
         "showlegend": true,
         "type": "scatter",
         "x": [
          143,
          826,
          945,
          5,
          1505,
          2169,
          920,
          1926,
          1,
          10,
          4,
          437,
          200,
          165,
          64,
          37,
          81,
          67,
          1451,
          2,
          31,
          858,
          1521,
          47,
          48,
          204,
          848,
          103,
          3378,
          2070,
          121,
          3737,
          876,
          999,
          795,
          999,
          795,
          38,
          1,
          18,
          2962,
          18,
          2962,
          903,
          11,
          3,
          408,
          1895,
          43,
          957,
          40,
          238,
          null,
          238,
          null,
          1583,
          767,
          21,
          701,
          455,
          35,
          1159,
          14,
          714,
          742,
          49,
          152,
          4,
          49,
          247,
          504,
          6,
          196,
          1395,
          170,
          716,
          927,
          119,
          339,
          957,
          138,
          2254,
          249,
          205,
          319,
          205,
          319,
          706,
          78,
          5,
          2229,
          322,
          226,
          887,
          10,
          45,
          11,
          14,
          5,
          901,
          26,
          202,
          463,
          634,
          131,
          276,
          988,
          241,
          45,
          85,
          22,
          266,
          455,
          643,
          444,
          1150,
          444,
          1150,
          444,
          1150,
          423,
          179,
          43,
          31,
          43,
          31,
          176,
          879,
          245,
          618,
          139,
          33,
          1080,
          477,
          2419,
          19,
          164,
          233,
          436,
          548,
          4,
          6,
          683,
          593,
          199,
          19,
          90,
          63,
          15,
          89,
          17,
          933,
          1,
          12,
          355,
          2309,
          302,
          3,
          642,
          7,
          611,
          8,
          71,
          104,
          94,
          137,
          192,
          2,
          187,
          1637,
          33,
          157,
          99,
          5,
          211,
          188,
          1513,
          185,
          432,
          352,
          22,
          205,
          447,
          1026,
          64,
          19,
          490,
          288,
          258,
          240,
          50,
          361,
          166,
          174,
          2267,
          174,
          2267,
          174,
          2267,
          491,
          894,
          38,
          28,
          25,
          28,
          25,
          365,
          708,
          367,
          627,
          2474,
          55,
          45,
          3,
          242,
          227,
          674,
          31,
          674,
          31,
          741,
          2002,
          203,
          81,
          7,
          2266,
          272,
          5,
          14,
          1,
          1324,
          6,
          2216,
          10,
          157,
          1938,
          157,
          1938,
          14,
          365,
          13,
          778,
          14,
          778,
          14,
          965,
          89,
          130,
          18,
          11,
          1055,
          2125,
          874,
          974,
          874,
          974,
          233,
          689,
          233,
          689,
          190,
          161,
          244,
          144,
          83,
          387,
          943,
          387,
          943,
          16,
          367
         ],
         "xaxis": "x",
         "y": [
          719,
          269,
          1306,
          104,
          769,
          2053,
          2623,
          2604,
          1962,
          575,
          522,
          2618,
          3322,
          3147,
          367,
          776,
          739,
          1053,
          412,
          406,
          2658,
          2549,
          377,
          523,
          79,
          711,
          567,
          639,
          257,
          214,
          1178,
          1412,
          776,
          1174,
          1174,
          445,
          445,
          50,
          1215,
          182,
          182,
          2073,
          2073,
          159,
          536,
          623,
          542,
          69,
          985,
          267,
          22,
          34,
          34,
          1935,
          1935,
          822,
          2070,
          1524,
          3318,
          2784,
          3488,
          28,
          658,
          1256,
          1148,
          2676,
          989,
          2660,
          779,
          151,
          1042,
          1998,
          3098,
          616,
          1232,
          3159,
          265,
          134,
          867,
          925,
          1589,
          956,
          1514,
          417,
          417,
          1113,
          1113,
          2577,
          544,
          3304,
          2984,
          628,
          15,
          2111,
          131,
          1248,
          639,
          1343,
          247,
          9,
          671,
          2061,
          2783,
          135,
          1674,
          999,
          988,
          1497,
          1381,
          2869,
          2739,
          3089,
          3020,
          1140,
          3480,
          3480,
          3221,
          3221,
          1766,
          1766,
          3239,
          502,
          1033,
          1033,
          1536,
          1536,
          1546,
          1165,
          2834,
          2437,
          163,
          917,
          827,
          1922,
          1931,
          380,
          312,
          1948,
          2980,
          381,
          906,
          2747,
          51,
          212,
          397,
          2447,
          438,
          2807,
          1913,
          391,
          1254,
          393,
          159,
          6,
          619,
          2349,
          609,
          100,
          1053,
          1233,
          1126,
          1803,
          143,
          1293,
          472,
          668,
          2534,
          2,
          296,
          1267,
          827,
          277,
          372,
          163,
          2086,
          1835,
          789,
          3348,
          1152,
          43,
          856,
          357,
          924,
          394,
          2391,
          1543,
          2030,
          2229,
          1890,
          2487,
          311,
          3122,
          47,
          386,
          386,
          2473,
          2473,
          1626,
          1626,
          1769,
          2885,
          136,
          3128,
          3128,
          2738,
          2738,
          2576,
          4,
          435,
          865,
          1418,
          411,
          302,
          107,
          105,
          87,
          784,
          784,
          1752,
          1752,
          90,
          222,
          3105,
          2134,
          761,
          2197,
          2217,
          48,
          1079,
          3165,
          3041,
          994,
          385,
          377,
          905,
          905,
          989,
          989,
          350,
          231,
          1081,
          2320,
          2320,
          2918,
          2918,
          519,
          378,
          422,
          767,
          506,
          2364,
          1980,
          40,
          40,
          378,
          378,
          428,
          428,
          1147,
          1147,
          121,
          321,
          2840,
          3125,
          51,
          3381,
          3381,
          2893,
          2893,
          3410,
          416
         ],
         "yaxis": "y"
        },
        {
         "alignmentgroup": "True",
         "bingroup": "x",
         "hovertemplate": "Method=Rank_bayes_mean<br>Rank_PCAN=%{x}<br>count=%{y}<extra></extra>",
         "legendgroup": "Rank_bayes_mean",
         "marker": {
          "color": "#636efa"
         },
         "name": "Rank_bayes_mean",
         "offsetgroup": "Rank_bayes_mean",
         "opacity": 0.5,
         "showlegend": false,
         "type": "histogram",
         "x": [
          143,
          826,
          945,
          5,
          1505,
          2169,
          920,
          1926,
          1,
          10,
          4,
          437,
          200,
          165,
          64,
          37,
          81,
          67,
          1451,
          2,
          31,
          858,
          1521,
          47,
          48,
          204,
          848,
          103,
          3378,
          2070,
          121,
          3737,
          876,
          999,
          795,
          999,
          795,
          38,
          1,
          18,
          2962,
          18,
          2962,
          903,
          11,
          3,
          408,
          1895,
          43,
          957,
          40,
          238,
          null,
          238,
          null,
          1583,
          767,
          21,
          701,
          455,
          35,
          1159,
          14,
          714,
          742,
          49,
          152,
          4,
          49,
          247,
          504,
          6,
          196,
          1395,
          170,
          716,
          927,
          119,
          339,
          957,
          138,
          2254,
          249,
          205,
          319,
          205,
          319,
          706,
          78,
          5,
          2229,
          322,
          226,
          887,
          10,
          45,
          11,
          14,
          5,
          901,
          26,
          202,
          463,
          634,
          131,
          276,
          988,
          241,
          45,
          85,
          22,
          266,
          455,
          643,
          444,
          1150,
          444,
          1150,
          444,
          1150,
          423,
          179,
          43,
          31,
          43,
          31,
          176,
          879,
          245,
          618,
          139,
          33,
          1080,
          477,
          2419,
          19,
          164,
          233,
          436,
          548,
          4,
          6,
          683,
          593,
          199,
          19,
          90,
          63,
          15,
          89,
          17,
          933,
          1,
          12,
          355,
          2309,
          302,
          3,
          642,
          7,
          611,
          8,
          71,
          104,
          94,
          137,
          192,
          2,
          187,
          1637,
          33,
          157,
          99,
          5,
          211,
          188,
          1513,
          185,
          432,
          352,
          22,
          205,
          447,
          1026,
          64,
          19,
          490,
          288,
          258,
          240,
          50,
          361,
          166,
          174,
          2267,
          174,
          2267,
          174,
          2267,
          491,
          894,
          38,
          28,
          25,
          28,
          25,
          365,
          708,
          367,
          627,
          2474,
          55,
          45,
          3,
          242,
          227,
          674,
          31,
          674,
          31,
          741,
          2002,
          203,
          81,
          7,
          2266,
          272,
          5,
          14,
          1,
          1324,
          6,
          2216,
          10,
          157,
          1938,
          157,
          1938,
          14,
          365,
          13,
          778,
          14,
          778,
          14,
          965,
          89,
          130,
          18,
          11,
          1055,
          2125,
          874,
          974,
          874,
          974,
          233,
          689,
          233,
          689,
          190,
          161,
          244,
          144,
          83,
          387,
          943,
          387,
          943,
          16,
          367
         ],
         "xaxis": "x3",
         "yaxis": "y3"
        },
        {
         "alignmentgroup": "True",
         "boxpoints": "all",
         "customdata": [
          [
           "SL2-009",
           "CACNA1E"
          ],
          [
           "SL2-016",
           "PACS1"
          ],
          [
           "SL2-021",
           "CACNA1A"
          ],
          [
           "SL2-029",
           "FGFR1"
          ],
          [
           "SL2-033",
           "GABBR2"
          ],
          [
           "SL2-049",
           "AFG3L2"
          ],
          [
           "SL2-105",
           "THOC6"
          ],
          [
           "SL2-127",
           "EHMT1"
          ],
          [
           "SL2-144",
           "C2CD3"
          ],
          [
           "SL2-145",
           "COL2A1"
          ],
          [
           "SL2-147",
           "CACNA1A"
          ],
          [
           "SL2-155",
           "CLN6"
          ],
          [
           "SL2-156",
           "CLN6"
          ],
          [
           "SL2-157",
           "CLN6"
          ],
          [
           "SL2-158",
           "RUNX1"
          ],
          [
           "SL2-164",
           "ATM"
          ],
          [
           "SL2-167",
           "SOX2"
          ],
          [
           "SL2-170",
           "KAT6A"
          ],
          [
           "SL2-173",
           "BMP4"
          ],
          [
           "SL2-1000",
           "PTPN11"
          ],
          [
           "SL2-1006",
           "SCN2A"
          ],
          [
           "SL2-1076",
           "RECQL4"
          ],
          [
           "SL2-1167",
           "HNRNPU"
          ],
          [
           "SL2-1181",
           "ARID1B"
          ],
          [
           "SL2-1187",
           "POMGNT1"
          ],
          [
           "SL2-1205",
           "NR2F1"
          ],
          [
           "SL2-1209",
           "UBE3A"
          ],
          [
           "SL2-1211",
           "SLC6A8"
          ],
          [
           "SL2-1214",
           "CTCF"
          ],
          [
           "SL2-1216",
           "UBA1"
          ],
          [
           "SL2-1222",
           "ALPL"
          ],
          [
           "SL2-1224",
           "ACTG2"
          ],
          [
           "SL2-1253",
           "CHD2"
          ],
          [
           "SL2-1256",
           "COL4A2"
          ],
          [
           "SL2-1256",
           "COL4A2"
          ],
          [
           "SL2-1256",
           "MEFV"
          ],
          [
           "SL2-1256",
           "MEFV"
          ],
          [
           "SL2-1275",
           "DEAF1"
          ],
          [
           "SL2-1280",
           "NSD1"
          ],
          [
           "SL2-1282",
           "MECP2"
          ],
          [
           "SL2-1282",
           "MECP2"
          ],
          [
           "SL2-1282",
           "MLH1"
          ],
          [
           "SL2-1282",
           "MLH1"
          ],
          [
           "SL2-1291",
           "GLMN"
          ],
          [
           "SL2-1312",
           "TSPEAR"
          ],
          [
           "SL2-1315",
           "CACNA1A"
          ],
          [
           "SL2-1316",
           "SLC35C1"
          ],
          [
           "SL2-1340",
           "ATP1A3"
          ],
          [
           "SL2-1343",
           "MYH11"
          ],
          [
           "SL2-1365",
           "ALG12"
          ],
          [
           "SL2-1377",
           "DOCK8"
          ],
          [
           "SL2-1382",
           "CTLA4"
          ],
          [
           "SL2-1382",
           "CTLA4"
          ],
          [
           "SL2-1382",
           "NOD2"
          ],
          [
           "SL2-1382",
           "NOD2"
          ],
          [
           "SL2-1383",
           "CTCF"
          ],
          [
           "SL2-1385",
           "TRPS1"
          ],
          [
           "SL2-1397",
           "ERCC6L2"
          ],
          [
           "SL2-1431",
           "KMT2B"
          ],
          [
           "SL2-1435",
           "SETD5"
          ],
          [
           "SL2-1451",
           "MUC1"
          ],
          [
           "SL2-1481",
           "ACTB"
          ],
          [
           "SL2-1490",
           "SLC26A3"
          ],
          [
           "SL2-1493",
           "TRIP12"
          ],
          [
           "SL2-1496",
           "ASXL1"
          ],
          [
           "SL2-1507",
           "COL4A4"
          ],
          [
           "SL2-1529",
           "PGAP3"
          ],
          [
           "SL2-1538",
           "GAA"
          ],
          [
           "SL2-1539",
           "IFIH1"
          ],
          [
           "SL2-1547",
           "NONO"
          ],
          [
           "SL2-1554",
           "POGZ"
          ],
          [
           "SL2-1556",
           "LGI1"
          ],
          [
           "SL2-1581",
           "ZEB2"
          ],
          [
           "SL2-1584",
           "KCNB1"
          ],
          [
           "SL2-1600",
           "CNOT1"
          ],
          [
           "SL2-1628",
           "AHDC1"
          ],
          [
           "SL2-1631",
           "PTEN"
          ],
          [
           "SL2-1653",
           "ATP1A3"
          ],
          [
           "SL2-1685",
           "TRAPPC9"
          ],
          [
           "SL2-1723",
           "CUL4B"
          ],
          [
           "SL2-1766",
           "NSD1"
          ],
          [
           "SL2-1768",
           "ACTG1"
          ],
          [
           "SL2-1769",
           "ZSWIM6"
          ],
          [
           "SL2-190",
           "EZH2"
          ],
          [
           "SL2-190",
           "EZH2"
          ],
          [
           "SL2-190",
           "DNMT3A"
          ],
          [
           "SL2-190",
           "DNMT3A"
          ],
          [
           "SL2-193",
           "EHMT1"
          ],
          [
           "SL2-197",
           "IDH1"
          ],
          [
           "SL2-198",
           "KMT2D"
          ],
          [
           "SL2-203",
           "NAA15"
          ],
          [
           "SL2-237",
           "USP9X"
          ],
          [
           "SL2-245",
           "UBE2A"
          ],
          [
           "SL2-252",
           "CIC"
          ],
          [
           "SL2-254",
           "NEFL"
          ],
          [
           "SL2-259",
           "DMD"
          ],
          [
           "SL2-266",
           "SLC20A2"
          ],
          [
           "SL2-1805",
           "MSTO1"
          ],
          [
           "SL2-1842",
           "CUL3"
          ],
          [
           "SL2-1886",
           "PPP3CA"
          ],
          [
           "SL2-1924",
           "HTRA1"
          ],
          [
           "SL2-1940",
           "SCN2A"
          ],
          [
           "SL2-1978",
           "PIEZO1"
          ],
          [
           "SL2-1989",
           "FOXP1"
          ],
          [
           "SL2-1991",
           "CHD2"
          ],
          [
           "SL2-2028",
           "PBX1"
          ],
          [
           "SL2-2081",
           "SIN3A"
          ],
          [
           "SL2-2086",
           "ABCC9"
          ],
          [
           "SL2-2141",
           "PLA2G6"
          ],
          [
           "SL2-2202",
           "TRIO"
          ],
          [
           "SL2-2238",
           "BRCA2"
          ],
          [
           "SL2-2239",
           "TRIO"
          ],
          [
           "SL2-2246",
           "AMPD2"
          ],
          [
           "SL2-2281",
           "MPZ"
          ],
          [
           "SL2-2307",
           "PKD1"
          ],
          [
           "SL2-2307",
           "PKD1"
          ],
          [
           "SL2-2307",
           "COL11A1"
          ],
          [
           "SL2-2307",
           "COL11A1"
          ],
          [
           "SL2-2307",
           "VWF"
          ],
          [
           "SL2-2307",
           "VWF"
          ],
          [
           "SL2-2318",
           "TRRAP"
          ],
          [
           "SL2-2325",
           "GJB2"
          ],
          [
           "SL2-2328",
           "ALPL"
          ],
          [
           "SL2-2328",
           "ALPL"
          ],
          [
           "SL2-2328",
           "NF1"
          ],
          [
           "SL2-2328",
           "NF1"
          ],
          [
           "SL2-2354",
           "EFTUD2"
          ],
          [
           "SL2-2357",
           "ABCD1"
          ],
          [
           "SL2-2383",
           "NPC1"
          ],
          [
           "SL2-2404",
           "NR2F2"
          ],
          [
           "SL2-2433",
           "PTEN"
          ],
          [
           "SL2-2490",
           "AAAS"
          ],
          [
           "SL2-2511",
           "LZTR1"
          ],
          [
           "SL2-2580",
           "TNFRSF1A"
          ],
          [
           "SL2-2593",
           "ADCY5"
          ],
          [
           "SL2-2612",
           "MECP2"
          ],
          [
           "SL2-2646",
           "SMAD4"
          ],
          [
           "SL2-2647",
           "SHANK3"
          ],
          [
           "SL2-2689",
           "FLG"
          ],
          [
           "SL2-273",
           "KANSL1"
          ],
          [
           "SL2-276",
           "RYR1"
          ],
          [
           "SL2-284",
           "ANO3"
          ],
          [
           "SL2-287",
           "TBR1"
          ],
          [
           "SL2-299",
           "PYCR2"
          ],
          [
           "SL2-301",
           "KCNA2"
          ],
          [
           "SL2-310",
           "UMOD"
          ],
          [
           "SL2-313",
           "NDUFS4"
          ],
          [
           "SL2-314",
           "TIA1"
          ],
          [
           "SL2-315",
           "TRRAP"
          ],
          [
           "SL2-319",
           "KIF11"
          ],
          [
           "SL2-339",
           "OPA1"
          ],
          [
           "SL2-349",
           "EXOSC3"
          ],
          [
           "SL2-363",
           "FA2H"
          ],
          [
           "SL2-376",
           "XPC"
          ],
          [
           "SL2-381",
           "BCL11A"
          ],
          [
           "SL2-387",
           "DDX3X"
          ],
          [
           "SL2-388",
           "DCX"
          ],
          [
           "SL2-392",
           "THAP1"
          ],
          [
           "SL2-395",
           "CASR"
          ],
          [
           "SL2-397",
           "CYP11A1"
          ],
          [
           "SL2-400",
           "NR2F1"
          ],
          [
           "SL2-405",
           "KMT2A"
          ],
          [
           "SL2-410",
           "GJA1"
          ],
          [
           "SL2-412",
           "SPG7"
          ],
          [
           "SL2-421",
           "DEGS1"
          ],
          [
           "SL2-424",
           "ATM"
          ],
          [
           "SL2-437",
           "ASH1L"
          ],
          [
           "SL2-440",
           "ACTA1"
          ],
          [
           "SL2-442",
           "PTPN11"
          ],
          [
           "SL2-443",
           "HCFC1"
          ],
          [
           "SL2-446",
           "PSEN1"
          ],
          [
           "SL2-449",
           "FBXO11"
          ],
          [
           "SL2-454",
           "FAR1"
          ],
          [
           "SL2-457",
           "TGFBR2"
          ],
          [
           "SL2-458",
           "AEBP1"
          ],
          [
           "SL2-462",
           "CACNA1A"
          ],
          [
           "SL2-466",
           "SERPINA1"
          ],
          [
           "SL2-468",
           "C12orf57"
          ],
          [
           "SL2-469",
           "CYP7B1"
          ],
          [
           "SL2-471",
           "ACTB"
          ],
          [
           "SL2-472",
           "TRPV4"
          ],
          [
           "SL2-473",
           "EP300"
          ],
          [
           "SL2-485",
           "TUBB4A"
          ],
          [
           "SL2-521",
           "TRMU"
          ],
          [
           "SL2-528",
           "CLN3"
          ],
          [
           "SL2-2962",
           "LOX"
          ],
          [
           "SL2-3015",
           "STAG1"
          ],
          [
           "SL2-3041",
           "NEB"
          ],
          [
           "SL2-539",
           "EBF3"
          ],
          [
           "SL2-540",
           "HMGCS2"
          ],
          [
           "SL2-547",
           "SYNGAP1"
          ],
          [
           "SL2-550",
           "LTBP3"
          ],
          [
           "SL2-552",
           "ATP1A3"
          ],
          [
           "SL2-557",
           "SIN3A"
          ],
          [
           "SL2-557",
           "SIN3A"
          ],
          [
           "SL2-557",
           "FLG"
          ],
          [
           "SL2-557",
           "FLG"
          ],
          [
           "SL2-557",
           "EDAR"
          ],
          [
           "SL2-557",
           "EDAR"
          ],
          [
           "SL2-563",
           "ASXL3"
          ],
          [
           "SL2-566",
           "ACO2"
          ],
          [
           "SL2-577",
           "ALDH18A1"
          ],
          [
           "SL2-579",
           "TTN"
          ],
          [
           "SL2-579",
           "TTN"
          ],
          [
           "SL2-579",
           "MYBPC3"
          ],
          [
           "SL2-579",
           "MYBPC3"
          ],
          [
           "SL2-580",
           "ACVR1"
          ],
          [
           "SL2-581",
           "MEFV"
          ],
          [
           "SL2-592",
           "SLC25A46"
          ],
          [
           "SL2-598",
           "WAC"
          ],
          [
           "SL2-607",
           "SLC6A1"
          ],
          [
           "SL2-623",
           "ENPP1"
          ],
          [
           "SL2-632",
           "OCA2"
          ],
          [
           "SL2-646",
           "CHAT"
          ],
          [
           "SL2-653",
           "NFKB1"
          ],
          [
           "SL2-657",
           "NKX2-1"
          ],
          [
           "SL2-659",
           "GFAP"
          ],
          [
           "SL2-659",
           "GFAP"
          ],
          [
           "SL2-659",
           "ACVRL1"
          ],
          [
           "SL2-659",
           "ACVRL1"
          ],
          [
           "SL2-674",
           "PIGV"
          ],
          [
           "SL2-681",
           "TBX4"
          ],
          [
           "SL2-684",
           "SETD5"
          ],
          [
           "SL2-686",
           "ARSB"
          ],
          [
           "SL2-688",
           "B4GALNT1"
          ],
          [
           "SL2-697",
           "ANKRD11"
          ],
          [
           "SL2-699",
           "CHD7"
          ],
          [
           "SL2-716",
           "SLC12A3"
          ],
          [
           "SL2-724",
           "TUBA1A"
          ],
          [
           "SL2-728",
           "NAA15"
          ],
          [
           "SL2-732",
           "DOCK3"
          ],
          [
           "SL2-752",
           "GNPTAB"
          ],
          [
           "SL2-767",
           "CTCF"
          ],
          [
           "SL2-795",
           "MECP2"
          ],
          [
           "SL2-799",
           "GRIN1"
          ],
          [
           "SL2-799",
           "GRIN1"
          ],
          [
           "SL2-799",
           "FLG"
          ],
          [
           "SL2-799",
           "FLG"
          ],
          [
           "SL2-806",
           "JAK2"
          ],
          [
           "SL2-816",
           "PIK3R1"
          ],
          [
           "SL2-817",
           "CACNA1E"
          ],
          [
           "SL2-835",
           "CACNA1F"
          ],
          [
           "SL2-835",
           "CACNA1F"
          ],
          [
           "SL2-835",
           "SPG11"
          ],
          [
           "SL2-835",
           "SPG11"
          ],
          [
           "SL2-842",
           "KDM6A"
          ],
          [
           "SL2-844",
           "CHD2"
          ],
          [
           "SL2-850",
           "TCF4"
          ],
          [
           "SL2-852",
           "PLA2G6"
          ],
          [
           "SL2-854",
           "MAP3K7"
          ],
          [
           "SL2-860",
           "GABRA1"
          ],
          [
           "SL2-865",
           "ZBTB18"
          ],
          [
           "SL2-879",
           "RPS6KA3"
          ],
          [
           "SL2-879",
           "RPS6KA3"
          ],
          [
           "SL2-879",
           "USP9X"
          ],
          [
           "SL2-879",
           "USP9X"
          ],
          [
           "SL2-891",
           "CBL"
          ],
          [
           "SL2-891",
           "CBL"
          ],
          [
           "SL2-891",
           "ELN"
          ],
          [
           "SL2-891",
           "ELN"
          ],
          [
           "SL2-904",
           "CFTR"
          ],
          [
           "SL2-910",
           "POLR3A"
          ],
          [
           "SL2-919",
           "SON"
          ],
          [
           "SL2-924",
           "SETD5"
          ],
          [
           "SL2-938",
           "ZC4H2"
          ],
          [
           "SL2-940",
           "BRPF1"
          ],
          [
           "SL2-940",
           "BRPF1"
          ],
          [
           "SL2-940",
           "KDM5C"
          ],
          [
           "SL2-940",
           "KDM5C"
          ],
          [
           "SL2-943",
           "DGAT1"
          ],
          [
           "SL2-947",
           "SYNGAP1"
          ]
         ],
         "fillcolor": "rgba(255,255,255,0)",
         "hoveron": "points",
         "hovertemplate": "Method=Rank_bayes_mean<br>Rank=%{y}<br>Normalized ID=%{customdata[0]}<br>Gene1=%{customdata[1]}<extra></extra>",
         "jitter": 0,
         "legendgroup": "Rank_bayes_mean",
         "line": {
          "color": "rgba(255,255,255,0)"
         },
         "marker": {
          "color": "#636efa",
          "symbol": "line-ew-open"
         },
         "name": "Rank_bayes_mean",
         "offsetgroup": "Rank_bayes_mean",
         "showlegend": false,
         "type": "box",
         "xaxis": "x2",
         "y": [
          719,
          269,
          1306,
          104,
          769,
          2053,
          2623,
          2604,
          1962,
          575,
          522,
          2618,
          3322,
          3147,
          367,
          776,
          739,
          1053,
          412,
          406,
          2658,
          2549,
          377,
          523,
          79,
          711,
          567,
          639,
          257,
          214,
          1178,
          1412,
          776,
          1174,
          1174,
          445,
          445,
          50,
          1215,
          182,
          182,
          2073,
          2073,
          159,
          536,
          623,
          542,
          69,
          985,
          267,
          22,
          34,
          34,
          1935,
          1935,
          822,
          2070,
          1524,
          3318,
          2784,
          3488,
          28,
          658,
          1256,
          1148,
          2676,
          989,
          2660,
          779,
          151,
          1042,
          1998,
          3098,
          616,
          1232,
          3159,
          265,
          134,
          867,
          925,
          1589,
          956,
          1514,
          417,
          417,
          1113,
          1113,
          2577,
          544,
          3304,
          2984,
          628,
          15,
          2111,
          131,
          1248,
          639,
          1343,
          247,
          9,
          671,
          2061,
          2783,
          135,
          1674,
          999,
          988,
          1497,
          1381,
          2869,
          2739,
          3089,
          3020,
          1140,
          3480,
          3480,
          3221,
          3221,
          1766,
          1766,
          3239,
          502,
          1033,
          1033,
          1536,
          1536,
          1546,
          1165,
          2834,
          2437,
          163,
          917,
          827,
          1922,
          1931,
          380,
          312,
          1948,
          2980,
          381,
          906,
          2747,
          51,
          212,
          397,
          2447,
          438,
          2807,
          1913,
          391,
          1254,
          393,
          159,
          6,
          619,
          2349,
          609,
          100,
          1053,
          1233,
          1126,
          1803,
          143,
          1293,
          472,
          668,
          2534,
          2,
          296,
          1267,
          827,
          277,
          372,
          163,
          2086,
          1835,
          789,
          3348,
          1152,
          43,
          856,
          357,
          924,
          394,
          2391,
          1543,
          2030,
          2229,
          1890,
          2487,
          311,
          3122,
          47,
          386,
          386,
          2473,
          2473,
          1626,
          1626,
          1769,
          2885,
          136,
          3128,
          3128,
          2738,
          2738,
          2576,
          4,
          435,
          865,
          1418,
          411,
          302,
          107,
          105,
          87,
          784,
          784,
          1752,
          1752,
          90,
          222,
          3105,
          2134,
          761,
          2197,
          2217,
          48,
          1079,
          3165,
          3041,
          994,
          385,
          377,
          905,
          905,
          989,
          989,
          350,
          231,
          1081,
          2320,
          2320,
          2918,
          2918,
          519,
          378,
          422,
          767,
          506,
          2364,
          1980,
          40,
          40,
          378,
          378,
          428,
          428,
          1147,
          1147,
          121,
          321,
          2840,
          3125,
          51,
          3381,
          3381,
          2893,
          2893,
          3410,
          416
         ],
         "yaxis": "y2"
        }
       ],
       "layout": {
        "barmode": "overlay",
        "legend": {
         "title": {
          "text": "Method"
         },
         "tracegroupgap": 0
        },
        "margin": {
         "t": 60
        },
        "template": {
         "data": {
          "bar": [
           {
            "error_x": {
             "color": "#2a3f5f"
            },
            "error_y": {
             "color": "#2a3f5f"
            },
            "marker": {
             "line": {
              "color": "#E5ECF6",
              "width": 0.5
             },
             "pattern": {
              "fillmode": "overlay",
              "size": 10,
              "solidity": 0.2
             }
            },
            "type": "bar"
           }
          ],
          "barpolar": [
           {
            "marker": {
             "line": {
              "color": "#E5ECF6",
              "width": 0.5
             },
             "pattern": {
              "fillmode": "overlay",
              "size": 10,
              "solidity": 0.2
             }
            },
            "type": "barpolar"
           }
          ],
          "carpet": [
           {
            "aaxis": {
             "endlinecolor": "#2a3f5f",
             "gridcolor": "white",
             "linecolor": "white",
             "minorgridcolor": "white",
             "startlinecolor": "#2a3f5f"
            },
            "baxis": {
             "endlinecolor": "#2a3f5f",
             "gridcolor": "white",
             "linecolor": "white",
             "minorgridcolor": "white",
             "startlinecolor": "#2a3f5f"
            },
            "type": "carpet"
           }
          ],
          "choropleth": [
           {
            "colorbar": {
             "outlinewidth": 0,
             "ticks": ""
            },
            "type": "choropleth"
           }
          ],
          "contour": [
           {
            "colorbar": {
             "outlinewidth": 0,
             "ticks": ""
            },
            "colorscale": [
             [
              0,
              "#0d0887"
             ],
             [
              0.1111111111111111,
              "#46039f"
             ],
             [
              0.2222222222222222,
              "#7201a8"
             ],
             [
              0.3333333333333333,
              "#9c179e"
             ],
             [
              0.4444444444444444,
              "#bd3786"
             ],
             [
              0.5555555555555556,
              "#d8576b"
             ],
             [
              0.6666666666666666,
              "#ed7953"
             ],
             [
              0.7777777777777778,
              "#fb9f3a"
             ],
             [
              0.8888888888888888,
              "#fdca26"
             ],
             [
              1,
              "#f0f921"
             ]
            ],
            "type": "contour"
           }
          ],
          "contourcarpet": [
           {
            "colorbar": {
             "outlinewidth": 0,
             "ticks": ""
            },
            "type": "contourcarpet"
           }
          ],
          "heatmap": [
           {
            "colorbar": {
             "outlinewidth": 0,
             "ticks": ""
            },
            "colorscale": [
             [
              0,
              "#0d0887"
             ],
             [
              0.1111111111111111,
              "#46039f"
             ],
             [
              0.2222222222222222,
              "#7201a8"
             ],
             [
              0.3333333333333333,
              "#9c179e"
             ],
             [
              0.4444444444444444,
              "#bd3786"
             ],
             [
              0.5555555555555556,
              "#d8576b"
             ],
             [
              0.6666666666666666,
              "#ed7953"
             ],
             [
              0.7777777777777778,
              "#fb9f3a"
             ],
             [
              0.8888888888888888,
              "#fdca26"
             ],
             [
              1,
              "#f0f921"
             ]
            ],
            "type": "heatmap"
           }
          ],
          "heatmapgl": [
           {
            "colorbar": {
             "outlinewidth": 0,
             "ticks": ""
            },
            "colorscale": [
             [
              0,
              "#0d0887"
             ],
             [
              0.1111111111111111,
              "#46039f"
             ],
             [
              0.2222222222222222,
              "#7201a8"
             ],
             [
              0.3333333333333333,
              "#9c179e"
             ],
             [
              0.4444444444444444,
              "#bd3786"
             ],
             [
              0.5555555555555556,
              "#d8576b"
             ],
             [
              0.6666666666666666,
              "#ed7953"
             ],
             [
              0.7777777777777778,
              "#fb9f3a"
             ],
             [
              0.8888888888888888,
              "#fdca26"
             ],
             [
              1,
              "#f0f921"
             ]
            ],
            "type": "heatmapgl"
           }
          ],
          "histogram": [
           {
            "marker": {
             "pattern": {
              "fillmode": "overlay",
              "size": 10,
              "solidity": 0.2
             }
            },
            "type": "histogram"
           }
          ],
          "histogram2d": [
           {
            "colorbar": {
             "outlinewidth": 0,
             "ticks": ""
            },
            "colorscale": [
             [
              0,
              "#0d0887"
             ],
             [
              0.1111111111111111,
              "#46039f"
             ],
             [
              0.2222222222222222,
              "#7201a8"
             ],
             [
              0.3333333333333333,
              "#9c179e"
             ],
             [
              0.4444444444444444,
              "#bd3786"
             ],
             [
              0.5555555555555556,
              "#d8576b"
             ],
             [
              0.6666666666666666,
              "#ed7953"
             ],
             [
              0.7777777777777778,
              "#fb9f3a"
             ],
             [
              0.8888888888888888,
              "#fdca26"
             ],
             [
              1,
              "#f0f921"
             ]
            ],
            "type": "histogram2d"
           }
          ],
          "histogram2dcontour": [
           {
            "colorbar": {
             "outlinewidth": 0,
             "ticks": ""
            },
            "colorscale": [
             [
              0,
              "#0d0887"
             ],
             [
              0.1111111111111111,
              "#46039f"
             ],
             [
              0.2222222222222222,
              "#7201a8"
             ],
             [
              0.3333333333333333,
              "#9c179e"
             ],
             [
              0.4444444444444444,
              "#bd3786"
             ],
             [
              0.5555555555555556,
              "#d8576b"
             ],
             [
              0.6666666666666666,
              "#ed7953"
             ],
             [
              0.7777777777777778,
              "#fb9f3a"
             ],
             [
              0.8888888888888888,
              "#fdca26"
             ],
             [
              1,
              "#f0f921"
             ]
            ],
            "type": "histogram2dcontour"
           }
          ],
          "mesh3d": [
           {
            "colorbar": {
             "outlinewidth": 0,
             "ticks": ""
            },
            "type": "mesh3d"
           }
          ],
          "parcoords": [
           {
            "line": {
             "colorbar": {
              "outlinewidth": 0,
              "ticks": ""
             }
            },
            "type": "parcoords"
           }
          ],
          "pie": [
           {
            "automargin": true,
            "type": "pie"
           }
          ],
          "scatter": [
           {
            "fillpattern": {
             "fillmode": "overlay",
             "size": 10,
             "solidity": 0.2
            },
            "type": "scatter"
           }
          ],
          "scatter3d": [
           {
            "line": {
             "colorbar": {
              "outlinewidth": 0,
              "ticks": ""
             }
            },
            "marker": {
             "colorbar": {
              "outlinewidth": 0,
              "ticks": ""
             }
            },
            "type": "scatter3d"
           }
          ],
          "scattercarpet": [
           {
            "marker": {
             "colorbar": {
              "outlinewidth": 0,
              "ticks": ""
             }
            },
            "type": "scattercarpet"
           }
          ],
          "scattergeo": [
           {
            "marker": {
             "colorbar": {
              "outlinewidth": 0,
              "ticks": ""
             }
            },
            "type": "scattergeo"
           }
          ],
          "scattergl": [
           {
            "marker": {
             "colorbar": {
              "outlinewidth": 0,
              "ticks": ""
             }
            },
            "type": "scattergl"
           }
          ],
          "scattermapbox": [
           {
            "marker": {
             "colorbar": {
              "outlinewidth": 0,
              "ticks": ""
             }
            },
            "type": "scattermapbox"
           }
          ],
          "scatterpolar": [
           {
            "marker": {
             "colorbar": {
              "outlinewidth": 0,
              "ticks": ""
             }
            },
            "type": "scatterpolar"
           }
          ],
          "scatterpolargl": [
           {
            "marker": {
             "colorbar": {
              "outlinewidth": 0,
              "ticks": ""
             }
            },
            "type": "scatterpolargl"
           }
          ],
          "scatterternary": [
           {
            "marker": {
             "colorbar": {
              "outlinewidth": 0,
              "ticks": ""
             }
            },
            "type": "scatterternary"
           }
          ],
          "surface": [
           {
            "colorbar": {
             "outlinewidth": 0,
             "ticks": ""
            },
            "colorscale": [
             [
              0,
              "#0d0887"
             ],
             [
              0.1111111111111111,
              "#46039f"
             ],
             [
              0.2222222222222222,
              "#7201a8"
             ],
             [
              0.3333333333333333,
              "#9c179e"
             ],
             [
              0.4444444444444444,
              "#bd3786"
             ],
             [
              0.5555555555555556,
              "#d8576b"
             ],
             [
              0.6666666666666666,
              "#ed7953"
             ],
             [
              0.7777777777777778,
              "#fb9f3a"
             ],
             [
              0.8888888888888888,
              "#fdca26"
             ],
             [
              1,
              "#f0f921"
             ]
            ],
            "type": "surface"
           }
          ],
          "table": [
           {
            "cells": {
             "fill": {
              "color": "#EBF0F8"
             },
             "line": {
              "color": "white"
             }
            },
            "header": {
             "fill": {
              "color": "#C8D4E3"
             },
             "line": {
              "color": "white"
             }
            },
            "type": "table"
           }
          ]
         },
         "layout": {
          "annotationdefaults": {
           "arrowcolor": "#2a3f5f",
           "arrowhead": 0,
           "arrowwidth": 1
          },
          "autotypenumbers": "strict",
          "coloraxis": {
           "colorbar": {
            "outlinewidth": 0,
            "ticks": ""
           }
          },
          "colorscale": {
           "diverging": [
            [
             0,
             "#8e0152"
            ],
            [
             0.1,
             "#c51b7d"
            ],
            [
             0.2,
             "#de77ae"
            ],
            [
             0.3,
             "#f1b6da"
            ],
            [
             0.4,
             "#fde0ef"
            ],
            [
             0.5,
             "#f7f7f7"
            ],
            [
             0.6,
             "#e6f5d0"
            ],
            [
             0.7,
             "#b8e186"
            ],
            [
             0.8,
             "#7fbc41"
            ],
            [
             0.9,
             "#4d9221"
            ],
            [
             1,
             "#276419"
            ]
           ],
           "sequential": [
            [
             0,
             "#0d0887"
            ],
            [
             0.1111111111111111,
             "#46039f"
            ],
            [
             0.2222222222222222,
             "#7201a8"
            ],
            [
             0.3333333333333333,
             "#9c179e"
            ],
            [
             0.4444444444444444,
             "#bd3786"
            ],
            [
             0.5555555555555556,
             "#d8576b"
            ],
            [
             0.6666666666666666,
             "#ed7953"
            ],
            [
             0.7777777777777778,
             "#fb9f3a"
            ],
            [
             0.8888888888888888,
             "#fdca26"
            ],
            [
             1,
             "#f0f921"
            ]
           ],
           "sequentialminus": [
            [
             0,
             "#0d0887"
            ],
            [
             0.1111111111111111,
             "#46039f"
            ],
            [
             0.2222222222222222,
             "#7201a8"
            ],
            [
             0.3333333333333333,
             "#9c179e"
            ],
            [
             0.4444444444444444,
             "#bd3786"
            ],
            [
             0.5555555555555556,
             "#d8576b"
            ],
            [
             0.6666666666666666,
             "#ed7953"
            ],
            [
             0.7777777777777778,
             "#fb9f3a"
            ],
            [
             0.8888888888888888,
             "#fdca26"
            ],
            [
             1,
             "#f0f921"
            ]
           ]
          },
          "colorway": [
           "#636efa",
           "#EF553B",
           "#00cc96",
           "#ab63fa",
           "#FFA15A",
           "#19d3f3",
           "#FF6692",
           "#B6E880",
           "#FF97FF",
           "#FECB52"
          ],
          "font": {
           "color": "#2a3f5f"
          },
          "geo": {
           "bgcolor": "white",
           "lakecolor": "white",
           "landcolor": "#E5ECF6",
           "showlakes": true,
           "showland": true,
           "subunitcolor": "white"
          },
          "hoverlabel": {
           "align": "left"
          },
          "hovermode": "closest",
          "mapbox": {
           "style": "light"
          },
          "paper_bgcolor": "white",
          "plot_bgcolor": "#E5ECF6",
          "polar": {
           "angularaxis": {
            "gridcolor": "white",
            "linecolor": "white",
            "ticks": ""
           },
           "bgcolor": "#E5ECF6",
           "radialaxis": {
            "gridcolor": "white",
            "linecolor": "white",
            "ticks": ""
           }
          },
          "scene": {
           "xaxis": {
            "backgroundcolor": "#E5ECF6",
            "gridcolor": "white",
            "gridwidth": 2,
            "linecolor": "white",
            "showbackground": true,
            "ticks": "",
            "zerolinecolor": "white"
           },
           "yaxis": {
            "backgroundcolor": "#E5ECF6",
            "gridcolor": "white",
            "gridwidth": 2,
            "linecolor": "white",
            "showbackground": true,
            "ticks": "",
            "zerolinecolor": "white"
           },
           "zaxis": {
            "backgroundcolor": "#E5ECF6",
            "gridcolor": "white",
            "gridwidth": 2,
            "linecolor": "white",
            "showbackground": true,
            "ticks": "",
            "zerolinecolor": "white"
           }
          },
          "shapedefaults": {
           "line": {
            "color": "#2a3f5f"
           }
          },
          "ternary": {
           "aaxis": {
            "gridcolor": "white",
            "linecolor": "white",
            "ticks": ""
           },
           "baxis": {
            "gridcolor": "white",
            "linecolor": "white",
            "ticks": ""
           },
           "bgcolor": "#E5ECF6",
           "caxis": {
            "gridcolor": "white",
            "linecolor": "white",
            "ticks": ""
           }
          },
          "title": {
           "x": 0.05
          },
          "xaxis": {
           "automargin": true,
           "gridcolor": "white",
           "linecolor": "white",
           "ticks": "",
           "title": {
            "standoff": 15
           },
           "zerolinecolor": "white",
           "zerolinewidth": 2
          },
          "yaxis": {
           "automargin": true,
           "gridcolor": "white",
           "linecolor": "white",
           "ticks": "",
           "title": {
            "standoff": 15
           },
           "zerolinecolor": "white",
           "zerolinewidth": 2
          }
         }
        },
        "xaxis": {
         "anchor": "y",
         "domain": [
          0,
          0.7363
         ],
         "title": {
          "text": "Rank_PCAN"
         }
        },
        "xaxis2": {
         "anchor": "y2",
         "domain": [
          0.7413,
          1
         ],
         "matches": "x2",
         "showgrid": false,
         "showline": false,
         "showticklabels": false,
         "ticks": ""
        },
        "xaxis3": {
         "anchor": "y3",
         "domain": [
          0,
          0.7363
         ],
         "matches": "x",
         "showgrid": true,
         "showticklabels": false
        },
        "xaxis4": {
         "anchor": "y4",
         "domain": [
          0.7413,
          1
         ],
         "matches": "x2",
         "showgrid": false,
         "showline": false,
         "showticklabels": false,
         "ticks": ""
        },
        "yaxis": {
         "anchor": "x",
         "domain": [
          0,
          0.7326
         ],
         "title": {
          "text": "Rank"
         }
        },
        "yaxis2": {
         "anchor": "x2",
         "domain": [
          0,
          0.7326
         ],
         "matches": "y",
         "showgrid": true,
         "showticklabels": false
        },
        "yaxis3": {
         "anchor": "x3",
         "domain": [
          0.7426,
          1
         ],
         "matches": "y3",
         "showgrid": true,
         "showline": false,
         "showticklabels": false,
         "ticks": ""
        },
        "yaxis4": {
         "anchor": "x4",
         "domain": [
          0.7426,
          1
         ],
         "matches": "y3",
         "showgrid": true,
         "showline": false,
         "showticklabels": false,
         "ticks": ""
        }
       }
      },
      "text/html": [
       "<div>                            <div id=\"7038da00-18a5-4c1d-9fa6-42b09ac335e4\" class=\"plotly-graph-div\" style=\"height:525px; width:100%;\"></div>            <script type=\"text/javascript\">                require([\"plotly\"], function(Plotly) {                    window.PLOTLYENV=window.PLOTLYENV || {};                                    if (document.getElementById(\"7038da00-18a5-4c1d-9fa6-42b09ac335e4\")) {                    Plotly.newPlot(                        \"7038da00-18a5-4c1d-9fa6-42b09ac335e4\",                        [{\"customdata\":[[\"SL2-009\",\"CACNA1E\"],[\"SL2-016\",\"PACS1\"],[\"SL2-021\",\"CACNA1A\"],[\"SL2-029\",\"FGFR1\"],[\"SL2-033\",\"GABBR2\"],[\"SL2-049\",\"AFG3L2\"],[\"SL2-105\",\"THOC6\"],[\"SL2-127\",\"EHMT1\"],[\"SL2-144\",\"C2CD3\"],[\"SL2-145\",\"COL2A1\"],[\"SL2-147\",\"CACNA1A\"],[\"SL2-155\",\"CLN6\"],[\"SL2-156\",\"CLN6\"],[\"SL2-157\",\"CLN6\"],[\"SL2-158\",\"RUNX1\"],[\"SL2-164\",\"ATM\"],[\"SL2-167\",\"SOX2\"],[\"SL2-170\",\"KAT6A\"],[\"SL2-173\",\"BMP4\"],[\"SL2-1000\",\"PTPN11\"],[\"SL2-1006\",\"SCN2A\"],[\"SL2-1076\",\"RECQL4\"],[\"SL2-1167\",\"HNRNPU\"],[\"SL2-1181\",\"ARID1B\"],[\"SL2-1187\",\"POMGNT1\"],[\"SL2-1205\",\"NR2F1\"],[\"SL2-1209\",\"UBE3A\"],[\"SL2-1211\",\"SLC6A8\"],[\"SL2-1214\",\"CTCF\"],[\"SL2-1216\",\"UBA1\"],[\"SL2-1222\",\"ALPL\"],[\"SL2-1224\",\"ACTG2\"],[\"SL2-1253\",\"CHD2\"],[\"SL2-1256\",\"COL4A2\"],[\"SL2-1256\",\"COL4A2\"],[\"SL2-1256\",\"MEFV\"],[\"SL2-1256\",\"MEFV\"],[\"SL2-1275\",\"DEAF1\"],[\"SL2-1280\",\"NSD1\"],[\"SL2-1282\",\"MECP2\"],[\"SL2-1282\",\"MECP2\"],[\"SL2-1282\",\"MLH1\"],[\"SL2-1282\",\"MLH1\"],[\"SL2-1291\",\"GLMN\"],[\"SL2-1312\",\"TSPEAR\"],[\"SL2-1315\",\"CACNA1A\"],[\"SL2-1316\",\"SLC35C1\"],[\"SL2-1340\",\"ATP1A3\"],[\"SL2-1343\",\"MYH11\"],[\"SL2-1365\",\"ALG12\"],[\"SL2-1377\",\"DOCK8\"],[\"SL2-1382\",\"CTLA4\"],[\"SL2-1382\",\"CTLA4\"],[\"SL2-1382\",\"NOD2\"],[\"SL2-1382\",\"NOD2\"],[\"SL2-1383\",\"CTCF\"],[\"SL2-1385\",\"TRPS1\"],[\"SL2-1397\",\"ERCC6L2\"],[\"SL2-1431\",\"KMT2B\"],[\"SL2-1435\",\"SETD5\"],[\"SL2-1451\",\"MUC1\"],[\"SL2-1481\",\"ACTB\"],[\"SL2-1490\",\"SLC26A3\"],[\"SL2-1493\",\"TRIP12\"],[\"SL2-1496\",\"ASXL1\"],[\"SL2-1507\",\"COL4A4\"],[\"SL2-1529\",\"PGAP3\"],[\"SL2-1538\",\"GAA\"],[\"SL2-1539\",\"IFIH1\"],[\"SL2-1547\",\"NONO\"],[\"SL2-1554\",\"POGZ\"],[\"SL2-1556\",\"LGI1\"],[\"SL2-1581\",\"ZEB2\"],[\"SL2-1584\",\"KCNB1\"],[\"SL2-1600\",\"CNOT1\"],[\"SL2-1628\",\"AHDC1\"],[\"SL2-1631\",\"PTEN\"],[\"SL2-1653\",\"ATP1A3\"],[\"SL2-1685\",\"TRAPPC9\"],[\"SL2-1723\",\"CUL4B\"],[\"SL2-1766\",\"NSD1\"],[\"SL2-1768\",\"ACTG1\"],[\"SL2-1769\",\"ZSWIM6\"],[\"SL2-190\",\"EZH2\"],[\"SL2-190\",\"EZH2\"],[\"SL2-190\",\"DNMT3A\"],[\"SL2-190\",\"DNMT3A\"],[\"SL2-193\",\"EHMT1\"],[\"SL2-197\",\"IDH1\"],[\"SL2-198\",\"KMT2D\"],[\"SL2-203\",\"NAA15\"],[\"SL2-237\",\"USP9X\"],[\"SL2-245\",\"UBE2A\"],[\"SL2-252\",\"CIC\"],[\"SL2-254\",\"NEFL\"],[\"SL2-259\",\"DMD\"],[\"SL2-266\",\"SLC20A2\"],[\"SL2-1805\",\"MSTO1\"],[\"SL2-1842\",\"CUL3\"],[\"SL2-1886\",\"PPP3CA\"],[\"SL2-1924\",\"HTRA1\"],[\"SL2-1940\",\"SCN2A\"],[\"SL2-1978\",\"PIEZO1\"],[\"SL2-1989\",\"FOXP1\"],[\"SL2-1991\",\"CHD2\"],[\"SL2-2028\",\"PBX1\"],[\"SL2-2081\",\"SIN3A\"],[\"SL2-2086\",\"ABCC9\"],[\"SL2-2141\",\"PLA2G6\"],[\"SL2-2202\",\"TRIO\"],[\"SL2-2238\",\"BRCA2\"],[\"SL2-2239\",\"TRIO\"],[\"SL2-2246\",\"AMPD2\"],[\"SL2-2281\",\"MPZ\"],[\"SL2-2307\",\"PKD1\"],[\"SL2-2307\",\"PKD1\"],[\"SL2-2307\",\"COL11A1\"],[\"SL2-2307\",\"COL11A1\"],[\"SL2-2307\",\"VWF\"],[\"SL2-2307\",\"VWF\"],[\"SL2-2318\",\"TRRAP\"],[\"SL2-2325\",\"GJB2\"],[\"SL2-2328\",\"ALPL\"],[\"SL2-2328\",\"ALPL\"],[\"SL2-2328\",\"NF1\"],[\"SL2-2328\",\"NF1\"],[\"SL2-2354\",\"EFTUD2\"],[\"SL2-2357\",\"ABCD1\"],[\"SL2-2383\",\"NPC1\"],[\"SL2-2404\",\"NR2F2\"],[\"SL2-2433\",\"PTEN\"],[\"SL2-2490\",\"AAAS\"],[\"SL2-2511\",\"LZTR1\"],[\"SL2-2580\",\"TNFRSF1A\"],[\"SL2-2593\",\"ADCY5\"],[\"SL2-2612\",\"MECP2\"],[\"SL2-2646\",\"SMAD4\"],[\"SL2-2647\",\"SHANK3\"],[\"SL2-2689\",\"FLG\"],[\"SL2-273\",\"KANSL1\"],[\"SL2-276\",\"RYR1\"],[\"SL2-284\",\"ANO3\"],[\"SL2-287\",\"TBR1\"],[\"SL2-299\",\"PYCR2\"],[\"SL2-301\",\"KCNA2\"],[\"SL2-310\",\"UMOD\"],[\"SL2-313\",\"NDUFS4\"],[\"SL2-314\",\"TIA1\"],[\"SL2-315\",\"TRRAP\"],[\"SL2-319\",\"KIF11\"],[\"SL2-339\",\"OPA1\"],[\"SL2-349\",\"EXOSC3\"],[\"SL2-363\",\"FA2H\"],[\"SL2-376\",\"XPC\"],[\"SL2-381\",\"BCL11A\"],[\"SL2-387\",\"DDX3X\"],[\"SL2-388\",\"DCX\"],[\"SL2-392\",\"THAP1\"],[\"SL2-395\",\"CASR\"],[\"SL2-397\",\"CYP11A1\"],[\"SL2-400\",\"NR2F1\"],[\"SL2-405\",\"KMT2A\"],[\"SL2-410\",\"GJA1\"],[\"SL2-412\",\"SPG7\"],[\"SL2-421\",\"DEGS1\"],[\"SL2-424\",\"ATM\"],[\"SL2-437\",\"ASH1L\"],[\"SL2-440\",\"ACTA1\"],[\"SL2-442\",\"PTPN11\"],[\"SL2-443\",\"HCFC1\"],[\"SL2-446\",\"PSEN1\"],[\"SL2-449\",\"FBXO11\"],[\"SL2-454\",\"FAR1\"],[\"SL2-457\",\"TGFBR2\"],[\"SL2-458\",\"AEBP1\"],[\"SL2-462\",\"CACNA1A\"],[\"SL2-466\",\"SERPINA1\"],[\"SL2-468\",\"C12orf57\"],[\"SL2-469\",\"CYP7B1\"],[\"SL2-471\",\"ACTB\"],[\"SL2-472\",\"TRPV4\"],[\"SL2-473\",\"EP300\"],[\"SL2-485\",\"TUBB4A\"],[\"SL2-521\",\"TRMU\"],[\"SL2-528\",\"CLN3\"],[\"SL2-2962\",\"LOX\"],[\"SL2-3015\",\"STAG1\"],[\"SL2-3041\",\"NEB\"],[\"SL2-539\",\"EBF3\"],[\"SL2-540\",\"HMGCS2\"],[\"SL2-547\",\"SYNGAP1\"],[\"SL2-550\",\"LTBP3\"],[\"SL2-552\",\"ATP1A3\"],[\"SL2-557\",\"SIN3A\"],[\"SL2-557\",\"SIN3A\"],[\"SL2-557\",\"FLG\"],[\"SL2-557\",\"FLG\"],[\"SL2-557\",\"EDAR\"],[\"SL2-557\",\"EDAR\"],[\"SL2-563\",\"ASXL3\"],[\"SL2-566\",\"ACO2\"],[\"SL2-577\",\"ALDH18A1\"],[\"SL2-579\",\"TTN\"],[\"SL2-579\",\"TTN\"],[\"SL2-579\",\"MYBPC3\"],[\"SL2-579\",\"MYBPC3\"],[\"SL2-580\",\"ACVR1\"],[\"SL2-581\",\"MEFV\"],[\"SL2-592\",\"SLC25A46\"],[\"SL2-598\",\"WAC\"],[\"SL2-607\",\"SLC6A1\"],[\"SL2-623\",\"ENPP1\"],[\"SL2-632\",\"OCA2\"],[\"SL2-646\",\"CHAT\"],[\"SL2-653\",\"NFKB1\"],[\"SL2-657\",\"NKX2-1\"],[\"SL2-659\",\"GFAP\"],[\"SL2-659\",\"GFAP\"],[\"SL2-659\",\"ACVRL1\"],[\"SL2-659\",\"ACVRL1\"],[\"SL2-674\",\"PIGV\"],[\"SL2-681\",\"TBX4\"],[\"SL2-684\",\"SETD5\"],[\"SL2-686\",\"ARSB\"],[\"SL2-688\",\"B4GALNT1\"],[\"SL2-697\",\"ANKRD11\"],[\"SL2-699\",\"CHD7\"],[\"SL2-716\",\"SLC12A3\"],[\"SL2-724\",\"TUBA1A\"],[\"SL2-728\",\"NAA15\"],[\"SL2-732\",\"DOCK3\"],[\"SL2-752\",\"GNPTAB\"],[\"SL2-767\",\"CTCF\"],[\"SL2-795\",\"MECP2\"],[\"SL2-799\",\"GRIN1\"],[\"SL2-799\",\"GRIN1\"],[\"SL2-799\",\"FLG\"],[\"SL2-799\",\"FLG\"],[\"SL2-806\",\"JAK2\"],[\"SL2-816\",\"PIK3R1\"],[\"SL2-817\",\"CACNA1E\"],[\"SL2-835\",\"CACNA1F\"],[\"SL2-835\",\"CACNA1F\"],[\"SL2-835\",\"SPG11\"],[\"SL2-835\",\"SPG11\"],[\"SL2-842\",\"KDM6A\"],[\"SL2-844\",\"CHD2\"],[\"SL2-850\",\"TCF4\"],[\"SL2-852\",\"PLA2G6\"],[\"SL2-854\",\"MAP3K7\"],[\"SL2-860\",\"GABRA1\"],[\"SL2-865\",\"ZBTB18\"],[\"SL2-879\",\"RPS6KA3\"],[\"SL2-879\",\"RPS6KA3\"],[\"SL2-879\",\"USP9X\"],[\"SL2-879\",\"USP9X\"],[\"SL2-891\",\"CBL\"],[\"SL2-891\",\"CBL\"],[\"SL2-891\",\"ELN\"],[\"SL2-891\",\"ELN\"],[\"SL2-904\",\"CFTR\"],[\"SL2-910\",\"POLR3A\"],[\"SL2-919\",\"SON\"],[\"SL2-924\",\"SETD5\"],[\"SL2-938\",\"ZC4H2\"],[\"SL2-940\",\"BRPF1\"],[\"SL2-940\",\"BRPF1\"],[\"SL2-940\",\"KDM5C\"],[\"SL2-940\",\"KDM5C\"],[\"SL2-943\",\"DGAT1\"],[\"SL2-947\",\"SYNGAP1\"]],\"hovertemplate\":\"Method=Rank_bayes_mean<br>Rank_PCAN=%{x}<br>Rank=%{y}<br>Normalized ID=%{customdata[0]}<br>Gene1=%{customdata[1]}<extra></extra>\",\"legendgroup\":\"Rank_bayes_mean\",\"marker\":{\"color\":\"#636efa\",\"symbol\":\"circle\"},\"mode\":\"markers\",\"name\":\"Rank_bayes_mean\",\"orientation\":\"v\",\"showlegend\":true,\"x\":[143.0,826.0,945.0,5.0,1505.0,2169.0,920.0,1926.0,1.0,10.0,4.0,437.0,200.0,165.0,64.0,37.0,81.0,67.0,1451.0,2.0,31.0,858.0,1521.0,47.0,48.0,204.0,848.0,103.0,3378.0,2070.0,121.0,3737.0,876.0,999.0,795.0,999.0,795.0,38.0,1.0,18.0,2962.0,18.0,2962.0,903.0,11.0,3.0,408.0,1895.0,43.0,957.0,40.0,238.0,null,238.0,null,1583.0,767.0,21.0,701.0,455.0,35.0,1159.0,14.0,714.0,742.0,49.0,152.0,4.0,49.0,247.0,504.0,6.0,196.0,1395.0,170.0,716.0,927.0,119.0,339.0,957.0,138.0,2254.0,249.0,205.0,319.0,205.0,319.0,706.0,78.0,5.0,2229.0,322.0,226.0,887.0,10.0,45.0,11.0,14.0,5.0,901.0,26.0,202.0,463.0,634.0,131.0,276.0,988.0,241.0,45.0,85.0,22.0,266.0,455.0,643.0,444.0,1150.0,444.0,1150.0,444.0,1150.0,423.0,179.0,43.0,31.0,43.0,31.0,176.0,879.0,245.0,618.0,139.0,33.0,1080.0,477.0,2419.0,19.0,164.0,233.0,436.0,548.0,4.0,6.0,683.0,593.0,199.0,19.0,90.0,63.0,15.0,89.0,17.0,933.0,1.0,12.0,355.0,2309.0,302.0,3.0,642.0,7.0,611.0,8.0,71.0,104.0,94.0,137.0,192.0,2.0,187.0,1637.0,33.0,157.0,99.0,5.0,211.0,188.0,1513.0,185.0,432.0,352.0,22.0,205.0,447.0,1026.0,64.0,19.0,490.0,288.0,258.0,240.0,50.0,361.0,166.0,174.0,2267.0,174.0,2267.0,174.0,2267.0,491.0,894.0,38.0,28.0,25.0,28.0,25.0,365.0,708.0,367.0,627.0,2474.0,55.0,45.0,3.0,242.0,227.0,674.0,31.0,674.0,31.0,741.0,2002.0,203.0,81.0,7.0,2266.0,272.0,5.0,14.0,1.0,1324.0,6.0,2216.0,10.0,157.0,1938.0,157.0,1938.0,14.0,365.0,13.0,778.0,14.0,778.0,14.0,965.0,89.0,130.0,18.0,11.0,1055.0,2125.0,874.0,974.0,874.0,974.0,233.0,689.0,233.0,689.0,190.0,161.0,244.0,144.0,83.0,387.0,943.0,387.0,943.0,16.0,367.0],\"xaxis\":\"x\",\"y\":[719.0,269.0,1306.0,104.0,769.0,2053.0,2623.0,2604.0,1962.0,575.0,522.0,2618.0,3322.0,3147.0,367.0,776.0,739.0,1053.0,412.0,406.0,2658.0,2549.0,377.0,523.0,79.0,711.0,567.0,639.0,257.0,214.0,1178.0,1412.0,776.0,1174.0,1174.0,445.0,445.0,50.0,1215.0,182.0,182.0,2073.0,2073.0,159.0,536.0,623.0,542.0,69.0,985.0,267.0,22.0,34.0,34.0,1935.0,1935.0,822.0,2070.0,1524.0,3318.0,2784.0,3488.0,28.0,658.0,1256.0,1148.0,2676.0,989.0,2660.0,779.0,151.0,1042.0,1998.0,3098.0,616.0,1232.0,3159.0,265.0,134.0,867.0,925.0,1589.0,956.0,1514.0,417.0,417.0,1113.0,1113.0,2577.0,544.0,3304.0,2984.0,628.0,15.0,2111.0,131.0,1248.0,639.0,1343.0,247.0,9.0,671.0,2061.0,2783.0,135.0,1674.0,999.0,988.0,1497.0,1381.0,2869.0,2739.0,3089.0,3020.0,1140.0,3480.0,3480.0,3221.0,3221.0,1766.0,1766.0,3239.0,502.0,1033.0,1033.0,1536.0,1536.0,1546.0,1165.0,2834.0,2437.0,163.0,917.0,827.0,1922.0,1931.0,380.0,312.0,1948.0,2980.0,381.0,906.0,2747.0,51.0,212.0,397.0,2447.0,438.0,2807.0,1913.0,391.0,1254.0,393.0,159.0,6.0,619.0,2349.0,609.0,100.0,1053.0,1233.0,1126.0,1803.0,143.0,1293.0,472.0,668.0,2534.0,2.0,296.0,1267.0,827.0,277.0,372.0,163.0,2086.0,1835.0,789.0,3348.0,1152.0,43.0,856.0,357.0,924.0,394.0,2391.0,1543.0,2030.0,2229.0,1890.0,2487.0,311.0,3122.0,47.0,386.0,386.0,2473.0,2473.0,1626.0,1626.0,1769.0,2885.0,136.0,3128.0,3128.0,2738.0,2738.0,2576.0,4.0,435.0,865.0,1418.0,411.0,302.0,107.0,105.0,87.0,784.0,784.0,1752.0,1752.0,90.0,222.0,3105.0,2134.0,761.0,2197.0,2217.0,48.0,1079.0,3165.0,3041.0,994.0,385.0,377.0,905.0,905.0,989.0,989.0,350.0,231.0,1081.0,2320.0,2320.0,2918.0,2918.0,519.0,378.0,422.0,767.0,506.0,2364.0,1980.0,40.0,40.0,378.0,378.0,428.0,428.0,1147.0,1147.0,121.0,321.0,2840.0,3125.0,51.0,3381.0,3381.0,2893.0,2893.0,3410.0,416.0],\"yaxis\":\"y\",\"type\":\"scatter\"},{\"alignmentgroup\":\"True\",\"bingroup\":\"x\",\"hovertemplate\":\"Method=Rank_bayes_mean<br>Rank_PCAN=%{x}<br>count=%{y}<extra></extra>\",\"legendgroup\":\"Rank_bayes_mean\",\"marker\":{\"color\":\"#636efa\"},\"name\":\"Rank_bayes_mean\",\"offsetgroup\":\"Rank_bayes_mean\",\"opacity\":0.5,\"showlegend\":false,\"x\":[143.0,826.0,945.0,5.0,1505.0,2169.0,920.0,1926.0,1.0,10.0,4.0,437.0,200.0,165.0,64.0,37.0,81.0,67.0,1451.0,2.0,31.0,858.0,1521.0,47.0,48.0,204.0,848.0,103.0,3378.0,2070.0,121.0,3737.0,876.0,999.0,795.0,999.0,795.0,38.0,1.0,18.0,2962.0,18.0,2962.0,903.0,11.0,3.0,408.0,1895.0,43.0,957.0,40.0,238.0,null,238.0,null,1583.0,767.0,21.0,701.0,455.0,35.0,1159.0,14.0,714.0,742.0,49.0,152.0,4.0,49.0,247.0,504.0,6.0,196.0,1395.0,170.0,716.0,927.0,119.0,339.0,957.0,138.0,2254.0,249.0,205.0,319.0,205.0,319.0,706.0,78.0,5.0,2229.0,322.0,226.0,887.0,10.0,45.0,11.0,14.0,5.0,901.0,26.0,202.0,463.0,634.0,131.0,276.0,988.0,241.0,45.0,85.0,22.0,266.0,455.0,643.0,444.0,1150.0,444.0,1150.0,444.0,1150.0,423.0,179.0,43.0,31.0,43.0,31.0,176.0,879.0,245.0,618.0,139.0,33.0,1080.0,477.0,2419.0,19.0,164.0,233.0,436.0,548.0,4.0,6.0,683.0,593.0,199.0,19.0,90.0,63.0,15.0,89.0,17.0,933.0,1.0,12.0,355.0,2309.0,302.0,3.0,642.0,7.0,611.0,8.0,71.0,104.0,94.0,137.0,192.0,2.0,187.0,1637.0,33.0,157.0,99.0,5.0,211.0,188.0,1513.0,185.0,432.0,352.0,22.0,205.0,447.0,1026.0,64.0,19.0,490.0,288.0,258.0,240.0,50.0,361.0,166.0,174.0,2267.0,174.0,2267.0,174.0,2267.0,491.0,894.0,38.0,28.0,25.0,28.0,25.0,365.0,708.0,367.0,627.0,2474.0,55.0,45.0,3.0,242.0,227.0,674.0,31.0,674.0,31.0,741.0,2002.0,203.0,81.0,7.0,2266.0,272.0,5.0,14.0,1.0,1324.0,6.0,2216.0,10.0,157.0,1938.0,157.0,1938.0,14.0,365.0,13.0,778.0,14.0,778.0,14.0,965.0,89.0,130.0,18.0,11.0,1055.0,2125.0,874.0,974.0,874.0,974.0,233.0,689.0,233.0,689.0,190.0,161.0,244.0,144.0,83.0,387.0,943.0,387.0,943.0,16.0,367.0],\"xaxis\":\"x3\",\"yaxis\":\"y3\",\"type\":\"histogram\"},{\"alignmentgroup\":\"True\",\"boxpoints\":\"all\",\"customdata\":[[\"SL2-009\",\"CACNA1E\"],[\"SL2-016\",\"PACS1\"],[\"SL2-021\",\"CACNA1A\"],[\"SL2-029\",\"FGFR1\"],[\"SL2-033\",\"GABBR2\"],[\"SL2-049\",\"AFG3L2\"],[\"SL2-105\",\"THOC6\"],[\"SL2-127\",\"EHMT1\"],[\"SL2-144\",\"C2CD3\"],[\"SL2-145\",\"COL2A1\"],[\"SL2-147\",\"CACNA1A\"],[\"SL2-155\",\"CLN6\"],[\"SL2-156\",\"CLN6\"],[\"SL2-157\",\"CLN6\"],[\"SL2-158\",\"RUNX1\"],[\"SL2-164\",\"ATM\"],[\"SL2-167\",\"SOX2\"],[\"SL2-170\",\"KAT6A\"],[\"SL2-173\",\"BMP4\"],[\"SL2-1000\",\"PTPN11\"],[\"SL2-1006\",\"SCN2A\"],[\"SL2-1076\",\"RECQL4\"],[\"SL2-1167\",\"HNRNPU\"],[\"SL2-1181\",\"ARID1B\"],[\"SL2-1187\",\"POMGNT1\"],[\"SL2-1205\",\"NR2F1\"],[\"SL2-1209\",\"UBE3A\"],[\"SL2-1211\",\"SLC6A8\"],[\"SL2-1214\",\"CTCF\"],[\"SL2-1216\",\"UBA1\"],[\"SL2-1222\",\"ALPL\"],[\"SL2-1224\",\"ACTG2\"],[\"SL2-1253\",\"CHD2\"],[\"SL2-1256\",\"COL4A2\"],[\"SL2-1256\",\"COL4A2\"],[\"SL2-1256\",\"MEFV\"],[\"SL2-1256\",\"MEFV\"],[\"SL2-1275\",\"DEAF1\"],[\"SL2-1280\",\"NSD1\"],[\"SL2-1282\",\"MECP2\"],[\"SL2-1282\",\"MECP2\"],[\"SL2-1282\",\"MLH1\"],[\"SL2-1282\",\"MLH1\"],[\"SL2-1291\",\"GLMN\"],[\"SL2-1312\",\"TSPEAR\"],[\"SL2-1315\",\"CACNA1A\"],[\"SL2-1316\",\"SLC35C1\"],[\"SL2-1340\",\"ATP1A3\"],[\"SL2-1343\",\"MYH11\"],[\"SL2-1365\",\"ALG12\"],[\"SL2-1377\",\"DOCK8\"],[\"SL2-1382\",\"CTLA4\"],[\"SL2-1382\",\"CTLA4\"],[\"SL2-1382\",\"NOD2\"],[\"SL2-1382\",\"NOD2\"],[\"SL2-1383\",\"CTCF\"],[\"SL2-1385\",\"TRPS1\"],[\"SL2-1397\",\"ERCC6L2\"],[\"SL2-1431\",\"KMT2B\"],[\"SL2-1435\",\"SETD5\"],[\"SL2-1451\",\"MUC1\"],[\"SL2-1481\",\"ACTB\"],[\"SL2-1490\",\"SLC26A3\"],[\"SL2-1493\",\"TRIP12\"],[\"SL2-1496\",\"ASXL1\"],[\"SL2-1507\",\"COL4A4\"],[\"SL2-1529\",\"PGAP3\"],[\"SL2-1538\",\"GAA\"],[\"SL2-1539\",\"IFIH1\"],[\"SL2-1547\",\"NONO\"],[\"SL2-1554\",\"POGZ\"],[\"SL2-1556\",\"LGI1\"],[\"SL2-1581\",\"ZEB2\"],[\"SL2-1584\",\"KCNB1\"],[\"SL2-1600\",\"CNOT1\"],[\"SL2-1628\",\"AHDC1\"],[\"SL2-1631\",\"PTEN\"],[\"SL2-1653\",\"ATP1A3\"],[\"SL2-1685\",\"TRAPPC9\"],[\"SL2-1723\",\"CUL4B\"],[\"SL2-1766\",\"NSD1\"],[\"SL2-1768\",\"ACTG1\"],[\"SL2-1769\",\"ZSWIM6\"],[\"SL2-190\",\"EZH2\"],[\"SL2-190\",\"EZH2\"],[\"SL2-190\",\"DNMT3A\"],[\"SL2-190\",\"DNMT3A\"],[\"SL2-193\",\"EHMT1\"],[\"SL2-197\",\"IDH1\"],[\"SL2-198\",\"KMT2D\"],[\"SL2-203\",\"NAA15\"],[\"SL2-237\",\"USP9X\"],[\"SL2-245\",\"UBE2A\"],[\"SL2-252\",\"CIC\"],[\"SL2-254\",\"NEFL\"],[\"SL2-259\",\"DMD\"],[\"SL2-266\",\"SLC20A2\"],[\"SL2-1805\",\"MSTO1\"],[\"SL2-1842\",\"CUL3\"],[\"SL2-1886\",\"PPP3CA\"],[\"SL2-1924\",\"HTRA1\"],[\"SL2-1940\",\"SCN2A\"],[\"SL2-1978\",\"PIEZO1\"],[\"SL2-1989\",\"FOXP1\"],[\"SL2-1991\",\"CHD2\"],[\"SL2-2028\",\"PBX1\"],[\"SL2-2081\",\"SIN3A\"],[\"SL2-2086\",\"ABCC9\"],[\"SL2-2141\",\"PLA2G6\"],[\"SL2-2202\",\"TRIO\"],[\"SL2-2238\",\"BRCA2\"],[\"SL2-2239\",\"TRIO\"],[\"SL2-2246\",\"AMPD2\"],[\"SL2-2281\",\"MPZ\"],[\"SL2-2307\",\"PKD1\"],[\"SL2-2307\",\"PKD1\"],[\"SL2-2307\",\"COL11A1\"],[\"SL2-2307\",\"COL11A1\"],[\"SL2-2307\",\"VWF\"],[\"SL2-2307\",\"VWF\"],[\"SL2-2318\",\"TRRAP\"],[\"SL2-2325\",\"GJB2\"],[\"SL2-2328\",\"ALPL\"],[\"SL2-2328\",\"ALPL\"],[\"SL2-2328\",\"NF1\"],[\"SL2-2328\",\"NF1\"],[\"SL2-2354\",\"EFTUD2\"],[\"SL2-2357\",\"ABCD1\"],[\"SL2-2383\",\"NPC1\"],[\"SL2-2404\",\"NR2F2\"],[\"SL2-2433\",\"PTEN\"],[\"SL2-2490\",\"AAAS\"],[\"SL2-2511\",\"LZTR1\"],[\"SL2-2580\",\"TNFRSF1A\"],[\"SL2-2593\",\"ADCY5\"],[\"SL2-2612\",\"MECP2\"],[\"SL2-2646\",\"SMAD4\"],[\"SL2-2647\",\"SHANK3\"],[\"SL2-2689\",\"FLG\"],[\"SL2-273\",\"KANSL1\"],[\"SL2-276\",\"RYR1\"],[\"SL2-284\",\"ANO3\"],[\"SL2-287\",\"TBR1\"],[\"SL2-299\",\"PYCR2\"],[\"SL2-301\",\"KCNA2\"],[\"SL2-310\",\"UMOD\"],[\"SL2-313\",\"NDUFS4\"],[\"SL2-314\",\"TIA1\"],[\"SL2-315\",\"TRRAP\"],[\"SL2-319\",\"KIF11\"],[\"SL2-339\",\"OPA1\"],[\"SL2-349\",\"EXOSC3\"],[\"SL2-363\",\"FA2H\"],[\"SL2-376\",\"XPC\"],[\"SL2-381\",\"BCL11A\"],[\"SL2-387\",\"DDX3X\"],[\"SL2-388\",\"DCX\"],[\"SL2-392\",\"THAP1\"],[\"SL2-395\",\"CASR\"],[\"SL2-397\",\"CYP11A1\"],[\"SL2-400\",\"NR2F1\"],[\"SL2-405\",\"KMT2A\"],[\"SL2-410\",\"GJA1\"],[\"SL2-412\",\"SPG7\"],[\"SL2-421\",\"DEGS1\"],[\"SL2-424\",\"ATM\"],[\"SL2-437\",\"ASH1L\"],[\"SL2-440\",\"ACTA1\"],[\"SL2-442\",\"PTPN11\"],[\"SL2-443\",\"HCFC1\"],[\"SL2-446\",\"PSEN1\"],[\"SL2-449\",\"FBXO11\"],[\"SL2-454\",\"FAR1\"],[\"SL2-457\",\"TGFBR2\"],[\"SL2-458\",\"AEBP1\"],[\"SL2-462\",\"CACNA1A\"],[\"SL2-466\",\"SERPINA1\"],[\"SL2-468\",\"C12orf57\"],[\"SL2-469\",\"CYP7B1\"],[\"SL2-471\",\"ACTB\"],[\"SL2-472\",\"TRPV4\"],[\"SL2-473\",\"EP300\"],[\"SL2-485\",\"TUBB4A\"],[\"SL2-521\",\"TRMU\"],[\"SL2-528\",\"CLN3\"],[\"SL2-2962\",\"LOX\"],[\"SL2-3015\",\"STAG1\"],[\"SL2-3041\",\"NEB\"],[\"SL2-539\",\"EBF3\"],[\"SL2-540\",\"HMGCS2\"],[\"SL2-547\",\"SYNGAP1\"],[\"SL2-550\",\"LTBP3\"],[\"SL2-552\",\"ATP1A3\"],[\"SL2-557\",\"SIN3A\"],[\"SL2-557\",\"SIN3A\"],[\"SL2-557\",\"FLG\"],[\"SL2-557\",\"FLG\"],[\"SL2-557\",\"EDAR\"],[\"SL2-557\",\"EDAR\"],[\"SL2-563\",\"ASXL3\"],[\"SL2-566\",\"ACO2\"],[\"SL2-577\",\"ALDH18A1\"],[\"SL2-579\",\"TTN\"],[\"SL2-579\",\"TTN\"],[\"SL2-579\",\"MYBPC3\"],[\"SL2-579\",\"MYBPC3\"],[\"SL2-580\",\"ACVR1\"],[\"SL2-581\",\"MEFV\"],[\"SL2-592\",\"SLC25A46\"],[\"SL2-598\",\"WAC\"],[\"SL2-607\",\"SLC6A1\"],[\"SL2-623\",\"ENPP1\"],[\"SL2-632\",\"OCA2\"],[\"SL2-646\",\"CHAT\"],[\"SL2-653\",\"NFKB1\"],[\"SL2-657\",\"NKX2-1\"],[\"SL2-659\",\"GFAP\"],[\"SL2-659\",\"GFAP\"],[\"SL2-659\",\"ACVRL1\"],[\"SL2-659\",\"ACVRL1\"],[\"SL2-674\",\"PIGV\"],[\"SL2-681\",\"TBX4\"],[\"SL2-684\",\"SETD5\"],[\"SL2-686\",\"ARSB\"],[\"SL2-688\",\"B4GALNT1\"],[\"SL2-697\",\"ANKRD11\"],[\"SL2-699\",\"CHD7\"],[\"SL2-716\",\"SLC12A3\"],[\"SL2-724\",\"TUBA1A\"],[\"SL2-728\",\"NAA15\"],[\"SL2-732\",\"DOCK3\"],[\"SL2-752\",\"GNPTAB\"],[\"SL2-767\",\"CTCF\"],[\"SL2-795\",\"MECP2\"],[\"SL2-799\",\"GRIN1\"],[\"SL2-799\",\"GRIN1\"],[\"SL2-799\",\"FLG\"],[\"SL2-799\",\"FLG\"],[\"SL2-806\",\"JAK2\"],[\"SL2-816\",\"PIK3R1\"],[\"SL2-817\",\"CACNA1E\"],[\"SL2-835\",\"CACNA1F\"],[\"SL2-835\",\"CACNA1F\"],[\"SL2-835\",\"SPG11\"],[\"SL2-835\",\"SPG11\"],[\"SL2-842\",\"KDM6A\"],[\"SL2-844\",\"CHD2\"],[\"SL2-850\",\"TCF4\"],[\"SL2-852\",\"PLA2G6\"],[\"SL2-854\",\"MAP3K7\"],[\"SL2-860\",\"GABRA1\"],[\"SL2-865\",\"ZBTB18\"],[\"SL2-879\",\"RPS6KA3\"],[\"SL2-879\",\"RPS6KA3\"],[\"SL2-879\",\"USP9X\"],[\"SL2-879\",\"USP9X\"],[\"SL2-891\",\"CBL\"],[\"SL2-891\",\"CBL\"],[\"SL2-891\",\"ELN\"],[\"SL2-891\",\"ELN\"],[\"SL2-904\",\"CFTR\"],[\"SL2-910\",\"POLR3A\"],[\"SL2-919\",\"SON\"],[\"SL2-924\",\"SETD5\"],[\"SL2-938\",\"ZC4H2\"],[\"SL2-940\",\"BRPF1\"],[\"SL2-940\",\"BRPF1\"],[\"SL2-940\",\"KDM5C\"],[\"SL2-940\",\"KDM5C\"],[\"SL2-943\",\"DGAT1\"],[\"SL2-947\",\"SYNGAP1\"]],\"fillcolor\":\"rgba(255,255,255,0)\",\"hoveron\":\"points\",\"hovertemplate\":\"Method=Rank_bayes_mean<br>Rank=%{y}<br>Normalized ID=%{customdata[0]}<br>Gene1=%{customdata[1]}<extra></extra>\",\"jitter\":0,\"legendgroup\":\"Rank_bayes_mean\",\"line\":{\"color\":\"rgba(255,255,255,0)\"},\"marker\":{\"color\":\"#636efa\",\"symbol\":\"line-ew-open\"},\"name\":\"Rank_bayes_mean\",\"offsetgroup\":\"Rank_bayes_mean\",\"showlegend\":false,\"xaxis\":\"x2\",\"y\":[719.0,269.0,1306.0,104.0,769.0,2053.0,2623.0,2604.0,1962.0,575.0,522.0,2618.0,3322.0,3147.0,367.0,776.0,739.0,1053.0,412.0,406.0,2658.0,2549.0,377.0,523.0,79.0,711.0,567.0,639.0,257.0,214.0,1178.0,1412.0,776.0,1174.0,1174.0,445.0,445.0,50.0,1215.0,182.0,182.0,2073.0,2073.0,159.0,536.0,623.0,542.0,69.0,985.0,267.0,22.0,34.0,34.0,1935.0,1935.0,822.0,2070.0,1524.0,3318.0,2784.0,3488.0,28.0,658.0,1256.0,1148.0,2676.0,989.0,2660.0,779.0,151.0,1042.0,1998.0,3098.0,616.0,1232.0,3159.0,265.0,134.0,867.0,925.0,1589.0,956.0,1514.0,417.0,417.0,1113.0,1113.0,2577.0,544.0,3304.0,2984.0,628.0,15.0,2111.0,131.0,1248.0,639.0,1343.0,247.0,9.0,671.0,2061.0,2783.0,135.0,1674.0,999.0,988.0,1497.0,1381.0,2869.0,2739.0,3089.0,3020.0,1140.0,3480.0,3480.0,3221.0,3221.0,1766.0,1766.0,3239.0,502.0,1033.0,1033.0,1536.0,1536.0,1546.0,1165.0,2834.0,2437.0,163.0,917.0,827.0,1922.0,1931.0,380.0,312.0,1948.0,2980.0,381.0,906.0,2747.0,51.0,212.0,397.0,2447.0,438.0,2807.0,1913.0,391.0,1254.0,393.0,159.0,6.0,619.0,2349.0,609.0,100.0,1053.0,1233.0,1126.0,1803.0,143.0,1293.0,472.0,668.0,2534.0,2.0,296.0,1267.0,827.0,277.0,372.0,163.0,2086.0,1835.0,789.0,3348.0,1152.0,43.0,856.0,357.0,924.0,394.0,2391.0,1543.0,2030.0,2229.0,1890.0,2487.0,311.0,3122.0,47.0,386.0,386.0,2473.0,2473.0,1626.0,1626.0,1769.0,2885.0,136.0,3128.0,3128.0,2738.0,2738.0,2576.0,4.0,435.0,865.0,1418.0,411.0,302.0,107.0,105.0,87.0,784.0,784.0,1752.0,1752.0,90.0,222.0,3105.0,2134.0,761.0,2197.0,2217.0,48.0,1079.0,3165.0,3041.0,994.0,385.0,377.0,905.0,905.0,989.0,989.0,350.0,231.0,1081.0,2320.0,2320.0,2918.0,2918.0,519.0,378.0,422.0,767.0,506.0,2364.0,1980.0,40.0,40.0,378.0,378.0,428.0,428.0,1147.0,1147.0,121.0,321.0,2840.0,3125.0,51.0,3381.0,3381.0,2893.0,2893.0,3410.0,416.0],\"yaxis\":\"y2\",\"type\":\"box\"}],                        {\"template\":{\"data\":{\"histogram2dcontour\":[{\"type\":\"histogram2dcontour\",\"colorbar\":{\"outlinewidth\":0,\"ticks\":\"\"},\"colorscale\":[[0.0,\"#0d0887\"],[0.1111111111111111,\"#46039f\"],[0.2222222222222222,\"#7201a8\"],[0.3333333333333333,\"#9c179e\"],[0.4444444444444444,\"#bd3786\"],[0.5555555555555556,\"#d8576b\"],[0.6666666666666666,\"#ed7953\"],[0.7777777777777778,\"#fb9f3a\"],[0.8888888888888888,\"#fdca26\"],[1.0,\"#f0f921\"]]}],\"choropleth\":[{\"type\":\"choropleth\",\"colorbar\":{\"outlinewidth\":0,\"ticks\":\"\"}}],\"histogram2d\":[{\"type\":\"histogram2d\",\"colorbar\":{\"outlinewidth\":0,\"ticks\":\"\"},\"colorscale\":[[0.0,\"#0d0887\"],[0.1111111111111111,\"#46039f\"],[0.2222222222222222,\"#7201a8\"],[0.3333333333333333,\"#9c179e\"],[0.4444444444444444,\"#bd3786\"],[0.5555555555555556,\"#d8576b\"],[0.6666666666666666,\"#ed7953\"],[0.7777777777777778,\"#fb9f3a\"],[0.8888888888888888,\"#fdca26\"],[1.0,\"#f0f921\"]]}],\"heatmap\":[{\"type\":\"heatmap\",\"colorbar\":{\"outlinewidth\":0,\"ticks\":\"\"},\"colorscale\":[[0.0,\"#0d0887\"],[0.1111111111111111,\"#46039f\"],[0.2222222222222222,\"#7201a8\"],[0.3333333333333333,\"#9c179e\"],[0.4444444444444444,\"#bd3786\"],[0.5555555555555556,\"#d8576b\"],[0.6666666666666666,\"#ed7953\"],[0.7777777777777778,\"#fb9f3a\"],[0.8888888888888888,\"#fdca26\"],[1.0,\"#f0f921\"]]}],\"heatmapgl\":[{\"type\":\"heatmapgl\",\"colorbar\":{\"outlinewidth\":0,\"ticks\":\"\"},\"colorscale\":[[0.0,\"#0d0887\"],[0.1111111111111111,\"#46039f\"],[0.2222222222222222,\"#7201a8\"],[0.3333333333333333,\"#9c179e\"],[0.4444444444444444,\"#bd3786\"],[0.5555555555555556,\"#d8576b\"],[0.6666666666666666,\"#ed7953\"],[0.7777777777777778,\"#fb9f3a\"],[0.8888888888888888,\"#fdca26\"],[1.0,\"#f0f921\"]]}],\"contourcarpet\":[{\"type\":\"contourcarpet\",\"colorbar\":{\"outlinewidth\":0,\"ticks\":\"\"}}],\"contour\":[{\"type\":\"contour\",\"colorbar\":{\"outlinewidth\":0,\"ticks\":\"\"},\"colorscale\":[[0.0,\"#0d0887\"],[0.1111111111111111,\"#46039f\"],[0.2222222222222222,\"#7201a8\"],[0.3333333333333333,\"#9c179e\"],[0.4444444444444444,\"#bd3786\"],[0.5555555555555556,\"#d8576b\"],[0.6666666666666666,\"#ed7953\"],[0.7777777777777778,\"#fb9f3a\"],[0.8888888888888888,\"#fdca26\"],[1.0,\"#f0f921\"]]}],\"surface\":[{\"type\":\"surface\",\"colorbar\":{\"outlinewidth\":0,\"ticks\":\"\"},\"colorscale\":[[0.0,\"#0d0887\"],[0.1111111111111111,\"#46039f\"],[0.2222222222222222,\"#7201a8\"],[0.3333333333333333,\"#9c179e\"],[0.4444444444444444,\"#bd3786\"],[0.5555555555555556,\"#d8576b\"],[0.6666666666666666,\"#ed7953\"],[0.7777777777777778,\"#fb9f3a\"],[0.8888888888888888,\"#fdca26\"],[1.0,\"#f0f921\"]]}],\"mesh3d\":[{\"type\":\"mesh3d\",\"colorbar\":{\"outlinewidth\":0,\"ticks\":\"\"}}],\"scatter\":[{\"fillpattern\":{\"fillmode\":\"overlay\",\"size\":10,\"solidity\":0.2},\"type\":\"scatter\"}],\"parcoords\":[{\"type\":\"parcoords\",\"line\":{\"colorbar\":{\"outlinewidth\":0,\"ticks\":\"\"}}}],\"scatterpolargl\":[{\"type\":\"scatterpolargl\",\"marker\":{\"colorbar\":{\"outlinewidth\":0,\"ticks\":\"\"}}}],\"bar\":[{\"error_x\":{\"color\":\"#2a3f5f\"},\"error_y\":{\"color\":\"#2a3f5f\"},\"marker\":{\"line\":{\"color\":\"#E5ECF6\",\"width\":0.5},\"pattern\":{\"fillmode\":\"overlay\",\"size\":10,\"solidity\":0.2}},\"type\":\"bar\"}],\"scattergeo\":[{\"type\":\"scattergeo\",\"marker\":{\"colorbar\":{\"outlinewidth\":0,\"ticks\":\"\"}}}],\"scatterpolar\":[{\"type\":\"scatterpolar\",\"marker\":{\"colorbar\":{\"outlinewidth\":0,\"ticks\":\"\"}}}],\"histogram\":[{\"marker\":{\"pattern\":{\"fillmode\":\"overlay\",\"size\":10,\"solidity\":0.2}},\"type\":\"histogram\"}],\"scattergl\":[{\"type\":\"scattergl\",\"marker\":{\"colorbar\":{\"outlinewidth\":0,\"ticks\":\"\"}}}],\"scatter3d\":[{\"type\":\"scatter3d\",\"line\":{\"colorbar\":{\"outlinewidth\":0,\"ticks\":\"\"}},\"marker\":{\"colorbar\":{\"outlinewidth\":0,\"ticks\":\"\"}}}],\"scattermapbox\":[{\"type\":\"scattermapbox\",\"marker\":{\"colorbar\":{\"outlinewidth\":0,\"ticks\":\"\"}}}],\"scatterternary\":[{\"type\":\"scatterternary\",\"marker\":{\"colorbar\":{\"outlinewidth\":0,\"ticks\":\"\"}}}],\"scattercarpet\":[{\"type\":\"scattercarpet\",\"marker\":{\"colorbar\":{\"outlinewidth\":0,\"ticks\":\"\"}}}],\"carpet\":[{\"aaxis\":{\"endlinecolor\":\"#2a3f5f\",\"gridcolor\":\"white\",\"linecolor\":\"white\",\"minorgridcolor\":\"white\",\"startlinecolor\":\"#2a3f5f\"},\"baxis\":{\"endlinecolor\":\"#2a3f5f\",\"gridcolor\":\"white\",\"linecolor\":\"white\",\"minorgridcolor\":\"white\",\"startlinecolor\":\"#2a3f5f\"},\"type\":\"carpet\"}],\"table\":[{\"cells\":{\"fill\":{\"color\":\"#EBF0F8\"},\"line\":{\"color\":\"white\"}},\"header\":{\"fill\":{\"color\":\"#C8D4E3\"},\"line\":{\"color\":\"white\"}},\"type\":\"table\"}],\"barpolar\":[{\"marker\":{\"line\":{\"color\":\"#E5ECF6\",\"width\":0.5},\"pattern\":{\"fillmode\":\"overlay\",\"size\":10,\"solidity\":0.2}},\"type\":\"barpolar\"}],\"pie\":[{\"automargin\":true,\"type\":\"pie\"}]},\"layout\":{\"autotypenumbers\":\"strict\",\"colorway\":[\"#636efa\",\"#EF553B\",\"#00cc96\",\"#ab63fa\",\"#FFA15A\",\"#19d3f3\",\"#FF6692\",\"#B6E880\",\"#FF97FF\",\"#FECB52\"],\"font\":{\"color\":\"#2a3f5f\"},\"hovermode\":\"closest\",\"hoverlabel\":{\"align\":\"left\"},\"paper_bgcolor\":\"white\",\"plot_bgcolor\":\"#E5ECF6\",\"polar\":{\"bgcolor\":\"#E5ECF6\",\"angularaxis\":{\"gridcolor\":\"white\",\"linecolor\":\"white\",\"ticks\":\"\"},\"radialaxis\":{\"gridcolor\":\"white\",\"linecolor\":\"white\",\"ticks\":\"\"}},\"ternary\":{\"bgcolor\":\"#E5ECF6\",\"aaxis\":{\"gridcolor\":\"white\",\"linecolor\":\"white\",\"ticks\":\"\"},\"baxis\":{\"gridcolor\":\"white\",\"linecolor\":\"white\",\"ticks\":\"\"},\"caxis\":{\"gridcolor\":\"white\",\"linecolor\":\"white\",\"ticks\":\"\"}},\"coloraxis\":{\"colorbar\":{\"outlinewidth\":0,\"ticks\":\"\"}},\"colorscale\":{\"sequential\":[[0.0,\"#0d0887\"],[0.1111111111111111,\"#46039f\"],[0.2222222222222222,\"#7201a8\"],[0.3333333333333333,\"#9c179e\"],[0.4444444444444444,\"#bd3786\"],[0.5555555555555556,\"#d8576b\"],[0.6666666666666666,\"#ed7953\"],[0.7777777777777778,\"#fb9f3a\"],[0.8888888888888888,\"#fdca26\"],[1.0,\"#f0f921\"]],\"sequentialminus\":[[0.0,\"#0d0887\"],[0.1111111111111111,\"#46039f\"],[0.2222222222222222,\"#7201a8\"],[0.3333333333333333,\"#9c179e\"],[0.4444444444444444,\"#bd3786\"],[0.5555555555555556,\"#d8576b\"],[0.6666666666666666,\"#ed7953\"],[0.7777777777777778,\"#fb9f3a\"],[0.8888888888888888,\"#fdca26\"],[1.0,\"#f0f921\"]],\"diverging\":[[0,\"#8e0152\"],[0.1,\"#c51b7d\"],[0.2,\"#de77ae\"],[0.3,\"#f1b6da\"],[0.4,\"#fde0ef\"],[0.5,\"#f7f7f7\"],[0.6,\"#e6f5d0\"],[0.7,\"#b8e186\"],[0.8,\"#7fbc41\"],[0.9,\"#4d9221\"],[1,\"#276419\"]]},\"xaxis\":{\"gridcolor\":\"white\",\"linecolor\":\"white\",\"ticks\":\"\",\"title\":{\"standoff\":15},\"zerolinecolor\":\"white\",\"automargin\":true,\"zerolinewidth\":2},\"yaxis\":{\"gridcolor\":\"white\",\"linecolor\":\"white\",\"ticks\":\"\",\"title\":{\"standoff\":15},\"zerolinecolor\":\"white\",\"automargin\":true,\"zerolinewidth\":2},\"scene\":{\"xaxis\":{\"backgroundcolor\":\"#E5ECF6\",\"gridcolor\":\"white\",\"linecolor\":\"white\",\"showbackground\":true,\"ticks\":\"\",\"zerolinecolor\":\"white\",\"gridwidth\":2},\"yaxis\":{\"backgroundcolor\":\"#E5ECF6\",\"gridcolor\":\"white\",\"linecolor\":\"white\",\"showbackground\":true,\"ticks\":\"\",\"zerolinecolor\":\"white\",\"gridwidth\":2},\"zaxis\":{\"backgroundcolor\":\"#E5ECF6\",\"gridcolor\":\"white\",\"linecolor\":\"white\",\"showbackground\":true,\"ticks\":\"\",\"zerolinecolor\":\"white\",\"gridwidth\":2}},\"shapedefaults\":{\"line\":{\"color\":\"#2a3f5f\"}},\"annotationdefaults\":{\"arrowcolor\":\"#2a3f5f\",\"arrowhead\":0,\"arrowwidth\":1},\"geo\":{\"bgcolor\":\"white\",\"landcolor\":\"#E5ECF6\",\"subunitcolor\":\"white\",\"showland\":true,\"showlakes\":true,\"lakecolor\":\"white\"},\"title\":{\"x\":0.05},\"mapbox\":{\"style\":\"light\"}}},\"xaxis\":{\"anchor\":\"y\",\"domain\":[0.0,0.7363],\"title\":{\"text\":\"Rank_PCAN\"}},\"yaxis\":{\"anchor\":\"x\",\"domain\":[0.0,0.7326],\"title\":{\"text\":\"Rank\"}},\"xaxis2\":{\"anchor\":\"y2\",\"domain\":[0.7413,1.0],\"matches\":\"x2\",\"showticklabels\":false,\"showline\":false,\"ticks\":\"\",\"showgrid\":false},\"yaxis2\":{\"anchor\":\"x2\",\"domain\":[0.0,0.7326],\"matches\":\"y\",\"showticklabels\":false,\"showgrid\":true},\"xaxis3\":{\"anchor\":\"y3\",\"domain\":[0.0,0.7363],\"matches\":\"x\",\"showticklabels\":false,\"showgrid\":true},\"yaxis3\":{\"anchor\":\"x3\",\"domain\":[0.7426,1.0],\"matches\":\"y3\",\"showticklabels\":false,\"showline\":false,\"ticks\":\"\",\"showgrid\":true},\"xaxis4\":{\"anchor\":\"y4\",\"domain\":[0.7413,1.0],\"matches\":\"x2\",\"showticklabels\":false,\"showgrid\":false,\"showline\":false,\"ticks\":\"\"},\"yaxis4\":{\"anchor\":\"x4\",\"domain\":[0.7426,1.0],\"matches\":\"y3\",\"showticklabels\":false,\"showline\":false,\"ticks\":\"\",\"showgrid\":true},\"legend\":{\"title\":{\"text\":\"Method\"},\"tracegroupgap\":0},\"margin\":{\"t\":60},\"barmode\":\"overlay\"},                        {\"responsive\": true}                    ).then(function(){\n",
       "                            \n",
       "var gd = document.getElementById('7038da00-18a5-4c1d-9fa6-42b09ac335e4');\n",
       "var x = new MutationObserver(function (mutations, observer) {{\n",
       "        var display = window.getComputedStyle(gd).display;\n",
       "        if (!display || display === 'none') {{\n",
       "            console.log([gd, 'removed!']);\n",
       "            Plotly.purge(gd);\n",
       "            observer.disconnect();\n",
       "        }}\n",
       "}});\n",
       "\n",
       "// Listen for the removal of the full notebook cells\n",
       "var notebookContainer = gd.closest('#notebook-container');\n",
       "if (notebookContainer) {{\n",
       "    x.observe(notebookContainer, {childList: true});\n",
       "}}\n",
       "\n",
       "// Listen for the clearing of the current output cell\n",
       "var outputEl = gd.closest('.output');\n",
       "if (outputEl) {{\n",
       "    x.observe(outputEl, {childList: true});\n",
       "}}\n",
       "\n",
       "                        })                };                });            </script>        </div>"
      ]
     },
     "metadata": {},
     "output_type": "display_data"
    }
   ],
   "source": [
    "plot_pt_dot_single(Rank_HPO_CKG_CKG_df,\"delta_bayes_geo_PCAN\")\n",
    "plot_pt_dot_pair(Rank_HPO_CKG_CKG_df,\"delta_bayes_geo_PCAN\", 'delta_bayes_PCAN')\n",
    "plot_pt_dot_single(Rank_HPO_CKG_CKG_df,\"rank_bayes_geo\")\n",
    "plot_pt_dot_single(Rank_HPO_CKG_CKG_df,\"Rank_bayes_mean\")"
   ]
  },
  {
   "cell_type": "markdown",
   "metadata": {},
   "source": [
    "# Results with All genes and PCAN probabilities"
   ]
  },
  {
   "cell_type": "code",
   "execution_count": null,
   "metadata": {
    "execution": {
     "iopub.execute_input": "2022-09-21T23:40:23.830345Z",
     "iopub.status.busy": "2022-09-21T23:40:23.830091Z",
     "iopub.status.idle": "2022-09-22T11:31:03.145212Z",
     "shell.execute_reply": "2022-09-22T11:31:03.143763Z"
    }
   },
   "outputs": [],
   "source": [
    "#bayes_all_model = BayesRank(phenotype_new_df, gene_new_df, probability_table_PCAN_df)\n",
    "#dp_cosine_all_model = RankQuery(phenotype_new_df, gene_new_df, probability_table_PCAN_df, filter_gene_list)\n",
    "#bayes_clinvar_all_df = bayes_all_model.create_dataframe()\n",
    "#all_test_1_50_df = run_methods(test_method_1_50_df, bayes_clinvar_all_df, dp_cosine_all_model)\n",
    "#all_test_50_100_df = run_methods(test_solved_50_100_df, bayes_clinvar_all_df, dp_cosine_all_model)\n",
    "#all_test_100_150_df = run_methods(test_solved_100_150_df, bayes_clinvar_all_df, dp_cosine_all_model)\n",
    "#all_test_150_200_df = run_methods(test_solved_150_200_df, bayes_clinvar_all_df, dp_cosine_all_model)\n",
    "#all_test_200_250_df = run_methods(test_solved_200_250_df, bayes_clinvar_all_df, dp_cosine_all_model)\n",
    "#df_clinvar_PCAN_all_merged = pd.concat([all_test_1_50_df, all_test_50_100_df, \n",
    "#                                   all_test_100_150_df, all_test_150_200_df,\n",
    "#                                   all_test_200_250_df], ignore_index=True)\n",
    "#df_clinvar_PCAN_all_merged.to_csv(\"solved_cases_ranking.withPCANIC.ALLgenes.csv\", index=False)\n"
   ]
  },
  {
   "cell_type": "code",
   "execution_count": null,
   "metadata": {
    "execution": {
     "iopub.execute_input": "2022-09-22T11:31:03.151808Z",
     "iopub.status.busy": "2022-09-22T11:31:03.151276Z",
     "iopub.status.idle": "2022-09-22T21:58:31.477606Z",
     "shell.execute_reply": "2022-09-22T21:58:31.476210Z"
    }
   },
   "outputs": [],
   "source": [
    "#bayes_all_model = BayesRank(phenotype_new_df, gene_new_df, probability_table_mayo_df)\n",
    "#dp_cosine_all_model = RankQuery(phenotype_new_df, gene_new_df, probability_table_mayo_df, filter_gene_list)\n",
    "#bayes_all_df = bayes_all_model.create_dataframe()\n",
    "#mayo_all_test_1_50_df = run_methods(test_method_1_50_df, bayes_clinvar_all_df, dp_cosine_all_model)\n",
    "#mayo_all_test_50_100_df = run_methods(test_solved_50_100_df, bayes_all_df, dp_cosine_all_model)\n",
    "#mayo_all_test_100_150_df = run_methods(test_solved_100_150_df, bayes_all_df, dp_cosine_all_model)\n",
    "#mayo_all_test_150_200_df = run_methods(test_solved_150_200_df, bayes_all_df, dp_cosine_all_model)\n",
    "#mayo_all_test_200_250_df = run_methods(test_solved_200_250_df, bayes_all_df, dp_cosine_all_model)\n",
    "#df_mayo_all_merged = pd.concat([mayo_all_test_1_50_df, mayo_all_test_50_100_df, \n",
    "#                                   mayo_all_test_100_150_df, mayo_all_test_150_200_df,\n",
    "#                                   mayo_all_test_200_250_df], ignore_index=True)\n",
    "#df_mayo_all_merged.to_csv(\"solved_cases_ranking.withmayoIC.ALLgenes.csv\", index=False)\n"
   ]
  },
  {
   "cell_type": "code",
   "execution_count": null,
   "metadata": {},
   "outputs": [],
   "source": [
    "## generate PR curves\n",
    "\n"
   ]
  }
 ],
 "metadata": {
  "authors": [
   {
    "name": "Rohan Gnanaolivu"
   },
   {
    "name": "Kowshika Sarker"
   },
   {
    "name": "Gavin Oliver"
   },
   {
    "name": "Garrett Jenkinson"
   }
  ],
  "kernelspec": {
   "display_name": "Python 3 (ipykernel)",
   "language": "python",
   "name": "python3"
  },
  "language_info": {
   "codemirror_mode": {
    "name": "ipython",
    "version": 3
   },
   "file_extension": ".py",
   "mimetype": "text/x-python",
   "name": "python",
   "nbconvert_exporter": "python",
   "pygments_lexer": "ipython3",
   "version": "3.7.4"
  },
  "title": "HPO prioritization using CKG"
 },
 "nbformat": 4,
 "nbformat_minor": 4
}
